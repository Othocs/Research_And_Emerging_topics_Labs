{
 "cells": [
  {
   "cell_type": "markdown",
   "metadata": {},
   "source": [
    "# Geospatial Data Analysis Lab: Steel Plants Dataset\n",
    "\n",
    "\n",
    "**(15/10/2025) Learning Objectives:**\n",
    "- Perform exploratory data analysis (EDA) on geospatial datasets\n",
    "- Visualize geospatial data using interactive maps with Plotly\n",
    "- Merge environmental data with asset locations\n",
    "- Aggregate data at the company level\n",
    "- Integrate geospatial visualizations into a Streamlit dashboard\n",
    "\n",
    "---\n"
   ]
  },
  {
   "cell_type": "markdown",
   "metadata": {},
   "source": [
    "## Part 1: Setup and Data Loading\n",
    "\n",
    "Import the necessary libraries and load the steel plants dataset.\n"
   ]
  },
  {
   "cell_type": "code",
   "execution_count": 11,
   "metadata": {},
   "outputs": [],
   "source": [
    "# Import required libraries\n",
    "# - pandas for data manipulation\n",
    "# - numpy for numerical operations\n",
    "# - plotly.express and plotly.graph_objects for interactive visualizations\n",
    "# - Any other libraries you might need\n",
    "\n",
    "import pandas as pd\n",
    "import numpy as np\n",
    "import plotly.express as px\n",
    "import plotly.graph_objects as go\n",
    "\n"
   ]
  },
  {
   "cell_type": "code",
   "execution_count": 12,
   "metadata": {},
   "outputs": [
    {
     "name": "stdout",
     "output_type": "stream",
     "text": [
      "Plant data shape: (1209, 44)\n",
      "Capacity data shape: (1744, 15)\n",
      "\n",
      "Merged data shape (before filtering): (1744, 58)\n",
      "\n",
      "Status distribution before filtering:\n",
      "Status\n",
      "operating                    868\n",
      "announced                    285\n",
      "retired                      181\n",
      "construction                 151\n",
      "operating pre-retirement     125\n",
      "mothballed                    73\n",
      "cancelled                     59\n",
      "mothballed pre-retirement      2\n",
      "Name: count, dtype: int64\n",
      "\n",
      "After filtering for 'operating' status:\n",
      "Final dataset shape: (868, 58)\n",
      "Number of operating plants: 868\n"
     ]
    },
    {
     "data": {
      "text/html": [
       "<div>\n",
       "<style scoped>\n",
       "    .dataframe tbody tr th:only-of-type {\n",
       "        vertical-align: middle;\n",
       "    }\n",
       "\n",
       "    .dataframe tbody tr th {\n",
       "        vertical-align: top;\n",
       "    }\n",
       "\n",
       "    .dataframe thead th {\n",
       "        text-align: right;\n",
       "    }\n",
       "</style>\n",
       "<table border=\"1\" class=\"dataframe\">\n",
       "  <thead>\n",
       "    <tr style=\"text-align: right;\">\n",
       "      <th></th>\n",
       "      <th>Plant ID</th>\n",
       "      <th>Plant name (English)</th>\n",
       "      <th>Plant name (other language)</th>\n",
       "      <th>Other plant names (English)</th>\n",
       "      <th>Other plant names (other language)</th>\n",
       "      <th>Owner</th>\n",
       "      <th>Owner (other language)</th>\n",
       "      <th>Owner GEM ID</th>\n",
       "      <th>Owner PermID</th>\n",
       "      <th>SOE Status</th>\n",
       "      <th>...</th>\n",
       "      <th>Start date_capacity</th>\n",
       "      <th>Nominal crude steel capacity (ttpa)</th>\n",
       "      <th>Nominal BOF steel capacity (ttpa)</th>\n",
       "      <th>Nominal EAF steel capacity (ttpa)</th>\n",
       "      <th>Nominal OHF steel capacity (ttpa)</th>\n",
       "      <th>Other/unspecified steel capacity (ttpa)</th>\n",
       "      <th>Nominal iron capacity (ttpa)</th>\n",
       "      <th>Nominal BF capacity (ttpa)</th>\n",
       "      <th>Nominal DRI capacity (ttpa)</th>\n",
       "      <th>Other/unspecified iron capacity (ttpa)</th>\n",
       "    </tr>\n",
       "  </thead>\n",
       "  <tbody>\n",
       "    <tr>\n",
       "      <th>1</th>\n",
       "      <td>P100000120439</td>\n",
       "      <td>Algerian Qatari Steel Jijel plant</td>\n",
       "      <td>الجزائرية القطرية للصلب</td>\n",
       "      <td>AQS</td>\n",
       "      <td>NaN</td>\n",
       "      <td>Algerian Qatari Steel</td>\n",
       "      <td>NaN</td>\n",
       "      <td>E100001000957</td>\n",
       "      <td>5076384326</td>\n",
       "      <td>Partial</td>\n",
       "      <td>...</td>\n",
       "      <td>2017</td>\n",
       "      <td>2200</td>\n",
       "      <td>NaN</td>\n",
       "      <td>2200</td>\n",
       "      <td>NaN</td>\n",
       "      <td>NaN</td>\n",
       "      <td>2500</td>\n",
       "      <td>NaN</td>\n",
       "      <td>2500</td>\n",
       "      <td>NaN</td>\n",
       "    </tr>\n",
       "    <tr>\n",
       "      <th>4</th>\n",
       "      <td>P100000121198</td>\n",
       "      <td>Ozmert Algeria steel plant</td>\n",
       "      <td>NaN</td>\n",
       "      <td>NaN</td>\n",
       "      <td>NaN</td>\n",
       "      <td>Ozmert Algeria SARL</td>\n",
       "      <td>NaN</td>\n",
       "      <td>E100001012196</td>\n",
       "      <td>unknown</td>\n",
       "      <td>NaN</td>\n",
       "      <td>...</td>\n",
       "      <td>unknown</td>\n",
       "      <td>800</td>\n",
       "      <td>NaN</td>\n",
       "      <td>800</td>\n",
       "      <td>NaN</td>\n",
       "      <td>NaN</td>\n",
       "      <td>500</td>\n",
       "      <td>NaN</td>\n",
       "      <td>500</td>\n",
       "      <td>NaN</td>\n",
       "    </tr>\n",
       "    <tr>\n",
       "      <th>5</th>\n",
       "      <td>P100000120440</td>\n",
       "      <td>Sider El Hadjar Annaba steel plant</td>\n",
       "      <td>مركب الحجار للحديد والصلب</td>\n",
       "      <td>ArcelorMittal Annaba (predecessor), El Hadjar ...</td>\n",
       "      <td>NaN</td>\n",
       "      <td>Groupe Industriel Sider SpA</td>\n",
       "      <td>NaN</td>\n",
       "      <td>E100001000960</td>\n",
       "      <td>5000941519</td>\n",
       "      <td>Full</td>\n",
       "      <td>...</td>\n",
       "      <td>1969</td>\n",
       "      <td>2150</td>\n",
       "      <td>350.0</td>\n",
       "      <td>1800</td>\n",
       "      <td>NaN</td>\n",
       "      <td>NaN</td>\n",
       "      <td>1500</td>\n",
       "      <td>1500</td>\n",
       "      <td>NaN</td>\n",
       "      <td>NaN</td>\n",
       "    </tr>\n",
       "    <tr>\n",
       "      <th>7</th>\n",
       "      <td>P100000120441</td>\n",
       "      <td>Tosyali Algerie Oran steel plant</td>\n",
       "      <td>شركة توسيالي الجزائرية التركية للحديد والصلب</td>\n",
       "      <td>NaN</td>\n",
       "      <td>Tosyali Algérie</td>\n",
       "      <td>Tosyali Ironsteel Industry Algerie SpA</td>\n",
       "      <td>NaN</td>\n",
       "      <td>E100000131071</td>\n",
       "      <td>5074196906</td>\n",
       "      <td>NaN</td>\n",
       "      <td>...</td>\n",
       "      <td>2013</td>\n",
       "      <td>6200</td>\n",
       "      <td>NaN</td>\n",
       "      <td>6200</td>\n",
       "      <td>NaN</td>\n",
       "      <td>NaN</td>\n",
       "      <td>5000</td>\n",
       "      <td>NaN</td>\n",
       "      <td>5000</td>\n",
       "      <td>NaN</td>\n",
       "    </tr>\n",
       "    <tr>\n",
       "      <th>8</th>\n",
       "      <td>P100000120005</td>\n",
       "      <td>Aceria Angola Bengo steel plant</td>\n",
       "      <td>NaN</td>\n",
       "      <td>ADA Steel</td>\n",
       "      <td>NaN</td>\n",
       "      <td>Ada - Aceria De Angola SA</td>\n",
       "      <td>NaN</td>\n",
       "      <td>E100000131097</td>\n",
       "      <td>unknown</td>\n",
       "      <td>NaN</td>\n",
       "      <td>...</td>\n",
       "      <td>2015</td>\n",
       "      <td>500</td>\n",
       "      <td>NaN</td>\n",
       "      <td>NaN</td>\n",
       "      <td>NaN</td>\n",
       "      <td>500</td>\n",
       "      <td>NaN</td>\n",
       "      <td>NaN</td>\n",
       "      <td>NaN</td>\n",
       "      <td>NaN</td>\n",
       "    </tr>\n",
       "  </tbody>\n",
       "</table>\n",
       "<p>5 rows × 58 columns</p>\n",
       "</div>"
      ],
      "text/plain": [
       "        Plant ID                Plant name (English)  \\\n",
       "1  P100000120439   Algerian Qatari Steel Jijel plant   \n",
       "4  P100000121198          Ozmert Algeria steel plant   \n",
       "5  P100000120440  Sider El Hadjar Annaba steel plant   \n",
       "7  P100000120441    Tosyali Algerie Oran steel plant   \n",
       "8  P100000120005     Aceria Angola Bengo steel plant   \n",
       "\n",
       "                    Plant name (other language)  \\\n",
       "1                       الجزائرية القطرية للصلب   \n",
       "4                                           NaN   \n",
       "5                     مركب الحجار للحديد والصلب   \n",
       "7  شركة توسيالي الجزائرية التركية للحديد والصلب   \n",
       "8                                           NaN   \n",
       "\n",
       "                         Other plant names (English)  \\\n",
       "1                                                AQS   \n",
       "4                                                NaN   \n",
       "5  ArcelorMittal Annaba (predecessor), El Hadjar ...   \n",
       "7                                                NaN   \n",
       "8                                          ADA Steel   \n",
       "\n",
       "  Other plant names (other language)                                   Owner  \\\n",
       "1                                NaN                   Algerian Qatari Steel   \n",
       "4                                NaN                     Ozmert Algeria SARL   \n",
       "5                                NaN             Groupe Industriel Sider SpA   \n",
       "7                    Tosyali Algérie  Tosyali Ironsteel Industry Algerie SpA   \n",
       "8                                NaN               Ada - Aceria De Angola SA   \n",
       "\n",
       "  Owner (other language)   Owner GEM ID Owner PermID SOE Status  ...  \\\n",
       "1                    NaN  E100001000957   5076384326    Partial  ...   \n",
       "4                    NaN  E100001012196      unknown        NaN  ...   \n",
       "5                    NaN  E100001000960   5000941519       Full  ...   \n",
       "7                    NaN  E100000131071   5074196906        NaN  ...   \n",
       "8                    NaN  E100000131097      unknown        NaN  ...   \n",
       "\n",
       "  Start date_capacity Nominal crude steel capacity (ttpa)  \\\n",
       "1                2017                                2200   \n",
       "4             unknown                                 800   \n",
       "5                1969                                2150   \n",
       "7                2013                                6200   \n",
       "8                2015                                 500   \n",
       "\n",
       "  Nominal BOF steel capacity (ttpa) Nominal EAF steel capacity (ttpa)  \\\n",
       "1                               NaN                              2200   \n",
       "4                               NaN                               800   \n",
       "5                             350.0                              1800   \n",
       "7                               NaN                              6200   \n",
       "8                               NaN                               NaN   \n",
       "\n",
       "  Nominal OHF steel capacity (ttpa) Other/unspecified steel capacity (ttpa)  \\\n",
       "1                               NaN                                     NaN   \n",
       "4                               NaN                                     NaN   \n",
       "5                               NaN                                     NaN   \n",
       "7                               NaN                                     NaN   \n",
       "8                               NaN                                     500   \n",
       "\n",
       "  Nominal iron capacity (ttpa) Nominal BF capacity (ttpa)  \\\n",
       "1                         2500                        NaN   \n",
       "4                          500                        NaN   \n",
       "5                         1500                       1500   \n",
       "7                         5000                        NaN   \n",
       "8                          NaN                        NaN   \n",
       "\n",
       "  Nominal DRI capacity (ttpa) Other/unspecified iron capacity (ttpa)  \n",
       "1                        2500                                    NaN  \n",
       "4                         500                                    NaN  \n",
       "5                         NaN                                    NaN  \n",
       "7                        5000                                    NaN  \n",
       "8                         NaN                                    NaN  \n",
       "\n",
       "[5 rows x 58 columns]"
      ]
     },
     "execution_count": 12,
     "metadata": {},
     "output_type": "execute_result"
    }
   ],
   "source": [
    "# Load the steel plants dataset from Excel file\n",
    "# The dataset has multiple sheets - we need to merge \"Plant data\" and \"Plant capacities and status\"\n",
    "excel_file = 'Dataset/Plant-level-data-Global-Iron-and-Steel-Tracker-September-2025-V1.xlsx'\n",
    "\n",
    "# Load both sheets\n",
    "plant_data = pd.read_excel(excel_file, sheet_name='Plant data')\n",
    "capacity_data = pd.read_excel(excel_file, sheet_name='Plant capacities and status')\n",
    "\n",
    "print(f\"Plant data shape: {plant_data.shape}\")\n",
    "print(f\"Capacity data shape: {capacity_data.shape}\")\n",
    "\n",
    "# Merge on Plant ID - using left merge to keep all plants from plant_data\n",
    "# Some plants may have multiple capacity records, so we'll need to handle duplicates\n",
    "df = pd.merge(plant_data, capacity_data, on='Plant ID', how='left', suffixes=('', '_capacity'))\n",
    "\n",
    "print(f\"\\nMerged data shape (before filtering): {df.shape}\")\n",
    "\n",
    "# Filter to keep only operating plants\n",
    "print(f\"\\nStatus distribution before filtering:\")\n",
    "print(df['Status'].value_counts())\n",
    "\n",
    "df = df[df['Status'] == 'operating'].copy()\n",
    "\n",
    "print(f\"\\nAfter filtering for 'operating' status:\")\n",
    "print(f\"Final dataset shape: {df.shape}\")\n",
    "print(f\"Number of operating plants: {len(df)}\")\n",
    "\n",
    "# Display first few rows\n",
    "df.head()"
   ]
  },
  {
   "cell_type": "markdown",
   "metadata": {},
   "source": [
    "---\n",
    "## Part 2: Exploratory Data Analysis (15 minutes)\n",
    "\n",
    "Answer the following questions through your analysis:\n"
   ]
  },
  {
   "cell_type": "markdown",
   "metadata": {},
   "source": [
    "### Question 1: Data Overview\n",
    "**Task:** Display basic information about the dataset.\n",
    "- How many steel plants are in the dataset?\n",
    "- What are the column names and data types?\n",
    "- Are there any missing values?\n"
   ]
  },
  {
   "cell_type": "code",
   "execution_count": 13,
   "metadata": {},
   "outputs": [
    {
     "name": "stdout",
     "output_type": "stream",
     "text": [
      "Number of steel plants: 868\n",
      "Dataset shape (rows, columns): (868, 58)\n"
     ]
    }
   ],
   "source": [
    "# Display dataset shape\n",
    "print(\"Number of steel plants:\", df.shape[0])\n",
    "print(\"Dataset shape (rows, columns):\", df.shape)"
   ]
  },
  {
   "cell_type": "code",
   "execution_count": 14,
   "metadata": {},
   "outputs": [
    {
     "name": "stdout",
     "output_type": "stream",
     "text": [
      "\n",
      "Column names and data types:\n",
      "<class 'pandas.core.frame.DataFrame'>\n",
      "Index: 868 entries, 1 to 1742\n",
      "Data columns (total 58 columns):\n",
      " #   Column                                   Non-Null Count  Dtype  \n",
      "---  ------                                   --------------  -----  \n",
      " 0   Plant ID                                 868 non-null    object \n",
      " 1   Plant name (English)                     868 non-null    object \n",
      " 2   Plant name (other language)              533 non-null    object \n",
      " 3   Other plant names (English)              549 non-null    object \n",
      " 4   Other plant names (other language)       222 non-null    object \n",
      " 5   Owner                                    868 non-null    object \n",
      " 6   Owner (other language)                   411 non-null    object \n",
      " 7   Owner GEM ID                             868 non-null    object \n",
      " 8   Owner PermID                             868 non-null    object \n",
      " 9   SOE Status                               148 non-null    object \n",
      " 10  Parent                                   868 non-null    object \n",
      " 11  Parent GEM ID                            868 non-null    object \n",
      " 12  Parent PermID                            868 non-null    object \n",
      " 13  Location address                         868 non-null    object \n",
      " 14  Municipality                             868 non-null    object \n",
      " 15  Subnational unit (province/state)        868 non-null    object \n",
      " 16  Country/Area                             868 non-null    object \n",
      " 17  Region                                   868 non-null    object \n",
      " 18  Other language location address          323 non-null    object \n",
      " 19  Coordinates                              868 non-null    object \n",
      " 20  Coordinate accuracy                      868 non-null    object \n",
      " 21  GEM wiki page                            868 non-null    object \n",
      " 22  Plant age (years)                        868 non-null    object \n",
      " 23  Announced date                           868 non-null    object \n",
      " 24  Construction date                        868 non-null    object \n",
      " 25  Start date                               868 non-null    object \n",
      " 26  Pre-retirement announcement date         868 non-null    object \n",
      " 27  Idled date                               868 non-null    object \n",
      " 28  Retired date                             868 non-null    object \n",
      " 29  Ferronickel capacity (ttpa)              401 non-null    object \n",
      " 30  Sinter plant capacity (ttpa)             481 non-null    object \n",
      " 31  Coking plant capacity (ttpa)             406 non-null    object \n",
      " 32  Pelletizing plant capacity (ttpa)        475 non-null    object \n",
      " 33  Category steel product                   868 non-null    object \n",
      " 34  Steel products                           868 non-null    object \n",
      " 35  Steel sector end users                   868 non-null    object \n",
      " 36  Workforce size                           868 non-null    object \n",
      " 37  ISO 14001                                868 non-null    object \n",
      " 38  ISO 50001                                868 non-null    object \n",
      " 39  ResponsibleSteel Certification           868 non-null    object \n",
      " 40  Main production equipment                868 non-null    object \n",
      " 41  Power source                             868 non-null    object \n",
      " 42  Iron ore source                          867 non-null    object \n",
      " 43  Met coal source                          868 non-null    object \n",
      " 44  Plant name (English)_capacity            868 non-null    object \n",
      " 45  Plant name (other language)_capacity     533 non-null    object \n",
      " 46  Country/Area_capacity                    868 non-null    object \n",
      " 47  Status                                   868 non-null    object \n",
      " 48  Start date_capacity                      868 non-null    object \n",
      " 49  Nominal crude steel capacity (ttpa)      816 non-null    object \n",
      " 50  Nominal BOF steel capacity (ttpa)        299 non-null    float64\n",
      " 51  Nominal EAF steel capacity (ttpa)        525 non-null    object \n",
      " 52  Nominal OHF steel capacity (ttpa)        3 non-null      float64\n",
      " 53  Other/unspecified steel capacity (ttpa)  51 non-null     object \n",
      " 54  Nominal iron capacity (ttpa)             441 non-null    object \n",
      " 55  Nominal BF capacity (ttpa)               349 non-null    object \n",
      " 56  Nominal DRI capacity (ttpa)              122 non-null    object \n",
      " 57  Other/unspecified iron capacity (ttpa)   5 non-null      object \n",
      "dtypes: float64(2), object(56)\n",
      "memory usage: 400.1+ KB\n",
      "None\n"
     ]
    }
   ],
   "source": [
    "# Display column information and data types\n",
    "print(\"\\nColumn names and data types:\")\n",
    "print(df.info())"
   ]
  },
  {
   "cell_type": "code",
   "execution_count": 15,
   "metadata": {},
   "outputs": [
    {
     "name": "stdout",
     "output_type": "stream",
     "text": [
      "\n",
      "Missing values per column:\n",
      "Plant ID                                     0\n",
      "Plant name (English)                         0\n",
      "Plant name (other language)                335\n",
      "Other plant names (English)                319\n",
      "Other plant names (other language)         646\n",
      "Owner                                        0\n",
      "Owner (other language)                     457\n",
      "Owner GEM ID                                 0\n",
      "Owner PermID                                 0\n",
      "SOE Status                                 720\n",
      "Parent                                       0\n",
      "Parent GEM ID                                0\n",
      "Parent PermID                                0\n",
      "Location address                             0\n",
      "Municipality                                 0\n",
      "Subnational unit (province/state)            0\n",
      "Country/Area                                 0\n",
      "Region                                       0\n",
      "Other language location address            545\n",
      "Coordinates                                  0\n",
      "Coordinate accuracy                          0\n",
      "GEM wiki page                                0\n",
      "Plant age (years)                            0\n",
      "Announced date                               0\n",
      "Construction date                            0\n",
      "Start date                                   0\n",
      "Pre-retirement announcement date             0\n",
      "Idled date                                   0\n",
      "Retired date                                 0\n",
      "Ferronickel capacity (ttpa)                467\n",
      "Sinter plant capacity (ttpa)               387\n",
      "Coking plant capacity (ttpa)               462\n",
      "Pelletizing plant capacity (ttpa)          393\n",
      "Category steel product                       0\n",
      "Steel products                               0\n",
      "Steel sector end users                       0\n",
      "Workforce size                               0\n",
      "ISO 14001                                    0\n",
      "ISO 50001                                    0\n",
      "ResponsibleSteel Certification               0\n",
      "Main production equipment                    0\n",
      "Power source                                 0\n",
      "Iron ore source                              1\n",
      "Met coal source                              0\n",
      "Plant name (English)_capacity                0\n",
      "Plant name (other language)_capacity       335\n",
      "Country/Area_capacity                        0\n",
      "Status                                       0\n",
      "Start date_capacity                          0\n",
      "Nominal crude steel capacity (ttpa)         52\n",
      "Nominal BOF steel capacity (ttpa)          569\n",
      "Nominal EAF steel capacity (ttpa)          343\n",
      "Nominal OHF steel capacity (ttpa)          865\n",
      "Other/unspecified steel capacity (ttpa)    817\n",
      "Nominal iron capacity (ttpa)               427\n",
      "Nominal BF capacity (ttpa)                 519\n",
      "Nominal DRI capacity (ttpa)                746\n",
      "Other/unspecified iron capacity (ttpa)     863\n",
      "dtype: int64\n",
      "\n",
      "Total number of missing values in dataset: 10268\n"
     ]
    }
   ],
   "source": [
    "# Check for missing values\n",
    "print(\"\\nMissing values per column:\")\n",
    "print(df.isnull().sum())\n",
    "total_missing = df.isnull().sum().sum()\n",
    "print(\"\\nTotal number of missing values in dataset:\", total_missing)"
   ]
  },
  {
   "cell_type": "markdown",
   "metadata": {},
   "source": [
    "### Question 2: Statistical Summary\n",
    "**Task:** Generate descriptive statistics for numerical columns.\n",
    "- What is the average plant capacity?\n",
    "- What is the range of latitudes and longitudes?\n",
    "- What is the distribution of plant ages?\n"
   ]
  },
  {
   "cell_type": "markdown",
   "metadata": {},
   "source": [
    "What is the average plant capacity?"
   ]
  },
  {
   "cell_type": "code",
   "execution_count": null,
   "metadata": {},
   "outputs": [
    {
     "name": "stdout",
     "output_type": "stream",
     "text": [
      "\n",
      "Capacity Statistics (in thousand tonnes per annum - ttpa):\n",
      "\n",
      "Nominal crude steel capacity (ttpa):\n",
      "  Plants with data: 815\n",
      "  Average: 2,459.65 ttpa\n",
      "  Median: 1,350.00 ttpa\n",
      "  Min: 13.00 ttpa\n",
      "  Max: 22,999.00 ttpa\n",
      "  Total: 2,004,616.52 ttpa\n",
      "\n"
     ]
    },
    {
     "data": {
      "application/vnd.plotly.v1+json": {
       "config": {
        "plotlyServerURL": "https://plot.ly"
       },
       "data": [
        {
         "bingroup": "x",
         "hovertemplate": "Capacity (ttpa)=%{x}<br>count=%{y}<extra></extra>",
         "legendgroup": "",
         "marker": {
          "color": "#1f77b4",
          "pattern": {
           "shape": ""
          }
         },
         "name": "",
         "nbinsx": 50,
         "orientation": "v",
         "showlegend": false,
         "type": "histogram",
         "x": {
          "bdata": "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",
          "dtype": "f8"
         },
         "xaxis": "x",
         "yaxis": "y"
        }
       ],
       "layout": {
        "barmode": "relative",
        "height": 400,
        "legend": {
         "tracegroupgap": 0
        },
        "showlegend": false,
        "template": {
         "data": {
          "bar": [
           {
            "error_x": {
             "color": "#2a3f5f"
            },
            "error_y": {
             "color": "#2a3f5f"
            },
            "marker": {
             "line": {
              "color": "#E5ECF6",
              "width": 0.5
             },
             "pattern": {
              "fillmode": "overlay",
              "size": 10,
              "solidity": 0.2
             }
            },
            "type": "bar"
           }
          ],
          "barpolar": [
           {
            "marker": {
             "line": {
              "color": "#E5ECF6",
              "width": 0.5
             },
             "pattern": {
              "fillmode": "overlay",
              "size": 10,
              "solidity": 0.2
             }
            },
            "type": "barpolar"
           }
          ],
          "carpet": [
           {
            "aaxis": {
             "endlinecolor": "#2a3f5f",
             "gridcolor": "white",
             "linecolor": "white",
             "minorgridcolor": "white",
             "startlinecolor": "#2a3f5f"
            },
            "baxis": {
             "endlinecolor": "#2a3f5f",
             "gridcolor": "white",
             "linecolor": "white",
             "minorgridcolor": "white",
             "startlinecolor": "#2a3f5f"
            },
            "type": "carpet"
           }
          ],
          "choropleth": [
           {
            "colorbar": {
             "outlinewidth": 0,
             "ticks": ""
            },
            "type": "choropleth"
           }
          ],
          "contour": [
           {
            "colorbar": {
             "outlinewidth": 0,
             "ticks": ""
            },
            "colorscale": [
             [
              0,
              "#0d0887"
             ],
             [
              0.1111111111111111,
              "#46039f"
             ],
             [
              0.2222222222222222,
              "#7201a8"
             ],
             [
              0.3333333333333333,
              "#9c179e"
             ],
             [
              0.4444444444444444,
              "#bd3786"
             ],
             [
              0.5555555555555556,
              "#d8576b"
             ],
             [
              0.6666666666666666,
              "#ed7953"
             ],
             [
              0.7777777777777778,
              "#fb9f3a"
             ],
             [
              0.8888888888888888,
              "#fdca26"
             ],
             [
              1,
              "#f0f921"
             ]
            ],
            "type": "contour"
           }
          ],
          "contourcarpet": [
           {
            "colorbar": {
             "outlinewidth": 0,
             "ticks": ""
            },
            "type": "contourcarpet"
           }
          ],
          "heatmap": [
           {
            "colorbar": {
             "outlinewidth": 0,
             "ticks": ""
            },
            "colorscale": [
             [
              0,
              "#0d0887"
             ],
             [
              0.1111111111111111,
              "#46039f"
             ],
             [
              0.2222222222222222,
              "#7201a8"
             ],
             [
              0.3333333333333333,
              "#9c179e"
             ],
             [
              0.4444444444444444,
              "#bd3786"
             ],
             [
              0.5555555555555556,
              "#d8576b"
             ],
             [
              0.6666666666666666,
              "#ed7953"
             ],
             [
              0.7777777777777778,
              "#fb9f3a"
             ],
             [
              0.8888888888888888,
              "#fdca26"
             ],
             [
              1,
              "#f0f921"
             ]
            ],
            "type": "heatmap"
           }
          ],
          "histogram": [
           {
            "marker": {
             "pattern": {
              "fillmode": "overlay",
              "size": 10,
              "solidity": 0.2
             }
            },
            "type": "histogram"
           }
          ],
          "histogram2d": [
           {
            "colorbar": {
             "outlinewidth": 0,
             "ticks": ""
            },
            "colorscale": [
             [
              0,
              "#0d0887"
             ],
             [
              0.1111111111111111,
              "#46039f"
             ],
             [
              0.2222222222222222,
              "#7201a8"
             ],
             [
              0.3333333333333333,
              "#9c179e"
             ],
             [
              0.4444444444444444,
              "#bd3786"
             ],
             [
              0.5555555555555556,
              "#d8576b"
             ],
             [
              0.6666666666666666,
              "#ed7953"
             ],
             [
              0.7777777777777778,
              "#fb9f3a"
             ],
             [
              0.8888888888888888,
              "#fdca26"
             ],
             [
              1,
              "#f0f921"
             ]
            ],
            "type": "histogram2d"
           }
          ],
          "histogram2dcontour": [
           {
            "colorbar": {
             "outlinewidth": 0,
             "ticks": ""
            },
            "colorscale": [
             [
              0,
              "#0d0887"
             ],
             [
              0.1111111111111111,
              "#46039f"
             ],
             [
              0.2222222222222222,
              "#7201a8"
             ],
             [
              0.3333333333333333,
              "#9c179e"
             ],
             [
              0.4444444444444444,
              "#bd3786"
             ],
             [
              0.5555555555555556,
              "#d8576b"
             ],
             [
              0.6666666666666666,
              "#ed7953"
             ],
             [
              0.7777777777777778,
              "#fb9f3a"
             ],
             [
              0.8888888888888888,
              "#fdca26"
             ],
             [
              1,
              "#f0f921"
             ]
            ],
            "type": "histogram2dcontour"
           }
          ],
          "mesh3d": [
           {
            "colorbar": {
             "outlinewidth": 0,
             "ticks": ""
            },
            "type": "mesh3d"
           }
          ],
          "parcoords": [
           {
            "line": {
             "colorbar": {
              "outlinewidth": 0,
              "ticks": ""
             }
            },
            "type": "parcoords"
           }
          ],
          "pie": [
           {
            "automargin": true,
            "type": "pie"
           }
          ],
          "scatter": [
           {
            "fillpattern": {
             "fillmode": "overlay",
             "size": 10,
             "solidity": 0.2
            },
            "type": "scatter"
           }
          ],
          "scatter3d": [
           {
            "line": {
             "colorbar": {
              "outlinewidth": 0,
              "ticks": ""
             }
            },
            "marker": {
             "colorbar": {
              "outlinewidth": 0,
              "ticks": ""
             }
            },
            "type": "scatter3d"
           }
          ],
          "scattercarpet": [
           {
            "marker": {
             "colorbar": {
              "outlinewidth": 0,
              "ticks": ""
             }
            },
            "type": "scattercarpet"
           }
          ],
          "scattergeo": [
           {
            "marker": {
             "colorbar": {
              "outlinewidth": 0,
              "ticks": ""
             }
            },
            "type": "scattergeo"
           }
          ],
          "scattergl": [
           {
            "marker": {
             "colorbar": {
              "outlinewidth": 0,
              "ticks": ""
             }
            },
            "type": "scattergl"
           }
          ],
          "scattermap": [
           {
            "marker": {
             "colorbar": {
              "outlinewidth": 0,
              "ticks": ""
             }
            },
            "type": "scattermap"
           }
          ],
          "scattermapbox": [
           {
            "marker": {
             "colorbar": {
              "outlinewidth": 0,
              "ticks": ""
             }
            },
            "type": "scattermapbox"
           }
          ],
          "scatterpolar": [
           {
            "marker": {
             "colorbar": {
              "outlinewidth": 0,
              "ticks": ""
             }
            },
            "type": "scatterpolar"
           }
          ],
          "scatterpolargl": [
           {
            "marker": {
             "colorbar": {
              "outlinewidth": 0,
              "ticks": ""
             }
            },
            "type": "scatterpolargl"
           }
          ],
          "scatterternary": [
           {
            "marker": {
             "colorbar": {
              "outlinewidth": 0,
              "ticks": ""
             }
            },
            "type": "scatterternary"
           }
          ],
          "surface": [
           {
            "colorbar": {
             "outlinewidth": 0,
             "ticks": ""
            },
            "colorscale": [
             [
              0,
              "#0d0887"
             ],
             [
              0.1111111111111111,
              "#46039f"
             ],
             [
              0.2222222222222222,
              "#7201a8"
             ],
             [
              0.3333333333333333,
              "#9c179e"
             ],
             [
              0.4444444444444444,
              "#bd3786"
             ],
             [
              0.5555555555555556,
              "#d8576b"
             ],
             [
              0.6666666666666666,
              "#ed7953"
             ],
             [
              0.7777777777777778,
              "#fb9f3a"
             ],
             [
              0.8888888888888888,
              "#fdca26"
             ],
             [
              1,
              "#f0f921"
             ]
            ],
            "type": "surface"
           }
          ],
          "table": [
           {
            "cells": {
             "fill": {
              "color": "#EBF0F8"
             },
             "line": {
              "color": "white"
             }
            },
            "header": {
             "fill": {
              "color": "#C8D4E3"
             },
             "line": {
              "color": "white"
             }
            },
            "type": "table"
           }
          ]
         },
         "layout": {
          "annotationdefaults": {
           "arrowcolor": "#2a3f5f",
           "arrowhead": 0,
           "arrowwidth": 1
          },
          "autotypenumbers": "strict",
          "coloraxis": {
           "colorbar": {
            "outlinewidth": 0,
            "ticks": ""
           }
          },
          "colorscale": {
           "diverging": [
            [
             0,
             "#8e0152"
            ],
            [
             0.1,
             "#c51b7d"
            ],
            [
             0.2,
             "#de77ae"
            ],
            [
             0.3,
             "#f1b6da"
            ],
            [
             0.4,
             "#fde0ef"
            ],
            [
             0.5,
             "#f7f7f7"
            ],
            [
             0.6,
             "#e6f5d0"
            ],
            [
             0.7,
             "#b8e186"
            ],
            [
             0.8,
             "#7fbc41"
            ],
            [
             0.9,
             "#4d9221"
            ],
            [
             1,
             "#276419"
            ]
           ],
           "sequential": [
            [
             0,
             "#0d0887"
            ],
            [
             0.1111111111111111,
             "#46039f"
            ],
            [
             0.2222222222222222,
             "#7201a8"
            ],
            [
             0.3333333333333333,
             "#9c179e"
            ],
            [
             0.4444444444444444,
             "#bd3786"
            ],
            [
             0.5555555555555556,
             "#d8576b"
            ],
            [
             0.6666666666666666,
             "#ed7953"
            ],
            [
             0.7777777777777778,
             "#fb9f3a"
            ],
            [
             0.8888888888888888,
             "#fdca26"
            ],
            [
             1,
             "#f0f921"
            ]
           ],
           "sequentialminus": [
            [
             0,
             "#0d0887"
            ],
            [
             0.1111111111111111,
             "#46039f"
            ],
            [
             0.2222222222222222,
             "#7201a8"
            ],
            [
             0.3333333333333333,
             "#9c179e"
            ],
            [
             0.4444444444444444,
             "#bd3786"
            ],
            [
             0.5555555555555556,
             "#d8576b"
            ],
            [
             0.6666666666666666,
             "#ed7953"
            ],
            [
             0.7777777777777778,
             "#fb9f3a"
            ],
            [
             0.8888888888888888,
             "#fdca26"
            ],
            [
             1,
             "#f0f921"
            ]
           ]
          },
          "colorway": [
           "#636efa",
           "#EF553B",
           "#00cc96",
           "#ab63fa",
           "#FFA15A",
           "#19d3f3",
           "#FF6692",
           "#B6E880",
           "#FF97FF",
           "#FECB52"
          ],
          "font": {
           "color": "#2a3f5f"
          },
          "geo": {
           "bgcolor": "white",
           "lakecolor": "white",
           "landcolor": "#E5ECF6",
           "showlakes": true,
           "showland": true,
           "subunitcolor": "white"
          },
          "hoverlabel": {
           "align": "left"
          },
          "hovermode": "closest",
          "mapbox": {
           "style": "light"
          },
          "paper_bgcolor": "white",
          "plot_bgcolor": "#E5ECF6",
          "polar": {
           "angularaxis": {
            "gridcolor": "white",
            "linecolor": "white",
            "ticks": ""
           },
           "bgcolor": "#E5ECF6",
           "radialaxis": {
            "gridcolor": "white",
            "linecolor": "white",
            "ticks": ""
           }
          },
          "scene": {
           "xaxis": {
            "backgroundcolor": "#E5ECF6",
            "gridcolor": "white",
            "gridwidth": 2,
            "linecolor": "white",
            "showbackground": true,
            "ticks": "",
            "zerolinecolor": "white"
           },
           "yaxis": {
            "backgroundcolor": "#E5ECF6",
            "gridcolor": "white",
            "gridwidth": 2,
            "linecolor": "white",
            "showbackground": true,
            "ticks": "",
            "zerolinecolor": "white"
           },
           "zaxis": {
            "backgroundcolor": "#E5ECF6",
            "gridcolor": "white",
            "gridwidth": 2,
            "linecolor": "white",
            "showbackground": true,
            "ticks": "",
            "zerolinecolor": "white"
           }
          },
          "shapedefaults": {
           "line": {
            "color": "#2a3f5f"
           }
          },
          "ternary": {
           "aaxis": {
            "gridcolor": "white",
            "linecolor": "white",
            "ticks": ""
           },
           "baxis": {
            "gridcolor": "white",
            "linecolor": "white",
            "ticks": ""
           },
           "bgcolor": "#E5ECF6",
           "caxis": {
            "gridcolor": "white",
            "linecolor": "white",
            "ticks": ""
           }
          },
          "title": {
           "x": 0.05
          },
          "xaxis": {
           "automargin": true,
           "gridcolor": "white",
           "linecolor": "white",
           "ticks": "",
           "title": {
            "standoff": 15
           },
           "zerolinecolor": "white",
           "zerolinewidth": 2
          },
          "yaxis": {
           "automargin": true,
           "gridcolor": "white",
           "linecolor": "white",
           "ticks": "",
           "title": {
            "standoff": 15
           },
           "zerolinecolor": "white",
           "zerolinewidth": 2
          }
         }
        },
        "title": {
         "text": "Distribution of Crude Steel Capacity (Operating Plants)"
        },
        "xaxis": {
         "anchor": "y",
         "domain": [
          0,
          1
         ],
         "title": {
          "text": "Capacity (thousand tonnes per annum)"
         }
        },
        "yaxis": {
         "anchor": "x",
         "domain": [
          0,
          1
         ],
         "title": {
          "text": "Number of Plants"
         }
        }
       }
      }
     },
     "metadata": {},
     "output_type": "display_data"
    },
    {
     "data": {
      "application/vnd.plotly.v1+json": {
       "config": {
        "plotlyServerURL": "https://plot.ly"
       },
       "data": [
        {
         "customdata": [
          [
           "South Korea",
           "POSCO Holdings Inc"
          ],
          [
           "China",
           "Angang Steel Co Ltd"
          ],
          [
           "China",
           "Baoshan Iron & Steel Co Ltd"
          ],
          [
           "South Korea",
           "POSCO Holdings Inc"
          ],
          [
           "China",
           "Zhangjiagang Hongchang Steel Co Ltd"
          ],
          [
           "South Korea",
           "Hyundai Steel Co"
          ],
          [
           "China",
           "Wuhan Iron and Steel Co Ltd"
          ],
          [
           "China",
           "Inner Mongolia BaoTou Steel Union Co Ltd"
          ],
          [
           "China",
           "Maanshan Iron & Steel Co Ltd"
          ],
          [
           "Russia",
           "Magnitogorskiy Metallurgicheskiy Kombinat PJSC"
          ],
          [
           "Russia",
           "Novolipetsk Steel PJSC"
          ],
          [
           "China",
           "Shougang Jingtang United Iron & Steel Co Ltd"
          ],
          [
           "Japan",
           "JFE Steel Corp"
          ],
          [
           "China",
           "Baosteel Zhanjiang Iron & Steel Co Ltd"
          ],
          [
           "China",
           "Shanxi Taigang Stainless Steel Co Ltd"
          ],
          [
           "China",
           "Bengang Steel Plates Co Ltd"
          ],
          [
           "Russia",
           "Severstal PJSC"
          ],
          [
           "India",
           "JSW Steel Ltd"
          ],
          [
           "Vietnam",
           "Hoa Phat Dung Quat Steel JSC"
          ],
          [
           "China",
           "Rizhao Steel Holding Group Co Ltd"
          ]
         ],
         "hovertemplate": "Capacity (ttpa)=%{marker.color}<br>Plant=%{y}<br>Country/Area=%{customdata[0]}<br>Owner=%{customdata[1]}<extra></extra>",
         "legendgroup": "",
         "marker": {
          "color": {
           "bdata": "AAAAAMB11kAAAAAAgCrUQAAAAAAAVtNAAAAAAEBJ0UAAAAAAwIzQQAAAAAAApM9AAAAAAIARz0AAAAAAAH3OQAAAAAAAPM5AAAAAAABSzEAAAAAAACDMQAAAAAAAwspAAAAAAABlyUAAAAAAAHjIQAAAAAAAVshAAAAAAAA4yEAAAAAAgHDHQAAAAACAPcdAAAAAAACoxkAAAAAAABLGQA==",
           "dtype": "f8"
          },
          "coloraxis": "coloraxis",
          "pattern": {
           "shape": ""
          }
         },
         "name": "",
         "orientation": "h",
         "showlegend": false,
         "textposition": "auto",
         "type": "bar",
         "x": {
          "bdata": "AAAAAMB11kAAAAAAgCrUQAAAAAAAVtNAAAAAAEBJ0UAAAAAAwIzQQAAAAAAApM9AAAAAAIARz0AAAAAAAH3OQAAAAAAAPM5AAAAAAABSzEAAAAAAACDMQAAAAAAAwspAAAAAAABlyUAAAAAAAHjIQAAAAAAAVshAAAAAAAA4yEAAAAAAgHDHQAAAAACAPcdAAAAAAACoxkAAAAAAABLGQA==",
          "dtype": "f8"
         },
         "xaxis": "x",
         "y": [
          "POSCO Gwangyang steel plant",
          "Angang Steel Co Ltd",
          "Baoshan Iron and Steel Co Ltd Headquarters",
          "POSCO Pohang steel plant",
          "Zhangjiagang Hongchang Steel Co Ltd",
          "Hyundai Steel Dangjin steel plant",
          "Wuhan Iron and Steel Co Ltd",
          "Inner Mongolia BaoTou Steel Union Co Ltd",
          "Maanshan Iron and Steel Co Ltd",
          "Magnitogorsk Iron and Steel Works",
          "NLMK Lipetsk steel plant",
          "Shougang Jingtang United Iron and Steel Co Ltd",
          "JFE West Japan Works (Fukuyama) steel plant",
          "Baosteel Zhanjiang Iron and Steel Co Ltd",
          "Shanxi Taigang Stainless Steel Co Ltd",
          "Bengang Steel Plates Co Ltd",
          "Severstal Cherepovets steel plant",
          "JSW Steel Vijayanagar steel plant",
          "Hoa Phat Dung Quat steel plant",
          "Rizhao Steel Holding Group Co Ltd"
         ],
         "yaxis": "y"
        }
       ],
       "layout": {
        "barmode": "relative",
        "coloraxis": {
         "colorbar": {
          "title": {
           "text": "Capacity (ttpa)"
          }
         },
         "colorscale": [
          [
           0,
           "#440154"
          ],
          [
           0.1111111111111111,
           "#482878"
          ],
          [
           0.2222222222222222,
           "#3e4989"
          ],
          [
           0.3333333333333333,
           "#31688e"
          ],
          [
           0.4444444444444444,
           "#26828e"
          ],
          [
           0.5555555555555556,
           "#1f9e89"
          ],
          [
           0.6666666666666666,
           "#35b779"
          ],
          [
           0.7777777777777778,
           "#6ece58"
          ],
          [
           0.8888888888888888,
           "#b5de2b"
          ],
          [
           1,
           "#fde725"
          ]
         ]
        },
        "height": 600,
        "legend": {
         "tracegroupgap": 0
        },
        "showlegend": false,
        "template": {
         "data": {
          "bar": [
           {
            "error_x": {
             "color": "#2a3f5f"
            },
            "error_y": {
             "color": "#2a3f5f"
            },
            "marker": {
             "line": {
              "color": "#E5ECF6",
              "width": 0.5
             },
             "pattern": {
              "fillmode": "overlay",
              "size": 10,
              "solidity": 0.2
             }
            },
            "type": "bar"
           }
          ],
          "barpolar": [
           {
            "marker": {
             "line": {
              "color": "#E5ECF6",
              "width": 0.5
             },
             "pattern": {
              "fillmode": "overlay",
              "size": 10,
              "solidity": 0.2
             }
            },
            "type": "barpolar"
           }
          ],
          "carpet": [
           {
            "aaxis": {
             "endlinecolor": "#2a3f5f",
             "gridcolor": "white",
             "linecolor": "white",
             "minorgridcolor": "white",
             "startlinecolor": "#2a3f5f"
            },
            "baxis": {
             "endlinecolor": "#2a3f5f",
             "gridcolor": "white",
             "linecolor": "white",
             "minorgridcolor": "white",
             "startlinecolor": "#2a3f5f"
            },
            "type": "carpet"
           }
          ],
          "choropleth": [
           {
            "colorbar": {
             "outlinewidth": 0,
             "ticks": ""
            },
            "type": "choropleth"
           }
          ],
          "contour": [
           {
            "colorbar": {
             "outlinewidth": 0,
             "ticks": ""
            },
            "colorscale": [
             [
              0,
              "#0d0887"
             ],
             [
              0.1111111111111111,
              "#46039f"
             ],
             [
              0.2222222222222222,
              "#7201a8"
             ],
             [
              0.3333333333333333,
              "#9c179e"
             ],
             [
              0.4444444444444444,
              "#bd3786"
             ],
             [
              0.5555555555555556,
              "#d8576b"
             ],
             [
              0.6666666666666666,
              "#ed7953"
             ],
             [
              0.7777777777777778,
              "#fb9f3a"
             ],
             [
              0.8888888888888888,
              "#fdca26"
             ],
             [
              1,
              "#f0f921"
             ]
            ],
            "type": "contour"
           }
          ],
          "contourcarpet": [
           {
            "colorbar": {
             "outlinewidth": 0,
             "ticks": ""
            },
            "type": "contourcarpet"
           }
          ],
          "heatmap": [
           {
            "colorbar": {
             "outlinewidth": 0,
             "ticks": ""
            },
            "colorscale": [
             [
              0,
              "#0d0887"
             ],
             [
              0.1111111111111111,
              "#46039f"
             ],
             [
              0.2222222222222222,
              "#7201a8"
             ],
             [
              0.3333333333333333,
              "#9c179e"
             ],
             [
              0.4444444444444444,
              "#bd3786"
             ],
             [
              0.5555555555555556,
              "#d8576b"
             ],
             [
              0.6666666666666666,
              "#ed7953"
             ],
             [
              0.7777777777777778,
              "#fb9f3a"
             ],
             [
              0.8888888888888888,
              "#fdca26"
             ],
             [
              1,
              "#f0f921"
             ]
            ],
            "type": "heatmap"
           }
          ],
          "histogram": [
           {
            "marker": {
             "pattern": {
              "fillmode": "overlay",
              "size": 10,
              "solidity": 0.2
             }
            },
            "type": "histogram"
           }
          ],
          "histogram2d": [
           {
            "colorbar": {
             "outlinewidth": 0,
             "ticks": ""
            },
            "colorscale": [
             [
              0,
              "#0d0887"
             ],
             [
              0.1111111111111111,
              "#46039f"
             ],
             [
              0.2222222222222222,
              "#7201a8"
             ],
             [
              0.3333333333333333,
              "#9c179e"
             ],
             [
              0.4444444444444444,
              "#bd3786"
             ],
             [
              0.5555555555555556,
              "#d8576b"
             ],
             [
              0.6666666666666666,
              "#ed7953"
             ],
             [
              0.7777777777777778,
              "#fb9f3a"
             ],
             [
              0.8888888888888888,
              "#fdca26"
             ],
             [
              1,
              "#f0f921"
             ]
            ],
            "type": "histogram2d"
           }
          ],
          "histogram2dcontour": [
           {
            "colorbar": {
             "outlinewidth": 0,
             "ticks": ""
            },
            "colorscale": [
             [
              0,
              "#0d0887"
             ],
             [
              0.1111111111111111,
              "#46039f"
             ],
             [
              0.2222222222222222,
              "#7201a8"
             ],
             [
              0.3333333333333333,
              "#9c179e"
             ],
             [
              0.4444444444444444,
              "#bd3786"
             ],
             [
              0.5555555555555556,
              "#d8576b"
             ],
             [
              0.6666666666666666,
              "#ed7953"
             ],
             [
              0.7777777777777778,
              "#fb9f3a"
             ],
             [
              0.8888888888888888,
              "#fdca26"
             ],
             [
              1,
              "#f0f921"
             ]
            ],
            "type": "histogram2dcontour"
           }
          ],
          "mesh3d": [
           {
            "colorbar": {
             "outlinewidth": 0,
             "ticks": ""
            },
            "type": "mesh3d"
           }
          ],
          "parcoords": [
           {
            "line": {
             "colorbar": {
              "outlinewidth": 0,
              "ticks": ""
             }
            },
            "type": "parcoords"
           }
          ],
          "pie": [
           {
            "automargin": true,
            "type": "pie"
           }
          ],
          "scatter": [
           {
            "fillpattern": {
             "fillmode": "overlay",
             "size": 10,
             "solidity": 0.2
            },
            "type": "scatter"
           }
          ],
          "scatter3d": [
           {
            "line": {
             "colorbar": {
              "outlinewidth": 0,
              "ticks": ""
             }
            },
            "marker": {
             "colorbar": {
              "outlinewidth": 0,
              "ticks": ""
             }
            },
            "type": "scatter3d"
           }
          ],
          "scattercarpet": [
           {
            "marker": {
             "colorbar": {
              "outlinewidth": 0,
              "ticks": ""
             }
            },
            "type": "scattercarpet"
           }
          ],
          "scattergeo": [
           {
            "marker": {
             "colorbar": {
              "outlinewidth": 0,
              "ticks": ""
             }
            },
            "type": "scattergeo"
           }
          ],
          "scattergl": [
           {
            "marker": {
             "colorbar": {
              "outlinewidth": 0,
              "ticks": ""
             }
            },
            "type": "scattergl"
           }
          ],
          "scattermap": [
           {
            "marker": {
             "colorbar": {
              "outlinewidth": 0,
              "ticks": ""
             }
            },
            "type": "scattermap"
           }
          ],
          "scattermapbox": [
           {
            "marker": {
             "colorbar": {
              "outlinewidth": 0,
              "ticks": ""
             }
            },
            "type": "scattermapbox"
           }
          ],
          "scatterpolar": [
           {
            "marker": {
             "colorbar": {
              "outlinewidth": 0,
              "ticks": ""
             }
            },
            "type": "scatterpolar"
           }
          ],
          "scatterpolargl": [
           {
            "marker": {
             "colorbar": {
              "outlinewidth": 0,
              "ticks": ""
             }
            },
            "type": "scatterpolargl"
           }
          ],
          "scatterternary": [
           {
            "marker": {
             "colorbar": {
              "outlinewidth": 0,
              "ticks": ""
             }
            },
            "type": "scatterternary"
           }
          ],
          "surface": [
           {
            "colorbar": {
             "outlinewidth": 0,
             "ticks": ""
            },
            "colorscale": [
             [
              0,
              "#0d0887"
             ],
             [
              0.1111111111111111,
              "#46039f"
             ],
             [
              0.2222222222222222,
              "#7201a8"
             ],
             [
              0.3333333333333333,
              "#9c179e"
             ],
             [
              0.4444444444444444,
              "#bd3786"
             ],
             [
              0.5555555555555556,
              "#d8576b"
             ],
             [
              0.6666666666666666,
              "#ed7953"
             ],
             [
              0.7777777777777778,
              "#fb9f3a"
             ],
             [
              0.8888888888888888,
              "#fdca26"
             ],
             [
              1,
              "#f0f921"
             ]
            ],
            "type": "surface"
           }
          ],
          "table": [
           {
            "cells": {
             "fill": {
              "color": "#EBF0F8"
             },
             "line": {
              "color": "white"
             }
            },
            "header": {
             "fill": {
              "color": "#C8D4E3"
             },
             "line": {
              "color": "white"
             }
            },
            "type": "table"
           }
          ]
         },
         "layout": {
          "annotationdefaults": {
           "arrowcolor": "#2a3f5f",
           "arrowhead": 0,
           "arrowwidth": 1
          },
          "autotypenumbers": "strict",
          "coloraxis": {
           "colorbar": {
            "outlinewidth": 0,
            "ticks": ""
           }
          },
          "colorscale": {
           "diverging": [
            [
             0,
             "#8e0152"
            ],
            [
             0.1,
             "#c51b7d"
            ],
            [
             0.2,
             "#de77ae"
            ],
            [
             0.3,
             "#f1b6da"
            ],
            [
             0.4,
             "#fde0ef"
            ],
            [
             0.5,
             "#f7f7f7"
            ],
            [
             0.6,
             "#e6f5d0"
            ],
            [
             0.7,
             "#b8e186"
            ],
            [
             0.8,
             "#7fbc41"
            ],
            [
             0.9,
             "#4d9221"
            ],
            [
             1,
             "#276419"
            ]
           ],
           "sequential": [
            [
             0,
             "#0d0887"
            ],
            [
             0.1111111111111111,
             "#46039f"
            ],
            [
             0.2222222222222222,
             "#7201a8"
            ],
            [
             0.3333333333333333,
             "#9c179e"
            ],
            [
             0.4444444444444444,
             "#bd3786"
            ],
            [
             0.5555555555555556,
             "#d8576b"
            ],
            [
             0.6666666666666666,
             "#ed7953"
            ],
            [
             0.7777777777777778,
             "#fb9f3a"
            ],
            [
             0.8888888888888888,
             "#fdca26"
            ],
            [
             1,
             "#f0f921"
            ]
           ],
           "sequentialminus": [
            [
             0,
             "#0d0887"
            ],
            [
             0.1111111111111111,
             "#46039f"
            ],
            [
             0.2222222222222222,
             "#7201a8"
            ],
            [
             0.3333333333333333,
             "#9c179e"
            ],
            [
             0.4444444444444444,
             "#bd3786"
            ],
            [
             0.5555555555555556,
             "#d8576b"
            ],
            [
             0.6666666666666666,
             "#ed7953"
            ],
            [
             0.7777777777777778,
             "#fb9f3a"
            ],
            [
             0.8888888888888888,
             "#fdca26"
            ],
            [
             1,
             "#f0f921"
            ]
           ]
          },
          "colorway": [
           "#636efa",
           "#EF553B",
           "#00cc96",
           "#ab63fa",
           "#FFA15A",
           "#19d3f3",
           "#FF6692",
           "#B6E880",
           "#FF97FF",
           "#FECB52"
          ],
          "font": {
           "color": "#2a3f5f"
          },
          "geo": {
           "bgcolor": "white",
           "lakecolor": "white",
           "landcolor": "#E5ECF6",
           "showlakes": true,
           "showland": true,
           "subunitcolor": "white"
          },
          "hoverlabel": {
           "align": "left"
          },
          "hovermode": "closest",
          "mapbox": {
           "style": "light"
          },
          "paper_bgcolor": "white",
          "plot_bgcolor": "#E5ECF6",
          "polar": {
           "angularaxis": {
            "gridcolor": "white",
            "linecolor": "white",
            "ticks": ""
           },
           "bgcolor": "#E5ECF6",
           "radialaxis": {
            "gridcolor": "white",
            "linecolor": "white",
            "ticks": ""
           }
          },
          "scene": {
           "xaxis": {
            "backgroundcolor": "#E5ECF6",
            "gridcolor": "white",
            "gridwidth": 2,
            "linecolor": "white",
            "showbackground": true,
            "ticks": "",
            "zerolinecolor": "white"
           },
           "yaxis": {
            "backgroundcolor": "#E5ECF6",
            "gridcolor": "white",
            "gridwidth": 2,
            "linecolor": "white",
            "showbackground": true,
            "ticks": "",
            "zerolinecolor": "white"
           },
           "zaxis": {
            "backgroundcolor": "#E5ECF6",
            "gridcolor": "white",
            "gridwidth": 2,
            "linecolor": "white",
            "showbackground": true,
            "ticks": "",
            "zerolinecolor": "white"
           }
          },
          "shapedefaults": {
           "line": {
            "color": "#2a3f5f"
           }
          },
          "ternary": {
           "aaxis": {
            "gridcolor": "white",
            "linecolor": "white",
            "ticks": ""
           },
           "baxis": {
            "gridcolor": "white",
            "linecolor": "white",
            "ticks": ""
           },
           "bgcolor": "#E5ECF6",
           "caxis": {
            "gridcolor": "white",
            "linecolor": "white",
            "ticks": ""
           }
          },
          "title": {
           "x": 0.05
          },
          "xaxis": {
           "automargin": true,
           "gridcolor": "white",
           "linecolor": "white",
           "ticks": "",
           "title": {
            "standoff": 15
           },
           "zerolinecolor": "white",
           "zerolinewidth": 2
          },
          "yaxis": {
           "automargin": true,
           "gridcolor": "white",
           "linecolor": "white",
           "ticks": "",
           "title": {
            "standoff": 15
           },
           "zerolinecolor": "white",
           "zerolinewidth": 2
          }
         }
        },
        "title": {
         "text": "Top 20 Operating Plants by Crude Steel Capacity"
        },
        "xaxis": {
         "anchor": "y",
         "domain": [
          0,
          1
         ],
         "title": {
          "text": "Capacity (ttpa)"
         }
        },
        "yaxis": {
         "anchor": "x",
         "domain": [
          0,
          1
         ],
         "title": {
          "text": ""
         }
        }
       }
      }
     },
     "metadata": {},
     "output_type": "display_data"
    }
   ],
   "source": [
    "capacity_column = 'Nominal crude steel capacity (ttpa)'\n",
    "\n",
    "# Convert the selected capacity column to numeric\n",
    "if capacity_column in df.columns:\n",
    "    df[capacity_column] = pd.to_numeric(df[capacity_column], errors='coerce')\n",
    "\n",
    "print(\"\\nCapacity Statistics (in thousand tonnes per annum - ttpa):\\n\")\n",
    "\n",
    "if capacity_column in df.columns:\n",
    "    non_null_count = df[capacity_column].notna().sum()\n",
    "    if non_null_count > 0:\n",
    "        print(f\"{capacity_column}:\")\n",
    "        print(f\"  Plants with data: {non_null_count}\")\n",
    "        print(f\"  Average: {df[capacity_column].mean():,.2f} ttpa\")\n",
    "        print(f\"  Median: {df[capacity_column].median():,.2f} ttpa\")\n",
    "        print(f\"  Min: {df[capacity_column].min():,.2f} ttpa\")\n",
    "        print(f\"  Max: {df[capacity_column].max():,.2f} ttpa\")\n",
    "        print(f\"  Total: {df[capacity_column].sum():,.2f} ttpa\")\n",
    "        print()\n",
    "\n",
    "\n",
    "# 1. Histogram of crude steel capacity distribution\n",
    "fig1 = px.histogram(\n",
    "    df.dropna(subset=['Nominal crude steel capacity (ttpa)']),\n",
    "    x='Nominal crude steel capacity (ttpa)',\n",
    "    nbins=50,\n",
    "    title='Distribution of Crude Steel Capacity (Operating Plants)',\n",
    "    labels={'Nominal crude steel capacity (ttpa)': 'Capacity (ttpa)'},\n",
    "    color_discrete_sequence=['#1f77b4']\n",
    ")\n",
    "fig1.update_layout(\n",
    "    xaxis_title='Capacity (thousand tonnes per annum)',\n",
    "    yaxis_title='Number of Plants',\n",
    "    showlegend=False,\n",
    "    height=400\n",
    ")\n",
    "fig1.show()\n",
    "\n",
    "# 2. Top 20 plants by crude steel capacity\n",
    "top_plants = df.nlargest(20, 'Nominal crude steel capacity (ttpa)')[\n",
    "    ['Plant name (English)', 'Country/Area', 'Nominal crude steel capacity (ttpa)', 'Owner']\n",
    "].copy()\n",
    "\n",
    "fig2 = px.bar(\n",
    "    top_plants,\n",
    "    y='Plant name (English)',\n",
    "    x='Nominal crude steel capacity (ttpa)',\n",
    "    title='Top 20 Operating Plants by Crude Steel Capacity',\n",
    "    labels={'Nominal crude steel capacity (ttpa)': 'Capacity (ttpa)', 'Plant name (English)': 'Plant'},\n",
    "    hover_data=['Country/Area', 'Owner'],\n",
    "    color='Nominal crude steel capacity (ttpa)',\n",
    "    color_continuous_scale='Viridis',\n",
    "    orientation='h'\n",
    ")\n",
    "fig2.update_layout(\n",
    "    xaxis_title='Capacity (ttpa)',\n",
    "    yaxis_title='',\n",
    "    height=600,\n",
    "    showlegend=False\n",
    ")\n",
    "fig2.show()"
   ]
  },
  {
   "cell_type": "markdown",
   "metadata": {},
   "source": [
    "What is the range of latitudes and longitudes?"
   ]
  },
  {
   "cell_type": "code",
   "execution_count": 19,
   "metadata": {},
   "outputs": [
    {
     "name": "stdout",
     "output_type": "stream",
     "text": [
      "Latitude range:\n",
      "  Min: -37.8314°\n",
      "  Max: 66.3115°\n",
      "  Mean: 30.5709°\n",
      "\n",
      "Longitude range:\n",
      "  Min: -123.1636°\n",
      "  Max: 174.7281°\n",
      "  Mean: 59.6227°\n",
      "\n",
      "Plants with capacity data for visualization: 815 out of 868\n"
     ]
    },
    {
     "data": {
      "application/vnd.plotly.v1+json": {
       "config": {
        "plotlyServerURL": "https://plot.ly"
       },
       "data": [
        {
         "customdata": [
          [
           "Algeria",
           "Algerian Qatari Steel",
           2200,
           36.753961,
           6.24442
          ],
          [
           "Algeria",
           "Ozmert Algeria SARL",
           800,
           35.47858,
           -0.62139
          ],
          [
           "Algeria",
           "Groupe Industriel Sider SpA",
           2150,
           36.795924,
           7.707633
          ],
          [
           "Algeria",
           "Tosyali Ironsteel Industry Algerie SpA",
           6200,
           35.770912,
           -0.263031
          ],
          [
           "Angola",
           "Ada - Aceria De Angola SA",
           500,
           -8.5824,
           13.405271
          ],
          [
           "Egypt",
           "AlGioshy Steel SAE",
           500,
           29.6752173,
           32.3028163
          ],
          [
           "Egypt",
           "Al Ezz Dekheila Steel Company Alexandria SAE",
           3200,
           31.123467,
           29.80987
          ],
          [
           "Egypt",
           "Delta Steel Company Ltd",
           500,
           30.11843,
           31.281264
          ],
          [
           "Egypt",
           "Egyptian American Steel Rolling Company SAE",
           1200,
           30.389174,
           30.571894
          ],
          [
           "Egypt",
           "Egyptian Sponge Iron & Steel Company SAE",
           3000,
           30.393079,
           30.58773
          ],
          [
           "Egypt",
           "Egyptian Steel Group",
           600,
           29.64769,
           32.2789
          ],
          [
           "Egypt",
           "Egyptian Steel Group",
           600,
           29.15243,
           31.24911
          ],
          [
           "Egypt",
           "Al Ezz Flat Steel Company SAE",
           3900,
           29.692045,
           32.322117
          ],
          [
           "Egypt",
           "Ezz Steel Co",
           1000,
           30.382179,
           30.563029
          ],
          [
           "Egypt",
           "Suez Steel Company SAE",
           2100,
           29.923176,
           32.466587
          ],
          [
           "Ghana",
           "Sentuo Steel Ltd",
           800,
           5.670032010618004,
           0.0158561829466604
          ],
          [
           "Kenya",
           "Devki Steel Mills Ltd",
           1000,
           -3.77734,
           39.279963
          ],
          [
           "Libya",
           "Libyan Iron and Steel Co",
           1614,
           32.335185,
           15.215053
          ],
          [
           "Morocco",
           "ArcelorMittal SA",
           800,
           33.136529,
           -8.603555
          ],
          [
           "Morocco",
           "Maghreb Steel SA",
           1200,
           33.592793,
           -7.475613
          ],
          [
           "Morocco",
           "Riva Industries",
           800,
           33.165438,
           -8.5883
          ],
          [
           "Morocco",
           "Univers Acier",
           1200,
           33.501325,
           -7.467363
          ],
          [
           "Nigeria",
           "Kam Industries (Nigeria) Ltd",
           600,
           8.454565,
           4.5430531
          ],
          [
           "South Africa",
           "Columbus Stainless (Pty) Ltd",
           850,
           -25.796313,
           29.497972
          ],
          [
           "South Africa",
           "ArcelorMittal South Africa Ltd",
           3360,
           -26.657367,
           27.82231
          ],
          [
           "South Africa",
           "Scaw Metals Group Pty Ltd",
           600,
           -26.273316,
           28.163761
          ],
          [
           "Uganda",
           "Tembo Steels Uganda Ltd",
           450,
           0.611975,
           33.457629
          ],
          [
           "Zimbabwe",
           "Dinson Iron & Steel Company Pvt Ltd",
           600,
           -18.940658,
           30.608968
          ]
         ],
         "geo": "geo",
         "hovertemplate": "<b>%{hovertext}</b><br><br>Region=Africa<br>Nominal crude steel capacity (ttpa)=%{customdata[2]:.0f}<br>Country/Area=%{customdata[0]}<br>Owner=%{customdata[1]}<extra></extra>",
         "hovertext": [
          "Algerian Qatari Steel Jijel plant",
          "Ozmert Algeria steel plant",
          "Sider El Hadjar Annaba steel plant",
          "Tosyali Algerie Oran steel plant",
          "Aceria Angola Bengo steel plant",
          "Al Gioshy Steel Ain Sokhna plant",
          "Al-Ezz Dekheila Steel Alexandria plant",
          "Delta Steel Mill Al Qalyubia plant",
          "Egyptian American Steel Rolling Company Sadat City plant",
          "Egyptian Sponge Iron and Steel Company Sadat City plant",
          "Egyptian Steel Ain Sokhna plant",
          "Egyptian Steel Beni Suef plant",
          "Ezz Flat Steel Ain Sokhna plant",
          "Ezz Steel Rebar Sadat City plant",
          "Suez Steel Solb Misr Attaka plant",
          "Sentuo Steel Tema plant",
          "Devki Steel Mills Kwale plant",
          "Libyan Iron and Steel Misrata plant",
          "ArcelorMittal Sonasid Casablanca steel plant",
          "Mahgreb Steel Casablanca plant",
          "Riva Industries Jorf Lasfar steel plant",
          "Univers Acier Sidi Hajjaj steel plant",
          "Kam Industries Kwara steel plant",
          "Acerinox Columbus Stainless steel plant",
          "ArcelorMittal Vanderbijlpark Steel Works",
          "Scaw Metals Group Germiston plant",
          "Tembo Steels Iganga plant",
          "Dinson Chivhu iron and steel plant"
         ],
         "lat": {
          "bdata": "z7pGy4FgQkCFQgQcQr1BQP4Mb9bgZUJABwySPq3iQUB8YTJVMCohwIQxfQrbrD1AnyKHiJsfP0CD3bBtUR4+QBl0QuigYz5AkL5J06BkPkA98gcDz6U9QOXtCKcFJz1APlxy3CmxPUDON6J71mE+QL1zKENV7D1Ag4IT3xyuFkAr+64I/jcOwA2OklfnKkBAUfpCyHmRQEAcJhqk4MtAQAHChxItlUBAZ9XnaivAQED/z2G+vOggQDFhNCvbyznAOngmNEmoOsA6eZEJ+EU6wPcGX5hMleM/hLhy9s7wMsA=",
          "dtype": "f8"
         },
         "legendgroup": "Africa",
         "lon": {
          "bdata": "CvSJPEn6GEBR9wFIbeLjvw9Iwr6d1B5AJGO1+X/V0L/RCDauf88qQA6ZPK/CJkBA8wLso1PPPUDKiuHqAEg/QFTHKqVnkj5AyuAoeXWWPkBdbcX+siNAQEgbR6zFPz9AKT4+ITspQEAYsyWrIpA+QI/ecB+5O0BAjPzHbJo8kD+Hi9zT1aNDQDnQQ20bbi5AsKw0KQU1IcC1NSIYB+cdwD55WKg1LSHAGXEBaJTeHcA296EcFiwSQN9Szhd7fz1AfCx96ILSO0A6XKs97Ck8QMBZSpaTukBAf0+sU+WbPkA=",
          "dtype": "f8"
         },
         "marker": {
          "color": "#636efa",
          "size": {
           "bdata": "AAAAAAAwoUAAAAAAAACJQAAAAAAAzKBAAAAAAAA4uEAAAAAAAEB/QAAAAAAAQH9AAAAAAAAAqUAAAAAAAEB/QAAAAAAAwJJAAAAAAABwp0AAAAAAAMCCQAAAAAAAwIJAAAAAAAB4rkAAAAAAAECPQAAAAAAAaKBAAAAAAAAAiUAAAAAAAECPQAAAAAAAOJlAAAAAAAAAiUAAAAAAAMCSQAAAAAAAAIlAAAAAAADAkkAAAAAAAMCCQAAAAAAAkIpAAAAAAABAqkAAAAAAAMCCQAAAAAAAIHxAAAAAAADAgkA=",
           "dtype": "f8"
          },
          "sizemode": "area",
          "sizeref": 102.21777777777778,
          "symbol": "circle"
         },
         "mode": "markers",
         "name": "Africa",
         "showlegend": true,
         "type": "scattergeo"
        },
        {
         "customdata": [
          [
           "Argentina",
           "Acindar Industria Argentina de Aceros SA",
           2000,
           -33.249936,
           -60.300415
          ],
          [
           "Argentina",
           "Sipar Aceros SA",
           650,
           -32.9912336,
           -60.7588733
          ],
          [
           "Argentina",
           "Siderca SAIC",
           1720,
           -34.152554,
           -58.977388
          ],
          [
           "Argentina",
           "Ternium Argentina SA",
           3501,
           -33.37365,
           -60.138697
          ],
          [
           "Bolivia",
           "Empresa Siderúrgica del Mutún",
           200,
           -19.137325,
           -57.880605
          ],
          [
           "Brazil",
           "Aperam Inox America do Sul SA",
           900,
           -19.531272,
           -42.639979
          ],
          [
           "Brazil",
           "ArcelorMittal Brasil SA",
           800,
           -22.525806,
           -44.191067
          ],
          [
           "Brazil",
           "ArcelorMittal Brasil SA",
           1100,
           -21.626963,
           -43.462361
          ],
          [
           "Brazil",
           "ArcelorMittal Brasil SA",
           1200,
           -19.832129,
           -43.130164
          ],
          [
           "Brazil",
           "ArcelorMittal Brasil SA",
           3000,
           -3.585917,
           -38.858932
          ],
          [
           "Brazil",
           "ArcelorMittal Brasil SA",
           1100,
           -22.698154,
           -47.657146
          ],
          [
           "Brazil",
           "ArcelorMittal Brasil SA",
           1000,
           -22.493597,
           -44.512628
          ],
          [
           "Brazil",
           "ArcelorMittal Tubarão Comercial SA",
           7500,
           -20.253447,
           -40.242298
          ],
          [
           "Brazil",
           "Aco Verde do Brasil SA",
           600,
           -4.874373,
           -47.4073517
          ],
          [
           "Brazil",
           "Companhia Siderúrgica Nacional SA",
           6251,
           -22.512631,
           -44.11287
          ],
          [
           "Brazil",
           "Gerdau Acominas SA",
           4360,
           -20.543507,
           -43.75295
          ],
          [
           "Brazil",
           "Gerdau Acos Longos SA",
           936,
           -22.90242,
           -43.749319
          ],
          [
           "Brazil",
           "Gerdau Acos Longos SA",
           600,
           -20.153931,
           -44.878995
          ],
          [
           "Brazil",
           "Gerdau SA",
           530,
           -22.89918,
           -45.347726
          ],
          [
           "Brazil",
           "Gerdau Acos Longos SA",
           950,
           -23.43864,
           -47.08825
          ],
          [
           "Brazil",
           "GV do Brasil Industria e Comercio de Aço Ltda",
           600,
           -20.34291,
           -40.360864
          ],
          [
           "Brazil",
           "GV do Brasil Industria e Comercio de Aço Ltda",
           500,
           -22.921912,
           -45.413234
          ],
          [
           "Brazil",
           "Siderurgica Norte Brasil SA",
           475,
           -5.414287,
           -49.081305
          ],
          [
           "Brazil",
           "Ternium Brasil Ltda",
           5200,
           -22.912549,
           -43.741614
          ],
          [
           "Brazil",
           "Usinas Siderurgicas de Minas Gerais SA",
           5000,
           -19.491277,
           -42.544253
          ],
          [
           "Brazil",
           "Vallourec Soluções Tubulares do Brasil SA",
           1000,
           -20.582683,
           -43.971555
          ],
          [
           "Chile",
           "Aceros AZA SA",
           520,
           -33.294729,
           -70.727881
          ],
          [
           "Guatemala",
           "Corporación AG SA",
           500,
           14.232007,
           -90.815444
          ],
          [
           "Peru",
           "Corporacion Aceros Arequipa SA",
           1250,
           -13.788622,
           -76.168173
          ],
          [
           "Peru",
           "Empresa Siderurgica del Peru SAA",
           750,
           -9.059693,
           -78.601178
          ],
          [
           "Venezuela",
           "Siderurgica del Orinoco Alfredo Maneiro CA",
           1020,
           8.259073,
           -62.841126
          ]
         ],
         "geo": "geo",
         "hovertemplate": "<b>%{hovertext}</b><br><br>Region=Central & South America<br>Nominal crude steel capacity (ttpa)=%{customdata[2]:.0f}<br>Country/Area=%{customdata[0]}<br>Owner=%{customdata[1]}<extra></extra>",
         "hovertext": [
          "ArcelorMittal Acindar Villa Constitución steel plant",
          "Gerdau Sipar Pérez steel plant",
          "TenarisSiderca Campana steel plant",
          "Ternium Siderar San Nicolás steel plant",
          "ESM Mutún steel plant",
          "Aperam Timóteo steel plant",
          "ArcelorMittal Barra Mansa steel plant",
          "ArcelorMittal Juiz de Fora steel plant",
          "ArcelorMittal Monlevade steel plant",
          "ArcelorMittal Pecém steel plant",
          "ArcelorMittal Piracicaba steel plant",
          "ArcelorMittal Resende steel plant",
          "ArcelorMittal Tubarão steel plant",
          "AVB Açailândia steel plant",
          "CSN Volta Redonda steel plant",
          "Gerdau Açominas Ouro Branco steel plant",
          "Gerdau Cosigua Santa Cruz steel plant",
          "Gerdau Divinópolis steel plant",
          "Gerdau Pindamonhangaba steel plant",
          "Gerdau São Paulo Araçariguama steel plant",
          "Simec Cariacica steel plant",
          "Simec Pindamonhangaba steel plant",
          "Sinobras Marabá steel plant",
          "Ternium Brasil Santa Cruz steel plant",
          "Usiminas Ipatinga steel plant",
          "Vallourec Jeceaba steel plant",
          "AZA Colina steel plant",
          "AG Sidegua Masagua steel plant",
          "Aceros Arequipa Pisco steel plant",
          "Gerdau Siderperu Chimbote steel plant",
          "Sidor Ciudad Guayana steel plant"
         ],
         "lat": {
          "bdata": "6Qsh5/2fQMAiWRu+4H5AwN9vtOOGE0HAQBNhw9OvQMBX7C+7JyMzwNBHGXEBiDPAYwrWOJuGNsBTzaylgKA1wJ0N+WcG1TPAC12JQPWvDMBTknU4urI2wFpnfF9cfjbA8kQQ5+FANMCKBb6iW38TwHDqA8k7gzbApyVWRiOLNMCeQUP/BOc2wDDXogVoJzTAoDcVqTDmNsCqtwa2SnA3wKt4I/PIVzTAOsrBbALsNsC+ofDZOqgVwFz/rs+c6TbA6UZYVMR9M8Bn74y2KpU0wGUXDK65pUDA2uIan8l2LEDuz0VDxpMrwKqZtRSQHiLAoI1cN6WEIEA=",
          "dtype": "f8"
         },
         "legendgroup": "Central & South America",
         "lon": {
          "bdata": "Kh2s/3MmTsBfp6LCImFOwF3AywwbfU3A04bD0sARTsDY2CWqt/BMwDqQ9dTqUUXAIywq4nQYRsAS+S6lLrtFwOuOxTapkEXAc77Ye/FtQ8A+WTFcHdRHwMeBV8udQUbAb/HwngMfRMApvLoZJLRHwIpZL4ZyDkbA+MJkqmDgRcC+oluv6d9FwHwsfeiCcEbABfwaSYKsRsCe76fGS4tHwOEmo8owLkTAMswJ2uS0RsAqAMYzaIpIwLwgIjXt3kXA/N8RFapFRcD1oQvqW/xFwE6YMJqVrlHAC+4HPDC0VsB+xK9YwwpTwMhESrN5plPAXOhKBKprT8A=",
          "dtype": "f8"
         },
         "marker": {
          "color": "#EF553B",
          "size": {
           "bdata": "AAAAAABAn0AAAAAAAFCEQAAAAAAA4JpAAAAAAABaq0AAAAAAAABpQAAAAAAAIIxAAAAAAAAAiUAAAAAAADCRQAAAAAAAwJJAAAAAAABwp0AAAAAAADCRQAAAAAAAQI9AAAAAAABMvUAAAAAAAMCCQAAAAAAAa7hAAAAAAAAIsUAAAAAAAECNQAAAAAAAwIJAAAAAAACQgEAAAAAAALCNQAAAAAAAwIJAAAAAAABAf0AAAAAAALB9QAAAAAAAULRAAAAAAACIs0AAAAAAAECPQAAAAAAAQIBAAAAAAABAf0AAAAAAAIiTQAAAAAAAcIdAAAAAAADgj0A=",
           "dtype": "f8"
          },
          "sizemode": "area",
          "sizeref": 102.21777777777778,
          "symbol": "circle"
         },
         "mode": "markers",
         "name": "Central & South America",
         "showlegend": true,
         "type": "scattergeo"
        },
        {
         "customdata": [
          [
           "Australia",
           "BlueScope Steel Ltd",
           3200,
           -34.463834,
           150.886191
          ],
          [
           "Australia",
           "Infrabuild Australia Pty Ltd",
           780,
           -37.831379,
           144.788169
          ],
          [
           "Australia",
           "Infrabuild Australia Pty Ltd",
           750,
           -33.76601,
           150.849819
          ],
          [
           "Bangladesh",
           "Abul Khair Steel Ltd",
           1400,
           22.472008,
           91.734827
          ],
          [
           "Bangladesh",
           "Bangladesh Steel Re-Rolling Mills Ltd",
           1625,
           22.870631,
           91.545862
          ],
          [
           "Bangladesh",
           "BSRM Steels Ltd",
           800,
           22.873774,
           91.545562
          ],
          [
           "Bangladesh",
           "GPH Ispat Ltd",
           1051,
           22.536569,
           91.700729
          ],
          [
           "Bangladesh",
           "KSRM Steel Plant Ltd",
           800,
           22.499834,
           91.715778
          ],
          [
           "China",
           "Xinyang Iron & Steel Co.,ltd of Angang Group",
           3600,
           32.488704,
           114.038243
          ],
          [
           "China",
           "Angang Lianzhong Stainless Steel Corp",
           1900,
           23.126822,
           113.505817
          ],
          [
           "China",
           "Angang Steel Co Ltd",
           20650,
           41.148267,
           122.983054
          ],
          [
           "China",
           "Angang Steel Co Ltd",
           7500,
           40.308494,
           122.13079
          ],
          [
           "China",
           "Anhui Changjiang Steel Co Ltd",
           3800,
           31.502272,
           118.465162
          ],
          [
           "China",
           "Anhui Guihang Special Steel Co Ltd",
           2700,
           30.531068,
           117.251147
          ],
          [
           "China",
           "Anhui Jin'an Stainless Steel Foundry Co Ltd",
           500,
           31.763956,
           115.924372
          ],
          [
           "China",
           "Anhui Langxi County Fuhang Steel Co Ltd",
           1000,
           31.246635,
           119.120443
          ],
          [
           "China",
           "Guangde Xinyuanda Metal Products Co., Ltd. Co Ltd",
           500,
           31.0494162,
           119.5296269
          ],
          [
           "China",
           "Anhui Shoukuang Dachang Metal Material Co Ltd",
           3000,
           32.329171,
           115.954963
          ],
          [
           "China",
           "Anshan Baode Iron & Steel Co Ltd",
           1800,
           41.173613,
           122.945501
          ],
          [
           "China",
           "Angang Steel Co Ltd",
           2100,
           41.528945,
           120.369983
          ],
          [
           "China",
           "Anyang Iron & Steel Co Ltd",
           5950,
           36.122129,
           114.283145
          ],
          [
           "China",
           "Baoshan Iron & Steel Co Ltd",
           19800,
           31.41623,
           121.440087
          ],
          [
           "China",
           "Baosteel Desheng Stainless Steel Co Ltd",
           3220,
           26.48747,
           119.654461
          ],
          [
           "China",
           "Baosteel Group Xinjiang Bayi Iron & Steel Co Ltd",
           7300,
           43.852147,
           87.304639
          ],
          [
           "China",
           "Baosteel Zhanjiang Iron & Steel Co Ltd",
           12528,
           21.056035,
           110.48657
          ],
          [
           "China",
           "Baowu Group Echeng Iron & Steel Co Ltd",
           4276,
           30.39574,
           114.861313
          ],
          [
           "China",
           "Bengang Steel Plates Co Ltd",
           12400,
           41.274132,
           123.722099
          ],
          [
           "China",
           "Benxi Beiying Iron & Steel (GROUP) Co Ltd",
           2600,
           41.224814,
           123.608374
          ],
          [
           "China",
           "Cangzhou China Railway Equipment Manufacturing Materials Co Ltd",
           7500,
           38.289221,
           117.814367
          ],
          [
           "China",
           "Changshu Longteng Special Steel Co Ltd",
           2213,
           31.723833,
           120.835685
          ],
          [
           "China",
           "Lucheng Xingbao Iron & Steel Co Ltd",
           1900,
           36.332449,
           113.15509
          ],
          [
           "China",
           "Changzhou Dongfang Special Steel Co Ltd",
           360,
           31.602554,
           119.724256
          ],
          [
           "China",
           "Chengde Street Ltd",
           8000,
           40.947707,
           117.719747
          ],
          [
           "China",
           "Chengde Jianlong SPECIAL Steel Co Ltd",
           4400,
           40.515035,
           117.596071
          ],
          [
           "China",
           "Chengdu Changfeng Steel Group Co Ltd",
           500,
           31.031921,
           103.672956
          ],
          [
           "China",
           "Chengyu Vanadium & Titanium Technology Co Ltd",
           4050,
           29.732143,
           104.504339
          ],
          [
           "China",
           "Chifeng Yuanlian Steel Co Ltd",
           2450,
           42.278115,
           119.015289
          ],
          [
           "China",
           "Chifeng Zhongtang Special Steel Co Ltd",
           2700,
           41.834064,
           119.281883
          ],
          [
           "China",
           "Chizhou Guichi Guihang Metal Products Co Ltd",
           1000,
           30.532786,
           117.25166
          ],
          [
           "China",
           "Chongqing Iron & Steel Co Ltd",
           8400,
           29.790253,
           107.040368
          ],
          [
           "China",
           "Chongqing Yonghang Steel Group Co Ltd",
           700,
           29.836163,
           106.988138
          ],
          [
           "China",
           "Danyang Longjiang Steel Co Ltd",
           1500,
           32.027791,
           119.57706
          ],
          [
           "China",
           "Daye SPECIAL Steel Co Ltd",
           3420,
           30.204603,
           115.125838
          ],
          [
           "China",
           "Hubei Xinxin Steel Group Co Ltd; natural person(s)",
           1200,
           30.067469,
           114.934091
          ],
          [
           "China",
           "DELONG Steel Ltd",
           3000,
           37.086116,
           114.384832
          ],
          [
           "China",
           "Dongbei Special Steel Group Dalian Special Steel Co Ltd",
           2695,
           39.193697,
           122.057788
          ],
          [
           "China",
           "Fangda Special Steel Technology Co Ltd",
           2800,
           28.645441,
           115.99204
          ],
          [
           "China",
           "Fujian Great Dong Hai Industrial Group Co Ltd",
           3695,
           25.737777,
           119.592239
          ],
          [
           "China",
           "Fujian Dingsheng Steel Co Ltd",
           1726,
           27.224477,
           120.328828
          ],
          [
           "China",
           "Fujian Dingxin Industry Co Ltd",
           600,
           26.7695,
           119.738519
          ],
          [
           "China",
           "Fujian Fuxin Special Steel Co Ltd",
           720,
           24.472439,
           117.94885
          ],
          [
           "China",
           "Fujian Longgang New Materials Co Ltd",
           1210,
           25.357408,
           117.362096
          ],
          [
           "China",
           "Fujian Luoyuan Minguang Iron & Steel Co Ltd",
           2650,
           26.483815,
           119.67105
          ],
          [
           "China",
           "Fujian Qingtuo New Material Co Ltd",
           958,
           26.779301,
           119.767935
          ],
          [
           "China",
           "Fujian Sanbao Steel Co Ltd",
           6196,
           24.635769,
           117.603677
          ],
          [
           "China",
           "Fujian Tsingtuo Nickel Industry Co Ltd",
           3000,
           26.768925,
           119.765203
          ],
          [
           "China",
           "Fujian Wuhang Stainless Steel Products Co Ltd",
           2000,
           25.95923,
           119.452018
          ],
          [
           "China",
           "Fushun New Steel Corp Ltd",
           2700,
           41.841223,
           123.753895
          ],
          [
           "China",
           "Fushun Special Steel Co Ltd",
           999,
           41.838774,
           123.806586
          ],
          [
           "China",
           "Fuzhou Wuhang Steel Products Co Ltd",
           2000,
           25.995101,
           119.495725
          ],
          [
           "China",
           "Gansu Jiu Steel Group Hongxing Iron and Steel Co Ltd",
           4734,
           39.812121,
           98.295555
          ],
          [
           "China",
           "Guangdong Guangqing METAL Technology Co Ltd",
           2000,
           21.697069,
           111.848841
          ],
          [
           "China",
           "Guangdong Jingye Iron and Steel Co Ltd",
           2000,
           23.454666,
           116.498483
          ],
          [
           "China",
           "Guangdong Jinshenglan Metallurgical Technology Co Ltd",
           2400,
           22.888729,
           112.263081
          ],
          [
           "China",
           "Guangdong Nanfang Donghai Iron and Steel Co Ltd",
           2400,
           22.907614,
           112.224952
          ],
          [
           "China",
           "Guangdong Yuebei United Steel Co Ltd",
           2055,
           24.262452,
           113.728198
          ],
          [
           "China",
           "Guangshui Huaxin Smelt Industry Co Ltd",
           869,
           31.50221,
           114.008142
          ],
          [
           "China",
           "Guangxi BG New Materials Co Ltd",
           3400,
           21.519924,
           109.506427
          ],
          [
           "China",
           "Guangxi Chiji Iron and Steel Co Ltd",
           4800,
           23.402121,
           111.134606
          ],
          [
           "China",
           "Guangxi Longzhou Zhongheng Wanhua Industrial Co Ltd",
           1725,
           23.987136,
           111.914197
          ],
          [
           "China",
           "Guangxi Guigang Iron and Steel Group Co Ltd",
           1400,
           23.088182,
           109.634638
          ],
          [
           "China",
           "Guangxi Guigang Iron and Steel Group Guigang Guibao SPECIAL Steel Co Ltd",
           1200,
           23.089502,
           109.63938
          ],
          [
           "China",
           "Guangxi Guixin Steel Group Co Ltd",
           6050,
           23.978962,
           111.735523
          ],
          [
           "China",
           "Hezhou Zhaoxin Hardware Products Co Ltd",
           750,
           23.978567,
           111.735529
          ],
          [
           "China",
           "Guangxi Hezhou Kexinda Metal Products Co Ltd",
           1150,
           23.979937,
           111.745037
          ],
          [
           "China",
           "Guangxi Iron and Steel Group Co Ltd",
           8400,
           21.580723,
           108.400896
          ],
          [
           "China",
           "Guangxi Shenglong Metallurgical Co Ltd",
           9783,
           21.687637,
           108.412344
          ],
          [
           "China",
           "Guangxi Wuzhou Jinhai Stainless Steel Co Ltd",
           1500,
           23.518229,
           111.235509
          ],
          [
           "China",
           "Guilin Pinggang Iron and Steel Co Ltd",
           1200,
           24.673567,
           110.78959
          ],
          [
           "China",
           "Guizhou Ganglian Industrial Group Co Ltd",
           1325,
           27.615147,
           106.949926
          ],
          [
           "China",
           "Guizhou Hexing Metal Products Co Ltd",
           500,
           26.509525,
           107.570458
          ],
          [
           "China",
           "Guizhou United Steel (Group) Co Ltd",
           1990,
           27.591691,
           106.814024
          ],
          [
           "China",
           "Hanshan Iron and Steel Co Ltd",
           4488,
           36.685881,
           113.837073
          ],
          [
           "China",
           "Dazhou Hangda Steel Co Ltd",
           1000,
           31.435149,
           107.685981
          ],
          [
           "China",
           "HBIS Laoting Steel Co Ltd",
           7450,
           39.257823,
           119.033567
          ],
          [
           "China",
           "Hebei Anfeng Iron & Steel Co Ltd",
           7100,
           39.65849,
           118.894804
          ],
          [
           "China",
           "Hebei Donghai SPECIAL Steel Group Co Ltd",
           10001,
           39.610605,
           118.474722
          ],
          [
           "China",
           "Hebei Huaxi Special Steel Co Ltd",
           1824,
           39.260784,
           119.005925
          ],
          [
           "China",
           "Hebei Huaxin Special Steel Co Ltd",
           1350,
           36.53048,
           114.245262
          ],
          [
           "China",
           "Hebei Jinxi Iron & Steel Group Co Ltd",
           5000,
           40.209844,
           118.220547
          ],
          [
           "China",
           "Hebei Puyang Iron and Steel Co Ltd",
           5567,
           36.733675,
           113.925995
          ],
          [
           "China",
           "Hebei Rongxin Iron & Steel Co Ltd",
           2300,
           39.880661,
           118.558755
          ],
          [
           "China",
           "Hebei Taihang Iron and Steel Group Co Ltd",
           3950,
           36.613716,
           114.082349
          ],
          [
           "China",
           "Hebei Tangyin IRON&STEEL Co Ltd",
           2300,
           39.160401,
           118.429806
          ],
          [
           "China",
           "Hebei Tianzhu Iron and Steel Group Special Steel Co Ltd",
           3034,
           39.270032,
           119.01376
          ],
          [
           "China",
           "Hebei Xinda Iron and Steel Co Ltd",
           5000,
           39.898362,
           118.579364
          ],
          [
           "China",
           "Hebei Xinjin Iron and Steel Co Ltd",
           2700,
           36.715632,
           114.208992
          ],
          [
           "China",
           "Hebei New Wuan Iron and Steel Group Xin Hui Metallurgy Co Ltd",
           750,
           36.664097,
           114.115263
          ],
          [
           "China",
           "Hebei Xinxing Ductile Iron Pipes Co Ltd",
           2500,
           36.621504,
           114.128189
          ],
          [
           "China",
           "Hebei Yanshan Iron and Steel Group Co Ltd",
           9990,
           39.925508,
           118.672757
          ],
          [
           "China",
           "Hebei YongYang Special Steel Group Co Ltd",
           1200,
           36.786851,
           114.376132
          ],
          [
           "China",
           "Hbzx HIGH Tech Co Ltd",
           1800,
           40.607977,
           115.067516
          ],
          [
           "China",
           "Hebei Zongheng Group Fengnan Iron & Steel Co Ltd",
           7700,
           39.222566,
           118.094201
          ],
          [
           "China",
           "Heilongjiang Jianlong Iron and Steel Co Ltd",
           2001,
           46.602297,
           131.071877
          ],
          [
           "China",
           "Henan Angang Zhoukou Iron and Steel Co Ltd",
           1750,
           33.364534,
           115.099661
          ],
          [
           "China",
           "Henan Xinjinhui Stainless Steel Industry Co Ltd",
           900,
           34.263509,
           113.853979
          ],
          [
           "China",
           "Henan Jiyuan Iron & Steel (Group) Co Ltd",
           3428,
           35.086396,
           112.553774
          ],
          [
           "China",
           "Henan YAXIN Steel Industry Co Ltd",
           1000,
           35.879956,
           114.334825
          ],
          [
           "China",
           "Hengyang Valin Steel Tube Co Ltd",
           1300,
           26.865484,
           112.576853
          ],
          [
           "China",
           "Heping Yueshen Steel Industrial Co Ltd",
           1400,
           24.49796,
           114.93888
          ],
          [
           "China",
           "Heyuan Derun Steel Co Ltd",
           1650,
           23.39775,
           114.898646
          ],
          [
           "China",
           "Hezhou Xindu Sanyuan Casting Co Ltd",
           780,
           23.987007,
           111.739775
          ],
          [
           "China",
           "Houying Group Haicheng Iron and Steel Co Ltd",
           2000,
           40.981855,
           122.948643
          ],
          [
           "China",
           "Huainan Hongtai Steel Limited Liability Co",
           500,
           32.619248,
           116.905869
          ],
          [
           "China",
           "Hubei Jinshenglan Metallurgical Technology Co Ltd",
           3250,
           29.916729,
           113.822921
          ],
          [
           "China",
           "Hubei Lijin Steel Group Co Ltd",
           2000,
           32.127263,
           112.715688
          ],
          [
           "China",
           "Hubei Shunle Iron and Steel Co Ltd",
           2000,
           29.925026,
           113.826118
          ],
          [
           "China",
           "Hunan Valin Lianyuan Iron and Steel Co Ltd",
           7950,
           27.747782,
           111.967343
          ],
          [
           "China",
           "Hunan Valin Lianyuan Iron and Steel Co Ltd",
           7250,
           27.81413,
           112.897377
          ],
          [
           "China",
           "Inner Mongolia BaoTou Steel Union Co Ltd",
           15610,
           40.647997,
           109.740898
          ],
          [
           "China",
           "Inner Mongolia Desheng Metal Products Co Ltd",
           1350,
           39.867015,
           106.890377
          ],
          [
           "China",
           "Inner Mongolia Yaxinlongshun Special Steel Co Ltd",
           2000,
           40.689778,
           110.214707
          ],
          [
           "China",
           "Jianglong Acheng Iron & Steel Co Ltd",
           1600,
           45.562002,
           126.968128
          ],
          [
           "China",
           "Jiangsu Province Binxin Steel Group Co Ltd",
           2250,
           35.09556,
           119.279989
          ],
          [
           "China",
           "Jiangsu Changqiang Iron & Steel Co Ltd",
           2000,
           31.952064,
           120.189749
          ],
          [
           "China",
           "Jiangsu Delong Nickel Industry Co Ltd",
           1350,
           34.443469,
           119.816574
          ],
          [
           "China",
           "Jiangsu HONGTAI Metals Ware Co Ltd",
           1576,
           32.138393,
           119.554693
          ],
          [
           "China",
           "Jiangsu Shagang Group Huaigang SPECIAL Steel Co Ltd",
           2714,
           33.566039,
           118.988442
          ],
          [
           "China",
           "Jiangsu Xusteel Group Co Ltd",
           3050,
           34.577016,
           117.339638
          ],
          [
           "China",
           "Jiangxi Taixin Iron & Steel Co Ltd",
           1000,
           28.60445,
           118.163615
          ],
          [
           "China",
           "Jiangyin Huaxi Steel Co Ltd",
           1500,
           31.816482,
           120.424347
          ],
          [
           "China",
           "Jiangyin Xicheng Steel Co Ltd",
           720,
           31.892299,
           120.198394
          ],
          [
           "China",
           "Jiangyin Xingcheng SPECIAL Steel Works Co Ltd",
           5900,
           31.950191,
           120.328449
          ],
          [
           "China",
           "Jianlong Beiman SPECIAL Steel Co Ltd",
           2570,
           47.191285,
           123.616512
          ],
          [
           "China",
           "Jianlong Xilin Iron and Steel Co Ltd",
           4200,
           47.495036,
           129.287919
          ],
          [
           "China",
           "Jilin Jianlong Steel Co Ltd",
           2700,
           44.011951,
           126.537086
          ],
          [
           "China",
           "Jilin Jingang Lron and Steel Co Ltd",
           1500,
           43.20023,
           124.335697
          ],
          [
           "China",
           "Jinan Iron & Steel Group Co Ltd",
           2700,
           36.718952,
           114.111677
          ],
          [
           "China",
           "Jincheng FUSHENG Iron & Steel Co Ltd",
           4600,
           35.662985,
           112.882395
          ],
          [
           "China",
           "Jinding Heavy Industries Co Ltd",
           3000,
           36.718952,
           114.111677
          ],
          [
           "China",
           "Jingye Iron and Steel Co Ltd",
           6400,
           38.391372,
           114.139998
          ],
          [
           "China",
           "Jingzhou Qunli Metal Products Co Ltd",
           1000,
           30.3505,
           112.353782
          ],
          [
           "China",
           "Jinye Steel Group Co Ltd",
           950,
           36.148131,
           113.209523
          ],
          [
           "China",
           "Jiugang Group Yuzhong Iron & Steel Co Ltd",
           4000,
           36.033646,
           104.035535
          ],
          [
           "China",
           "JiuJiang PXSteel Co Ltd",
           4700,
           29.778431,
           116.27527
          ],
          [
           "China",
           "Laiwu Steel Yinshan Section Co Ltd",
           5001,
           36.106143,
           117.820108
          ],
          [
           "China",
           "Gaolan County Lanxin Steel Co Ltd",
           1100,
           36.488866,
           103.922
          ],
          [
           "China",
           "Lengshuijiang Iron and Steel Co Ltd",
           3000,
           27.690401,
           111.437288
          ],
          [
           "China",
           "Lianfeng Steel (Zhangjiagang) Co Ltd",
           6720,
           31.855205,
           120.730505
          ],
          [
           "China",
           "Lianyungang Huale Alloy Group Co Ltd",
           621,
           34.607964,
           119.447626
          ],
          [
           "China",
           "Lianyungang Xingxin Iron and Steel Co Ltd",
           3000,
           34.38381,
           119.786878
          ],
          [
           "China",
           "Lianyungang Yaxin Iron and Steel Co Ltd",
           3000,
           34.423786,
           119.778311
          ],
          [
           "China",
           "Liaoyang United Steel Co Ltd",
           2300,
           41.19138,
           122.877311
          ],
          [
           "China",
           "Liaoyang Xinyi Special Steel Co Ltd",
           500,
           41.225003,
           122.970488
          ],
          [
           "China",
           "Licheng Taihang Iron & Steel Co Ltd",
           1700,
           36.472303,
           113.344155
          ],
          [
           "China",
           "Lingyuan Iron & Steel Co Ltd",
           5994,
           41.271048,
           119.41374
          ],
          [
           "China",
           "Linyi Iron and Steel Investment Group Co Ltd",
           3400,
           35.15735,
           119.133999
          ],
          [
           "China",
           "Huahong Iron and Steel Products Co Ltd",
           1200,
           28.090098,
           119.519509
          ],
          [
           "China",
           "Liuzhou IRON&STEEL Co Ltd",
           9458,
           24.385304,
           109.37963
          ],
          [
           "China",
           "Liyang Baorun Steel Co Ltd",
           2760,
           31.471123,
           119.485941
          ],
          [
           "China",
           "Luzhou Xinyang Vanadium Titanium Steel Co Ltd",
           2000,
           28.851779,
           105.70509
          ],
          [
           "China",
           "Lvliang Jianlong Industrial Co Ltd",
           1400,
           37.47311,
           112.06093
          ],
          [
           "China",
           "Maanshan Iron & Steel Co Ltd",
           15480,
           31.698884,
           118.468194
          ],
          [
           "China",
           "Nanjing Iron & Steel Co Ltd",
           10000,
           32.200797,
           118.746315
          ],
          [
           "China",
           "Nanyang Hanye SPECIAL STREET Co Ltd",
           3000,
           33.269324,
           111.534635
          ],
          [
           "China",
           "Ningbo Haoyang New MATERIALS Techonology Co Ltd",
           500,
           30.267113,
           121.052503
          ],
          [
           "China",
           "Ningbo Iron & Steel Co Ltd",
           3999,
           29.918776,
           121.876423
          ],
          [
           "China",
           "Ningxia Iron and Steel (Group) Co Ltd",
           1800,
           37.503054,
           105.078348
          ],
          [
           "China",
           "Ningxia Jianlong Special Steel Co Ltd",
           3500,
           39.215452,
           106.688294
          ],
          [
           "China",
           "Pan Gang Group Sichuan Changcheng Special Steel Co Ltd",
           669,
           31.763517,
           104.761441
          ],
          [
           "China",
           "Panzhihua Steel Group Panzhihua Steel Vanadium Co Ltd",
           5900,
           26.565265,
           101.673737
          ],
          [
           "China",
           "Pangang Group Xichang Steel and Vanadium Co Ltd",
           3900,
           27.74799,
           102.20517
          ],
          [
           "China",
           "Jilinheng Precision Casting Technology Co Ltd",
           1100,
           43.196537,
           126.00063
          ],
          [
           "China",
           "Anyuan Iron & Steel Co Ltd",
           2650,
           27.64555,
           113.902126
          ],
          [
           "China",
           "Posco (Zhangjiagang) Stainless Steel Co Ltd",
           1100,
           31.980237,
           120.571455
          ],
          [
           "China",
           "Qian'an City Jiujiang Wire Co Ltd",
           5729,
           39.952209,
           118.559444
          ],
          [
           "China",
           "Qian'an Zhayi Steel Group Co Ltd",
           1500,
           40.044026,
           118.552001
          ],
          [
           "China",
           "Qingdao Special Iron and Steel Co Ltd",
           2950,
           35.6296,
           119.722335
          ],
          [
           "China",
           "Qinhuangdao Baigong Steel Co Ltd",
           2260,
           39.748773,
           118.819472
          ],
          [
           "China",
           "Qinhuangdao Hongxing Iron & Steel Co Ltd",
           3450,
           39.700721,
           118.871477
          ],
          [
           "China",
           "Rizhao Steel Holding Group Co Ltd",
           11300,
           35.16535,
           119.366672
          ],
          [
           "China",
           "Rizhao Steel Yingkou Medium Plate Co Ltd",
           5500,
           40.671136,
           122.395441
          ],
          [
           "China",
           "Sansteel Minguang Co Ltd Fujian",
           6799,
           26.261109,
           117.614709
          ],
          [
           "China",
           "SGIS Songshan Co Ltd",
           8698,
           24.708232,
           113.635898
          ],
          [
           "China",
           "Shaanxi Hanzhong Iron & Steel Group Co",
           700,
           33.132446,
           106.657646
          ],
          [
           "China",
           "Shaanxi Huaxin Special Steel Group Co Ltd",
           600,
           34.523278,
           109.986042
          ],
          [
           "China",
           "Shaanxi LONG MEN IRON&STEEL Co Ltd",
           3800,
           35.618466,
           110.575788
          ],
          [
           "China",
           "Shangang Group Hanzhong Iron & Steel Co Ltd",
           3000,
           33.133192,
           106.671859
          ],
          [
           "China",
           "Shagang Group Anyang Yongxing Iron & Steel Co Ltd",
           2600,
           36.143573,
           114.149964
          ],
          [
           "China",
           "Fulun Iron & Steel Co Ltd",
           2700,
           36.308447,
           117.540425
          ],
          [
           "China",
           "Shandong Iron and Steel Co Ltd",
           3850,
           36.087717,
           117.827927
          ],
          [
           "China",
           "Shandong IRON&STEEL Group Rizhao Co Ltd",
           8500,
           35.188969,
           119.383723
          ],
          [
           "China",
           "Shandong Iron & Steel Group Yongfeng Lingang Corp",
           5400,
           35.137061,
           119.068319
          ],
          [
           "China",
           "Shandong Luli Steel Co Ltd",
           1400,
           36.970875,
           118.955444
          ],
          [
           "China",
           "Shandong Shouguang Juneng SPECIAL Steel Co Ltd",
           2850,
           36.939125,
           118.785598
          ],
          [
           "China",
           "Shanghai Meishan Iron & Steel Co Ltd",
           7600,
           31.902969,
           118.61667
          ],
          [
           "China",
           "Shanxi Gaoyi Steel Co Ltd",
           2700,
           35.586841,
           111.258436
          ],
          [
           "China",
           "Shanxi HONGDA Iron and Steel Group Co Ltd",
           2300,
           35.701895,
           110.786826
          ],
          [
           "China",
           "Hejin Huaxinyuan Steel & Iron Co Ltd",
           1150,
           35.605506,
           110.652056
          ],
          [
           "China",
           "Shanxi Jianlong Industrial Co Ltd",
           4750,
           35.417405,
           111.303919
          ],
          [
           "China",
           "Shanxi Jinnan Iron and Steel Group Co Ltd",
           4800,
           35.678541,
           111.51465
          ],
          [
           "China",
           "Shanxi Meijin Iron and Steel Co Ltd",
           1700,
           37.571354,
           112.229791
          ],
          [
           "China",
           "Shanxi Taigang Stainless Steel Co Ltd",
           12460,
           37.931488,
           112.539321
          ],
          [
           "China",
           "ShanXi TongCai Industry and Trade Co Ltd",
           2780,
           35.694321,
           111.429381
          ],
          [
           "China",
           "Shanxi Tongde Xinghua Special Steel Co Ltd",
           2500,
           40.183517,
           113.305462
          ],
          [
           "China",
           "Shanxi Xintai Iron & Steel Co Ltd",
           3000,
           37.075017,
           111.985148
          ],
          [
           "China",
           "Shanxi Zhongyang Iron & Steel Co Ltd",
           3600,
           37.370796,
           111.161118
          ],
          [
           "China",
           "Shiheng SPECIAL Steel Group Co Ltd",
           4650,
           36.229201,
           116.533981
          ],
          [
           "China",
           "Shijiazhuang Iron and Steel Co Ltd",
           2000,
           38.075008,
           114.033043
          ],
          [
           "China",
           "Yun County Rongfeng Rolling Mill Factory",
           700,
           32.738598,
           110.793269
          ],
          [
           "China",
           "Shougang Changzhi IRON& Steel Co Ltd",
           3600,
           36.356404,
           113.060809
          ],
          [
           "China",
           "Shougang Guiyang SPECIAL Steel Co Ltd",
           600,
           26.873592,
           106.73215
          ],
          [
           "China",
           "Shougang Jingtang United Iron & Steel Co Ltd",
           13700,
           38.953664,
           118.50339
          ],
          [
           "China",
           "Beijing Shougang Co Ltd",
           6300,
           39.976702,
           118.558788
          ],
          [
           "China",
           "Shougang Shuicheng Iron & Steel (Group) Co Ltd",
           3501,
           26.595229,
           104.877413
          ],
          [
           "China",
           "Sichuan De Sheng Group, Vanadium and Titanium Co Ltd",
           3000,
           29.39798,
           103.542532
          ],
          [
           "China",
           "Sichuan Gangchen Stainless Steel Co Ltd",
           600,
           29.501044,
           103.607365
          ],
          [
           "China",
           "Sichuan Shehong Chuanzhong Construction Materials Co Ltd",
           550,
           30.830726,
           105.367695
          ],
          [
           "China",
           "Sichuan Shengquan Iron and Steel Group Co Ltd",
           1500,
           31.255961,
           104.190612
          ],
          [
           "China",
           "Sichuan Ya'an Anshan Iron and Steel Co Ltd",
           830,
           30.059133,
           102.625907
          ],
          [
           "China",
           "Tangshan Donghai Iron and Steel Group Co Ltd",
           5499,
           39.748373,
           118.624794
          ],
          [
           "China",
           "Tangshan Donghua Iron & Steel Enterprise Group Co Ltd",
           3400,
           39.468366,
           118.256774
          ],
          [
           "China",
           "Tangshan Fengnan District Jing'an Iron and Steel Co Ltd",
           2000,
           39.600956,
           118.358726
          ],
          [
           "China",
           "Tangshan Ganglu Iron & Steel Co Ltd",
           5614,
           40.183913,
           118.073913
          ],
          [
           "China",
           "Tangshan Guotang Steel Co Ltd",
           3000,
           39.293147,
           119.046972
          ],
          [
           "China",
           "Tangshan Heavy Plate Co Ltd",
           4200,
           39.268452,
           119.024819
          ],
          [
           "China",
           "Tangshan RUIFENG Steel and Iron (GROUP) Co Ltd",
           4500,
           39.497472,
           118.272056
          ],
          [
           "China",
           "Tangshan Songting IRON&STEEL Co Ltd",
           5000,
           39.938866,
           118.576678
          ],
          [
           "China",
           "Tangshan Wenfeng Special Steel Co Ltd",
           2000,
           39.146541,
           118.432261
          ],
          [
           "China",
           "Tangshan Xinglong Steel Co Ltd",
           825,
           39.847612,
           118.348448
          ],
          [
           "China",
           "Tangshan Yutian Jinzhou Industry Co Ltd",
           700,
           39.967373,
           117.857659
          ],
          [
           "China",
           "Tangshan Zhengfeng Steel Co Ltd",
           2439,
           39.85271,
           118.181279
          ],
          [
           "China",
           "Tianjin Iron and Steel Group Co Ltd",
           6650,
           39.031083,
           117.499246
          ],
          [
           "China",
           "Tianjin Iron PLANT Co Ltd",
           4870,
           36.58967,
           113.745792
          ],
          [
           "China",
           "Tianjin Tiangang UNITED SPECIAL Steel Co Ltd",
           4500,
           39.300258,
           117.800231
          ],
          [
           "China",
           "Tianjin Pipe Corp",
           3000,
           39.034002,
           117.486798
          ],
          [
           "China",
           "Rockcheck Steel Group Co Ltd",
           3250,
           38.970638,
           117.495794
          ],
          [
           "China",
           "Tonghua Iron & Steel Co Ltd",
           4590,
           41.779125,
           126.022349
          ],
          [
           "China",
           "Tongling Fuxin Iron & Steel Co Ltd",
           1350,
           30.907561,
           117.772866
          ],
          [
           "China",
           "Tongling City Xuanli Special Steel Co Ltd",
           2700,
           31.062807,
           117.956015
          ],
          [
           "China",
           "Weifang SPECIAL Steel Group Co Ltd",
           3000,
           36.644469,
           119.238427
          ],
          [
           "China",
           "Wuhai Baogang Wanteng Iron and Steel Co Ltd",
           2000,
           39.855971,
           106.886647
          ],
          [
           "China",
           "Wuhan Iron and Steel Co Ltd",
           15907,
           30.616222,
           114.444975
          ],
          [
           "China",
           "Wuhan Shunle Stainless Steel Co Ltd",
           2000,
           30.394434,
           114.257701
          ],
          [
           "China",
           "Wuhu Fuxin Iron & Steel Co Ltd",
           2000,
           31.194505,
           118.067833
          ],
          [
           "China",
           "Wuhu Xinxing Ductile Iron Pipes Co Ltd",
           2000,
           31.229893,
           118.150867
          ],
          [
           "China",
           "Wulanhot Iron & Steel Co Ltd",
           1350,
           46.055685,
           122.063282
          ],
          [
           "China",
           "Wuyang Iron and Steel Co Ltd",
           5040,
           33.287536,
           113.474328
          ],
          [
           "China",
           "Wuzhou Yongda Special Steel Co Ltd",
           1000,
           23.520307,
           111.229981
          ],
          [
           "China",
           "Xiangfen County XinJinShan Special Steel Co Ltd",
           2200,
           35.934831,
           111.49707
          ],
          [
           "China",
           "Xining Special Steel Co Ltd",
           900,
           36.66856,
           101.671414
          ],
          [
           "China",
           "Xinji AOSEN Steel Group Co Ltd",
           3600,
           37.752351,
           115.184798
          ],
          [
           "China",
           "Xinjiang Da'an Special Steel Co Ltd",
           1000,
           42.700465,
           93.542466
          ],
          [
           "China",
           "Xinjiang Ka Steel Group Co",
           1000,
           39.142997,
           76.161589
          ],
          [
           "China",
           "Xinjiang KingTec Steel Co Ltd",
           1334,
           42.674192,
           86.280156
          ],
          [
           "China",
           "Xinjiang Minxin Iron and Steel (Group) Minhang Special Steel Co Ltd",
           1110,
           44.080866,
           88.417209
          ],
          [
           "China",
           "Xinxing Ductile Iron Pipes Xinjiang Co Ltd",
           2000,
           42.333321,
           86.302481
          ],
          [
           "China",
           "Xinjiang Xin'an Special Steel Co Ltd",
           400,
           44.290299,
           86.595826
          ],
          [
           "China",
           "Xinjiang Yili Iron and Steel Co Ltd",
           1000,
           43.526808,
           83.294323
          ],
          [
           "China",
           "Xinyu Iron & Steel Corp Ltd",
           10001,
           27.786859,
           114.921595
          ],
          [
           "China",
           "Yancheng Lianxin Steel Co Ltd",
           2410,
           33.211332,
           120.774892
          ],
          [
           "China",
           "Yangchun New Iron & Steel Co Ltd",
           2400,
           22.084904,
           111.642187
          ],
          [
           "China",
           "Yangzhou Hengrun Ocean Heavy Industry Co Ltd",
           3300,
           32.249602,
           119.620438
          ],
          [
           "China",
           "Yangzhou Qinyou Special Metal Materials Co Ltd",
           2400,
           32.838703,
           119.425236
          ],
          [
           "China",
           "Yantai Walsin Stainless Steel Co Ltd",
           1400,
           37.548627,
           121.277488
          ],
          [
           "China",
           "Yunnan Qujing Iron and Steel Group Chenggang Iron and Steel Co Ltd",
           2600,
           25.45543,
           103.547242
          ],
          [
           "China",
           "Yunnan Qujing Iron and Steel Group Co Ltd",
           1400,
           26.275342,
           104.168311
          ],
          [
           "China",
           "YunNan Province Tiangao Nickel Alloy Co Ltd",
           500,
           24.80128,
           104.063455
          ],
          [
           "China",
           "Yunnan Yuxi Iron and Steel Group Yukun Iron and Steel Co Ltd",
           1893,
           24.465884,
           102.543682
          ],
          [
           "China",
           "Yunnan Yuxi Xianfu Iron and Steel (Group) Co Ltd",
           2980,
           24.012309,
           102.186364
          ],
          [
           "China",
           "Zenith Steel Group Co Ltd",
           3700,
           31.707656,
           120.079591
          ],
          [
           "China",
           "Zenith Steel Group (Nantong) Co Ltd",
           5850,
           32.133954,
           121.513173
          ],
          [
           "China",
           "Zhangjiagang Hongchang Steel Co Ltd",
           16947,
           31.983146,
           120.638992
          ],
          [
           "China",
           "Zhangjiagang Rongsheng Steel-Making Co Ltd",
           10571,
           31.985496,
           120.644565
          ],
          [
           "China",
           "Zhejiang TSINGSHAN IRON&STEEL Co Ltd",
           500,
           28.136096,
           120.380401
          ],
          [
           "China",
           "Zhejiang Wantai Special Steel Co Ltd",
           1200,
           30.944342,
           120.971803
          ],
          [
           "China",
           "Zhongpu (Handan) Iron and Steel Co Ltd",
           1500,
           36.721376,
           113.910271
          ],
          [
           "China",
           "Zhongxin Iron and Steel Group Co Ltd",
           5400,
           34.368618,
           118.31556
          ],
          [
           "China",
           "BERIS Jiangsu Heavy Industry Co Ltd",
           2000,
           32.104319,
           119.792126
          ],
          [
           "China",
           "Zhuhai Yueyufeng IRON&STEEL Co Ltd",
           3051,
           21.96092,
           113.198718
          ],
          [
           "India",
           "Action Ispat and Power Pvt Ltd",
           375,
           21.839759,
           83.982227
          ],
          [
           "India",
           "Adhunik Metaliks Ltd",
           500,
           22.308371,
           84.763584
          ],
          [
           "India",
           "ArcelorMittal Nippon Steel India Ltd",
           9600,
           21.112377,
           72.647304
          ],
          [
           "India",
           "Arjas Steel Pvt Ltd",
           334,
           14.873471,
           78.048425
          ],
          [
           "India",
           "BMM Ispat Ltd",
           2208,
           15.16972,
           76.37971
          ],
          [
           "India",
           "Crest Steel and Power Pvt Ltd",
           130,
           21.190313,
           81.19922
          ],
          [
           "India",
           "ESL Steel Ltd",
           1500,
           23.632907,
           86.293671
          ],
          [
           "India",
           "Evonith Metallics Ltd",
           1080,
           20.696412,
           78.638548
          ],
          [
           "India",
           "Gallantt Ispat Ltd",
           528,
           26.757009,
           83.199086
          ],
          [
           "India",
           "Godawari Power and Ispat Ltd",
           659,
           21.376214,
           81.681888
          ],
          [
           "India",
           "Hospet Steels Ltd",
           650,
           15.339055,
           76.251696
          ],
          [
           "India",
           "Jai Balaji Industries Ltd",
           295,
           23.483075,
           87.352189
          ],
          [
           "India",
           "Jai Balaji Jyoti Steels Ltd",
           92,
           22.085338,
           84.86184
          ],
          [
           "India",
           "Jayaswal Neco Industries Ltd",
           1200,
           21.354495,
           81.676444
          ],
          [
           "India",
           "Jindal Stainless Ltd",
           800,
           29.127253,
           75.773075
          ],
          [
           "India",
           "Jindal Stainless Ltd",
           2200,
           20.954939,
           86.051986
          ],
          [
           "India",
           "Jindal Steel & Power Ltd",
           6000,
           20.884896,
           84.991539
          ],
          [
           "India",
           "Jindal Steel & Power Ltd",
           3600,
           21.922703,
           83.347178
          ],
          [
           "India",
           "JSW Steel Ltd",
           5000,
           21.763989,
           84.022529
          ],
          [
           "India",
           "JSW Steel Ltd",
           10200,
           18.690312,
           73.035902
          ],
          [
           "India",
           "JSW Ispat Special Products Ltd",
           950,
           21.983709,
           83.238133
          ],
          [
           "India",
           "JSW Steel Ltd",
           1260,
           11.814912,
           77.918465
          ],
          [
           "India",
           "JSW Steel Ltd",
           11899,
           15.180423,
           76.663134
          ],
          [
           "India",
           "JSW Vijayanagar Metallics Ltd",
           3300,
           15.203176,
           76.659122
          ],
          [
           "India",
           "Mesco Kalinga Steel Ltd",
           1200,
           20.976277,
           86.044419
          ],
          [
           "India",
           "Mono Steel (India) Ltd",
           770,
           23.312265,
           70.201953
          ],
          [
           "India",
           "MSP Steel & Power Ltd",
           385,
           21.87673,
           83.554495
          ],
          [
           "India",
           "NR Ispat and Power Pvt Ltd",
           48,
           22.013086,
           83.330372
          ],
          [
           "India",
           "Neelachal Ispat Nigam Ltd",
           1100,
           20.998641,
           86.019102
          ],
          [
           "India",
           "Nilachal Iron & Power Ltd",
           99,
           22.874863,
           86.063646
          ],
          [
           "India",
           "NMDC Steel Ltd",
           3000,
           19.0931901,
           82.17
          ],
          [
           "India",
           "Orissa Metaliks Pvt Ltd",
           550,
           22.364258,
           87.309047
          ],
          [
           "India",
           "Orissa Metaliks Pvt Ltd",
           900,
           22.378355,
           87.281773
          ],
          [
           "India",
           "Orissa Metaliks Pvt Ltd",
           108,
           21.856747,
           83.966244
          ],
          [
           "India",
           "Orissa Sponge Iron and Steel Ltd",
           101,
           21.801994,
           85.56751
          ],
          [
           "India",
           "Prakash Industries Ltd",
           1190,
           22.004694,
           82.671666
          ],
          [
           "India",
           "Rashmi Metaliks Ltd",
           498,
           22.360664,
           87.295932
          ],
          [
           "India",
           "Rashtriya Ispat Nigam Ltd",
           7302,
           17.612846,
           83.191918
          ],
          [
           "India",
           "Rungta Mines Ltd",
           696,
           22.588359,
           85.905724
          ],
          [
           "India",
           "Rungta Mines Ltd",
           206,
           20.764524,
           85.299318
          ],
          [
           "India",
           "Rungta Mines Ltd",
           346.52,
           21.928511,
           85.223988
          ],
          [
           "India",
           "Rungta Mines Ltd",
           126,
           22.140174,
           85.414616
          ],
          [
           "India",
           "Steel Authority of India Ltd",
           501,
           23.522882,
           87.275935
          ],
          [
           "India",
           "Steel Authority of India Ltd",
           6999,
           21.185157,
           81.394207
          ],
          [
           "India",
           "Steel Authority of India Ltd",
           4652,
           23.671677,
           86.10687
          ],
          [
           "India",
           "Steel Authority of India Ltd",
           2199,
           23.54843,
           87.245247
          ],
          [
           "India",
           "Steel Authority of India Ltd",
           2499,
           23.673236,
           86.926179
          ],
          [
           "India",
           "Steel Authority of India Ltd",
           3282,
           22.210804,
           84.86895
          ],
          [
           "India",
           "Shakambhari Ispat & Power Ltd",
           531,
           23.613861,
           86.789527
          ],
          [
           "India",
           "Shri Bajrang Power and Ispat Ltd",
           500,
           21.48619,
           81.771697
          ],
          [
           "India",
           "Shyam Metalics and Energy Ltd",
           1144,
           23.693749,
           87.122711
          ],
          [
           "India",
           "Shyam Metalics and Energy Ltd",
           1715,
           21.680344,
           84.04179
          ],
          [
           "India",
           "Shyam Steel Manufacturing Ltd",
           126,
           23.564157,
           87.089552
          ],
          [
           "India",
           "Shyam Steel Industries Ltd",
           420,
           23.590212,
           86.724603
          ],
          [
           "India",
           "Sunflag Iron and Steel Co Ltd",
           525,
           21.232929,
           79.632398
          ],
          [
           "India",
           "Tata Steel BSL Ltd",
           5510,
           20.796053,
           85.260382
          ],
          [
           "India",
           "Tata Steel Ltd",
           11000,
           22.788598,
           86.1996
          ],
          [
           "India",
           "Tata Steel Ltd",
           8000,
           20.970411,
           86.015211
          ],
          [
           "India",
           "Tata Steel Long Products Ltd",
           1200,
           22.812895,
           86.084022
          ],
          [
           "India",
           "Welspun Corp Ltd",
           288,
           23.112781,
           70.0866885
          ],
          [
           "India",
           "Yazdani Steel and Power Ltd",
           110,
           20.928285,
           86.036604
          ],
          [
           "Indonesia",
           "PT Mandan Steel",
           1000,
           -3.339296,
           115.927125
          ],
          [
           "Indonesia",
           "Dexin Steel Pte Ltd",
           7000,
           -2.829514,
           122.174896
          ],
          [
           "Indonesia",
           "PT Gunung Raja Paksi Tbk",
           2800,
           -6.282658,
           107.117683
          ],
          [
           "Indonesia",
           "PT Jakarta Prima Steel Industries",
           900,
           -6.181643,
           106.932331
          ],
          [
           "Indonesia",
           "PT Krakatau Steel (Persero) Tbk",
           4000,
           -6.007021,
           106.001766
          ],
          [
           "Indonesia",
           "PT Krakatau Posco",
           3000,
           -5.998661,
           105.99866
          ],
          [
           "Indonesia",
           "PT The Master Steel MFG",
           1500,
           -6.18421,
           106.920067
          ],
          [
           "Indonesia",
           "LNM Group",
           650,
           -7.355128628104116,
           112.703729688359
          ],
          [
           "Japan",
           "Aichi Steel Corp",
           1495,
           35.044558,
           136.900772
          ],
          [
           "Japan",
           "Chubu Steel Plate Co Ltd",
           800,
           35.118836,
           136.867567
          ],
          [
           "Japan",
           "Daido Steel Co Ltd",
           1500,
           35.016404,
           136.864744
          ],
          [
           "Japan",
           "Godo Steel Ltd",
           700,
           35.697541,
           139.964104
          ],
          [
           "Japan",
           "Godo Steel Ltd",
           500,
           34.783057,
           134.669411
          ],
          [
           "Japan",
           "Godo Steel Ltd",
           500,
           34.693045,
           135.428537
          ],
          [
           "Japan",
           "JFE Bars & Shapes Corp",
           900,
           34.784113,
           134.658493
          ],
          [
           "Japan",
           "JFE Bars & Shapes Corp",
           720,
           35.882023,
           140.731707
          ],
          [
           "Japan",
           "JFE Bars & Shapes Corp",
           600,
           34.503883,
           133.710136
          ],
          [
           "Japan",
           "JFE Steel Corp",
           4615,
           35.580917,
           140.104196
          ],
          [
           "Japan",
           "JFE Steel Corp",
           852,
           38.265706,
           141.012963
          ],
          [
           "Japan",
           "JFE Steel Corp",
           13002,
           34.465222,
           133.431205
          ],
          [
           "Japan",
           "JFE Steel Corp",
           2000,
           34.501198,
           133.722123
          ],
          [
           "Japan",
           "Kishiwada Steel Co Ltd",
           500,
           34.477479,
           135.353918
          ],
          [
           "Japan",
           "Kobe Steel Ltd",
           4536,
           34.720268,
           134.826275
          ],
          [
           "Japan",
           "Kyoei Steel Ltd",
           805,
           34.816321,
           135.677444
          ],
          [
           "Japan",
           "Kyoei Steel Ltd",
           1265,
           35.065055,
           136.815384
          ],
          [
           "Japan",
           "Kyoei Steel Ltd",
           575,
           33.976513,
           131.173031
          ],
          [
           "Japan",
           "Nakayama Steel Products Co Ltd",
           600,
           34.699762,
           135.430119
          ],
          [
           "Japan",
           "Nakayama Steel Works Ltd",
           600,
           34.628162,
           135.459688
          ],
          [
           "Japan",
           "Nippon Steel Corp",
           3432,
           35.93437,
           140.681019
          ],
          [
           "Japan",
           "Nippon Steel Corp",
           10001,
           35.360912,
           139.881953
          ],
          [
           "Japan",
           "Nippon Steel Corp",
           3043,
           34.233519,
           135.135443
          ],
          [
           "Japan",
           "Nippon Steel Corp",
           9999,
           33.260829,
           131.645527
          ],
          [
           "Japan",
           "Nippon Steel Corp",
           6000,
           35.027575,
           136.870552
          ],
          [
           "Japan",
           "Sanyo Special Steel Co Ltd",
           1596,
           34.788074,
           134.672046
          ],
          [
           "Japan",
           "Nippon Steel Corp",
           720,
           34.786879,
           134.625301
          ],
          [
           "Japan",
           "Nippon Steel Stainless Steel Corp",
           500,
           33.964661,
           131.935403
          ],
          [
           "Japan",
           "Nippon Steel Stainless Steel Corp",
           866,
           34.059009,
           131.777221
          ],
          [
           "Japan",
           "Nippon Steel Corp",
           2200,
           42.341873,
           140.997803
          ],
          [
           "Japan",
           "Osaka Steel Co Ltd",
           3450,
           34.59822,
           135.45439
          ],
          [
           "Japan",
           "Tokyo Steel Manufacturing Co Ltd",
           678,
           33.881431,
           130.755978
          ],
          [
           "Japan",
           "Tokyo Steel Manufacturing Co Ltd",
           708,
           34.515062,
           133.745525
          ],
          [
           "Japan",
           "Tokyo Steel Manufacturing Co Ltd",
           2600,
           34.702012,
           137.249114
          ],
          [
           "Japan",
           "Tokyo Steel Manufacturing Co Ltd",
           800,
           36.540425,
           139.993079
          ],
          [
           "Japan",
           "Topy Industries Ltd",
           960,
           34.719644,
           137.322259
          ],
          [
           "Japan",
           "Yamato Steel Co Ltd",
           700,
           34.783319,
           134.604616
          ],
          [
           "Malaysia",
           "Alliance Steel (M) Sdn Bhd",
           3500,
           4.007595,
           103.344458
          ],
          [
           "Malaysia",
           "Ann Joo Integrated Steel Sdn Bhd",
           900,
           5.380391,
           100.377598
          ],
          [
           "Malaysia",
           "Ann Joo Steel Bhd",
           820,
           3.042585,
           101.537011
          ],
          [
           "Malaysia",
           "Eastern Steel Sdn Bhd",
           2700,
           4.285062,
           103.432551
          ],
          [
           "Malaysia",
           "Eden Flame Sdn Bhd",
           1050,
           1.451512,
           103.917306
          ],
          [
           "Malaysia",
           "Amsteel Mills Sdn Bhd",
           1250,
           2.806998,
           101.601053
          ],
          [
           "Malaysia",
           "Amsteel Mills Sdn Bhd",
           750,
           3.069682,
           101.456474
          ],
          [
           "Malaysia",
           "Malaysia Steel Works (KL) Bhd",
           800,
           3.077835,
           101.46448
          ],
          [
           "Malaysia",
           "Southern Steel Bhd",
           1400,
           5.399453,
           100.382177
          ],
          [
           "Myanmar",
           "Myanmar Economic Corp",
           200,
           21.377652,
           95.372079
          ],
          [
           "North Korea",
           "Government of North Korea",
           752,
           38.926348,
           125.582628
          ],
          [
           "North Korea",
           "Government of North Korea",
           2000,
           41.777936,
           129.792399
          ],
          [
           "North Korea",
           "Government of North Korea",
           1500,
           38.742224,
           125.616814
          ],
          [
           "North Korea",
           "Government of North Korea",
           6000,
           41.753784,
           129.752681
          ],
          [
           "Pakistan",
           "Agha Steel Industries Ltd",
           450,
           24.841851,
           67.310159
          ],
          [
           "Pakistan",
           "Amreli Steels Ltd",
           600,
           24.800326,
           67.504851
          ],
          [
           "Pakistan",
           "Faizan Steel",
           365,
           24.897652,
           66.985678
          ],
          [
           "Pakistan",
           "Ittehad Steels Pvt Ltd",
           400,
           31.643426,
           73.198542
          ],
          [
           "Pakistan",
           "Mughal Iron & Steel Industries Ltd",
           583,
           31.653035,
           74.183149
          ],
          [
           "Philippines",
           "SteelAsia Manufacturing Corp",
           500,
           13.922346,
           120.823796
          ],
          [
           "Philippines",
           "SteelAsia Manufacturing Corp",
           1000,
           10.45078,
           124.006424
          ],
          [
           "Singapore",
           "Tata Steel Ltd",
           720,
           1.306741,
           103.7003
          ],
          [
           "South Korea",
           "Daehan Steel Co Ltd",
           1000,
           35.099098,
           128.860339
          ],
          [
           "South Korea",
           "Dongkuk Steel Mill Co Ltd",
           2200,
           37.486465,
           126.638607
          ],
          [
           "South Korea",
           "Dongkuk Steel Mill Co Ltd",
           1400,
           36.00147,
           129.397609
          ],
          [
           "South Korea",
           "Hwanyoung Steel Industries Co Ltd",
           800,
           36.956486,
           126.616956
          ],
          [
           "South Korea",
           "Hyundai Steel Co",
           16200,
           36.986282,
           126.69735
          ],
          [
           "South Korea",
           "Hyundai Steel Co",
           4697,
           37.489678,
           126.637942
          ],
          [
           "South Korea",
           "Hyundai Steel Co",
           3400,
           36.004981,
           129.384829
          ],
          [
           "South Korea",
           "KG Steel Co Ltd",
           1000,
           37.482625,
           126.670175
          ],
          [
           "South Korea",
           "KISCO Corp",
           3000,
           35.216552,
           128.640158
          ],
          [
           "South Korea",
           "POSCO Holdings Inc",
           22999,
           34.920086,
           127.74865
          ],
          [
           "South Korea",
           "POSCO Holdings Inc",
           17701,
           36.00931,
           129.394508
          ],
          [
           "South Korea",
           "SeAH Besteel Holdings Corp",
           2101,
           35.968596,
           126.609524
          ],
          [
           "South Korea",
           "SeAH Changwon Integrated Special Steel Corp",
           1200,
           35.204191,
           128.604277
          ],
          [
           "South Korea",
           "SeAh Steel Holdings Corp",
           1200,
           35.991176,
           129.375791
          ],
          [
           "South Korea",
           "YK Steel Corp",
           930,
           35.083819,
           128.989034
          ],
          [
           "Taiwan",
           "China Steel Corp",
           10000,
           22.555442,
           120.349252
          ],
          [
           "Taiwan",
           "Dragon Steel Corp",
           6081,
           24.226897,
           120.493911
          ],
          [
           "Taiwan",
           "E-Top Metal Co Ltd",
           600,
           24.167872,
           120.505482
          ],
          [
           "Taiwan",
           "Feng Hsin Steel Co Ltd",
           1701,
           24.31287,
           120.712774
          ],
          [
           "Taiwan",
           "Hai Kwang Enterprise Corp",
           600,
           22.550634,
           120.365645
          ],
          [
           "Taiwan",
           "Shyeh Sheng Fuat Steel & Iron Works Co Ltd",
           720,
           22.559391,
           120.3656132
          ],
          [
           "Taiwan",
           "Tung Ho Steel Enterprise Corp",
           700,
           22.563095,
           120.362654
          ],
          [
           "Taiwan",
           "Tung Ho Steel Enterprise Corp",
           1200,
           24.568401,
           120.74062
          ],
          [
           "Taiwan",
           "Tung Ho Steel Enterprise Corp",
           1000,
           25.067119,
           121.141176
          ],
          [
           "Taiwan",
           "Yieh United Steel Corp",
           1000,
           22.830857,
           120.300604
          ],
          [
           "Thailand",
           "Bangkok Steel Industry PCL",
           600,
           13.647672,
           100.553882
          ],
          [
           "Thailand",
           "Chow Steel Industries PCL",
           730,
           14.074757,
           101.84215
          ],
          [
           "Thailand",
           "Millcon Steel PCL",
           800,
           12.819544,
           101.152954
          ],
          [
           "Thailand",
           "G Steel PCL",
           1800,
           12.793786,
           101.244592
          ],
          [
           "Thailand",
           "G J Steel PCL",
           1500,
           13.054668,
           101.078842
          ],
          [
           "Thailand",
           "Siam Yamato Steel Co Ltd",
           500,
           12.706642,
           101.111703
          ],
          [
           "Thailand",
           "Siam Yamato Steel Co Ltd",
           600,
           12.674898,
           101.147002
          ],
          [
           "Thailand",
           "Tata Steel (Thailand) PCL",
           800,
           13.052398,
           101.086795
          ],
          [
           "Thailand",
           "Tata Steel (Thailand) PCL",
           550,
           12.677582,
           101.149401
          ],
          [
           "Thailand",
           "TY Steel Co Ltd",
           600,
           12.857307,
           101.21314
          ],
          [
           "Thailand",
           "UMC Metals Ltd",
           805,
           13.275832,
           100.969791
          ],
          [
           "Vietnam",
           "Asean Steel JSC",
           500,
           12.59912,
           107.93922
          ],
          [
           "Vietnam",
           "Formosa Ha Tinh Steel Corp",
           7500,
           18.036333,
           106.428271
          ],
          [
           "Vietnam",
           "Hoa Phat Dung Quat Steel JSC",
           11600,
           15.37768,
           108.793321
          ],
          [
           "Vietnam",
           "Hoa Phat Hai Duong Steel JSC",
           2525,
           21.01536,
           106.536023
          ],
          [
           "Vietnam",
           "Lao Cai Cast Iron and Steel",
           500,
           22.306931,
           104.12992
          ],
          [
           "Vietnam",
           "Pomina Steel JSC",
           500,
           10.601568,
           107.045491
          ],
          [
           "Vietnam",
           "Pomina Steel JSC",
           1000,
           10.577042,
           107.040324
          ],
          [
           "Vietnam",
           "Posco Vietnam Co Ltd",
           1000,
           10.560316,
           107.02684
          ],
          [
           "Vietnam",
           "Shengli Vietnam Special Steel Co Ltd",
           800,
           20.652657,
           106.440208
          ],
          [
           "Vietnam",
           "Thai Nguyen Iron And Steel JSC",
           300,
           21.557484,
           105.8728
          ],
          [
           "Vietnam",
           "Tung Ho Steel Vietnam Corp Ltd",
           1000,
           10.551445,
           107.04368
          ],
          [
           "Vietnam",
           "Tuyen Quang Iron Steel Co Ltd",
           550,
           21.738739,
           105.247545
          ],
          [
           "Vietnam",
           "VAS Steel An Hung Tuong LLC",
           500,
           11.054204,
           106.615962
          ],
          [
           "Vietnam",
           "Nghi Son VAS Group JSC",
           3150,
           19.326924,
           105.777449
          ],
          [
           "Vietnam",
           "VAS Steel Tue Minh JSC",
           500,
           11.113343,
           106.831064
          ],
          [
           "Vietnam",
           "Viet Nhat Advanced Steel JSC",
           500,
           20.90553,
           106.628701
          ],
          [
           "Vietnam",
           "Vietnam - Italy Steel JSC",
           552,
           20.946428,
           106.025454
          ],
          [
           "Vietnam",
           "Vina Kyoei Steel Ltd Co",
           500,
           10.601423,
           107.040679
          ],
          [
           "Vietnam",
           "Vina One Steel Manufacturing Corp",
           1200,
           10.636835,
           106.517595
          ],
          [
           "Vietnam",
           "VNSTEEL Southern Steel Co Ltd",
           550,
           10.576597,
           107.028995
          ]
         ],
         "geo": "geo",
         "hovertemplate": "<b>%{hovertext}</b><br><br>Region=Asia Pacific<br>Nominal crude steel capacity (ttpa)=%{customdata[2]:.0f}<br>Country/Area=%{customdata[0]}<br>Owner=%{customdata[1]}<extra></extra>",
         "hovertext": [
          "BlueScope Port Kembla steel plant",
          "GFG Liberty Laverton Steel Mill",
          "GFG Liberty Sydney Steel Mill",
          "Abul Khair Steel Sitakunda plant",
          "BSRM Ltd Mirsarai plant",
          "BSRM Steels Mirsarai plant",
          "GPH Steel Sitakunda plant",
          "KSRM Sitakunda steel plant",
          "Angang Group Xinyang Iron and Steel Co Ltd",
          "Angang Lianzhong Stainless Steel Co Ltd",
          "Angang Steel Co Ltd",
          "Angang Steel Co Ltd Bayuquan branch",
          "Anhui Changjiang Steel Co Ltd",
          "Anhui Guihang Special Steel Co Ltd",
          "Anhui Jin an Stainless Steel Casting Co Ltd",
          "Anhui Langxi Hongtai Iron and Steel Co Ltd",
          "Anhui Lixin Special Steel Co Ltd",
          "Anhui Shoukuang Dachang Metal Material Co Ltd",
          "Anshan Baode Iron and Steel Co Ltd",
          "Ansteel Group Chaoyang Steel and Iron Co Ltd",
          "Anyang Iron and Steel Co Ltd",
          "Baoshan Iron and Steel Co Ltd Headquarters",
          "Baosteel Desheng Stainless Steel Co Ltd",
          "Baosteel Group Xinjiang Bayi Iron and Steel Co Ltd",
          "Baosteel Zhanjiang Iron and Steel Co Ltd",
          "Baowu Group Echeng Iron and Steel Co Ltd",
          "Bengang Steel Plates Co Ltd",
          "Benxi Beiying Iron and Steel Group Co Ltd Beitai Town",
          "Cangzhou China Railway Equipment Manufacture Material Co Ltd",
          "Changshu Longteng Special Steel Co Ltd",
          "Changzhi Xingbao Steel Co Ltd",
          "Changzhou Eastern Special Steel Co Ltd",
          "Chengde Iron and Steel Group Co Ltd",
          "Chengde Jianlong Special Steel Co Ltd",
          "Chengdu Changfeng Iron and Steel Group Co Ltd",
          "Chengyu Vanadium and Titanium Technology Co Ltd",
          "Chifeng Yuanlian Steel Co Ltd",
          "Chifeng Zhongtang Special Steel Co Ltd",
          "Chizhou Guichi Guihang Metal Products Co Ltd",
          "Chongqing Iron and Steel Co Ltd",
          "Chongqing Yonghang Steel Group Co Ltd",
          "Danyang Longjiang Steel Co Ltd",
          "Daye Special Steel Co Ltd",
          "Daye Xinye Special Steel Co Ltd",
          "Delong Steel Co Ltd",
          "Dongbei Special Steel Group Dalian Special Steel Co Ltd",
          "Fangda Special Steel Technology Co Ltd",
          "Fujian Dadonghai Industrial Group Co Ltd plant",
          "Fujian Dingsheng Iron and Steel Co Ltd",
          "Fujian Dingxin Industrial Co Ltd",
          "Fujian Fuxin Special Steel Co Ltd",
          "Fujian Longgang New Materials Co Ltd",
          "Fujian Luoyuan Minguang Iron and Steel Co Ltd",
          "Fujian Qingtuo New Material Co Ltd",
          "Fujian Sanbao Steel Co Ltd",
          "Fujian Tsingtuo Nickel Industry Co Ltd",
          "Fujian Wuhang Stainless Steel Products Co Ltd",
          "Fushun New Steel Co Ltd",
          "Fushun Special Steel Co Ltd",
          "Fuzhou Wuhang Steel Products Co Ltd",
          "Gansu Jiu Steel Group Hongxing Iron and Steel Co Ltd",
          "Guangdong Guangqing Metal Technology Co Ltd",
          "Guangdong Jingye Iron and Steel Co Ltd",
          "Guangdong Jinshenglan Metallurgical Technology Co Ltd",
          "Guangdong Nanfang Donghai Iron and Steel Co Ltd",
          "Guangdong Yuebei United Steel Co Ltd",
          "Guangshui Huaxin Metallurgical Industry Co Ltd",
          "Guangxi Beigang New Material Co Ltd",
          "Guangxi Chiji Iron and Steel Co Ltd",
          "Guangxi Guifeng Special Steel Co Ltd",
          "Guangxi Guigang Iron and Steel Group Co Ltd",
          "Guangxi Guigang Iron and Steel Group Guigang Guibao Special Steel Co Ltd",
          "Guangxi Guixin Iron and Steel Group Co Ltd",
          "Guangxi Guixin Steel Manufacturing Co Ltd",
          "Guangxi Hezhou Kexinda Metal Products Co Ltd",
          "Guangxi Iron and Steel Group Co Ltd",
          "Guangxi Shenglong Metallurgical Co Ltd",
          "Guangxi Wuzhou Jinhai Stainless Steel Co Ltd",
          "Guilin Pinggang Iron and Steel Co Ltd",
          "Guizhou Ganglian Industrial Group Co Ltd",
          "Guizhou Hexing Steel Co Ltd",
          "Guizhou United Iron and Steel Group Co Ltd",
          "Hangang Longshan Iron and Steel Co Ltd",
          "Hangda Steel Co Ltd",
          "Hbis Laoting Steel Co Ltd",
          "Hebei Anfeng Iron and Steel Co Ltd",
          "Hebei Donghai Special Steel Co Ltd",
          "Hebei Huaxi Special Steel Co Ltd",
          "Hebei Huaxin Special Steel Co Ltd",
          "Hebei Jinxi Iron and Steel Group Co Ltd",
          "Hebei Puyang Iron and Steel Co Ltd",
          "Hebei Rongxin Steel Co Ltd",
          "Hebei Taihang Iron and Steel Group Co Ltd",
          "Hebei Tangyin Iron and Steel Co Ltd Caofeidian base",
          "Hebei Tianzhu Iron and Steel Group Co Ltd",
          "Hebei Xinda Iron and Steel Group Co Ltd",
          "Hebei Xinjin Iron and Steel Co Ltd",
          "Hebei Xinwuan Iron and Steel Group Xinhui Metallurgy Co Ltd",
          "Hebei Xinxing Ductile Iron Pipes Co Ltd",
          "Hebei Yanshan Iron and Steel Group Co Ltd",
          "Hebei Yongyang Special Steel Group Co Ltd",
          "Hebei Zhangxuan High Tech Co Ltd",
          "Hebei Zongheng Group Fengnan Iron and Steel Co Ltd",
          "Heilongjiang Jianlong Iron and Steel Co Ltd",
          "Henan Angang Zhoukou Iron and Steel Co Ltd",
          "Henan Jinhui Industrial Group",
          "Henan Jiyuan Iron and Steel Group Co Ltd",
          "Henan Yaxin Iron and Steel Group Co Ltd",
          "Hengyang Valin Steel Tube Co Ltd",
          "Heping Yueshen Steel Industry Co Ltd",
          "Heyuan Derun Steel Co Ltd LanTang Industrial Park",
          "Hezhou Xindu Sanyuan Casting Co Ltd",
          "Houying Group Haicheng Iron and Steel Co Ltd Datun Branch",
          "Huainan Hongtai Iron and Steel Co Ltd",
          "Hubei Jinshenglan Metallurgical Technology Co Ltd",
          "Hubei Lijin Steel Group Co Ltd",
          "Hubei Shunle Steel Co Ltd plant",
          "Hunan Valin Lianyuan Iron and Steel Co Ltd",
          "Hunan Valin Xiangtan Iron and Steel Co Ltd",
          "Inner Mongolia BaoTou Steel Union Co Ltd",
          "Inner Mongolia Desheng Metal Products Co Ltd",
          "Inner Mongolia Yaxin Longshun Special Steel Co Ltd",
          "Jianglong Acheng Iron and Steel Co Ltd",
          "Jiangsu Binxin Steel Group Co Ltd",
          "Jiangsu Changqiang Iron and Steel Co Ltd",
          "Jiangsu Delong Nickel Industry Co Ltd",
          "Jiangsu Hongtai Iron and Steel Co Ltd",
          "Jiangsu Shagang Group Huaigang Special Steel Co Ltd",
          "Jiangsu Xugang Iron and Steel Group Co Ltd",
          "Jiangxi Taixin Iron and Steel Co Ltd",
          "Jiangyin Huaxi Iron and Steel Co Ltd",
          "Jiangyin Xicheng Steel Co Ltd",
          "Jiangyin Xingcheng Special Steel Works Co Ltd",
          "Jianlong Beiman Special Steel Co Ltd",
          "Jianlong Xilin Iron and Steel Co Ltd",
          "Jilin Jianlong Steel Co Ltd",
          "Jilin Jingang Iron and Steel Co Ltd",
          "Jinan Iron and Steel Group Co Ltd",
          "Jincheng Fusheng Iron and Steel Co Ltd",
          "Jinding Heavy Industry Co Ltd",
          "Jingye Iron and Steel Co Ltd",
          "Jingzhou Qunli Metal Products Co Ltd",
          "Jinye Iron and Steel Group Co Ltd",
          "Jiugang Group Yuzhong Iron and Steel Co Ltd",
          "Jiujiang Pinggang Iron and Steel Co Ltd",
          "Laiwu Iron and Steel Group Yinshan Section Steel Co Ltd",
          "Lanxin Steel Group Co Ltd plant",
          "Lengshuijiang Steel Co Ltd",
          "Lianfeng Steel Zhangjiagang Co Ltd",
          "Lianyungang Huale Alloy Group Co Ltd",
          "Lianyungang Xingxin Iron and Steel Co Ltd",
          "Lianyungang Yaxin Iron and Steel Co Ltd",
          "Liaoyang United Steel Co Ltd",
          "Liaoyang Xinyi Special Steel Co Ltd",
          "Licheng Taihang Iron and Steel Co Ltd",
          "Lingyuan Iron and Steel Co Ltd",
          "Linyi Iron and Steel Investment Group Co Ltd",
          "Lishui Huahong Iron and Steel Products Co Ltd",
          "Liuzhou Iron and Steel Co Ltd Liuzhou Base",
          "Liyang Baorun Steel Co Ltd",
          "Luzhou Xinyang Vanadium Titanium Steel Co Ltd",
          "Lvliang Jianlong Industrial Co Ltd",
          "Maanshan Iron and Steel Co Ltd",
          "Nanjing Iron and Steel Co Ltd",
          "Nanyang Hanye Special Steel Co Ltd",
          "Ningbo Haoyang New Materials Techonology Co Ltd",
          "Ningbo Iron and Steel Co Ltd",
          "Ningxia Iron and Steel Group Co Ltd",
          "Ningxia Jianlong Special Steel Co Ltd",
          "Pangang Group Jiangyou Changcheng Special Steel Co Ltd",
          "Pangang Group Panzhihua Steel Vanadium Co Ltd",
          "Pangang Group Xichang Steel and Vanadium Co Ltd",
          "Panshi Jianlong Iron and Steel Co Ltd",
          "Pingxiang Pinggang Anyuan Iron and Steel Co Ltd",
          "Posco Zhangjiagang Stainless Steel Co Ltd",
          "Qian an Jiujiang Wire Co Ltd",
          "Qian an Zhayi Steel Group Co Ltd",
          "Qingdao Special Iron and Steel Co Ltd",
          "Qinhuangdao Baigong Steel Co Ltd",
          "Qinhuangdao Hongxing Iron and Steel Co Ltd",
          "Rizhao Steel Holding Group Co Ltd",
          "Rizhao Steel Yingkou Medium Plate Co Ltd",
          "Sansteel Minguang Co Ltd Fujian plant",
          "SGIS Songshan Co Ltd",
          "Shaanxi Hanzhong Iron & Steel Group Company",
          "Shaanxi Huaxin Special Steel Group Co Ltd",
          "Shaanxi Longmen Steel Co Ltd",
          "Shaanxi Steel Group Hanzhong Iron and Steel Co Ltd",
          "Shagang Group Anyang Yongxing Special Steel Co Ltd",
          "Shandong Fulun Iron and Steel Co Ltd",
          "Shandong Iron and Steel Co Ltd Laiwu Branch Aishan Street",
          "Shandong Iron and Steel Group Rizhao Co Ltd",
          "Shandong Iron and Steel Group Yongfeng Lingang Co Ltd",
          "Shandong Luli Steel Co Ltd",
          "Shandong Shouguang Juneng Special Steel Co Ltd",
          "Shanghai Meishan Iron and Steel Co Ltd",
          "Shanxi Gaoyi Steel Co Ltd",
          "Shanxi Hongda Iron and Steel Group Co Ltd",
          "Shanxi Huaxinyuan Steel and Iron Group Co Ltd",
          "Shanxi Jianlong Industrial Co Ltd",
          "Shanxi Jinnan Iron and Steel Group Co Ltd",
          "Shanxi Meijin Iron and Steel Co Ltd Dongyu Town",
          "Shanxi Taigang Stainless Steel Co Ltd",
          "Shanxi Tongcai Industry and Trade Co Ltd",
          "Shanxi Tongde Xinghua Special Steel Co Ltd",
          "Shanxi Xintai Iron and Steel Co Ltd",
          "Shanxi Zhongyang Iron and Steel Co Ltd",
          "Shiheng Special Steel Group Co Ltd",
          "Shijiazhuang Iron and Steel Co Ltd Special Steel Branch",
          "Shiyan Yunyang District Rongfeng Iron and Steel Co Ltd",
          "Shougang Changzhi Iron and Steel Co Ltd",
          "Shougang Guiyang Special Steel Co Ltd",
          "Shougang Jingtang United Iron and Steel Co Ltd",
          "Shougang Qian an Iron and Steel Co Ltd",
          "Shougang Shuicheng Iron and Steel Group Co Ltd",
          "Sichuan Desheng Group Vanadium and Titanium Co Ltd",
          "Sichuan Gangchen Stainless Steel Co Ltd",
          "Sichuan Shehong Chuanzhong Construction Materials Co Ltd",
          "Sichuan Shengquan Iron and Steel Group Co Ltd",
          "Sichuan Yaan Anshan Iron and Steel Co Ltd",
          "Tangshan Donghai Iron and Steel Group Co Ltd",
          "Tangshan Donghua Iron and Steel Enterprise Group Co Ltd",
          "Tangshan Fengnan District Jing an Iron and Steel Co Ltd",
          "Tangshan Ganglu Iron and Steel Co Ltd",
          "Tangshan Guotang Steel Co Ltd",
          "Tangshan Medium Thick Plate Co Ltd",
          "Tangshan Ruifeng Iron and Steel Group Co Ltd",
          "Tangshan Songting Iron and Steel Co Ltd",
          "Tangshan Wenfeng Special Steel Co Ltd",
          "Tangshan Xinglong Iron and Steel Co Ltd",
          "Tangshan Yutian Jinzhou Industrial Co Ltd",
          "Tangshan Zhengfeng Steel Co Ltd",
          "Tianjin Iron and Steel Group Co Ltd",
          "Tianjin Iron Plant",
          "Tianjin New Tiangang United Special Steel Co Ltd",
          "Tianjin Pipe Corporation",
          "Tianjin Rockcheck Steel Group Co Ltd",
          "Tonghua Iron and Steel Co Ltd",
          "Tongling Fuxin Iron and Steel Co Ltd",
          "Tongling Xuanli Special Steel Co Ltd",
          "Weifang Special Steel Group Co Ltd",
          "Wuhai Baogang Wanteng Iron and Steel Co Ltd",
          "Wuhan Iron and Steel Co Ltd",
          "Wuhan Shunle Stainless Steel Co Ltd",
          "Wuhu Fuxin Iron and Steel Co Ltd",
          "Wuhu Xinxing Ductile Iron Pipes Co Ltd",
          "Wulanhot Steel Co Ltd",
          "Wuyang Iron and Steel Co Ltd",
          "Wuzhou Yongda Special Steel Co Ltd",
          "Xiangfen County Xinjinshan Special Steel Co Ltd",
          "Xining Special Steel Co Ltd",
          "Xinji Aosen Iron and Steel Group Co Ltd",
          "Xinjiang Daan Special Steel Co Ltd",
          "Xinjiang Ka Steel Group Co",
          "Xinjiang Kingtec Steel Co Ltd",
          "Xinjiang Minxin Iron and Steel Group Minhang Special Steel Co Ltd",
          "Xinjiang Tianshan Iron and Steel Bazhou Co Ltd",
          "Xinjiang Xinan Special Steel Co Ltd",
          "Xinjiang Yili Iron and Steel Co Ltd",
          "Xinyu Iron and Steel Group Co Ltd",
          "Yancheng Lianxin Iron and Steel Co Ltd",
          "Yangchun New Steel Co Ltd",
          "Yangzhou Hengrun Ocean Heavy Industry Co Ltd",
          "Yangzhou Qinyou Special Metal Materials Co Ltd",
          "Yantai Walsin Stainless Steel Co Ltd",
          "Yunnan Qujing Iron and Steel Group Chenggang Iron and Steel Co Ltd",
          "Yunnan Qujing Iron and Steel Group Fenghuang Steel Co Ltd",
          "Yunnan Tiangao Nickel Alloy Co Ltd",
          "Yunnan Yuxi Iron and Steel Group Yukun Iron and Steel Co Ltd",
          "Yunnan Yuxi Xianfu Iron and Steel Group Co Ltd",
          "Zenith Steel Group Co Ltd",
          "Zenith Steel Group Nantong Co Ltd",
          "Zhangjiagang Hongchang Steel Co Ltd",
          "Zhangjiagang Rongsheng Special Steel Co Ltd",
          "Zhejiang Tsingshan Iron and Steel Co Ltd",
          "Zhejiang Wantai Special Steel Co Ltd",
          "Zhongpu Handan Iron and Steel Co Ltd",
          "Zhongxin Iron and Steel Group Co Ltd",
          "Zhongye Dongfang Jiangsu Heavy Industry Co Ltd",
          "Zhuhai Yueyufeng Iron and Steel Co Ltd",
          "Action Ispat and Power Jharsuguda steel plant",
          "Adhunik Metaliks Kuanrmunda steel plant",
          "ArcelorMittal Nippon Steel Hazira Plant",
          "Arjas Steel Tadipatri plant",
          "BMM Ispat Danapur steel plant",
          "Crest Steel and Power Mangatta Steel Plant",
          "Electrosteel Bokaro steel plant",
          "Evonith Value Steel Wardha Steel Plant",
          "Gallantt Ispat Gorakhpur steel plant",
          "Godawari Power and Ispat Siltara steel plant",
          "Hospet Steels Hospet plant",
          "Jai Balaji Durgapur Unit IV steel plant",
          "Jai Balaji Jyoti Steels Sundargarh plant",
          "Jayaswal Neco Industries Raipur steel plant",
          "Jindal Stainless Hisar steel plant",
          "Jindal Stainless Jajpur steel plant",
          "JSPL Angul steel plant",
          "JSPL Raigarh steel plant",
          "JSW BPSL Jharsuguda steel plant",
          "JSW Steel Dolvi steel plant",
          "JSW Steel Raigarh steel plant",
          "JSW Steel Salem steel plant",
          "JSW Steel Vijayanagar steel plant",
          "JSW Vijayanagar Metallics steel plant",
          "Mesco Steel Kalinganagar plant",
          "Mono Steel Gandhidham plant",
          "MSP Steel & Power Raigarh plant",
          "N R Ispat and Power Raigarh steel plant",
          "Neelachal Ispat Nigam steel plant",
          "Nilachal Iron & Power Gamharia Steel Plant",
          "NMDC Nagarnar steel plant",
          "Orissa Alloy Steel Kharagpur Plant",
          "Orissa Metaliks Kharagpur Steel Plant",
          "Orissa Metaliks Markuta steel plant",
          "Orissa Sponge Iron and Steel plant",
          "Prakash Industries Janjgir steel plant",
          "Rashmi Metaliks Kharagpur steel plant",
          "RINL Vizag Steel plant",
          "Rungta Mines Chaliyama steel plant",
          "Rungta Mines Dhenkanal steel plant",
          "Rungta Mines Kamanda steel plant",
          "Rungta Mines Karakhendra Steel Plant",
          "SAIL Alloy Steel Plant",
          "SAIL Bhilai steel plant",
          "SAIL Bokaro steel plant",
          "SAIL Durgapur steel plant",
          "SAIL IISCO steel plant",
          "SAIL Rourkela steel plant",
          "Shakambhari Ispat and Power Purulia Steel Plant",
          "Shri Bajrang Power & Ispat Tilda Steel Plant",
          "Shyam Metalics Jamuria Steel Plant",
          "Shyam Metalics Sambalpur Steel Plant",
          "Shyam Steel Mejia Steel Plant",
          "Shyam Steel Raghunathpur Steel Plant",
          "Sunflag Iron and Steel plant",
          "Tata Steel BSL Meramandali steel plant",
          "Tata Steel Jamshedpur steel plant",
          "Tata Steel Kalinganagar steel plant",
          "Tata Steel Long Products Gamharia steel plant",
          "Welspun Metallics Anjar Steel plant",
          "Yazdani Steel and Power Kalinganagar steel plant",
          "CNR Mandan Steel South Kalimantan plant",
          "Dexin Steel Morowali plant",
          "Gunung Raja Paksi West Java steel plant",
          "Jakarta Prima Steel Industries plant",
          "Krakatau Steel Cilegon plant",
          "KS Posco Cilegon steel plant",
          "Master Steel Jakarta Steel plant",
          "PT Ispat Indo steel plant",
          "Aichi Steel Chita Plant (Tokai)",
          "Chubu Steel Plate Nagoya plant",
          "Daido Steel Chita plant (Tokai)",
          "Godo Steel Funabashi Works",
          "Godo Steel Himeji Works",
          "Godo Steel Osaka Works",
          "JFE Bars & Shapes Himeji Works steel plant",
          "JFE Bars & Shapes Kashima Works steel plant",
          "JFE Bars & Shapes Mizushima Works steel plant",
          "JFE East Japan Works (Chiba) steel plant",
          "JFE Sendai Works steel plant",
          "JFE West Japan Works (Fukuyama) steel plant",
          "JFE West Japan Works (Kurashiki) steel plant",
          "Kishiwada Steel Osaka Steel Plant",
          "Kobe Kakogawa Works steel plant",
          "Kyoei Steel Hirakata Division (Osaka)",
          "Kyoei Steel Nagoya Division (Tokai)",
          "Kyoei Steel Yamaguchi Division (Yamaguchi)",
          "Nakayama Steel Products Osaka plant",
          "Nakayama Steel Works Osaka",
          "Nippon East Japan Works (Kashima) steel plant",
          "Nippon East Japan Works (Kimitsu) steel plant",
          "Nippon Kansai Works (Wakayama Area, Wakayama) steel plant",
          "Nippon Kyushu Works (Oita Area, Oita) steel plant",
          "Nippon Nagoya steel plant",
          "Nippon Sanyo Special Steel",
          "Nippon Setouchi Works (Hirohata Area) steel plant",
          "Nippon Stainless Steel Yamaguchi Works (Hikari Area) steel plant",
          "Nippon Stainless Steel Yamaguchi Works (Shunan Area) steel plant",
          "North Nippon Muroran Works steel plant",
          "Osaka Steel Sakai Works",
          "Tokyo Steel Kyushu plant",
          "Tokyo Steel Okayama plant",
          "Tokyo Steel Tahara plant",
          "Tokyo Steel Utsunomiya plant",
          "Topy Industries Toyohashi steel plant",
          "Yamato Steel Himeji Plant",
          "Alliance Steel Kuantan plant",
          "Ann Joo Integrated Steel Penang plant",
          "Ann Joo Steel Selangor plant",
          "Eastern Steel Kemaman plant",
          "Eden Flame Johor steel plant",
          "Lion Industries Amsteel Banting steel plant",
          "Lion Industries Amsteel Klang steel plant",
          "Malaysia Steel Works Klang",
          "Southern Steel Prai Penang plant",
          "Myingyan Myanmar Steel Plant",
          "Ch'ollima Steel Complex steel plant",
          "Ch'ŏngjin Ironworks steel plant",
          "Hwanghae Iron and Steel Complex steel plant",
          "Kim Chaek Iron and Steel Complex steel plant",
          "Agha Steel Industries Karachi plant",
          "Amreli Steels Dhabeji plant",
          "Faizan Steel Karachi steel plant",
          "Ittehad Steel Faisalabad plant",
          "Mughal Iron & Steel Industries Lahore plant",
          "SteelAsia Calaca plant",
          "SteelAsia Compostela steel plant",
          "Natsteel Singapore plant",
          "DaehanSteel Noksan Steel Plant",
          "Dongkuk Steel Incheon steel plant",
          "Dongkuk Steel Pohang steel plant",
          "Hansco Hwanyoung Steel Dangjin plant",
          "Hyundai Steel Dangjin steel plant",
          "Hyundai Steel Incheon steel plant",
          "Hyundai Steel Pohang steel plant",
          "KG Steel Incheon steel plant",
          "KISCO steel Changwon plant",
          "POSCO Gwangyang steel plant",
          "POSCO Pohang steel plant",
          "SeAH Besteel Gunsan steel plant",
          "SeAH Changwon Integrated Special Steel plant",
          "SeAH Steel Pohang plant",
          "YK Steel Busan plant",
          "China Steel Corporation Xiaogang plant",
          "China Steel Dragon Steel Taichung plant",
          "E Top Metal Changhua plant",
          "Feng Hsin Steel Taichung plant",
          "Hai Kwang Enterprise Corporation",
          "Shyeh Sheng Fuat Steel Kaohsiung plant",
          "Tung Ho Steel Kaohsiung Plant",
          "Tung Ho Steel Miaoli Plant",
          "Tung Ho Steel Taoyuan Plant",
          "Yieh United Steel Kaohsiung plant",
          "Bangkok Steel Industry Samut Prakan plant",
          "Chow Steel Kabinburi Steel Plant",
          "Millcon Steel Rayong plant",
          "Nippon G Steel plant",
          "Nippon GJS steel plant",
          "Siam Yamato Steel Huai Pong plant",
          "Siam Yamato Steel Map Ta Phut plant",
          "Tata Steel Manufacturing NTS Plant",
          "Tata Steel Manufacturing SCSC Plant",
          "TY Steel Rayong Steel Plant",
          "UMC Metals Chon Buri plant",
          "ASEAN Steel Hoa Phu steel plant",
          "Formosa Ha Tinh Steel plant",
          "Hoa Phat Dung Quat steel plant",
          "Hoa Phat Hai Duong Steel plant",
          "Lao Cai Cast Iron and Steel Plant",
          "Pomina Steel 2 Phu My plant",
          "Pomina Steel 3 Phu My plant",
          "POSCO Vietnam Phu My steel plant",
          "Shengli Vietnam Special Steel An Bai steel plant",
          "Thai Nguyen Iron and Steel plant",
          "Tung Ho Steel Phu My plant",
          "Tuyen Quang Iron and Steel Long Binh steel plant",
          "VAS An Hung Tuong Steel Binh Duong plant",
          "VAS Nghi Son Cast Iron and Steel plant",
          "VAS Tue Minh Steel Binh Duong plant",
          "Viet Nhat VJS Nam Cau Kien steel plant",
          "Vietnam Italy Steel Pho Noi steel plant",
          "Vina Kyoei Steel Phu My plant",
          "Vina One Steel Ben Luc steel plant",
          "VNSteel Southern Steel Company plant"
         ],
         "lat": {
          "bdata": "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",
          "dtype": "f8"
         },
         "legendgroup": "Asia Pacific",
         "lon": {
          "bdata": "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",
          "dtype": "f8"
         },
         "marker": {
          "color": "#00cc96",
          "size": {
           "bdata": "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",
           "dtype": "f8"
          },
          "sizemode": "area",
          "sizeref": 102.21777777777778,
          "symbol": "circle"
         },
         "mode": "markers",
         "name": "Asia Pacific",
         "showlegend": true,
         "type": "scattergeo"
        },
        {
         "customdata": [
          [
           "Austria",
           "Voestalpine Stahl Donawitz GmbH",
           720,
           47.380455,
           15.065182
          ],
          [
           "Austria",
           "Voestalpine Stahl GmbH",
           4000,
           48.274023,
           14.33434
          ],
          [
           "Belarus",
           "BMZ-Upravlyayushchaya Kompaniya Kholdinga BMK JSC",
           3000,
           52.849321,
           29.988985
          ],
          [
           "Belgium",
           "Aperam Stainless Belgium NV",
           1000,
           50.414998,
           4.532443
          ],
          [
           "Belgium",
           "Aperam Stainless Belgium NV",
           1200,
           50.933973,
           5.511494
          ],
          [
           "Belgium",
           "ArcelorMittal SA",
           2500,
           51.169929,
           3.804462
          ],
          [
           "Belgium",
           "Thy-Marcinelle SA",
           800,
           50.410335,
           4.429693
          ],
          [
           "Bosnia and Herzegovina",
           "Pavgord doo",
           1940,
           44.224446,
           17.899815
          ],
          [
           "Bulgaria",
           "Stomana Industry AD",
           1400,
           42.595629,
           23.093095
          ],
          [
           "Czech Republic",
           "TRINECKÉ ZELEZÁRNY AS",
           1500,
           49.689053,
           18.654557
          ],
          [
           "Finland",
           "Outokumpu Stainless AB",
           1200,
           65.767115,
           24.176472
          ],
          [
           "Finland",
           "Ovako AB",
           575,
           61.149466,
           28.798774
          ],
          [
           "France",
           "ArcelorMittal Atlantique et Lorraine SAS",
           6750,
           51.041274,
           2.292948
          ],
          [
           "France",
           "ArcelorMittal Méditerranée SAS",
           2550,
           43.43283,
           4.887166
          ],
          [
           "France",
           "Ascometal France Holding SAS",
           825,
           49.241492,
           6.152631
          ],
          [
           "France",
           "Celsa France SAS",
           1200,
           43.529693,
           -1.500971
          ],
          [
           "France",
           "Lamines Marchands Europeens SA",
           820,
           50.3292,
           3.490913
          ],
          [
           "France",
           "ALPA - Aciéries et Laminoirs de Paris SAS",
           700,
           48.983515,
           1.76245
          ],
          [
           "France",
           "Iton Seine SAS",
           550,
           49.033678,
           1.561022
          ],
          [
           "France",
           "Sam Montereau SAS",
           720,
           48.387211,
           2.981091
          ],
          [
           "France",
           "Societe des Aciers d'Armature pour le Beton SAS",
           850,
           48.611482,
           6.111864
          ],
          [
           "France",
           "Saarstahl AG",
           730,
           50.398171,
           3.561712
          ],
          [
           "Germany",
           "ArcelorMittal Bremen GmbH",
           2000,
           53.133305,
           8.688193
          ],
          [
           "Germany",
           "ArcelorMittal Eisenhüttenstadt GmbH",
           1200,
           52.168649,
           14.623473
          ],
          [
           "Germany",
           "ArcelorMittal Hamburg GmbH",
           1100,
           53.522601,
           9.900749
          ],
          [
           "Germany",
           "Benteler Steel/Tube GmbH",
           650,
           52.467622,
           7.317169
          ],
          [
           "Germany",
           "Stahlwerk Thueringen GmbH",
           1100,
           50.654574,
           11.43745
          ],
          [
           "Germany",
           "Deutsche Edelstahlwerke GmbH",
           600,
           50.922844,
           8.024006
          ],
          [
           "Germany",
           "ESF Elbe-Stahlwerke Feralpi GmbH",
           1400,
           51.3128,
           13.280386
          ],
          [
           "Germany",
           "Georgsmarienhuette GmbH",
           650,
           52.2122334,
           8.0420724
          ],
          [
           "Germany",
           "Badische Stahlwerke GmbH",
           2500,
           48.595058,
           7.821633
          ],
          [
           "Germany",
           "Lech Stahlwerke GmbH",
           1400,
           48.512051,
           10.855292
          ],
          [
           "Germany",
           "BES Brandenburger Elektrostahlwerke GmbH",
           1800,
           52.402617,
           12.496135
          ],
          [
           "Germany",
           "HES Hennigsdorfer Elektrostahlwerke GmbH",
           1000,
           52.650903,
           13.212683
          ],
          [
           "Germany",
           "Peiner Traeger GmbH",
           1000,
           52.313935,
           10.258482
          ],
          [
           "Greece",
           "Hellenic Halyvourgia SA",
           700,
           39.38588,
           22.80745
          ],
          [
           "Greece",
           "Sidenor Steel Industry SA",
           800,
           40.704458,
           22.816542
          ],
          [
           "Greece",
           "Sovel SA",
           1350,
           39.169632,
           22.840216
          ],
          [
           "Italy",
           "Acciaierie d'italia SpA",
           7800,
           40.508993,
           17.207589
          ],
          [
           "Italy",
           "Acciaierie Venete SpA",
           600,
           46.049182,
           11.440394
          ],
          [
           "Italy",
           "Acciaierie Venete SpA",
           600,
           45.419168,
           11.906625
          ],
          [
           "Italy",
           "Acciaierie Venete SpA",
           540,
           45.648691,
           10.209114
          ],
          [
           "Italy",
           "AFV Acciaierie Beltrame SpA",
           1200,
           45.522097,
           11.499295
          ],
          [
           "Italy",
           "Alfa Acciai SpA",
           2000,
           45.508698,
           10.248464
          ],
          [
           "Italy",
           "Acciaierie di Sicilia SpA",
           500,
           37.438448,
           15.03287
          ],
          [
           "Italy",
           "Acciaierie Bertoli Safau SpA",
           1100,
           46.008483,
           13.255117
          ],
          [
           "Italy",
           "Duferco Travi e Profilati SpA",
           950,
           45.478363,
           10.209234
          ],
          [
           "Italy",
           "Acciaierie di Calvisano SpA",
           600,
           45.371651,
           10.331967
          ],
          [
           "Italy",
           "Feralpi Siderurgica SpA",
           1216,
           45.460582,
           10.456748
          ],
          [
           "Italy",
           "Ferriera Valsabbia SpA",
           900,
           45.642905,
           10.380199
          ],
          [
           "Italy",
           "Acciai Speciali Terni SpA",
           1450,
           42.564752,
           12.66936
          ],
          [
           "Italy",
           "Acciaieria Arvedi SpA",
           4300,
           45.145949,
           9.950821
          ],
          [
           "Italy",
           "Industrie Riunite Odolesi IRO SpA",
           600,
           45.645688,
           10.374305
          ],
          [
           "Italy",
           "ORI Martin - Acciaieria e Ferriera di Brescia SpA",
           650,
           45.566054,
           10.2147
          ],
          [
           "Italy",
           "Acciaierie di Verona SpA",
           1250,
           45.42882,
           11.000861
          ],
          [
           "Italy",
           "Ferriere Nord SpA",
           2200,
           46.232199,
           13.079104
          ],
          [
           "Italy",
           "Siderpotenza SpA",
           700,
           40.639356,
           15.827842
          ],
          [
           "Italy",
           "Riva Acciaio SpA",
           780,
           45.598187,
           9.035447
          ],
          [
           "Italy",
           "Riva Acciaio SpA",
           600,
           44.388023,
           7.944998
          ],
          [
           "Italy",
           "Dalmine SpA",
           700,
           45.641516,
           9.600242
          ],
          [
           "Luxembourg",
           "ArcelorMittal SA",
           1350,
           49.527966,
           5.900398
          ],
          [
           "Moldova",
           "Moldova Steel Works JSC",
           1000,
           47.783771,
           29.02835
          ],
          [
           "North Macedonia",
           "Makstil AD",
           550,
           42.016228,
           21.46605
          ],
          [
           "Norway",
           "Sev.en Global Investments AS",
           770,
           66.311519,
           14.167557
          ],
          [
           "Poland",
           "ArcelorMittal Poland SA",
           5001,
           50.342417,
           19.285037
          ],
          [
           "Poland",
           "Arcelormittal Warszawa SP zoo",
           750,
           52.291337,
           20.917302
          ],
          [
           "Poland",
           "Celsa Huta Ostrowiec SP zoo",
           900,
           50.947305,
           21.448763
          ],
          [
           "Poland",
           "CMC Poland SP zoo",
           1700,
           50.487463,
           19.456759
          ],
          [
           "Poland",
           "Ferrostal Labedy SP zoo",
           500,
           50.357438,
           18.610739
          ],
          [
           "Poland",
           "Liberty Steel Group",
           840,
           50.782614,
           19.165566
          ],
          [
           "Portugal",
           "SN MAIA Siderurgia Nacional SA",
           600,
           41.255085,
           -8.555285
          ],
          [
           "Portugal",
           "SN SEIXAL Siderurgia Nacional SA",
           1100,
           38.616023,
           -9.068527
          ],
          [
           "Romania",
           "ArcelorMittal Hunedoara SA",
           800,
           45.735183,
           22.91627
          ],
          [
           "Romania",
           "GLGH Steel",
           500,
           45.293492,
           21.90241
          ],
          [
           "Romania",
           "S.C. Silcotub SA",
           535,
           44.217275,
           27.29968
          ],
          [
           "Serbia",
           "HBIS Group Serbia Iron & Steel Beograd doo",
           2199,
           44.606332,
           20.970066
          ],
          [
           "Serbia",
           "Metalfer Steel Mill Sremska Mitrovica doo",
           500,
           44.977213,
           19.64601
          ],
          [
           "Slovakia",
           "US Steel Košice sro",
           4500,
           48.612001,
           21.191401
          ],
          [
           "Slovenia",
           "SIJ Acroni doo",
           726,
           46.423994,
           14.094645
          ],
          [
           "Spain",
           "Acerinox Europa SAU",
           1200,
           36.181686,
           -5.426626
          ],
          [
           "Spain",
           "ArcelorMittal España SA",
           4200,
           43.554741,
           -5.87259
          ],
          [
           "Spain",
           "ArcelorMittal España SA",
           1200,
           43.525092,
           -5.731926
          ],
          [
           "Spain",
           "Arcelormittal Olaberria-Bergara SL",
           1450,
           43.03829,
           -2.219625
          ],
          [
           "Spain",
           "Arcelormittal Sestao SL",
           2000,
           43.313144,
           -2.998964
          ],
          [
           "Spain",
           "Compania Espanola de Laminacion SL",
           2500,
           41.454855,
           1.980107
          ],
          [
           "Spain",
           "Global Steel Wire SA",
           750,
           43.445344,
           -3.839228
          ],
          [
           "Spain",
           "Nervacero SA",
           1000,
           43.30806,
           -3.026309
          ],
          [
           "Spain",
           "Corrugados Getafe SL",
           600,
           40.310803,
           -3.703568
          ],
          [
           "Spain",
           "AG Siderurgica Balboa SA",
           1300,
           38.326405,
           -6.767326
          ],
          [
           "Spain",
           "Megasa Siderurgica SL",
           700,
           43.51421,
           -8.163839
          ],
          [
           "Spain",
           "Megasider Zaragoza SA",
           500,
           41.56988,
           -0.856566
          ],
          [
           "Spain",
           "Siderurgica Sevillana SA",
           1300,
           37.362968,
           -5.886865
          ],
          [
           "Spain",
           "Sidenor Aceros Especiales SLU",
           740,
           43.227282,
           -2.884676
          ],
          [
           "Sweden",
           "Outokumpu Stainless AB",
           500,
           60.148821,
           16.172808
          ],
          [
           "Sweden",
           "Ovako AB",
           500,
           60.548682,
           16.302815
          ],
          [
           "Sweden",
           "SSAB AB",
           13,
           65.559719,
           22.219699
          ],
          [
           "Switzerland",
           "Stahl Gerlafingen AG",
           720,
           47.171958,
           7.562287
          ],
          [
           "Switzerland",
           "Swiss Steel Holding AG",
           650,
           47.308055,
           7.873594
          ],
          [
           "Türkiye",
           "ABA Çelik Demir LŞ",
           1100,
           36.747413,
           36.21733
          ],
          [
           "Türkiye",
           "Asil Celik Sanayi ve Ticaret AŞ",
           730,
           40.42752,
           29.270141
          ],
          [
           "Türkiye",
           "Çebitaş Demir Çelik Endüstrisi AŞ",
           860,
           38.74074,
           26.951743
          ],
          [
           "Türkiye",
           "Çolakoğlu Metalürji AŞ",
           4500,
           40.768409,
           29.529979
          ],
          [
           "Türkiye",
           "Diler Demir Celik Endustri ve Ticaret AŞ",
           1300,
           40.783161,
           29.533568
          ],
          [
           "Türkiye",
           "Ege Celik Endustrisi Sanayi ve Ticaret AŞ",
           1200,
           38.728005,
           26.940095
          ],
          [
           "Türkiye",
           "Ekinciler Demir ve Celik Sanayi AŞ",
           1250,
           36.690115,
           36.205739
          ],
          [
           "Türkiye",
           "Eregli Demir ve Celik Fabrikalari AŞ",
           3801,
           41.261469,
           31.420106
          ],
          [
           "Türkiye",
           "Habas Industrial and Medical Gases Production Industries AŞ",
           4500,
           38.751462,
           26.950172
          ],
          [
           "Türkiye",
           "Içdaş Çelik Enerji Tersane Ve Ulaşim Sanayi AŞ",
           5001,
           40.441491,
           27.137563
          ],
          [
           "Türkiye",
           "Izmir Demir Celik Sanayi AŞ",
           3100,
           38.739596,
           26.929091
          ],
          [
           "Türkiye",
           "Iskenderun Demir ve Celik AŞ",
           5800,
           36.735672,
           36.204581
          ],
          [
           "Türkiye",
           "Kaptan Demir Celik Endustrisi Ve Ticaret AŞ",
           1400,
           41.015222,
           27.959978
          ],
          [
           "Türkiye",
           "Kardemir Karabuk Demir Çelik Sanayi Ve Ticaret AŞ",
           1250,
           38.743652,
           26.964746
          ],
          [
           "Türkiye",
           "Kardemir Karabuk Demir Çelik Sanayi Ve Ticaret AŞ",
           3501,
           41.180307,
           32.634343
          ],
          [
           "Türkiye",
           "Koc Metalurji AŞ",
           1100,
           37.01488,
           36.104416
          ],
          [
           "Türkiye",
           "Kroman Celik Sanayii AS",
           1400,
           40.801101,
           29.374115
          ],
          [
           "Türkiye",
           "Mescier Demir Celik AŞ",
           1000,
           41.565932,
           32.427758
          ],
          [
           "Türkiye",
           "MMK Metalurji Sanayi Ticaret ve Liman Isletmeciligi AŞ",
           2500,
           36.768975,
           36.213842
          ],
          [
           "Türkiye",
           "Ozkan Demir Celik Sanayi AŞ",
           1200,
           38.737005,
           26.950824
          ],
          [
           "Türkiye",
           "Sıddık Kardeşler Haddecilik Sanayi Ticaret LŞ",
           690,
           40.800833,
           29.512008
          ],
          [
           "Türkiye",
           "Toscelik Profil ve Sac Endustrisi AS",
           4000,
           36.687943,
           36.214871
          ],
          [
           "Türkiye",
           "Toscelik Profil ve Sac Endustrisi AS",
           2000,
           37.016956,
           36.10911
          ],
          [
           "Türkiye",
           "Yazici Demir Celik Sanayi ve Turizm Ticaret AŞ",
           1050,
           36.685932,
           36.206275
          ],
          [
           "Türkiye",
           "Yesilyurt Demir Celik Endustri Ve Liman Isletmeleri AŞ",
           1300,
           41.241199,
           36.442055
          ],
          [
           "Ukraine",
           "Alchevsk Metallurgical Plant PJSC",
           5472,
           48.478111,
           38.770787
          ],
          [
           "Ukraine",
           "ArcelorMittal Kryvyi Rih PJSC",
           1083,
           47.874411,
           33.392993
          ],
          [
           "Ukraine",
           "Interpipe Ltd",
           1320,
           48.498914,
           35.096336
          ],
          [
           "Ukraine",
           "Kamet-Steel PrJSC",
           3500,
           48.528019,
           34.640915
          ],
          [
           "Ukraine",
           "Zaporiz'kyi Metalurhiinyi Kombinat Zaporizhstal' PJSC",
           2930,
           47.86838,
           35.161773
          ],
          [
           "Ukraine",
           "Yenakiieve Metallurgical Plant Branch PJSC",
           2200,
           48.220502,
           38.228626
          ],
          [
           "Ukraine",
           "SUE DPR UMP",
           1000,
           47.982276,
           37.810634
          ],
          [
           "United Kingdom",
           "Liberty Steel Group",
           1220,
           53.450712,
           -1.323025
          ],
          [
           "United Kingdom",
           "Sev.en Global Investments AS",
           1200,
           51.479757,
           -3.137056
          ]
         ],
         "geo": "geo",
         "hovertemplate": "<b>%{hovertext}</b><br><br>Region=Europe<br>Nominal crude steel capacity (ttpa)=%{customdata[2]:.0f}<br>Country/Area=%{customdata[0]}<br>Owner=%{customdata[1]}<extra></extra>",
         "hovertext": [
          "Voestalpine Stahl Donawitz steel plant",
          "Voestalpine Stahl Linz steel plant",
          "Byelorussian Steel Works",
          "Aperam Stainless Belgium Châtelet steel plant",
          "Aperam Stainless Belgium Genk steel plant",
          "ArcelorMittal Gent steel plant",
          "Thy Marcinelle Charleroi steel plant",
          "Pavgord Zenica steel plant",
          "Stomana Industry Pernik steel plant",
          "TZMS Třinecké železárny Trinec steel plant",
          "Outokumpu Tornio steel plant",
          "Ovako Imatra steel plant",
          "ArcelorMittal Dunkerque steel plant",
          "ArcelorMittal Méditerranée Fos sur Mer steel plant",
          "Ascometal Hagondange steel plant",
          "Celsa France Boucau steel plant",
          "LME Trith-Saint-Léger steel plant",
          "Riva Alpa Gargenville steel plant",
          "Riva Iton Seine Bonnieres Sur Seine steel plant",
          "Riva Sam Montereau steel plant",
          "Riva Sam Neuves-Maisons steel plant",
          "Saarstahl Ascoval Saint-Saulve steel plant",
          "ArcelorMittal Bremen steel plant",
          "ArcelorMittal Eisenhüttenstadt steel plant",
          "ArcelorMittal Hamburg steel plant",
          "Benteler Steel Tube Lingen plant",
          "CSN Stahlwerk Thüringen Unterwellenborn steel plant",
          "Deutsche Edelstahlwerke steel plant",
          "ESF Elbe Stahlwerke Feralpi Riesa plant",
          "Georgsmarienhütte Osnabrück steel plant",
          "Kehler Baden Steel Works",
          "Lech Stahlwerke Meitingen steel plant",
          "Riva Brandenburg Electric Steel Works",
          "Riva Hennigsdorfer Electric Steel Works",
          "Salzgitter Peiner Träger Peine steel plant",
          "Hellenic Halyvourgia Velestino steel plant",
          "Sidenor Steel Industry Thessaloniki plant",
          "Sovel Almyros steel plant",
          "Acciaierie d'Italia Taranto steel plant",
          "Acciaierie Venete Borgo Valsugana steel plant",
          "Acciaierie Venete Padua steel plant",
          "Acciaierie Venete Sarezzo steel plant",
          "AFV Accaierie Beltrame Vicenza steel plant",
          "Alfa Acciai Brescia steel plant",
          "Alfa Acciai Catania steel plant",
          "Danieli ABS Pozzuolo del Friuli steel plant",
          "Duferco Travi e Profilati San Zeno Naviglio steel plant",
          "Feralpi Calvisano steel plant",
          "Feralpi Siderurgica Lonato steel plant",
          "Ferriera Valsabbia Odolo steel plant",
          "Finarvedi Acciai Speciali Terni steel plant",
          "Finarvedi Cremona steel plant",
          "IRO Odolo steel plant",
          "Ori Martin Brescia steel plant",
          "Pittini Acciaierie di Verona steel plant",
          "Pittini Ferriere Nord Osoppo steel plant",
          "Pittini Siderpotenza Potenza steel plant",
          "Riva Acciaio Caronno Pertusella steel plant",
          "Riva Acciaio Lesegno steel plant",
          "Tenaris Dalmine steel plant",
          "ArcelorMittal Differdange steel plant",
          "JSC Moldova Steel Works",
          "Makstil Skopje Steel plant",
          "Sev.en GI Mo i Rana steel plant",
          "ArcelorMittal Dąbrowa Górnicza steel plant",
          "ArcelorMittal Warszawa steel plant",
          "Celsa Huta Ostrowiec steel plant",
          "CMC Zawiercie steel plant",
          "Ferrostal Labedy Gliwice steel plant",
          "Huta Czestochowa steel plant",
          "SN MAIA Siderurgia Nacional steel plant",
          "SN SEIXAL Siderurgia Nacional steel plant",
          "ArcelorMittal Hunedoara steel plant",
          "GLGH Resita steel plant",
          "Tenaris Silcotub Calarasi steel mill",
          "HBIS GROUP Serbia Iron & Steel plant Belgrade",
          "Metalfer Steel Mill Sremska Mitrovica",
          "U. S. Steel Košice steel plant",
          "SIJ Acroni Jesenice steel plant",
          "Acerinox Europa Los Barrios steel plant",
          "ArcelorMittal Asturias (Aviles) steel plant",
          "ArcelorMittal Asturias (Gijón) steel plant",
          "ArcelorMittal Olaberria-Bergara (Olaberria) steel plant",
          "ArcelorMittal Sestao steel plant",
          "Celsa Barcelona Castellbisbal steel plant",
          "Celsa Global Steel Wire Santander plant",
          "Celsa Nervacero steel plant",
          "Grupo Gallardo Corrugados Getafe steel plant",
          "Grupo Gallardo Siderurgica Balboa Jerez de los Caballeros steel plant",
          "Megasa Siderúrgica Narón steel plant",
          "Megasider Zaragoza steel plant",
          "Riva Siderurgica Sevillana steel plant",
          "Sidenor Aceros Especiales Basauri steel plant",
          "Outokumpu Avesta steel plant",
          "Ovako Hofors steel plant",
          "SSAB Luleå steel plant",
          "Stahl Gerlafingen steel plant",
          "Swiss Steel Emmenbrücke plant",
          "Aba Iron and Steel Payas plant",
          "Asil Celik Orhangazi steel plant",
          "Cebitas steel plant",
          "Colakoglu Metallurgical Dilovasi plant",
          "Diler Iron and Steel Dilovasi plant",
          "Ege Steel Aliaga plant",
          "Ekinciler Iron and Steel Iskenderun plant",
          "Erdemir Eregli steel plant",
          "Habas Aliaga steel plant",
          "İÇDAŞ Biga steel plant",
          "İDÇ Izdemir Aliaga steel plant",
          "Isdemir Payas steel plant",
          "Kaptan Ereglisi steel plant",
          "Kardemir Celik Sanayi Izmir steel plant",
          "Kardemir Merkez steel plant",
          "Koc Metallurgical Toprakkale plant",
          "Kroman Steel Darica plant",
          "Mescier Iron and Steel Bartin plant",
          "MMK Türkiye Metallurgical Payas plant",
          "Ozkan Iron and Steel Aliaga plant",
          "Siddik Kardesler Dilovasi steel plant",
          "Toscelik Iskenderun steel plant",
          "Toscelik Toprakkale steel plant",
          "Yazici Iron and Steel Iskenderun plant",
          "Yesilyurt Iron and Steel Tekkekoy plant",
          "Alchevsk Metallurgical Plant",
          "ArcelorMittal Kryvyi Rih steel plant",
          "Interpipe Steel Plant",
          "Metallurgical Plant Kametstal",
          "Metinvest Zaporizhstal steel plant",
          "Yenakiieve Metallurgical Plant",
          "Yuzovsky Metallurgical Plant",
          "GFG Liberty Steel Rotherham plant",
          "Se.ven GI Cardiff plant"
         ],
         "lat": {
          "bdata": "wkzbv7KwR0AIrYcvEyNIQCxn74y2bEpA5POKpx41SUBrLGFtjHdJQC3SxDvAlUlAvLN224U0SUDo24KluhxGQEzGMZI9TEVA+BqC4zLYSEBZUYNpGHFQQJXurrMhk05AahZod0iFSUAlXTP5ZrdFQHEfuTXpnkhAx/Xv+szDRUDu68A5IypJQA4QzNHjfUhAH0yKj0+ESEBj00ohkDFIQN0LzApFTkhAmZtvRPcySUBXsmMjEJFKQGbAWUqWFUpAr+3tluTCSkDvcaYJ2ztKQOxnsRTJU0lAqKePwB92SUArGJXUCahJQDgPzHYqG0pAkZxM3CpMSEAqcR3jikFIQCXoL/SIM0pAJO8cylBTSkDuCKcFLyhKQBoXDoRksUNA6rMDritaREBzLVqAtpVDQEtywK4mQURApMaEmEsGR0DOwwlMp7VGQNIag04I00ZAfCsSE9TCRkAzxRwEHcFGQJF/ZhAfuEJANsmP+BUBR0DoTrD/Or1GQEpDjUKSr0ZAKpDZWfS6RkCqtwa2StJGQOAsJctJSEVAJPHydK6SRkC3tYXnpdJGQI/iHHV0yEZAdO/hkuO2RkD7lGOyuB1HQC1A22rWUURAOfJAZJHMRkBDjNe8qjFGQC3uPzId0kZAMbPPY5TDSEDQRq6bUuRHQMajVMITAkVASkVj7e+TUEAWTPxR1CtJQLCO44dKJUpALCtNSkF5SUBJgQUwZT5JQIAsRIfALUlAJbIPsixkSUCfWRKgpqBEQLpKd9fZTkNAn8n+eRreRkCe0VYlkaVGQISezarPG0ZAV0J3SZxNRkDvHMpQFX1GQEUPfAxWTkhAodl1b0U2R0AOEqJ8QRdCQAtgysABx0VAFLLzNjbDRUDG4cyv5oRFQCV4QxoVqEVAB7ZKsDi6REAjvD0IAblFQFaalIJup0VA1T+IZMgnREAdIJijxylDQFmjHqLRwUVAflLt0/HIREBNv0S8da5CQBh8mpMXnUVAoPoHkQwTTkCy8zY2O0ZOQMr8o2/SY1BAjSRBuAKWR0BFL6NYbqdHQHnNqzqrX0JAZjGx+bg2REBma32R0F5DQN154jlbYkRAV0Chnj5kRECJKZFEL11DQFG9NbBVWEJAe/Xx0HehREDnFyXoL2BDQDo978aCOERATyDsFKteQ0CdSgaAKl5CQAEXZMvygURAcM0d/S9fQ0C0Hr5MFJdEQKeufJbngUJAfuVBeopmREBD4bN1cMhEQIY41sVtYkJAh/4JLlZeQ0BeRxyygWZEQI1BJ4QOWEJASbw8nSuCQkDTo6mezFdCQPlp3JvfnkRAzm3CvTI9SECfIRyz7O9HQB7C+GncP0hAVFVoIJZDSEAQQGoTJ+9HQO9Z12g5HEhAptJPOLv9R0AX9UnusLlKQHeDaK1ovUlA",
          "dtype": "f8"
         },
         "legendgroup": "Europe",
         "lon": {
          "bdata": "ZJP8iF8hLkBBfcucLqssQAw89x4u/T1Av+/fvDghEkChZkgVxQsWQH7/5sWJbw5A0EcZcQG4EUBDc51GWuYxQM9r7BLVFzdALV4sDJGnMkDjqNxELS04QCbl7nN8zDxAym37HvVXAkAXfnA+dYwTQFFsBU1LnBhAIenTKvoD+L8yc4HLY+0LQPtcbcX+Mvw/WmJlNPL5+D8SM/s8RtkHQCNm9nmMchhAgCpu3GJ+DEAZrDjVWmAhQMbgYdo3Py1ANc8R+S7NI0BYOEnzx0QdQDlFR3L53yZAyNCxg0oMIEA0g/jAjo8qQOMgfIOKFSBA6kFBKVpJH0CVD0HV6LUlQEvNHmgF/ihAkdRCyeRsKkCYNbHAV4QkQLsnDwu1zjZAeM+B5QjRNkBxk1FlGNc2QGQCfo0kNTFAkbWGUnvhJkDVeOkmMdAnQIBFfv0QayRA1hwgmKP/JkB5d2SsNn8kQP8JLlbUEC5AqU4Hsp6CKkArbAa4IGskQNWzIJT3qSRA3Qa139rpJECd8X1xqcIkQEmAmlq2VilANbOWAtLmI0BkdavnpL8kQATnjCjtbSRACK9d2nAAJkAv98lRgCgqQK6CGOjapy9AjXvzGyYSIkBCJEOOrccfQAtfX+tSMyNABYnt7gGaF0Bz1xLyQQc9QAFNhA1PdzVAh272B8pVLEBjJlEv+EgzQC6Oyk3U6jRApKfIIeJyNUBXJ2co7nQzQElkH2RZnDJAXFSLiGIqM0Ax68VQThwhwDbJj/gVIyLAUU60q5DqNkBXlX1XBOc1QOlDF9S3TDtAJ/bQPlb4NECT407pYKUzQPRr66f/MDVAuHU3T3UwLEBBfjZy3bQVwD1EozuIfRfATl5kAn7tFsBvEoPAysEBwP4Mb9bg/QfAb0p5rYSu/z+TGW8rvbYOwEW5NH7hNQjA1xh0QuigDcBjey3ovREbwGKelbTiUyDAebKbGf1o679A3qtWJowXwOJyvALREwfAt3wkJT0sMED9vKlIhU0wQML2kzE+ODZAI93PKcg/HkBj7e9sj34fQEc4LXjRG0JACU/o9SdFPUBqMuNtpfM6QBmRKLSshz1ALzGW6ZeIPUAUIuAQqvA6QIFB0qdVGkJAd9oaEYxrP0Atk+F4PvM6QMAjKlQ3IztACAJk6NjtOkAFMdC1LxpCQCbhQh7B9TtAY/IGmPn2OkAoucMmMlFAQO6W5IBdDUJAa/EpAMZfPUAaTS7GwDZAQHBBtixfG0JAfUCgM2nzOkBWSs/0EoM9QO7tluSAG0JAUtUEUfcNQkC/fR04ZxpCQEMEHEKVOEJASpf+JaliQ0BJRzmYTbJAQLe28LxUjEFAB0KygAlSQUAaMEj6tJRBQPWB5J1DHUNASYPb2sLnQkB6pSxDHCv1v73D7dCwGAnA",
          "dtype": "f8"
         },
         "marker": {
          "color": "#ab63fa",
          "size": {
           "bdata": "AAAAAACAhkAAAAAAAECvQAAAAAAAcKdAAAAAAABAj0AAAAAAAMCSQAAAAAAAiKNAAAAAAAAAiUAAAAAAAFCeQAAAAAAA4JVAAAAAAABwl0AAAAAAAMCSQAAAAAAA+IFAAAAAAABeukAAAAAAAOyjQAAAAAAAyIlAAAAAAADAkkAAAAAAAKCJQAAAAAAA4IVAAAAAAAAwgUAAAAAAAICGQAAAAAAAkIpAAAAAAADQhkAAAAAAAECfQAAAAAAAwJJAAAAAAAAwkUAAAAAAAFCEQAAAAAAAMJFAAAAAAADAgkAAAAAAAOCVQAAAAAAAUIRAAAAAAACIo0AAAAAAAOCVQAAAAAAAIJxAAAAAAABAj0AAAAAAAECPQAAAAAAA4IVAAAAAAAAAiUAAAAAAABiVQAAAAAAAeL5AAAAAAADAgkAAAAAAAMCCQAAAAAAA4IBAAAAAAADAkkAAAAAAAECfQAAAAAAAQH9AAAAAAAAwkUAAAAAAALCNQAAAAAAAwIJAAAAAAAAAk0AAAAAAACCMQAAAAAAAqJZAAAAAAADMsEAAAAAAAMCCQAAAAAAAUIRAAAAAAACIk0AAAAAAADChQAAAAAAA4IVAAAAAAABgiEAAAAAAAMCCQAAAAAAA4IVAAAAAAAAYlUAAAAAAAECPQAAAAAAAMIFAAAAAAAAQiEAAAAAAAImzQAAAAAAAcIdAAAAAAAAgjEAAAAAAAJCaQAAAAAAAQH9AAAAAAABAikAAAAAAAMCCQAAAAAAAMJFAAAAAAAAAiUAAAAAAAEB/QAAAAAAAuIBAAAAAAAAuoUAAAAAAAEB/QAAAAAAAlLFAAAAAAACwhkAAAAAAAMCSQAAAAAAAaLBAAAAAAADAkkAAAAAAAKiWQAAAAAAAQJ9AAAAAAACIo0AAAAAAAHCHQAAAAAAAQI9AAAAAAADAgkAAAAAAAFCUQAAAAAAA4IVAAAAAAABAf0AAAAAAAFCUQAAAAAAAIIdAAAAAAABAf0AAAAAAAEB/QAAAAAAAACpAAAAAAACAhkAAAAAAAFCEQAAAAAAAMJFAAAAAAADQhkAAAAAAAOCKQAAAAAAAlLFAAAAAAABQlEAAAAAAAMCSQAAAAAAAiJNAAAAAAACyrUAAAAAAAJSxQAAAAAAAibNAAAAAAAA4qEAAAAAAAKi2QAAAAAAA4JVAAAAAAACIk0AAAAAAAFqrQAAAAAAAMJFAAAAAAADglUAAAAAAAECPQAAAAAAAiKNAAAAAAADAkkAAAAAAAJCFQAAAAAAAQK9AAAAAAABAn0AAAAAAAGiQQAAAAAAAUJRAAAAAAABgtUAAAAAAAOyQQAAAAAAAoJRAAAAAAABYq0AAAAAAAOSmQAAAAAAAMKFAAAAAAABAj0AAAAAAABCTQAAAAAAAwJJA",
           "dtype": "f8"
          },
          "sizemode": "area",
          "sizeref": 102.21777777777778,
          "symbol": "circle"
         },
         "mode": "markers",
         "name": "Europe",
         "showlegend": true,
         "type": "scattergeo"
        },
        {
         "customdata": [
          [
           "Azerbaijan",
           "Baku Steel Company QSC",
           800,
           40.43136,
           49.886867
          ],
          [
           "Kazakhstan",
           "Qazaqstan Steel Group LLP",
           6000,
           50.031766,
           72.994863
          ],
          [
           "Russia",
           "Abinski Elektrometallurgicheski Zavod LLC",
           1550,
           44.881938,
           38.12751
          ],
          [
           "Russia",
           "Amurstal LLC",
           1150,
           50.563131,
           136.976362
          ],
          [
           "Russia",
           "Ashinskiy Metzavod PJSC",
           1000,
           54.99484,
           57.277548
          ],
          [
           "Russia",
           "MZ Balakovo JSC",
           1250,
           51.936009,
           47.81591
          ],
          [
           "Russia",
           "Evraz NTMK JSC",
           4400,
           57.922851,
           60.033543
          ],
          [
           "Russia",
           "Evraz ZSMK JSC",
           8760,
           53.88618,
           87.257618
          ],
          [
           "Russia",
           "Promsort LLC",
           2000,
           54.156726,
           37.725551
          ],
          [
           "Russia",
           "KMK Tempo JSC",
           504,
           55.726872,
           52.535854
          ],
          [
           "Russia",
           "Magnitogorskiy Metallurgicheskiy Kombinat PJSC",
           14500,
           53.427593,
           59.054122
          ],
          [
           "Russia",
           "Chelyabinskiy Metallurgicheskiy Kombinat PJSC",
           5799,
           55.27073,
           61.436492
          ],
          [
           "Russia",
           "Oskol'skiy Elektrometallurgicheskiy Kombinat Imeni Alekseya Alekseyevicha Ugarova JSC",
           3500,
           51.142738,
           37.940532
          ],
          [
           "Russia",
           "UMK-Stal LLC",
           756,
           59.593854,
           60.591196
          ],
          [
           "Russia",
           "Novolipetsk Steel PJSC",
           14400,
           52.557372,
           39.629574
          ],
          [
           "Russia",
           "Novorossiysk Rolling Plant LLC",
           730,
           47.740457,
           40.189445
          ],
          [
           "Russia",
           "Vyksunskiy Metallurgicheskiy Zavod AO",
           1400,
           55.382815,
           42.188954
          ],
          [
           "Russia",
           "Chelyabinskiy Truboprokatnyi Zavod JSC",
           950,
           56.90205,
           59.992198
          ],
          [
           "Russia",
           "Promsort LLC",
           1500,
           55.233675,
           36.679192
          ],
          [
           "Russia",
           "Promsort LLC",
           2000,
           56.849666,
           59.908414
          ],
          [
           "Russia",
           "Severstal PJSC",
           12001,
           59.143998,
           37.86295
          ],
          [
           "Russia",
           "StavStal' LLC",
           500,
           44.688323,
           41.927331
          ],
          [
           "Russia",
           "Severskiy Trubnyi Zavod JSC",
           950,
           56.478428,
           60.249411
          ],
          [
           "Russia",
           "Taganrogskiy Metallurgicheskiy Zavod JSC",
           950,
           47.241557,
           38.928584
          ],
          [
           "Russia",
           "UMK-Stal LLC",
           664,
           57.109316,
           65.668641
          ],
          [
           "Russia",
           "Uralskaya Stal JSC",
           2050,
           51.214781,
           58.353913
          ],
          [
           "Russia",
           "Krasnyi Oktyabr' Corporation JSC",
           501,
           48.754025,
           44.561004
          ],
          [
           "Russia",
           "Volzhskiy Trubnyi Zavod JSC",
           900,
           48.804332,
           44.79408
          ],
          [
           "Uzbekistan",
           "Uzbekskiy Metallurgicheskiy Kombinat JSC",
           1100,
           40.233432,
           69.290873
          ]
         ],
         "geo": "geo",
         "hovertemplate": "<b>%{hovertext}</b><br><br>Region=Eurasia<br>Nominal crude steel capacity (ttpa)=%{customdata[2]:.0f}<br>Country/Area=%{customdata[0]}<br>Owner=%{customdata[1]}<extra></extra>",
         "hovertext": [
          "Baku Steel Company steel plant",
          "Qarmet steel plant",
          "Abinsk Electric Steel Works",
          "Amurstal steel plant",
          "Ashinskiy Metallurgical plant",
          "Balakovo Steel Plant",
          "Evraz NTMK steel plant",
          "Evraz ZSMK steel plant",
          "IMH Tula steel plant",
          "Kamsky Metallurgical Works TEMPO",
          "Magnitogorsk Iron and Steel Works",
          "Mechel Chelyabinsk Metallurgical Plant",
          "Metalloinvest OEMK steel plant",
          "Nadezhdinski Metallurgical Plant",
          "NLMK Lipetsk steel plant",
          "Novorossiysk rolling plant",
          "OMK Vyksa Casting and Rolling Complex",
          "Pervouralsk Pipe Plant",
          "Promsort Kaluga steel plant",
          "Promsort Ural steel plant",
          "Severstal Cherepovets steel plant",
          "StavStal Metallurgical Plant",
          "TMK Seversky Pipe Plant",
          "TMK Taganrog Metallurgical Plant",
          "Tyumen Electrosteel plant",
          "Ural Steel Metallurgical Plant",
          "VMK Red October steel plant",
          "Volzhsky Pipe Plant",
          "Uzmetkombinat steel plant"
         ],
         "lat": {
          "bdata": "umbyzTY3RED3j4XoEARJQMGMKVjjcEZAkC42rRRISUBXYMjqVn9LQH7hlSTP90lAWwpI+x/2TEBFL6NYbvFKQGk3+pgPFEtAZjBGJArdS0DQfw9eu7ZKQOYF2EenoktAv/IgPUWSSUClTGpoA8xNQGLaN/dXR0pAEYyDS8feR0CJtfgUALFLQKyt2F92c0xAR3L5D+mdS0D2QgHbwWxMQD9YxoZukk1A1ArT9xpYRkDPvvIgPT1MQFiP+1brnkdA+3YSEf6NTECuZp3xfZtJQOauJeSDYEhAKpDZWfRmSECB64oZ4R1EQA==",
          "dtype": "f8"
         },
         "legendgroup": "Eurasia",
         "lon": {
          "bdata": "aXOc24TxSEAHQNzVqz9SQNz0Zz9SEENA1GGFWz4fYUD9iF+xhqNMQFw9J71v6EdAPwEUI0sETkAZNzXQfNBVQEFK7Nre3EJAJLcm3ZZESkA//z147YZNQJp7SPjet05AtWtCWmP4QkBUw35PrEtOQLk0fuGV0ENAA7LXuz8YREBlOQmlLxhFQAyUFFgA/01AONpxw+9WQkBBnfLoRvRNQKYKRiV17kJAk8g+yLL2RECfIRyz7B9OQGDLK9fbdkNA8fCeA8tqUECLUGwFTS1NQGx2pPrOR0ZALzTXaaRlRkCGksmpnVJRQA==",
          "dtype": "f8"
         },
         "marker": {
          "color": "#FFA15A",
          "size": {
           "bdata": "AAAAAAAAiUAAAAAAAHC3QAAAAAAAOJhAAAAAAAD4kUAAAAAAAECPQAAAAAAAiJNAAAAAAAAwsUAAAAAAABzBQAAAAAAAQJ9AAAAAAACAf0AAAAAAAFLMQAAAAAAAp7ZAAAAAAABYq0AAAAAAAKCHQAAAAAAAIMxAAAAAAADQhkAAAAAAAOCVQAAAAAAAsI1AAAAAAABwl0AAAAAAAECfQAAAAACAcMdAAAAAAABAf0AAAAAAALCNQAAAAAAAsI1AAAAAAADAhEAAAAAAAASgQAAAAAAAUH9AAAAAAAAgjEAAAAAAADCRQA==",
           "dtype": "f8"
          },
          "sizemode": "area",
          "sizeref": 102.21777777777778,
          "symbol": "circle"
         },
         "mode": "markers",
         "name": "Eurasia",
         "showlegend": true,
         "type": "scattergeo"
        },
        {
         "customdata": [
          [
           "Bahrain",
           "Sulb Company BSCC",
           1265,
           26.198152,
           50.679893
          ],
          [
           "Iran",
           "Arfa Iron and Steel Co",
           1000,
           32.39309,
           53.7566
          ],
          [
           "Iran",
           "Arvand Jahanara Steel Co",
           2700,
           30.510886,
           48.241356
          ],
          [
           "Iran",
           "Bafgh Mineral Complex Iron & Steel Co",
           1200,
           31.699307,
           55.440187
          ],
          [
           "Iran",
           "Bonab Steel Complex",
           1000,
           37.417437,
           46.035778
          ],
          [
           "Iran",
           "Butia Iranian Steel Co",
           1500,
           30.4912,
           56.8214
          ],
          [
           "Iran",
           "Chadormalu Mining & Industrial Co",
           1200,
           32.387328,
           53.747706
          ],
          [
           "Iran",
           "Esfahan Steel Co",
           3600,
           32.418304,
           51.331314
          ],
          [
           "Iran",
           "Ghaenat Steel Complex",
           800,
           33.926909,
           59.007852
          ],
          [
           "Iran",
           "Iran Alloy Steel Co",
           600,
           31.940106,
           54.037614
          ],
          [
           "Iran",
           "Sirjan Jahan Steel Co",
           1200,
           29.13806,
           55.375073
          ],
          [
           "Iran",
           "Khorasan Steel Complex Co",
           1400,
           36.3445,
           58.67875
          ],
          [
           "Iran",
           "Khouzestan Steel Co",
           3600,
           31.270091,
           48.732904
          ],
          [
           "Iran",
           "Kish South Kaveh Steel Co",
           2400,
           27.169696,
           56.095207
          ],
          [
           "Iran",
           "Mobarakeh Steel Co",
           1600,
           32.40787,
           51.338985
          ],
          [
           "Iran",
           "Mobarakeh Steel Co",
           10000,
           32.244,
           51.4263
          ],
          [
           "Iran",
           "Mobarakeh Steel Co",
           1500,
           27.161426,
           56.10058
          ],
          [
           "Iran",
           "Mobarakeh Steel Co",
           1000,
           32.156673,
           51.199541
          ],
          [
           "Iran",
           "Natanz Steel Co",
           999,
           33.428593,
           51.982273
          ],
          [
           "Iran",
           "Neyriz Ghadir Steel Co",
           1000,
           29.168087,
           54.621487
          ],
          [
           "Iran",
           "Pasargad Steel Complex Co",
           1500,
           29.191019,
           52.845405
          ],
          [
           "Iran",
           "Iranian Sirjan Steel Co",
           1000,
           29.928062,
           56.736539
          ],
          [
           "Iran",
           "West Alborz Steel Co",
           1600,
           36.119574,
           49.306253
          ],
          [
           "Iran",
           "Zarand Iranian Steel Co",
           1500,
           30.749633,
           56.6675096
          ],
          [
           "Iraq",
           "Al Anmaa for Construction Materials Production Ltd",
           735,
           30.218529,
           47.827362
          ],
          [
           "Iraq",
           "F&F Steel",
           600,
           36.115147,
           43.977052
          ],
          [
           "Iraq",
           "Mass Iraq Iron and Steel Industry Co",
           1250,
           35.660125,
           45.039062
          ],
          [
           "Iraq",
           "Van Company for Industrial Investment and General Trading",
           750,
           36.09176,
           43.97415
          ],
          [
           "Kuwait",
           "United Steel Industries Co KSCC",
           1200,
           28.989306,
           48.128118
          ],
          [
           "Oman",
           "Jindal Shadeed Iron & Steel LLC",
           2400,
           24.502551,
           56.600739
          ],
          [
           "Oman",
           "Moon Iron and Steel Company SAOC",
           1200,
           24.409437,
           56.520134
          ],
          [
           "Oman",
           "Sohar Steel LLC",
           700,
           24.499869,
           56.599111
          ],
          [
           "Qatar",
           "Qatar Steel Company QPSC",
           2574,
           24.952688,
           51.584777
          ],
          [
           "Saudi Arabia",
           "Arab Steel Co",
           2600,
           26.277917,
           49.949177
          ],
          [
           "Saudi Arabia",
           "National Steel Co",
           1000,
           26.244786,
           49.969064
          ],
          [
           "Saudi Arabia",
           "Al Qaryan Steel Co",
           350,
           26.280741,
           49.956755
          ],
          [
           "Saudi Arabia",
           "Rajhi Steel Industries Co Ltd",
           850,
           21.290402,
           39.183444
          ],
          [
           "Saudi Arabia",
           "Saudi Iron and Steel Co",
           6000,
           27.018411,
           49.576356
          ],
          [
           "Saudi Arabia",
           "Solb Steel Co",
           1200,
           17.298475,
           42.352338
          ],
          [
           "Syria",
           "Hadeed Metal Manufacturing Co",
           1400,
           33.626258,
           36.574968
          ],
          [
           "Syria",
           "Hmisho Steel SA",
           800,
           34.364258,
           36.803848
          ],
          [
           "United Arab Emirates",
           "Arabian Gulf Steel Industries Selling Port LLC",
           600,
           24.283335,
           54.463384
          ],
          [
           "United Arab Emirates",
           "Emsteel Building Materials PJSC",
           3600,
           24.322033,
           54.467987
          ]
         ],
         "geo": "geo",
         "hovertemplate": "<b>%{hovertext}</b><br><br>Region=Middle East<br>Nominal crude steel capacity (ttpa)=%{customdata[2]:.0f}<br>Country/Area=%{customdata[0]}<br>Owner=%{customdata[1]}<extra></extra>",
         "hovertext": [
          "Sulb Bahrain Al Hidd steel plant",
          "Arfa Iron and Steel Yazd plant",
          "Arvand Jahanara Steel Khouzestan plant",
          "Bafgh Mineral Complex Iron and Steel Yazd plant",
          "Bonab Steel Complex",
          "Butia Steel Kerman plant",
          "Chadormalu Mining and Industrial Company Yazd plant",
          "Esfahan Steel Isfahan plant",
          "Ghaenat Steel Complex South Khorasan",
          "Iran Alloy Steel Company Yazd plant",
          "Jahan Foolad Sirjan Steel Kerman plant",
          "Khorasan Steel Complex",
          "Khouzestan Steel plant",
          "Kish South Kaveh Steel Hormuzgan plant",
          "Mobarakeh Saba Steel Complex",
          "Mobarakeh Steel Complex Isfahan",
          "Mobarakeh Steel Hormuzgan Steel Company plant",
          "Mobarakeh Steel Sefid Dasht Steel Complex",
          "Natanz Steel Company Isfahan plant",
          "Neyriz Ghadir Steel Company Fars plant",
          "Pasargad Steel Complex Fars",
          "Sirjan Iranian Steel Kerman Plant",
          "West Alborz Ana Steel Zanjan plant",
          "Zarand Iranian Steel Company Kerman plant",
          "Al Anmaa Basra steel plant",
          "F&F Steel Erbil plant",
          "Mass Iron and Steel Industry Co Sulaimaniya plant",
          "Van Steel Kurdistan plant",
          "United Steel Industrial Kuwait Steel Sharq plant",
          "Jindal Steel Sohar plant",
          "Moon Iron & Steel Company Sohar plant",
          "Sohar Steel plant",
          "Industries Qatar Steel Mesaieed plant",
          "Al Ittefaq Arab Steel Dammam plant",
          "Al Ittefaq National Steel Dammam plant",
          "Al Qaryan steel plant",
          "Rajhi Al Assemah Steel Jeddah plant",
          "SABIC Hadeed Al Jubail steel plant",
          "Solb Steel Jizan plant",
          "Hadeed Metal Manufacturing Co Damascus steel plant",
          "Hmisho Steel Hassia plant",
          "Arabian Gulf Steel Industries Abu Dhabi plant",
          "Emsteel Abu Dhabi plant"
         ],
         "lat": {
          "bdata": "EqPnFroyOkA8MevFUDJAQPj7xWzJgj5AJ92WyAWzP0D3kVuTbrVCQJLLf0i/fT5AnGnC9pMxQECb5Ef8ijVAQB2vQPSk9kBA/MVsyarwP0DB4nDmVyM9QGq8dJMYLEJApvELryRFP0ATQ3IycSs7QICCixU1NEBArBxaZDsfQEBeud42Uyk7QEaVYdwNFEBAsyWrIty2QED84ee/Bys9QCXqBZ/mMD1ADamieJXtPUDYuWkzTg9CQJsAw/Lnvz5AQzo8hPE3PkDDnQsjvQ5CQNEi2/l+1EFAXYqryr4LQkCQvHMoQ/08QHWSrS6ngDhAucX83NBoOEDDSC9q9384QKlKW1zj8zhAnwCKkSVHOkDHhJhLqj46QHalZaTeRzpAaLEUyVdKNUD84lKVtgQ7QHGsi9toTDFA323eOCnQQEA3p5IBoC5BQOrPfqSISDhAlzszwXBSOEA=",
          "dtype": "f8"
         },
         "legendgroup": "Middle East",
         "lon": {
          "bdata": "wePbuwZXSUCpE9BE2OBKQMFY38DkHkhA648wDFi4S0BJ9Z1flARHQJp3nKIjaUxA8YKI1LTfSkB9WkV/aKpJQKaaWUsBgU1Ale8ZidAES0BqTl5kArBLQHsUrkfhVk1AxY1bzM9dSEDWrDO+LwxMQNNqSNxjq0lAdCSX/5C2SUDbUDHO3wxMQAebOo+KmUlANV8lH7v9SUDQ8dHijE9LQPxvJTs2bEpAQZ3y6EZeTECkpl1MM6dIQA7iXvRwVUxAAfp9/+bpR0DmPjkKEP1FQBhCzvv/hEZA/7J78rD8RUC0A64rZhBIQEM3+wPlTExA0sQ7wJNCTEBB1lOrr0xMQPw5BfnZyklAxY7GoX75SECQ3QVKCvxIQGqkpfJ2+khA31LOF3uXQ0A7bY0IxslIQKyRXWkZLUVAjh8qjZhJQkA+esN95GZCQK2+uipQO0tAAfp9/+Y7S0A=",
          "dtype": "f8"
         },
         "marker": {
          "color": "#19d3f3",
          "size": {
           "bdata": "AAAAAADEk0AAAAAAAECPQAAAAAAAGKVAAAAAAADAkkAAAAAAAECPQAAAAAAAcJdAAAAAAADAkkAAAAAAACCsQAAAAAAAAIlAAAAAAADAgkAAAAAAAMCSQAAAAAAA4JVAAAAAAAAgrEAAAAAAAMCiQAAAAAAAAJlAAAAAAACIw0AAAAAAAHCXQAAAAAAAQI9AAAAAAAA4j0AAAAAAAECPQAAAAAAAcJdAAAAAAABAj0AAAAAAAACZQAAAAAAAcJdAAAAAAAD4hkAAAAAAAMCCQAAAAAAAiJNAAAAAAABwh0AAAAAAAMCSQAAAAAAAwKJAAAAAAADAkkAAAAAAAOCFQAAAAAAAHKRAAAAAAABQpEAAAAAAAECPQAAAAAAA4HVAAAAAAACQikAAAAAAAHC3QAAAAAAAwJJAAAAAAADglUAAAAAAAACJQAAAAAAAwIJAAAAAAAAgrEA=",
           "dtype": "f8"
          },
          "sizemode": "area",
          "sizeref": 102.21777777777778,
          "symbol": "circle"
         },
         "mode": "markers",
         "name": "Middle East",
         "showlegend": true,
         "type": "scattergeo"
        },
        {
         "customdata": [
          [
           "Canada",
           "Algoma Steel Group Inc",
           3700,
           46.518984,
           -84.374068
          ],
          [
           "Canada",
           "ArcelorMittal Dofasco GP",
           1350,
           43.269255,
           -79.804858
          ],
          [
           "Canada",
           "ArcelorMittal Long Products Canada GP",
           2400,
           45.835148,
           -73.254957
          ],
          [
           "Canada",
           "Cleveland-Cliffs Inc",
           2500,
           42.805448,
           -80.095313
          ],
          [
           "Canada",
           "Evraz North America PLC",
           1200,
           50.51499,
           -104.630589
          ],
          [
           "Canada",
           "Gerdau Ameristeel Corp",
           1100,
           43.856461,
           -78.908997
          ],
          [
           "Canada",
           "Ivaco Rolling Mills 2004 LP",
           650,
           45.613941,
           -74.704608
          ],
          [
           "Canada",
           "Rio Tinto Iron and Titanium Canada Inc",
           600,
           46.044367,
           -73.138474
          ],
          [
           "Mexico",
           "ArcelorMittal México SA de CV",
           6500,
           17.930688,
           -102.201498
          ],
          [
           "Mexico",
           "DeAcero SAPI de CV",
           2300,
           20.518556,
           -100.925556
          ],
          [
           "Mexico",
           "DeAcero SAPI de CV",
           2200,
           25.511162,
           -100.961848
          ],
          [
           "Mexico",
           "Gerdau Corsa SAPI de CV",
           1000,
           19.753326,
           -98.596483
          ],
          [
           "Mexico",
           "Gerdau Corsa SAPI de CV",
           500,
           19.630355,
           -99.180315
          ],
          [
           "Mexico",
           "Grupo Acerero SA de CV",
           725,
           22.087328,
           -100.901902
          ],
          [
           "Mexico",
           "Aceros Especiales Simec Tlaxcala SA de CV",
           1140,
           19.395628,
           -98.088777
          ],
          [
           "Mexico",
           "Aceros Especiales Simec Tlaxcala SA de CV",
           816,
           22.103324,
           -100.919202
          ],
          [
           "Mexico",
           "Tubos de Acero de Mexico SA",
           1230,
           19.182499,
           -96.237284
          ],
          [
           "Mexico",
           "Ternium México SA de CV",
           600,
           25.742085,
           -100.236478
          ],
          [
           "Mexico",
           "Ternium México SA de CV",
           2400,
           25.720327,
           -100.301175
          ],
          [
           "Mexico",
           "Ternium México SA de CV",
           1330,
           19.169532,
           -98.318659
          ],
          [
           "Mexico",
           "Talleres y Aceros SA de CV",
           1650,
           18.869272,
           -97.047263
          ],
          [
           "United States",
           "Alton Steel Inc",
           680,
           38.884465,
           -90.14579
          ],
          [
           "United States",
           "AM/NS Calvert LLC",
           1500,
           31.148446,
           -87.990521
          ],
          [
           "United States",
           "North Star BlueScope Steel Ltd",
           3034,
           41.568783,
           -84.048129
          ],
          [
           "United States",
           "Cascade Steel Rolling Mills Inc",
           860,
           45.228035,
           -123.163599
          ],
          [
           "United States",
           "Charter Manufacturing Co Inc",
           635,
           41.443147,
           -81.659911
          ],
          [
           "United States",
           "Charter Manufacturing Co Inc",
           570,
           43.400533,
           -87.9482
          ],
          [
           "United States",
           "Cleveland-Cliffs Inc",
           5001,
           41.631221,
           -87.143846
          ],
          [
           "United States",
           "Cleveland-Cliffs Inc",
           908,
           40.845524,
           -79.921452
          ],
          [
           "United States",
           "Cleveland-Cliffs Inc",
           4100,
           41.464041,
           -81.676499
          ],
          [
           "United States",
           "Cleveland-Cliffs Inc",
           800,
           39.977819,
           -75.824512
          ],
          [
           "United States",
           "Cleveland-Cliffs Inc",
           3000,
           42.308171,
           -83.161353
          ],
          [
           "United States",
           "Cleveland-Cliffs Inc",
           6800,
           41.669553,
           -87.438429
          ],
          [
           "United States",
           "Cleveland-Cliffs Inc",
           546,
           40.790123,
           -82.526239
          ],
          [
           "United States",
           "Cleveland-Cliffs Inc",
           2722,
           39.488589,
           -84.386197
          ],
          [
           "United States",
           "Commercial Metals Co",
           653,
           33.534372,
           -86.75773
          ],
          [
           "United States",
           "Commercial Metals Co",
           890,
           33.285828,
           -111.586561
          ],
          [
           "United States",
           "Commercial Metals Co",
           776,
           33.962272,
           -81.052011
          ],
          [
           "United States",
           "Commercial Metals Co",
           617,
           30.282907,
           -81.978735
          ],
          [
           "United States",
           "Commercial Metals Co",
           653,
           40.478824,
           -74.321187
          ],
          [
           "United States",
           "Commercial Metals Co",
           943,
           29.577459,
           -98.032017
          ],
          [
           "United States",
           "Commercial Metals Co",
           544,
           35.978104,
           -83.956572
          ],
          [
           "United States",
           "Evraz North America PLC",
           1100,
           38.22577,
           -104.607895
          ],
          [
           "United States",
           "A. Finkl & Sons Corp",
           573,
           41.724915,
           -87.589968
          ],
          [
           "United States",
           "Gerdau Ameristeel Corp",
           908,
           34.241226,
           -84.799539
          ],
          [
           "United States",
           "Gerdau Ameristeel Corp",
           505,
           35.307055,
           -94.372912
          ],
          [
           "United States",
           "Gerdau Ameristeel Corp",
           629,
           35.727722,
           -88.808842
          ],
          [
           "United States",
           "Gerdau Ameristeel Corp",
           1500,
           32.457544,
           -97.034246
          ],
          [
           "United States",
           "Gerdau Ameristeel Corp",
           730,
           41.894229,
           -83.358697
          ],
          [
           "United States",
           "Gerdau Ameristeel Corp",
           821,
           37.181168,
           -77.449517
          ],
          [
           "United States",
           "Hybar LLC",
           544,
           35.686814,
           -89.961981
          ],
          [
           "United States",
           "JSW Steel USA Ohio Inc",
           1500,
           40.314891,
           -80.605553
          ],
          [
           "United States",
           "Sterling Steel Co LLC",
           1090,
           41.785971,
           -89.710947
          ],
          [
           "United States",
           "Metallus Inc",
           1088,
           40.755388,
           -81.439369
          ],
          [
           "United States",
           "NLMK Indiana LLC",
           770,
           41.625912,
           -87.159989
          ],
          [
           "United States",
           "North American Stainless Inc",
           1600,
           38.725418,
           -85.076015
          ],
          [
           "United States",
           "Nucor Corp",
           2956,
           33.004319,
           -79.880955
          ],
          [
           "United States",
           "Nucor Corp",
           500,
           33.545535,
           -86.805393
          ],
          [
           "United States",
           "Nucor Corp",
           1450,
           37.9999454,
           -86.1398738
          ],
          [
           "United States",
           "Nucor Corp",
           2304,
           39.976379,
           -86.830727
          ],
          [
           "United States",
           "Nucor Corp",
           910,
           34.375628,
           -79.895165
          ],
          [
           "United States",
           "Nucor Steel Decatur LLC",
           3100,
           34.63963,
           -87.085738
          ],
          [
           "United States",
           "Nucor Corp",
           2722,
           38.759878,
           -84.996204
          ],
          [
           "United States",
           "Nucor Corp",
           1542,
           36.353006,
           -76.811471
          ],
          [
           "United States",
           "Nucor Corp",
           2450,
           35.901162,
           -89.77619
          ],
          [
           "United States",
           "Nucor Corp",
           907,
           31.351853,
           -96.165436
          ],
          [
           "United States",
           "Nucor Steel Kankakee Inc",
           794,
           41.180734,
           -87.856196
          ],
          [
           "United States",
           "Nucor Steel Memphis Inc",
           891,
           35.048395,
           -90.163033
          ],
          [
           "United States",
           "Nucor Corp",
           1088,
           42.078908,
           -97.360854
          ],
          [
           "United States",
           "Nucor Corp",
           908,
           41.882789,
           -112.196743
          ],
          [
           "United States",
           "Nucor Steel Seattle Inc",
           855,
           47.569597,
           -122.367395
          ],
          [
           "United States",
           "Nucor Steel Tuscaloosa Inc",
           1200,
           33.234761,
           -87.508498
          ],
          [
           "United States",
           "Nucor Yamato Steel Co",
           3174,
           35.941421,
           -89.713819
          ],
          [
           "United States",
           "Optimus Steel LLC",
           750,
           30.08201,
           -94.074694
          ],
          [
           "United States",
           "Outokumpu Stainless USA LLC",
           1000,
           31.148179,
           -87.98866
          ],
          [
           "United States",
           "SSAB Americas Holding AB",
           1250,
           30.941783,
           -88.012437
          ],
          [
           "United States",
           "SSAB Americas Holding AB",
           1200,
           41.482009,
           -90.820921
          ],
          [
           "United States",
           "Steel Dynamics Inc",
           2900,
           41.37064,
           -84.917454
          ],
          [
           "United States",
           "Steel Dynamics Inc",
           2000,
           41.121613,
           -85.348602
          ],
          [
           "United States",
           "Steel Dynamics Inc",
           3400,
           33.44758,
           -88.572683
          ],
          [
           "United States",
           "Steel Dynamics Inc",
           950,
           39.875508,
           -86.484214
          ],
          [
           "United States",
           "Steel Dynamics Inc",
           590,
           37.272927,
           -79.998828
          ],
          [
           "United States",
           "Steel Dynamics Inc",
           2722,
           28.05182,
           -97.48804
          ],
          [
           "United States",
           "Big River Steel LLC",
           6022,
           35.644264,
           -89.941659
          ],
          [
           "United States",
           "United States Steel Corp",
           2600,
           40.39514,
           -79.859645
          ],
          [
           "United States",
           "United States Steel Corp",
           1600,
           33.480697,
           -86.937854
          ],
          [
           "United States",
           "United States Steel Corp",
           7800,
           41.620799,
           -87.348266
          ],
          [
           "United States",
           "Vallourec Star LP",
           725,
           41.125495,
           -80.683382
          ]
         ],
         "geo": "geo",
         "hovertemplate": "<b>%{hovertext}</b><br><br>Region=North America<br>Nominal crude steel capacity (ttpa)=%{customdata[2]:.0f}<br>Country/Area=%{customdata[0]}<br>Owner=%{customdata[1]}<extra></extra>",
         "hovertext": [
          "Algoma steel plant",
          "ArcelorMittal Dofasco steel plant",
          "ArcelorMittal Montreal steel plant",
          "Cleveland-Cliffs Lake Erie steel plant",
          "Evraz Regina Steel plant",
          "Gerdau Whitby Steel Mill",
          "Ivaco Rolling Mills steel plant",
          "Rio Tinto Fer et Titane steel plant",
          "ArcelorMittal Lázaro Cárdenas steel plant",
          "DEACERO Celaya steel plant",
          "DEACERO Ramos Arizpe steel plant",
          "Gerdau Corsa Ciudad Sahagún steel plant",
          "Gerdau Corsa Tultitlán steel plant",
          "Grupo Acerero steel plant",
          "Grupo Simec Apizaco Cholula steel plant",
          "Grupo Simec San Luis steel plants",
          "Tenaris TAMSA Veracruz steel plant",
          "Ternium Apodaca steel plant",
          "Ternium Guerrero San Nicolás de los Garza steel plant",
          "Ternium Puebla steel plant",
          "TYASA steel plant",
          "Alton Steel plant",
          "ArcelorMittal Calvert",
          "BlueScope North Star Steel plant",
          "Cascade Steel Rolling Mills",
          "Charter Steel Cleveland plant",
          "Charter Steel Saukville plant",
          "Cleveland-Cliffs Burns Harbor steel plant",
          "Cleveland-Cliffs Butler steel plant",
          "Cleveland-Cliffs Cleveland steel plant",
          "Cleveland-Cliffs Coatesville steel plant",
          "Cleveland-Cliffs Dearborn steel plant",
          "Cleveland-Cliffs Indiana Harbor steel plant",
          "Cleveland-Cliffs Mansfield Works",
          "Cleveland-Cliffs Middletown steel plant",
          "CMC Alabama steel plant",
          "CMC Arizona steel plant",
          "CMC South Carolina steel plant",
          "CMC Steel Florida plant",
          "CMC Steel New Jersey plant",
          "CMC Steel Texas plant",
          "CMC Tennessee steel plant",
          "Evraz Pueblo steel plant",
          "Finkl Steel Chicago plant",
          "Gerdau Cartersville steel plant",
          "Gerdau Fort Smith steel plant",
          "Gerdau Jackson steel mill",
          "Gerdau Midlothian Steel Mill",
          "Gerdau Monroe steel plant",
          "Gerdau Petersburg Steel Mill",
          "Hybar Arkansas steel plant",
          "JSW Steel USA Ohio plant",
          "Leggett & Platt Sterling Steel plant",
          "Metallus Faircrest steel plant",
          "NLMK Indiana steel plant",
          "North American Stainless Ghent steel plant",
          "Nucor Steel Berkeley plant",
          "Nucor Steel Birmingham plant",
          "Nucor Steel Brandenburg plant",
          "Nucor Steel Crawfordsville plant",
          "Nucor Steel Darlington plant",
          "Nucor Steel Decatur plant",
          "Nucor Steel Gallatin plant",
          "Nucor Steel Hertford plant",
          "Nucor Steel Hickman plant",
          "Nucor Steel Jewett plant",
          "Nucor Steel Kankakee plant",
          "Nucor Steel Memphis plant",
          "Nucor Steel Norfolk plant",
          "Nucor Steel Plymouth plant",
          "Nucor Steel Seattle plant",
          "Nucor Steel Tuscaloosa plant",
          "Nucor-Yamato Steel Blytheville plant",
          "Optimus Steel Beaumont plant",
          "Outokumpu Stainless USA steel plant",
          "SSAB Americas Alabama steel plant",
          "SSAB Americas Iowa steel plant",
          "Steel Dynamics Butler plant",
          "Steel Dynamics Columbia City plant",
          "Steel Dynamics Columbus plant",
          "Steel Dynamics Engineered Bar Products steel plant",
          "Steel Dynamics Roanoke steel plant",
          "Steel Dynamics Sinton plant",
          "U.S. Steel Big River Steel plant",
          "U.S. Steel Edgar Thomson Plant",
          "U.S. Steel Fairfield plant",
          "U.S. Steel Gary Works",
          "Vallourec Star Youngstown steel plant"
         ],
         "lat": {
          "bdata": "2pJVEW5CR0BqpKXydqJFQO+oMSHm6kZAdlCJ6xhnRUAu4jsx60FJQFWmmIOg7UVANlZinpXORkDFAl/RrQVHQJfHmpFB7jFAAyUFFsCENEA89UiD24I5QPw5BfnZwDNAvt798V6hM0BsBrggWxY2QMNhaeBHZTNAVOQQcXMaNkB+jSRBuC4zQCfaVUj5vTlAAW2rWWe4OUAfoPtyZiszQBlUG5yI3jJAc7osJjZxQ0DWOJuOACY/QKnCn+HNyERA86s5QDCdRkAHKXgKubhEQAH8U6pEs0VAMsaH2cvQREDW/WMhOmxEQGeAC7Jlu0RAJjRJLCn9Q0CuSbclcidFQCf4pumz1URAoWgewCJlREC5F5gVir5DQPXyO01mxEBA+yMMA5akQECi7Zi6K/tAQDrP2JdsSD5AHEXWGko9REDnx19a1JM9QBwLCoMy/UFAfjUHCOYcQ0CfsMQDytxEQPJ4Wn7gHkFAYYkHlE2nQUA0Spf+Jd1BQJI9Qs2QOkBAQRGLGHbyREB2ilWDMJdCQKw3aoXp10FAAmcpWU4oREBeTZ6ymuREQDvl0Y2wYERARBZp4h3QREAB9zx/2lxDQC/gZYaNgEBAZOlDF9TFQECQZPs1/v9CQCfAsPz5/ENAH7sLlBQwQUAuxVVl31FBQJZ5q65DYUNAWaX0TC8tQkDwMsNGWfNBQN7/xwkTWj9APKOtSiKXREAcJa/OMYZBQEayR6gZCkVAYCLeOv/wREAqc/ON6MhHQCmwAKYMnkBAQWK7e4D4QUDp8Xub/hQ+QDj0Fg/vJT9AxO3QsBjxPkBXsI14sr1EQHNLqyFxr0RAXeLIA5GPRED+KytNSrlAQHWxaaUQ8ENAA5mdRe+iQkBaR1UTRA08QL3+JD530kFAtKuQ8pMyRECFJLN6h71AQNsxdVd2z0RA4GdcOBCQREA=",
          "dtype": "f8"
         },
         "legendgroup": "North America",
         "lon": {
          "bdata": "up7ouvAXVcAi+yDLgvNTwLk4KjdRUFLAjniymxkGVMDpDfeRWyhawGDKwAEtulPA/x8nTBitUsAqVg3C3EhSwGcN3lfljFnAdqc7Tzw7WcBG7unqjj1ZwK5nCMcspljAm/7sR4rLWMCcjCrDuDlZwMTouYWuhVjAvRqgNNQ6WcBN9zqpLw9YwE4On3QiD1nA3NeBc0YTWcDe5LfoZJRYwOXTY1sGQ1jAXoWUn1SJVsAUQDGyZP9VwE8/qIsUA1XAIqrwZ3jKXsBS0Vj7O2pUwE2EDU+v/FXARGraxTTJVcBdNc8R+fpTwLYxdsJLa1TANsr6zcT0UsAjh4ibU8pUwI0ngjgP3FXATrhX5q2hVMANNJ9ztxhVwK1M+KV+sFXA+wYmN4rlW8AQAvIlVENUwNYcIJijflTAnznrU46UUsCg+geRDIJYwDwRxHk4/VTAuRluwOcmWsDwayQJwuVVwBk4oKUrM1XATRJLyt2XV8BmaDwRxDNWwDSBIhYxQljAGAtD5PTWVMC/f/PixFxTwOWXwRiRfVbAqb9eYcEmVMAejNgngG1WwBR4J58eXFTAEK6AQj3KVcBZwARu3URVwNqPFJFh+FPAWdsUj4uzVcBOJD2x84hVwN45lKEqtVXAh+EjYkr5U8CRgTy7fMVVwD4JbM7BP1XAwakPJO8zU8DdXtIYrXFWwDBl4ICWCljA071O6sv2VcDNyvYhb4pWwF8oYDsYV1jA4q3zb5cMXMCxbVFmg5dewDYFMjuL4FXA3BDjNa9tVsBGzVfJx4RXwEG3lzRG/1XAqhCPxMsAVsBg5jv4ibRWwGdl+5C3OlXAflTDfk9WVcBp/pjWpiRWwPuQt1z9nlXAEJVGzOz/U8DzyB8MPF9YwPs+HCREfFbA4Ep2bAT3U8APm8jMBbxVwMITev1J1lXANCvbh7wrVMA=",
          "dtype": "f8"
         },
         "marker": {
          "color": "#FF6692",
          "size": {
           "bdata": "AAAAAADorEAAAAAAABiVQAAAAAAAwKJAAAAAAACIo0AAAAAAAMCSQAAAAAAAMJFAAAAAAABQhEAAAAAAAMCCQAAAAAAAZLlAAAAAAAD4oUAAAAAAADChQAAAAAAAQI9AAAAAAABAf0AAAAAAAKiGQAAAAAAA0JFAAAAAAACAiUAAAAAAADiTQAAAAAAAwIJAAAAAAADAokAAAAAAAMiUQAAAAAAAyJlAAAAAAABAhUAAAAAAAHCXQAAAAAAAtKdAAAAAAADgikAAAAAAANiDQAAAAAAA0IFAAAAAAACJs0AAAAAAAGCMQAAAAAAABLBAAAAAAAAAiUAAAAAAAHCnQAAAAAAAkLpAAAAAAAAQgUAAAAAAAESlQAAAAAAAaIRAAAAAAADQi0AAAAAAAECIQAAAAAAASINAAAAAAABohEAAAAAAAHiNQAAAAAAAAIFAAAAAAAAwkUAAAAAAAOiBQAAAAAAAYIxAAAAAAACQf0AAAAAAAKiDQAAAAAAAcJdAAAAAAADQhkAAAAAAAKiJQAAAAAAAAIFAAAAAAABwl0AAAAAAAAiRQAAAAAAAAJFAAAAAAAAQiEAAAAAAAACZQAAAAAAAGKdAAAAAAABAf0AAAAAAAKiWQAAAAAAAAKJAAAAAAABwjEAAAAAAADioQAAAAAAARKVAAAAAAAAYmEAAAAAAACSjQAAAAAAAWIxAAAAAAADQiEAAAAAAANiLQAAAAAAAAJFAAAAAAABgjEAAAAAAALiKQAAAAAAAwJJAAAAAAADMqEAAAAAAAHCHQAAAAAAAQI9AAAAAAACIk0AAAAAAAMCSQAAAAAAAqKZAAAAAAABAn0AAAAAAAJCqQAAAAAAAsI1AAAAAAABwgkAAAAAAAESlQAAAAAAAhrdAAAAAAABQpEAAAAAAAACZQAAAAAAAeL5AAAAAAACohkA=",
           "dtype": "f8"
          },
          "sizemode": "area",
          "sizeref": 102.21777777777778,
          "symbol": "circle"
         },
         "mode": "markers",
         "name": "North America",
         "showlegend": true,
         "type": "scattergeo"
        }
       ],
       "layout": {
        "geo": {
         "center": {},
         "coastlinecolor": "rgb(204, 204, 204)",
         "countrycolor": "rgb(204, 204, 204)",
         "domain": {
          "x": [
           0,
           1
          ],
          "y": [
           0,
           1
          ]
         },
         "landcolor": "rgb(243, 243, 243)",
         "oceancolor": "rgb(230, 245, 255)",
         "projection": {
          "type": "natural earth"
         },
         "showcountries": true,
         "showland": true,
         "showocean": true
        },
        "height": 600,
        "legend": {
         "itemsizing": "constant",
         "title": {
          "text": "Region"
         },
         "tracegroupgap": 0
        },
        "template": {
         "data": {
          "bar": [
           {
            "error_x": {
             "color": "#2a3f5f"
            },
            "error_y": {
             "color": "#2a3f5f"
            },
            "marker": {
             "line": {
              "color": "#E5ECF6",
              "width": 0.5
             },
             "pattern": {
              "fillmode": "overlay",
              "size": 10,
              "solidity": 0.2
             }
            },
            "type": "bar"
           }
          ],
          "barpolar": [
           {
            "marker": {
             "line": {
              "color": "#E5ECF6",
              "width": 0.5
             },
             "pattern": {
              "fillmode": "overlay",
              "size": 10,
              "solidity": 0.2
             }
            },
            "type": "barpolar"
           }
          ],
          "carpet": [
           {
            "aaxis": {
             "endlinecolor": "#2a3f5f",
             "gridcolor": "white",
             "linecolor": "white",
             "minorgridcolor": "white",
             "startlinecolor": "#2a3f5f"
            },
            "baxis": {
             "endlinecolor": "#2a3f5f",
             "gridcolor": "white",
             "linecolor": "white",
             "minorgridcolor": "white",
             "startlinecolor": "#2a3f5f"
            },
            "type": "carpet"
           }
          ],
          "choropleth": [
           {
            "colorbar": {
             "outlinewidth": 0,
             "ticks": ""
            },
            "type": "choropleth"
           }
          ],
          "contour": [
           {
            "colorbar": {
             "outlinewidth": 0,
             "ticks": ""
            },
            "colorscale": [
             [
              0,
              "#0d0887"
             ],
             [
              0.1111111111111111,
              "#46039f"
             ],
             [
              0.2222222222222222,
              "#7201a8"
             ],
             [
              0.3333333333333333,
              "#9c179e"
             ],
             [
              0.4444444444444444,
              "#bd3786"
             ],
             [
              0.5555555555555556,
              "#d8576b"
             ],
             [
              0.6666666666666666,
              "#ed7953"
             ],
             [
              0.7777777777777778,
              "#fb9f3a"
             ],
             [
              0.8888888888888888,
              "#fdca26"
             ],
             [
              1,
              "#f0f921"
             ]
            ],
            "type": "contour"
           }
          ],
          "contourcarpet": [
           {
            "colorbar": {
             "outlinewidth": 0,
             "ticks": ""
            },
            "type": "contourcarpet"
           }
          ],
          "heatmap": [
           {
            "colorbar": {
             "outlinewidth": 0,
             "ticks": ""
            },
            "colorscale": [
             [
              0,
              "#0d0887"
             ],
             [
              0.1111111111111111,
              "#46039f"
             ],
             [
              0.2222222222222222,
              "#7201a8"
             ],
             [
              0.3333333333333333,
              "#9c179e"
             ],
             [
              0.4444444444444444,
              "#bd3786"
             ],
             [
              0.5555555555555556,
              "#d8576b"
             ],
             [
              0.6666666666666666,
              "#ed7953"
             ],
             [
              0.7777777777777778,
              "#fb9f3a"
             ],
             [
              0.8888888888888888,
              "#fdca26"
             ],
             [
              1,
              "#f0f921"
             ]
            ],
            "type": "heatmap"
           }
          ],
          "histogram": [
           {
            "marker": {
             "pattern": {
              "fillmode": "overlay",
              "size": 10,
              "solidity": 0.2
             }
            },
            "type": "histogram"
           }
          ],
          "histogram2d": [
           {
            "colorbar": {
             "outlinewidth": 0,
             "ticks": ""
            },
            "colorscale": [
             [
              0,
              "#0d0887"
             ],
             [
              0.1111111111111111,
              "#46039f"
             ],
             [
              0.2222222222222222,
              "#7201a8"
             ],
             [
              0.3333333333333333,
              "#9c179e"
             ],
             [
              0.4444444444444444,
              "#bd3786"
             ],
             [
              0.5555555555555556,
              "#d8576b"
             ],
             [
              0.6666666666666666,
              "#ed7953"
             ],
             [
              0.7777777777777778,
              "#fb9f3a"
             ],
             [
              0.8888888888888888,
              "#fdca26"
             ],
             [
              1,
              "#f0f921"
             ]
            ],
            "type": "histogram2d"
           }
          ],
          "histogram2dcontour": [
           {
            "colorbar": {
             "outlinewidth": 0,
             "ticks": ""
            },
            "colorscale": [
             [
              0,
              "#0d0887"
             ],
             [
              0.1111111111111111,
              "#46039f"
             ],
             [
              0.2222222222222222,
              "#7201a8"
             ],
             [
              0.3333333333333333,
              "#9c179e"
             ],
             [
              0.4444444444444444,
              "#bd3786"
             ],
             [
              0.5555555555555556,
              "#d8576b"
             ],
             [
              0.6666666666666666,
              "#ed7953"
             ],
             [
              0.7777777777777778,
              "#fb9f3a"
             ],
             [
              0.8888888888888888,
              "#fdca26"
             ],
             [
              1,
              "#f0f921"
             ]
            ],
            "type": "histogram2dcontour"
           }
          ],
          "mesh3d": [
           {
            "colorbar": {
             "outlinewidth": 0,
             "ticks": ""
            },
            "type": "mesh3d"
           }
          ],
          "parcoords": [
           {
            "line": {
             "colorbar": {
              "outlinewidth": 0,
              "ticks": ""
             }
            },
            "type": "parcoords"
           }
          ],
          "pie": [
           {
            "automargin": true,
            "type": "pie"
           }
          ],
          "scatter": [
           {
            "fillpattern": {
             "fillmode": "overlay",
             "size": 10,
             "solidity": 0.2
            },
            "type": "scatter"
           }
          ],
          "scatter3d": [
           {
            "line": {
             "colorbar": {
              "outlinewidth": 0,
              "ticks": ""
             }
            },
            "marker": {
             "colorbar": {
              "outlinewidth": 0,
              "ticks": ""
             }
            },
            "type": "scatter3d"
           }
          ],
          "scattercarpet": [
           {
            "marker": {
             "colorbar": {
              "outlinewidth": 0,
              "ticks": ""
             }
            },
            "type": "scattercarpet"
           }
          ],
          "scattergeo": [
           {
            "marker": {
             "colorbar": {
              "outlinewidth": 0,
              "ticks": ""
             }
            },
            "type": "scattergeo"
           }
          ],
          "scattergl": [
           {
            "marker": {
             "colorbar": {
              "outlinewidth": 0,
              "ticks": ""
             }
            },
            "type": "scattergl"
           }
          ],
          "scattermap": [
           {
            "marker": {
             "colorbar": {
              "outlinewidth": 0,
              "ticks": ""
             }
            },
            "type": "scattermap"
           }
          ],
          "scattermapbox": [
           {
            "marker": {
             "colorbar": {
              "outlinewidth": 0,
              "ticks": ""
             }
            },
            "type": "scattermapbox"
           }
          ],
          "scatterpolar": [
           {
            "marker": {
             "colorbar": {
              "outlinewidth": 0,
              "ticks": ""
             }
            },
            "type": "scatterpolar"
           }
          ],
          "scatterpolargl": [
           {
            "marker": {
             "colorbar": {
              "outlinewidth": 0,
              "ticks": ""
             }
            },
            "type": "scatterpolargl"
           }
          ],
          "scatterternary": [
           {
            "marker": {
             "colorbar": {
              "outlinewidth": 0,
              "ticks": ""
             }
            },
            "type": "scatterternary"
           }
          ],
          "surface": [
           {
            "colorbar": {
             "outlinewidth": 0,
             "ticks": ""
            },
            "colorscale": [
             [
              0,
              "#0d0887"
             ],
             [
              0.1111111111111111,
              "#46039f"
             ],
             [
              0.2222222222222222,
              "#7201a8"
             ],
             [
              0.3333333333333333,
              "#9c179e"
             ],
             [
              0.4444444444444444,
              "#bd3786"
             ],
             [
              0.5555555555555556,
              "#d8576b"
             ],
             [
              0.6666666666666666,
              "#ed7953"
             ],
             [
              0.7777777777777778,
              "#fb9f3a"
             ],
             [
              0.8888888888888888,
              "#fdca26"
             ],
             [
              1,
              "#f0f921"
             ]
            ],
            "type": "surface"
           }
          ],
          "table": [
           {
            "cells": {
             "fill": {
              "color": "#EBF0F8"
             },
             "line": {
              "color": "white"
             }
            },
            "header": {
             "fill": {
              "color": "#C8D4E3"
             },
             "line": {
              "color": "white"
             }
            },
            "type": "table"
           }
          ]
         },
         "layout": {
          "annotationdefaults": {
           "arrowcolor": "#2a3f5f",
           "arrowhead": 0,
           "arrowwidth": 1
          },
          "autotypenumbers": "strict",
          "coloraxis": {
           "colorbar": {
            "outlinewidth": 0,
            "ticks": ""
           }
          },
          "colorscale": {
           "diverging": [
            [
             0,
             "#8e0152"
            ],
            [
             0.1,
             "#c51b7d"
            ],
            [
             0.2,
             "#de77ae"
            ],
            [
             0.3,
             "#f1b6da"
            ],
            [
             0.4,
             "#fde0ef"
            ],
            [
             0.5,
             "#f7f7f7"
            ],
            [
             0.6,
             "#e6f5d0"
            ],
            [
             0.7,
             "#b8e186"
            ],
            [
             0.8,
             "#7fbc41"
            ],
            [
             0.9,
             "#4d9221"
            ],
            [
             1,
             "#276419"
            ]
           ],
           "sequential": [
            [
             0,
             "#0d0887"
            ],
            [
             0.1111111111111111,
             "#46039f"
            ],
            [
             0.2222222222222222,
             "#7201a8"
            ],
            [
             0.3333333333333333,
             "#9c179e"
            ],
            [
             0.4444444444444444,
             "#bd3786"
            ],
            [
             0.5555555555555556,
             "#d8576b"
            ],
            [
             0.6666666666666666,
             "#ed7953"
            ],
            [
             0.7777777777777778,
             "#fb9f3a"
            ],
            [
             0.8888888888888888,
             "#fdca26"
            ],
            [
             1,
             "#f0f921"
            ]
           ],
           "sequentialminus": [
            [
             0,
             "#0d0887"
            ],
            [
             0.1111111111111111,
             "#46039f"
            ],
            [
             0.2222222222222222,
             "#7201a8"
            ],
            [
             0.3333333333333333,
             "#9c179e"
            ],
            [
             0.4444444444444444,
             "#bd3786"
            ],
            [
             0.5555555555555556,
             "#d8576b"
            ],
            [
             0.6666666666666666,
             "#ed7953"
            ],
            [
             0.7777777777777778,
             "#fb9f3a"
            ],
            [
             0.8888888888888888,
             "#fdca26"
            ],
            [
             1,
             "#f0f921"
            ]
           ]
          },
          "colorway": [
           "#636efa",
           "#EF553B",
           "#00cc96",
           "#ab63fa",
           "#FFA15A",
           "#19d3f3",
           "#FF6692",
           "#B6E880",
           "#FF97FF",
           "#FECB52"
          ],
          "font": {
           "color": "#2a3f5f"
          },
          "geo": {
           "bgcolor": "white",
           "lakecolor": "white",
           "landcolor": "#E5ECF6",
           "showlakes": true,
           "showland": true,
           "subunitcolor": "white"
          },
          "hoverlabel": {
           "align": "left"
          },
          "hovermode": "closest",
          "mapbox": {
           "style": "light"
          },
          "paper_bgcolor": "white",
          "plot_bgcolor": "#E5ECF6",
          "polar": {
           "angularaxis": {
            "gridcolor": "white",
            "linecolor": "white",
            "ticks": ""
           },
           "bgcolor": "#E5ECF6",
           "radialaxis": {
            "gridcolor": "white",
            "linecolor": "white",
            "ticks": ""
           }
          },
          "scene": {
           "xaxis": {
            "backgroundcolor": "#E5ECF6",
            "gridcolor": "white",
            "gridwidth": 2,
            "linecolor": "white",
            "showbackground": true,
            "ticks": "",
            "zerolinecolor": "white"
           },
           "yaxis": {
            "backgroundcolor": "#E5ECF6",
            "gridcolor": "white",
            "gridwidth": 2,
            "linecolor": "white",
            "showbackground": true,
            "ticks": "",
            "zerolinecolor": "white"
           },
           "zaxis": {
            "backgroundcolor": "#E5ECF6",
            "gridcolor": "white",
            "gridwidth": 2,
            "linecolor": "white",
            "showbackground": true,
            "ticks": "",
            "zerolinecolor": "white"
           }
          },
          "shapedefaults": {
           "line": {
            "color": "#2a3f5f"
           }
          },
          "ternary": {
           "aaxis": {
            "gridcolor": "white",
            "linecolor": "white",
            "ticks": ""
           },
           "baxis": {
            "gridcolor": "white",
            "linecolor": "white",
            "ticks": ""
           },
           "bgcolor": "#E5ECF6",
           "caxis": {
            "gridcolor": "white",
            "linecolor": "white",
            "ticks": ""
           }
          },
          "title": {
           "x": 0.05
          },
          "xaxis": {
           "automargin": true,
           "gridcolor": "white",
           "linecolor": "white",
           "ticks": "",
           "title": {
            "standoff": 15
           },
           "zerolinecolor": "white",
           "zerolinewidth": 2
          },
          "yaxis": {
           "automargin": true,
           "gridcolor": "white",
           "linecolor": "white",
           "ticks": "",
           "title": {
            "standoff": 15
           },
           "zerolinecolor": "white",
           "zerolinewidth": 2
          }
         }
        },
        "title": {
         "text": "Geographic Distribution of Operating Steel Plants Worldwide (with Capacity Data)"
        }
       }
      }
     },
     "metadata": {},
     "output_type": "display_data"
    },
    {
     "name": "stdout",
     "output_type": "stream",
     "text": [
      "\n",
      "Geographic Coverage:\n",
      "  Countries represented: 80\n",
      "  Regions represented: 7\n",
      "\n",
      "Top 10 countries by number of operating plants:\n",
      "Country/Area\n",
      "China            289\n",
      "India             74\n",
      "United States     70\n",
      "Japan             38\n",
      "Iran              31\n",
      "Russia            27\n",
      "Türkiye           25\n",
      "Brazil            22\n",
      "Italy             22\n",
      "Vietnam           20\n",
      "Name: count, dtype: int64\n"
     ]
    }
   ],
   "source": [
    "# Split coordinates column into latitude and longitude\n",
    "df[['latitude', 'longitude']] = df['Coordinates'].str.split(',', expand=True)\n",
    "df['latitude'] = pd.to_numeric(df['latitude'], errors='coerce')\n",
    "df['longitude'] = pd.to_numeric(df['longitude'], errors='coerce')\n",
    "\n",
    "print(f\"Latitude range:\")\n",
    "print(f\"  Min: {df['latitude'].min():.4f}°\")\n",
    "print(f\"  Max: {df['latitude'].max():.4f}°\")\n",
    "print(f\"  Mean: {df['latitude'].mean():.4f}°\")\n",
    "print(f\"\\nLongitude range:\")\n",
    "print(f\"  Min: {df['longitude'].min():.4f}°\")\n",
    "print(f\"  Max: {df['longitude'].max():.4f}°\")\n",
    "print(f\"  Mean: {df['longitude'].mean():.4f}°\")\n",
    "\n",
    "# Filter out plants without capacity data for better visualization\n",
    "df_with_capacity = df.dropna(subset=['Nominal crude steel capacity (ttpa)'])\n",
    "\n",
    "print(f\"\\nPlants with capacity data for visualization: {len(df_with_capacity)} out of {len(df)}\")\n",
    "\n",
    "# Create scatter geo map showing operating plants with capacity data\n",
    "fig_geo = px.scatter_geo(\n",
    "    df_with_capacity,\n",
    "    lat='latitude',\n",
    "    lon='longitude',\n",
    "    hover_name='Plant name (English)',\n",
    "    hover_data={\n",
    "        'Country/Area': True,\n",
    "        'Owner': True,\n",
    "        'Nominal crude steel capacity (ttpa)': ':.0f',\n",
    "        'latitude': False,\n",
    "        'longitude': False\n",
    "    },\n",
    "    size='Nominal crude steel capacity (ttpa)',\n",
    "    color='Region',\n",
    "    title='Geographic Distribution of Operating Steel Plants Worldwide (with Capacity Data)',\n",
    "    size_max=15,\n",
    "    projection='natural earth'\n",
    ")\n",
    "\n",
    "fig_geo.update_layout(\n",
    "    height=600,\n",
    "    geo=dict(\n",
    "        showland=True,\n",
    "        landcolor='rgb(243, 243, 243)',\n",
    "        coastlinecolor='rgb(204, 204, 204)',\n",
    "        showocean=True,\n",
    "        oceancolor='rgb(230, 245, 255)',\n",
    "        showcountries=True,\n",
    "        countrycolor='rgb(204, 204, 204)'\n",
    "    )\n",
    ")\n",
    "fig_geo.show()\n",
    "\n",
    "print(f\"\\nGeographic Coverage:\")\n",
    "print(f\"  Countries represented: {df['Country/Area'].nunique()}\")\n",
    "print(f\"  Regions represented: {df['Region'].nunique()}\")\n",
    "print(f\"\\nTop 10 countries by number of operating plants:\")\n",
    "print(df['Country/Area'].value_counts().head(10))"
   ]
  },
  {
   "cell_type": "code",
   "execution_count": null,
   "metadata": {},
   "outputs": [],
   "source": [
    "# Convert Plant age to numeric\n",
    "df['Plant age (years)'] = pd.to_numeric(df['Plant age (years)'], errors='coerce')\n",
    "\n",
    "print(f\"\\nPlants with age data: {df['Plant age (years)'].notna().sum()} out of {len(df)}\")\n",
    "print(f\"\\nAge Statistics:\")\n",
    "print(f\"  Mean: {df['Plant age (years)'].mean():.2f} years\")\n",
    "print(f\"  Median: {df['Plant age (years)'].median():.2f} years\")\n",
    "print(f\"  Min: {df['Plant age (years)'].min():.0f} years\")\n",
    "print(f\"  Max: {df['Plant age (years)'].max():.0f} years\")\n",
    "print(f\"  Std Dev: {df['Plant age (years)'].std():.2f} years\")\n",
    "\n",
    "# Age distribution by bins\n",
    "print(f\"\\nAge Distribution by Category:\")\n",
    "age_bins = [0, 10, 20, 30, 40, 50, 100, 300]\n",
    "age_labels = ['0-10 years', '11-20 years', '21-30 years', '31-40 years', '41-50 years', '51-100 years', '100+ years']\n",
    "df['age_category'] = pd.cut(df['Plant age (years)'], bins=age_bins, labels=age_labels, right=True)\n",
    "print(df['age_category'].value_counts().sort_index())\n",
    "\n",
    "# ============================================================================\n",
    "# PLOTLY VISUALIZATIONS FOR PLANT AGE DISTRIBUTION\n",
    "# ============================================================================\n",
    "\n",
    "# 1. Histogram of plant ages\n",
    "fig_age_hist = px.histogram(\n",
    "    df.dropna(subset=['Plant age (years)']),\n",
    "    x='Plant age (years)',\n",
    "    nbins=40,\n",
    "    title='Distribution of Plant Ages (Operating Plants)',\n",
    "    labels={'Plant age (years)': 'Plant Age (years)'},\n",
    "    color_discrete_sequence=['#2ca02c']\n",
    ")\n",
    "fig_age_hist.update_layout(\n",
    "    xaxis_title='Plant Age (years)',\n",
    "    yaxis_title='Number of Plants',\n",
    "    showlegend=False,\n",
    "    height=400\n",
    ")\n",
    "fig_age_hist.show()\n",
    "\n",
    "# 2. Box plot of plant ages\n",
    "fig_age_box = px.box(\n",
    "    df.dropna(subset=['Plant age (years)']),\n",
    "    y='Plant age (years)',\n",
    "    title='Plant Age Distribution Statistics',\n",
    "    points='all',\n",
    "    color_discrete_sequence=['#2ca02c']\n",
    ")\n",
    "fig_age_box.update_layout(\n",
    "    yaxis_title='Plant Age (years)',\n",
    "    showlegend=False,\n",
    "    height=400\n",
    ")\n",
    "fig_age_box.show()\n",
    "\n",
    "# 3. Bar chart of age categories\n",
    "age_category_counts = df['age_category'].value_counts().sort_index()\n",
    "fig_age_cat = px.bar(\n",
    "    x=age_category_counts.index.astype(str),\n",
    "    y=age_category_counts.values,\n",
    "    title='Number of Operating Plants by Age Category',\n",
    "    labels={'x': 'Age Category', 'y': 'Number of Plants'},\n",
    "    color=age_category_counts.values,\n",
    "    color_continuous_scale='Greens'\n",
    ")\n",
    "fig_age_cat.update_layout(\n",
    "    xaxis_title='Age Category',\n",
    "    yaxis_title='Number of Plants',\n",
    "    showlegend=False,\n",
    "    height=400\n",
    ")\n",
    "fig_age_cat.show()\n",
    "\n",
    "# 4. Scatter plot: Age vs Capacity\n",
    "fig_age_capacity = px.scatter(\n",
    "    df.dropna(subset=['Plant age (years)', 'Nominal crude steel capacity (ttpa)']),\n",
    "    x='Plant age (years)',\n",
    "    y='Nominal crude steel capacity (ttpa)',\n",
    "    color='Region',\n",
    "    size='Nominal crude steel capacity (ttpa)',\n",
    "    hover_name='Plant name (English)',\n",
    "    hover_data=['Country/Area', 'Owner'],\n",
    "    title='Plant Age vs Capacity (Operating Plants)',\n",
    "    size_max=15,\n",
    "    opacity=0.7\n",
    ")\n",
    "fig_age_capacity.update_layout(\n",
    "    xaxis_title='Plant Age (years)',\n",
    "    yaxis_title='Crude Steel Capacity (ttpa)',\n",
    "    height=500\n",
    ")\n",
    "fig_age_capacity.show()\n",
    "\n",
    "print(\"\\n\" + \"=\"*80)\n",
    "print(\"KEY INSIGHTS FROM AGE ANALYSIS\")\n",
    "print(\"=\"*80)\n",
    "print(f\"  • Oldest operating plant: {df['Plant age (years)'].max():.0f} years old\")\n",
    "print(f\"  • Newest operating plant: {df['Plant age (years)'].min():.0f} years old\")\n",
    "print(f\"  • Median age: {df['Plant age (years)'].median():.1f} years\")\n",
    "print(f\"  • Most common age range: {age_category_counts.idxmax()}\")\n",
    "print(f\"  • Plants over 100 years old: {(df['Plant age (years)'] > 100).sum()}\")\n",
    "print(\"=\"*80)"
   ]
  },
  {
   "cell_type": "markdown",
   "metadata": {},
   "source": [
    "### Question 3: Geographic Distribution\n",
    "**Task:** Analyze the geographic distribution of steel plants.\n",
    "- Which countries/regions have the most steel plants?\n",
    "- What is the distribution of plants by company?\n"
   ]
  },
  {
   "cell_type": "code",
   "execution_count": null,
   "metadata": {},
   "outputs": [],
   "source": [
    "# Count plants by country/region\n",
    "\n"
   ]
  },
  {
   "cell_type": "code",
   "execution_count": null,
   "metadata": {},
   "outputs": [],
   "source": [
    "# Count plants by company\n",
    "\n"
   ]
  },
  {
   "cell_type": "markdown",
   "metadata": {},
   "source": [
    "### Question 4: Capacity Analysis\n",
    "**Task:** Analyze the capacity distribution.\n",
    "- What is the total global steel production capacity?\n",
    "- Which companies have the highest total capacity?\n",
    "- How does capacity vary by region?\n"
   ]
  },
  {
   "cell_type": "code",
   "execution_count": null,
   "metadata": {},
   "outputs": [],
   "source": [
    "# Calculate total capacity\n",
    "\n"
   ]
  },
  {
   "cell_type": "code",
   "execution_count": null,
   "metadata": {},
   "outputs": [],
   "source": [
    "# Group by company and sum capacity\n",
    "\n"
   ]
  },
  {
   "cell_type": "markdown",
   "metadata": {},
   "source": [
    "---\n",
    "## Part 3: Geospatial Visualization with Plotly (15 minutes)\n",
    "\n",
    "Create interactive maps to visualize the steel plants' locations and characteristics.\n"
   ]
  },
  {
   "cell_type": "markdown",
   "metadata": {},
   "source": [
    "### Exercise 1: Basic Scatter Map\n",
    "**Task:** Create a scatter map showing all steel plant locations.\n",
    "- Use latitude and longitude for positioning\n",
    "- Color points by country or region\n",
    "- Add hover information showing plant name, company, and capacity\n"
   ]
  },
  {
   "cell_type": "code",
   "execution_count": null,
   "metadata": {},
   "outputs": [],
   "source": [
    "# Create a scatter_geo or scatter_mapbox plot\n",
    "# Hint: Use plotly.express.scatter_geo() or scatter_mapbox()\n",
    "\n"
   ]
  },
  {
   "cell_type": "markdown",
   "metadata": {},
   "source": [
    "### Exercise 2: Sized Markers by Capacity\n",
    "**Task:** Create a map where marker size represents plant capacity.\n",
    "- Larger markers for higher capacity plants\n",
    "- Color by company\n",
    "- Include interactive hover details\n"
   ]
  },
  {
   "cell_type": "code",
   "execution_count": null,
   "metadata": {},
   "outputs": [],
   "source": [
    "# Create scatter map with size parameter based on capacity\n",
    "\n"
   ]
  },
  {
   "cell_type": "markdown",
   "metadata": {},
   "source": [
    "### Exercise 3: Density Heatmap\n",
    "**Task:** Create a density map showing concentration of steel plants.\n",
    "- Use Plotly's density_mapbox to show clustering\n",
    "- Identify regions with high plant density\n"
   ]
  },
  {
   "cell_type": "code",
   "execution_count": null,
   "metadata": {},
   "outputs": [],
   "source": [
    "# Create density heatmap\n",
    "# Hint: Use plotly.express.density_mapbox()\n",
    "\n"
   ]
  },
  {
   "cell_type": "markdown",
   "metadata": {},
   "source": [
    "---\n",
    "## Part 4: Merging Environmental Data with Assets\n",
    "\n",
    "Integrate environmental data (e.g., air quality, emissions, proximity to water sources) with steel plant locations.\n"
   ]
  },
  {
   "cell_type": "markdown",
   "metadata": {},
   "source": [
    "### Exercise 1: Load Environmental Data\n",
    "**Task:** Load the environmental dataset and inspect it.\n",
    "\n",
    "- [Litpop database](https://www.research-collection.ethz.ch/entities/researchdata/12dcfc4f-9d03-463a-8d6b-76c0dc73cdc8)\n",
    "\n",
    "- Expected columns: location_id, latitude, longitude, population density, activity etc.\n"
   ]
  },
  {
   "cell_type": "code",
   "execution_count": null,
   "metadata": {},
   "outputs": [],
   "source": [
    "# Load environmental data\n",
    "\n"
   ]
  },
  {
   "cell_type": "code",
   "execution_count": null,
   "metadata": {},
   "outputs": [],
   "source": [
    "# Inspect environmental data\n",
    "\n"
   ]
  },
  {
   "cell_type": "markdown",
   "metadata": {},
   "source": [
    "### Exercise 2: Spatial Join or Nearest Neighbor Matching\n",
    "**Task:** Merge environmental data with steel plants based on geographic proximity.\n",
    "- Use nearest neighbor matching or spatial join\n",
    "- Consider using geopandas for distance calculations\n",
    "- Match each plant to the nearest environmental monitoring station\n"
   ]
  },
  {
   "cell_type": "code",
   "execution_count": null,
   "metadata": {},
   "outputs": [],
   "source": [
    "# Calculate distances or perform spatial join\n",
    "# Hint: You might calculate haversine distance or use a spatial library\n",
    "\n"
   ]
  },
  {
   "cell_type": "code",
   "execution_count": null,
   "metadata": {},
   "outputs": [],
   "source": [
    "# Merge datasets\n",
    "\n"
   ]
  },
  {
   "cell_type": "markdown",
   "metadata": {},
   "source": [
    "### Exercise 3: Visualize Merged Data\n",
    "**Task:** Create a map showing steel plants colored by environmental metrics.\n",
    "- Color plants by air quality index or other environmental indicators\n",
    "- Size by capacity\n",
    "- Add hover details with both plant and environmental information\n"
   ]
  },
  {
   "cell_type": "code",
   "execution_count": null,
   "metadata": {},
   "outputs": [],
   "source": [
    "# Create visualization of merged data\n",
    "\n"
   ]
  },
  {
   "cell_type": "markdown",
   "metadata": {},
   "source": [
    "---\n",
    "## Part 5: Company-Level Aggregation\n",
    "\n",
    "Aggregate data at the company level to analyze corporate footprints.\n"
   ]
  },
  {
   "cell_type": "markdown",
   "metadata": {},
   "source": [
    "### Exercise 1: Aggregate Metrics by Company\n",
    "**Task:** Group plants by company and calculate aggregate metrics.\n",
    "- Total capacity per company\n",
    "- Number of plants per company\n",
    "- Average environmental metrics per company\n",
    "- Geographic spread (e.g., number of countries)\n"
   ]
  },
  {
   "cell_type": "code",
   "execution_count": null,
   "metadata": {},
   "outputs": [],
   "source": [
    "# Group by company and aggregate\n",
    "\n"
   ]
  },
  {
   "cell_type": "markdown",
   "metadata": {},
   "source": [
    "### Exercise 2: Company Headquarters or Centroid\n",
    "**Task:** Calculate a representative location for each company.\n",
    "- Option 1: Use the centroid of all plant locations\n",
    "- Option 2: Use the location of the largest plant\n",
    "- Option 3: Assign actual headquarters coordinates\n"
   ]
  },
  {
   "cell_type": "code",
   "execution_count": null,
   "metadata": {},
   "outputs": [],
   "source": [
    "# Calculate company representative locations\n",
    "\n"
   ]
  },
  {
   "cell_type": "markdown",
   "metadata": {},
   "source": [
    "### Exercise 3: Visualize Company-Level Data\n",
    "**Task:** Create a map showing companies with aggregated metrics.\n",
    "- Show one marker per company at the representative location\n",
    "- Size by total capacity\n",
    "- Color by average environmental impact\n",
    "- Hover information with company summary statistics\n"
   ]
  },
  {
   "cell_type": "code",
   "execution_count": null,
   "metadata": {},
   "outputs": [],
   "source": [
    "# Create company-level visualization\n",
    "\n"
   ]
  },
  {
   "cell_type": "markdown",
   "metadata": {},
   "source": [
    "---\n",
    "## Part 6: Streamlit Dashboard Integration\n",
    "\n",
    "Prepare your visualizations for deployment in a Streamlit dashboard.\n"
   ]
  },
  {
   "cell_type": "markdown",
   "metadata": {},
   "source": [
    "### Exercise 1: Create Dashboard Script Structure\n",
    "**Task:** Create a Streamlit app file (`dashboard.py`) with the following structure:\n",
    "\n",
    "```python\n",
    "# Import streamlit and other necessary libraries\n",
    "\n",
    "# Set page configuration\n",
    "\n",
    "# Title and description\n",
    "\n",
    "# Sidebar for filters\n",
    "# - Company selector\n",
    "# - Region/country filter\n",
    "# - Capacity range slider\n",
    "\n",
    "# Main content area\n",
    "# - KPI metrics (total plants, total capacity, etc.)\n",
    "# - Interactive map\n",
    "# - Data table\n",
    "\n",
    "# Footer with data sources and notes\n",
    "```\n"
   ]
  },
  {
   "cell_type": "markdown",
   "metadata": {},
   "source": [
    "### Exercise 1: Prepare Data for Dashboard\n",
    "**Task:** Save your processed data to files that the dashboard will load.\n",
    "- Export cleaned plant data\n",
    "- Export merged environmental data\n",
    "- Export company-level aggregations\n",
    "- Save as CSV or Parquet for efficient loading\n"
   ]
  },
  {
   "cell_type": "code",
   "execution_count": null,
   "metadata": {},
   "outputs": [],
   "source": [
    "# Save processed datasets\n",
    "\n"
   ]
  },
  {
   "cell_type": "markdown",
   "metadata": {},
   "source": [
    "### Exercise 2: Display relevant information from your exploratory analysis into the dashboard"
   ]
  },
  {
   "cell_type": "code",
   "execution_count": null,
   "metadata": {},
   "outputs": [],
   "source": [
    "# This cell is for notes/observations about your dashboard\n",
    "# What works well?\n",
    "# What could be improved?\n",
    "# Any performance issues with large datasets?\n",
    "\n"
   ]
  },
  {
   "cell_type": "markdown",
   "metadata": {},
   "source": [
    "---\n",
    "## Lab Summary and Key Takeaways\n",
    "\n",
    "**What you learned:**\n",
    "- How to perform EDA on geospatial datasets\n",
    "- Creating interactive maps with Plotly for geospatial data\n",
    "- Merging spatial datasets based on geographic proximity\n",
    "- Aggregating geospatial data at different levels (asset vs. company)\n",
    "- Building interactive dashboards with Streamlit\n",
    "\n",
    "**Next Steps:**\n",
    "- Explore other geospatial libraries (GeoPandas, Folium, Kepler.gl)\n",
    "- Learn about coordinate reference systems (CRS) and projections\n",
    "- Practice with other datasets (buildings, utilities, transportation)\n",
    "- Deploy your dashboard to Streamlit Cloud or other hosting services\n"
   ]
  }
 ],
 "metadata": {
  "kernelspec": {
   "display_name": ".venv",
   "language": "python",
   "name": "python3"
  },
  "language_info": {
   "codemirror_mode": {
    "name": "ipython",
    "version": 3
   },
   "file_extension": ".py",
   "mimetype": "text/x-python",
   "name": "python",
   "nbconvert_exporter": "python",
   "pygments_lexer": "ipython3",
   "version": "3.13.7"
  }
 },
 "nbformat": 4,
 "nbformat_minor": 2
}
