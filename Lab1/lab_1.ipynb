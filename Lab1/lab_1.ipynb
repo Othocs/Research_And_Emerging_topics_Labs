{
 "cells": [
  {
   "cell_type": "markdown",
   "metadata": {},
   "source": [
    "# Geospatial Data Analysis Lab: Steel Plants Dataset\n",
    "\n",
    "\n",
    "**(15/10/2025) Learning Objectives:**\n",
    "- Perform exploratory data analysis (EDA) on geospatial datasets\n",
    "- Visualize geospatial data using interactive maps with Plotly\n",
    "- Merge environmental data with asset locations\n",
    "- Aggregate data at the company level\n",
    "- Integrate geospatial visualizations into a Streamlit dashboard\n",
    "\n",
    "---\n"
   ]
  },
  {
   "cell_type": "markdown",
   "metadata": {},
   "source": [
    "## Part 1: Setup and Data Loading\n",
    "\n",
    "Import the necessary libraries and load the steel plants dataset.\n"
   ]
  },
  {
   "cell_type": "code",
   "execution_count": 27,
   "metadata": {},
   "outputs": [],
   "source": [
    "# Import required libraries\n",
    "# - pandas for data manipulation\n",
    "# - numpy for numerical operations\n",
    "# - plotly.express and plotly.graph_objects for interactive visualizations\n",
    "# - Any other libraries you might need\n",
    "\n",
    "import pandas as pd\n",
    "import numpy as np\n",
    "import plotly.express as px\n",
    "import plotly.graph_objects as go\n",
    "import matplotlib.pyplot as plt\n",
    "\n"
   ]
  },
  {
   "cell_type": "code",
   "execution_count": 28,
   "metadata": {},
   "outputs": [
    {
     "name": "stdout",
     "output_type": "stream",
     "text": [
      "Plant data shape: (1209, 44)\n",
      "Capacity data shape: (1744, 15)\n",
      "\n",
      "Merged data shape (before filtering): (1744, 58)\n",
      "\n",
      "Status distribution before filtering:\n",
      "Status\n",
      "operating                    868\n",
      "announced                    285\n",
      "retired                      181\n",
      "construction                 151\n",
      "operating pre-retirement     125\n",
      "mothballed                    73\n",
      "cancelled                     59\n",
      "mothballed pre-retirement      2\n",
      "Name: count, dtype: int64\n",
      "\n",
      "After filtering for 'operating' status:\n",
      "Final dataset shape: (868, 58)\n",
      "Number of operating plants: 868\n"
     ]
    },
    {
     "data": {
      "text/html": [
       "<div>\n",
       "<style scoped>\n",
       "    .dataframe tbody tr th:only-of-type {\n",
       "        vertical-align: middle;\n",
       "    }\n",
       "\n",
       "    .dataframe tbody tr th {\n",
       "        vertical-align: top;\n",
       "    }\n",
       "\n",
       "    .dataframe thead th {\n",
       "        text-align: right;\n",
       "    }\n",
       "</style>\n",
       "<table border=\"1\" class=\"dataframe\">\n",
       "  <thead>\n",
       "    <tr style=\"text-align: right;\">\n",
       "      <th></th>\n",
       "      <th>Plant ID</th>\n",
       "      <th>Plant name (English)</th>\n",
       "      <th>Plant name (other language)</th>\n",
       "      <th>Other plant names (English)</th>\n",
       "      <th>Other plant names (other language)</th>\n",
       "      <th>Owner</th>\n",
       "      <th>Owner (other language)</th>\n",
       "      <th>Owner GEM ID</th>\n",
       "      <th>Owner PermID</th>\n",
       "      <th>SOE Status</th>\n",
       "      <th>...</th>\n",
       "      <th>Start date_capacity</th>\n",
       "      <th>Nominal crude steel capacity (ttpa)</th>\n",
       "      <th>Nominal BOF steel capacity (ttpa)</th>\n",
       "      <th>Nominal EAF steel capacity (ttpa)</th>\n",
       "      <th>Nominal OHF steel capacity (ttpa)</th>\n",
       "      <th>Other/unspecified steel capacity (ttpa)</th>\n",
       "      <th>Nominal iron capacity (ttpa)</th>\n",
       "      <th>Nominal BF capacity (ttpa)</th>\n",
       "      <th>Nominal DRI capacity (ttpa)</th>\n",
       "      <th>Other/unspecified iron capacity (ttpa)</th>\n",
       "    </tr>\n",
       "  </thead>\n",
       "  <tbody>\n",
       "    <tr>\n",
       "      <th>1</th>\n",
       "      <td>P100000120439</td>\n",
       "      <td>Algerian Qatari Steel Jijel plant</td>\n",
       "      <td>الجزائرية القطرية للصلب</td>\n",
       "      <td>AQS</td>\n",
       "      <td>NaN</td>\n",
       "      <td>Algerian Qatari Steel</td>\n",
       "      <td>NaN</td>\n",
       "      <td>E100001000957</td>\n",
       "      <td>5076384326</td>\n",
       "      <td>Partial</td>\n",
       "      <td>...</td>\n",
       "      <td>2017</td>\n",
       "      <td>2200</td>\n",
       "      <td>NaN</td>\n",
       "      <td>2200</td>\n",
       "      <td>NaN</td>\n",
       "      <td>NaN</td>\n",
       "      <td>2500</td>\n",
       "      <td>NaN</td>\n",
       "      <td>2500</td>\n",
       "      <td>NaN</td>\n",
       "    </tr>\n",
       "    <tr>\n",
       "      <th>4</th>\n",
       "      <td>P100000121198</td>\n",
       "      <td>Ozmert Algeria steel plant</td>\n",
       "      <td>NaN</td>\n",
       "      <td>NaN</td>\n",
       "      <td>NaN</td>\n",
       "      <td>Ozmert Algeria SARL</td>\n",
       "      <td>NaN</td>\n",
       "      <td>E100001012196</td>\n",
       "      <td>unknown</td>\n",
       "      <td>NaN</td>\n",
       "      <td>...</td>\n",
       "      <td>unknown</td>\n",
       "      <td>800</td>\n",
       "      <td>NaN</td>\n",
       "      <td>800</td>\n",
       "      <td>NaN</td>\n",
       "      <td>NaN</td>\n",
       "      <td>500</td>\n",
       "      <td>NaN</td>\n",
       "      <td>500</td>\n",
       "      <td>NaN</td>\n",
       "    </tr>\n",
       "    <tr>\n",
       "      <th>5</th>\n",
       "      <td>P100000120440</td>\n",
       "      <td>Sider El Hadjar Annaba steel plant</td>\n",
       "      <td>مركب الحجار للحديد والصلب</td>\n",
       "      <td>ArcelorMittal Annaba (predecessor), El Hadjar ...</td>\n",
       "      <td>NaN</td>\n",
       "      <td>Groupe Industriel Sider SpA</td>\n",
       "      <td>NaN</td>\n",
       "      <td>E100001000960</td>\n",
       "      <td>5000941519</td>\n",
       "      <td>Full</td>\n",
       "      <td>...</td>\n",
       "      <td>1969</td>\n",
       "      <td>2150</td>\n",
       "      <td>350.0</td>\n",
       "      <td>1800</td>\n",
       "      <td>NaN</td>\n",
       "      <td>NaN</td>\n",
       "      <td>1500</td>\n",
       "      <td>1500</td>\n",
       "      <td>NaN</td>\n",
       "      <td>NaN</td>\n",
       "    </tr>\n",
       "    <tr>\n",
       "      <th>7</th>\n",
       "      <td>P100000120441</td>\n",
       "      <td>Tosyali Algerie Oran steel plant</td>\n",
       "      <td>شركة توسيالي الجزائرية التركية للحديد والصلب</td>\n",
       "      <td>NaN</td>\n",
       "      <td>Tosyali Algérie</td>\n",
       "      <td>Tosyali Ironsteel Industry Algerie SpA</td>\n",
       "      <td>NaN</td>\n",
       "      <td>E100000131071</td>\n",
       "      <td>5074196906</td>\n",
       "      <td>NaN</td>\n",
       "      <td>...</td>\n",
       "      <td>2013</td>\n",
       "      <td>6200</td>\n",
       "      <td>NaN</td>\n",
       "      <td>6200</td>\n",
       "      <td>NaN</td>\n",
       "      <td>NaN</td>\n",
       "      <td>5000</td>\n",
       "      <td>NaN</td>\n",
       "      <td>5000</td>\n",
       "      <td>NaN</td>\n",
       "    </tr>\n",
       "    <tr>\n",
       "      <th>8</th>\n",
       "      <td>P100000120005</td>\n",
       "      <td>Aceria Angola Bengo steel plant</td>\n",
       "      <td>NaN</td>\n",
       "      <td>ADA Steel</td>\n",
       "      <td>NaN</td>\n",
       "      <td>Ada - Aceria De Angola SA</td>\n",
       "      <td>NaN</td>\n",
       "      <td>E100000131097</td>\n",
       "      <td>unknown</td>\n",
       "      <td>NaN</td>\n",
       "      <td>...</td>\n",
       "      <td>2015</td>\n",
       "      <td>500</td>\n",
       "      <td>NaN</td>\n",
       "      <td>NaN</td>\n",
       "      <td>NaN</td>\n",
       "      <td>500</td>\n",
       "      <td>NaN</td>\n",
       "      <td>NaN</td>\n",
       "      <td>NaN</td>\n",
       "      <td>NaN</td>\n",
       "    </tr>\n",
       "  </tbody>\n",
       "</table>\n",
       "<p>5 rows × 58 columns</p>\n",
       "</div>"
      ],
      "text/plain": [
       "        Plant ID                Plant name (English)  \\\n",
       "1  P100000120439   Algerian Qatari Steel Jijel plant   \n",
       "4  P100000121198          Ozmert Algeria steel plant   \n",
       "5  P100000120440  Sider El Hadjar Annaba steel plant   \n",
       "7  P100000120441    Tosyali Algerie Oran steel plant   \n",
       "8  P100000120005     Aceria Angola Bengo steel plant   \n",
       "\n",
       "                    Plant name (other language)  \\\n",
       "1                       الجزائرية القطرية للصلب   \n",
       "4                                           NaN   \n",
       "5                     مركب الحجار للحديد والصلب   \n",
       "7  شركة توسيالي الجزائرية التركية للحديد والصلب   \n",
       "8                                           NaN   \n",
       "\n",
       "                         Other plant names (English)  \\\n",
       "1                                                AQS   \n",
       "4                                                NaN   \n",
       "5  ArcelorMittal Annaba (predecessor), El Hadjar ...   \n",
       "7                                                NaN   \n",
       "8                                          ADA Steel   \n",
       "\n",
       "  Other plant names (other language)                                   Owner  \\\n",
       "1                                NaN                   Algerian Qatari Steel   \n",
       "4                                NaN                     Ozmert Algeria SARL   \n",
       "5                                NaN             Groupe Industriel Sider SpA   \n",
       "7                    Tosyali Algérie  Tosyali Ironsteel Industry Algerie SpA   \n",
       "8                                NaN               Ada - Aceria De Angola SA   \n",
       "\n",
       "  Owner (other language)   Owner GEM ID Owner PermID SOE Status  ...  \\\n",
       "1                    NaN  E100001000957   5076384326    Partial  ...   \n",
       "4                    NaN  E100001012196      unknown        NaN  ...   \n",
       "5                    NaN  E100001000960   5000941519       Full  ...   \n",
       "7                    NaN  E100000131071   5074196906        NaN  ...   \n",
       "8                    NaN  E100000131097      unknown        NaN  ...   \n",
       "\n",
       "  Start date_capacity Nominal crude steel capacity (ttpa)  \\\n",
       "1                2017                                2200   \n",
       "4             unknown                                 800   \n",
       "5                1969                                2150   \n",
       "7                2013                                6200   \n",
       "8                2015                                 500   \n",
       "\n",
       "  Nominal BOF steel capacity (ttpa) Nominal EAF steel capacity (ttpa)  \\\n",
       "1                               NaN                              2200   \n",
       "4                               NaN                               800   \n",
       "5                             350.0                              1800   \n",
       "7                               NaN                              6200   \n",
       "8                               NaN                               NaN   \n",
       "\n",
       "  Nominal OHF steel capacity (ttpa) Other/unspecified steel capacity (ttpa)  \\\n",
       "1                               NaN                                     NaN   \n",
       "4                               NaN                                     NaN   \n",
       "5                               NaN                                     NaN   \n",
       "7                               NaN                                     NaN   \n",
       "8                               NaN                                     500   \n",
       "\n",
       "  Nominal iron capacity (ttpa) Nominal BF capacity (ttpa)  \\\n",
       "1                         2500                        NaN   \n",
       "4                          500                        NaN   \n",
       "5                         1500                       1500   \n",
       "7                         5000                        NaN   \n",
       "8                          NaN                        NaN   \n",
       "\n",
       "  Nominal DRI capacity (ttpa) Other/unspecified iron capacity (ttpa)  \n",
       "1                        2500                                    NaN  \n",
       "4                         500                                    NaN  \n",
       "5                         NaN                                    NaN  \n",
       "7                        5000                                    NaN  \n",
       "8                         NaN                                    NaN  \n",
       "\n",
       "[5 rows x 58 columns]"
      ]
     },
     "execution_count": 28,
     "metadata": {},
     "output_type": "execute_result"
    }
   ],
   "source": [
    "# Load the steel plants dataset from Excel file\n",
    "# The dataset has multiple sheets - we need to merge \"Plant data\" and \"Plant capacities and status\"\n",
    "excel_file = 'Dataset/Plant-level-data-Global-Iron-and-Steel-Tracker-September-2025-V1.xlsx'\n",
    "\n",
    "# Load both sheets\n",
    "plant_data = pd.read_excel(excel_file, sheet_name='Plant data')\n",
    "capacity_data = pd.read_excel(excel_file, sheet_name='Plant capacities and status')\n",
    "\n",
    "print(f\"Plant data shape: {plant_data.shape}\")\n",
    "print(f\"Capacity data shape: {capacity_data.shape}\")\n",
    "\n",
    "# Merge on Plant ID - using left merge to keep all plants from plant_data\n",
    "# Some plants may have multiple capacity records, so we'll need to handle duplicates\n",
    "df = pd.merge(plant_data, capacity_data, on='Plant ID', how='left', suffixes=('', '_capacity'))\n",
    "\n",
    "print(f\"\\nMerged data shape (before filtering): {df.shape}\")\n",
    "\n",
    "# Filter to keep only operating plants\n",
    "print(f\"\\nStatus distribution before filtering:\")\n",
    "print(df['Status'].value_counts())\n",
    "\n",
    "df = df[df['Status'] == 'operating'].copy()\n",
    "\n",
    "print(f\"\\nAfter filtering for 'operating' status:\")\n",
    "print(f\"Final dataset shape: {df.shape}\")\n",
    "print(f\"Number of operating plants: {len(df)}\")\n",
    "\n",
    "# Display first few rows\n",
    "df.head()"
   ]
  },
  {
   "cell_type": "markdown",
   "metadata": {},
   "source": [
    "---\n",
    "## Part 2: Exploratory Data Analysis (15 minutes)\n",
    "\n",
    "Answer the following questions through your analysis:\n"
   ]
  },
  {
   "cell_type": "markdown",
   "metadata": {},
   "source": [
    "### Question 1: Data Overview\n",
    "**Task:** Display basic information about the dataset.\n",
    "- How many steel plants are in the dataset?\n",
    "- What are the column names and data types?\n",
    "- Are there any missing values?\n"
   ]
  },
  {
   "cell_type": "code",
   "execution_count": 29,
   "metadata": {},
   "outputs": [
    {
     "name": "stdout",
     "output_type": "stream",
     "text": [
      "Number of steel plants: 868\n",
      "Dataset shape (rows, columns): (868, 58)\n"
     ]
    }
   ],
   "source": [
    "# Display dataset shape\n",
    "print(\"Number of steel plants:\", df.shape[0])\n",
    "print(\"Dataset shape (rows, columns):\", df.shape)"
   ]
  },
  {
   "cell_type": "code",
   "execution_count": 30,
   "metadata": {},
   "outputs": [
    {
     "name": "stdout",
     "output_type": "stream",
     "text": [
      "\n",
      "Column names and data types:\n",
      "<class 'pandas.core.frame.DataFrame'>\n",
      "Index: 868 entries, 1 to 1742\n",
      "Data columns (total 58 columns):\n",
      " #   Column                                   Non-Null Count  Dtype  \n",
      "---  ------                                   --------------  -----  \n",
      " 0   Plant ID                                 868 non-null    object \n",
      " 1   Plant name (English)                     868 non-null    object \n",
      " 2   Plant name (other language)              533 non-null    object \n",
      " 3   Other plant names (English)              549 non-null    object \n",
      " 4   Other plant names (other language)       222 non-null    object \n",
      " 5   Owner                                    868 non-null    object \n",
      " 6   Owner (other language)                   411 non-null    object \n",
      " 7   Owner GEM ID                             868 non-null    object \n",
      " 8   Owner PermID                             868 non-null    object \n",
      " 9   SOE Status                               148 non-null    object \n",
      " 10  Parent                                   868 non-null    object \n",
      " 11  Parent GEM ID                            868 non-null    object \n",
      " 12  Parent PermID                            868 non-null    object \n",
      " 13  Location address                         868 non-null    object \n",
      " 14  Municipality                             868 non-null    object \n",
      " 15  Subnational unit (province/state)        868 non-null    object \n",
      " 16  Country/Area                             868 non-null    object \n",
      " 17  Region                                   868 non-null    object \n",
      " 18  Other language location address          323 non-null    object \n",
      " 19  Coordinates                              868 non-null    object \n",
      " 20  Coordinate accuracy                      868 non-null    object \n",
      " 21  GEM wiki page                            868 non-null    object \n",
      " 22  Plant age (years)                        868 non-null    object \n",
      " 23  Announced date                           868 non-null    object \n",
      " 24  Construction date                        868 non-null    object \n",
      " 25  Start date                               868 non-null    object \n",
      " 26  Pre-retirement announcement date         868 non-null    object \n",
      " 27  Idled date                               868 non-null    object \n",
      " 28  Retired date                             868 non-null    object \n",
      " 29  Ferronickel capacity (ttpa)              401 non-null    object \n",
      " 30  Sinter plant capacity (ttpa)             481 non-null    object \n",
      " 31  Coking plant capacity (ttpa)             406 non-null    object \n",
      " 32  Pelletizing plant capacity (ttpa)        475 non-null    object \n",
      " 33  Category steel product                   868 non-null    object \n",
      " 34  Steel products                           868 non-null    object \n",
      " 35  Steel sector end users                   868 non-null    object \n",
      " 36  Workforce size                           868 non-null    object \n",
      " 37  ISO 14001                                868 non-null    object \n",
      " 38  ISO 50001                                868 non-null    object \n",
      " 39  ResponsibleSteel Certification           868 non-null    object \n",
      " 40  Main production equipment                868 non-null    object \n",
      " 41  Power source                             868 non-null    object \n",
      " 42  Iron ore source                          867 non-null    object \n",
      " 43  Met coal source                          868 non-null    object \n",
      " 44  Plant name (English)_capacity            868 non-null    object \n",
      " 45  Plant name (other language)_capacity     533 non-null    object \n",
      " 46  Country/Area_capacity                    868 non-null    object \n",
      " 47  Status                                   868 non-null    object \n",
      " 48  Start date_capacity                      868 non-null    object \n",
      " 49  Nominal crude steel capacity (ttpa)      816 non-null    object \n",
      " 50  Nominal BOF steel capacity (ttpa)        299 non-null    float64\n",
      " 51  Nominal EAF steel capacity (ttpa)        525 non-null    object \n",
      " 52  Nominal OHF steel capacity (ttpa)        3 non-null      float64\n",
      " 53  Other/unspecified steel capacity (ttpa)  51 non-null     object \n",
      " 54  Nominal iron capacity (ttpa)             441 non-null    object \n",
      " 55  Nominal BF capacity (ttpa)               349 non-null    object \n",
      " 56  Nominal DRI capacity (ttpa)              122 non-null    object \n",
      " 57  Other/unspecified iron capacity (ttpa)   5 non-null      object \n",
      "dtypes: float64(2), object(56)\n",
      "memory usage: 400.1+ KB\n",
      "None\n"
     ]
    }
   ],
   "source": [
    "# Display column information and data types\n",
    "print(\"\\nColumn names and data types:\")\n",
    "print(df.info())"
   ]
  },
  {
   "cell_type": "code",
   "execution_count": 31,
   "metadata": {},
   "outputs": [
    {
     "name": "stdout",
     "output_type": "stream",
     "text": [
      "\n",
      "Missing values per column:\n",
      "Plant ID                                     0\n",
      "Plant name (English)                         0\n",
      "Plant name (other language)                335\n",
      "Other plant names (English)                319\n",
      "Other plant names (other language)         646\n",
      "Owner                                        0\n",
      "Owner (other language)                     457\n",
      "Owner GEM ID                                 0\n",
      "Owner PermID                                 0\n",
      "SOE Status                                 720\n",
      "Parent                                       0\n",
      "Parent GEM ID                                0\n",
      "Parent PermID                                0\n",
      "Location address                             0\n",
      "Municipality                                 0\n",
      "Subnational unit (province/state)            0\n",
      "Country/Area                                 0\n",
      "Region                                       0\n",
      "Other language location address            545\n",
      "Coordinates                                  0\n",
      "Coordinate accuracy                          0\n",
      "GEM wiki page                                0\n",
      "Plant age (years)                            0\n",
      "Announced date                               0\n",
      "Construction date                            0\n",
      "Start date                                   0\n",
      "Pre-retirement announcement date             0\n",
      "Idled date                                   0\n",
      "Retired date                                 0\n",
      "Ferronickel capacity (ttpa)                467\n",
      "Sinter plant capacity (ttpa)               387\n",
      "Coking plant capacity (ttpa)               462\n",
      "Pelletizing plant capacity (ttpa)          393\n",
      "Category steel product                       0\n",
      "Steel products                               0\n",
      "Steel sector end users                       0\n",
      "Workforce size                               0\n",
      "ISO 14001                                    0\n",
      "ISO 50001                                    0\n",
      "ResponsibleSteel Certification               0\n",
      "Main production equipment                    0\n",
      "Power source                                 0\n",
      "Iron ore source                              1\n",
      "Met coal source                              0\n",
      "Plant name (English)_capacity                0\n",
      "Plant name (other language)_capacity       335\n",
      "Country/Area_capacity                        0\n",
      "Status                                       0\n",
      "Start date_capacity                          0\n",
      "Nominal crude steel capacity (ttpa)         52\n",
      "Nominal BOF steel capacity (ttpa)          569\n",
      "Nominal EAF steel capacity (ttpa)          343\n",
      "Nominal OHF steel capacity (ttpa)          865\n",
      "Other/unspecified steel capacity (ttpa)    817\n",
      "Nominal iron capacity (ttpa)               427\n",
      "Nominal BF capacity (ttpa)                 519\n",
      "Nominal DRI capacity (ttpa)                746\n",
      "Other/unspecified iron capacity (ttpa)     863\n",
      "dtype: int64\n",
      "\n",
      "Total number of missing values in dataset: 10268\n"
     ]
    }
   ],
   "source": [
    "# Check for missing values\n",
    "print(\"\\nMissing values per column:\")\n",
    "print(df.isnull().sum())\n",
    "total_missing = df.isnull().sum().sum()\n",
    "print(\"\\nTotal number of missing values in dataset:\", total_missing)"
   ]
  },
  {
   "cell_type": "markdown",
   "metadata": {},
   "source": [
    "### Question 2: Statistical Summary\n",
    "**Task:** Generate descriptive statistics for numerical columns.\n",
    "- What is the average plant capacity?\n",
    "- What is the range of latitudes and longitudes?\n",
    "- What is the distribution of plant ages?\n"
   ]
  },
  {
   "cell_type": "markdown",
   "metadata": {},
   "source": [
    "What is the average plant capacity?"
   ]
  },
  {
   "cell_type": "code",
   "execution_count": 32,
   "metadata": {},
   "outputs": [
    {
     "name": "stdout",
     "output_type": "stream",
     "text": [
      "\n",
      "Capacity Statistics (in thousand tonnes per annum - ttpa):\n",
      "\n",
      "Nominal crude steel capacity (ttpa):\n",
      "  Plants with data: 815\n",
      "  Average: 2,459.65 ttpa\n",
      "  Median: 1,350.00 ttpa\n",
      "  Min: 13.00 ttpa\n",
      "  Max: 22,999.00 ttpa\n",
      "  Total: 2,004,616.52 ttpa\n",
      "\n"
     ]
    },
    {
     "data": {
      "application/vnd.plotly.v1+json": {
       "config": {
        "plotlyServerURL": "https://plot.ly"
       },
       "data": [
        {
         "bingroup": "x",
         "hovertemplate": "Capacity (ttpa)=%{x}<br>count=%{y}<extra></extra>",
         "legendgroup": "",
         "marker": {
          "color": "#1f77b4",
          "pattern": {
           "shape": ""
          }
         },
         "name": "",
         "nbinsx": 50,
         "orientation": "v",
         "showlegend": false,
         "type": "histogram",
         "x": {
          "bdata": "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",
          "dtype": "f8"
         },
         "xaxis": "x",
         "yaxis": "y"
        }
       ],
       "layout": {
        "barmode": "relative",
        "height": 400,
        "legend": {
         "tracegroupgap": 0
        },
        "showlegend": false,
        "template": {
         "data": {
          "bar": [
           {
            "error_x": {
             "color": "#2a3f5f"
            },
            "error_y": {
             "color": "#2a3f5f"
            },
            "marker": {
             "line": {
              "color": "#E5ECF6",
              "width": 0.5
             },
             "pattern": {
              "fillmode": "overlay",
              "size": 10,
              "solidity": 0.2
             }
            },
            "type": "bar"
           }
          ],
          "barpolar": [
           {
            "marker": {
             "line": {
              "color": "#E5ECF6",
              "width": 0.5
             },
             "pattern": {
              "fillmode": "overlay",
              "size": 10,
              "solidity": 0.2
             }
            },
            "type": "barpolar"
           }
          ],
          "carpet": [
           {
            "aaxis": {
             "endlinecolor": "#2a3f5f",
             "gridcolor": "white",
             "linecolor": "white",
             "minorgridcolor": "white",
             "startlinecolor": "#2a3f5f"
            },
            "baxis": {
             "endlinecolor": "#2a3f5f",
             "gridcolor": "white",
             "linecolor": "white",
             "minorgridcolor": "white",
             "startlinecolor": "#2a3f5f"
            },
            "type": "carpet"
           }
          ],
          "choropleth": [
           {
            "colorbar": {
             "outlinewidth": 0,
             "ticks": ""
            },
            "type": "choropleth"
           }
          ],
          "contour": [
           {
            "colorbar": {
             "outlinewidth": 0,
             "ticks": ""
            },
            "colorscale": [
             [
              0,
              "#0d0887"
             ],
             [
              0.1111111111111111,
              "#46039f"
             ],
             [
              0.2222222222222222,
              "#7201a8"
             ],
             [
              0.3333333333333333,
              "#9c179e"
             ],
             [
              0.4444444444444444,
              "#bd3786"
             ],
             [
              0.5555555555555556,
              "#d8576b"
             ],
             [
              0.6666666666666666,
              "#ed7953"
             ],
             [
              0.7777777777777778,
              "#fb9f3a"
             ],
             [
              0.8888888888888888,
              "#fdca26"
             ],
             [
              1,
              "#f0f921"
             ]
            ],
            "type": "contour"
           }
          ],
          "contourcarpet": [
           {
            "colorbar": {
             "outlinewidth": 0,
             "ticks": ""
            },
            "type": "contourcarpet"
           }
          ],
          "heatmap": [
           {
            "colorbar": {
             "outlinewidth": 0,
             "ticks": ""
            },
            "colorscale": [
             [
              0,
              "#0d0887"
             ],
             [
              0.1111111111111111,
              "#46039f"
             ],
             [
              0.2222222222222222,
              "#7201a8"
             ],
             [
              0.3333333333333333,
              "#9c179e"
             ],
             [
              0.4444444444444444,
              "#bd3786"
             ],
             [
              0.5555555555555556,
              "#d8576b"
             ],
             [
              0.6666666666666666,
              "#ed7953"
             ],
             [
              0.7777777777777778,
              "#fb9f3a"
             ],
             [
              0.8888888888888888,
              "#fdca26"
             ],
             [
              1,
              "#f0f921"
             ]
            ],
            "type": "heatmap"
           }
          ],
          "histogram": [
           {
            "marker": {
             "pattern": {
              "fillmode": "overlay",
              "size": 10,
              "solidity": 0.2
             }
            },
            "type": "histogram"
           }
          ],
          "histogram2d": [
           {
            "colorbar": {
             "outlinewidth": 0,
             "ticks": ""
            },
            "colorscale": [
             [
              0,
              "#0d0887"
             ],
             [
              0.1111111111111111,
              "#46039f"
             ],
             [
              0.2222222222222222,
              "#7201a8"
             ],
             [
              0.3333333333333333,
              "#9c179e"
             ],
             [
              0.4444444444444444,
              "#bd3786"
             ],
             [
              0.5555555555555556,
              "#d8576b"
             ],
             [
              0.6666666666666666,
              "#ed7953"
             ],
             [
              0.7777777777777778,
              "#fb9f3a"
             ],
             [
              0.8888888888888888,
              "#fdca26"
             ],
             [
              1,
              "#f0f921"
             ]
            ],
            "type": "histogram2d"
           }
          ],
          "histogram2dcontour": [
           {
            "colorbar": {
             "outlinewidth": 0,
             "ticks": ""
            },
            "colorscale": [
             [
              0,
              "#0d0887"
             ],
             [
              0.1111111111111111,
              "#46039f"
             ],
             [
              0.2222222222222222,
              "#7201a8"
             ],
             [
              0.3333333333333333,
              "#9c179e"
             ],
             [
              0.4444444444444444,
              "#bd3786"
             ],
             [
              0.5555555555555556,
              "#d8576b"
             ],
             [
              0.6666666666666666,
              "#ed7953"
             ],
             [
              0.7777777777777778,
              "#fb9f3a"
             ],
             [
              0.8888888888888888,
              "#fdca26"
             ],
             [
              1,
              "#f0f921"
             ]
            ],
            "type": "histogram2dcontour"
           }
          ],
          "mesh3d": [
           {
            "colorbar": {
             "outlinewidth": 0,
             "ticks": ""
            },
            "type": "mesh3d"
           }
          ],
          "parcoords": [
           {
            "line": {
             "colorbar": {
              "outlinewidth": 0,
              "ticks": ""
             }
            },
            "type": "parcoords"
           }
          ],
          "pie": [
           {
            "automargin": true,
            "type": "pie"
           }
          ],
          "scatter": [
           {
            "fillpattern": {
             "fillmode": "overlay",
             "size": 10,
             "solidity": 0.2
            },
            "type": "scatter"
           }
          ],
          "scatter3d": [
           {
            "line": {
             "colorbar": {
              "outlinewidth": 0,
              "ticks": ""
             }
            },
            "marker": {
             "colorbar": {
              "outlinewidth": 0,
              "ticks": ""
             }
            },
            "type": "scatter3d"
           }
          ],
          "scattercarpet": [
           {
            "marker": {
             "colorbar": {
              "outlinewidth": 0,
              "ticks": ""
             }
            },
            "type": "scattercarpet"
           }
          ],
          "scattergeo": [
           {
            "marker": {
             "colorbar": {
              "outlinewidth": 0,
              "ticks": ""
             }
            },
            "type": "scattergeo"
           }
          ],
          "scattergl": [
           {
            "marker": {
             "colorbar": {
              "outlinewidth": 0,
              "ticks": ""
             }
            },
            "type": "scattergl"
           }
          ],
          "scattermap": [
           {
            "marker": {
             "colorbar": {
              "outlinewidth": 0,
              "ticks": ""
             }
            },
            "type": "scattermap"
           }
          ],
          "scattermapbox": [
           {
            "marker": {
             "colorbar": {
              "outlinewidth": 0,
              "ticks": ""
             }
            },
            "type": "scattermapbox"
           }
          ],
          "scatterpolar": [
           {
            "marker": {
             "colorbar": {
              "outlinewidth": 0,
              "ticks": ""
             }
            },
            "type": "scatterpolar"
           }
          ],
          "scatterpolargl": [
           {
            "marker": {
             "colorbar": {
              "outlinewidth": 0,
              "ticks": ""
             }
            },
            "type": "scatterpolargl"
           }
          ],
          "scatterternary": [
           {
            "marker": {
             "colorbar": {
              "outlinewidth": 0,
              "ticks": ""
             }
            },
            "type": "scatterternary"
           }
          ],
          "surface": [
           {
            "colorbar": {
             "outlinewidth": 0,
             "ticks": ""
            },
            "colorscale": [
             [
              0,
              "#0d0887"
             ],
             [
              0.1111111111111111,
              "#46039f"
             ],
             [
              0.2222222222222222,
              "#7201a8"
             ],
             [
              0.3333333333333333,
              "#9c179e"
             ],
             [
              0.4444444444444444,
              "#bd3786"
             ],
             [
              0.5555555555555556,
              "#d8576b"
             ],
             [
              0.6666666666666666,
              "#ed7953"
             ],
             [
              0.7777777777777778,
              "#fb9f3a"
             ],
             [
              0.8888888888888888,
              "#fdca26"
             ],
             [
              1,
              "#f0f921"
             ]
            ],
            "type": "surface"
           }
          ],
          "table": [
           {
            "cells": {
             "fill": {
              "color": "#EBF0F8"
             },
             "line": {
              "color": "white"
             }
            },
            "header": {
             "fill": {
              "color": "#C8D4E3"
             },
             "line": {
              "color": "white"
             }
            },
            "type": "table"
           }
          ]
         },
         "layout": {
          "annotationdefaults": {
           "arrowcolor": "#2a3f5f",
           "arrowhead": 0,
           "arrowwidth": 1
          },
          "autotypenumbers": "strict",
          "coloraxis": {
           "colorbar": {
            "outlinewidth": 0,
            "ticks": ""
           }
          },
          "colorscale": {
           "diverging": [
            [
             0,
             "#8e0152"
            ],
            [
             0.1,
             "#c51b7d"
            ],
            [
             0.2,
             "#de77ae"
            ],
            [
             0.3,
             "#f1b6da"
            ],
            [
             0.4,
             "#fde0ef"
            ],
            [
             0.5,
             "#f7f7f7"
            ],
            [
             0.6,
             "#e6f5d0"
            ],
            [
             0.7,
             "#b8e186"
            ],
            [
             0.8,
             "#7fbc41"
            ],
            [
             0.9,
             "#4d9221"
            ],
            [
             1,
             "#276419"
            ]
           ],
           "sequential": [
            [
             0,
             "#0d0887"
            ],
            [
             0.1111111111111111,
             "#46039f"
            ],
            [
             0.2222222222222222,
             "#7201a8"
            ],
            [
             0.3333333333333333,
             "#9c179e"
            ],
            [
             0.4444444444444444,
             "#bd3786"
            ],
            [
             0.5555555555555556,
             "#d8576b"
            ],
            [
             0.6666666666666666,
             "#ed7953"
            ],
            [
             0.7777777777777778,
             "#fb9f3a"
            ],
            [
             0.8888888888888888,
             "#fdca26"
            ],
            [
             1,
             "#f0f921"
            ]
           ],
           "sequentialminus": [
            [
             0,
             "#0d0887"
            ],
            [
             0.1111111111111111,
             "#46039f"
            ],
            [
             0.2222222222222222,
             "#7201a8"
            ],
            [
             0.3333333333333333,
             "#9c179e"
            ],
            [
             0.4444444444444444,
             "#bd3786"
            ],
            [
             0.5555555555555556,
             "#d8576b"
            ],
            [
             0.6666666666666666,
             "#ed7953"
            ],
            [
             0.7777777777777778,
             "#fb9f3a"
            ],
            [
             0.8888888888888888,
             "#fdca26"
            ],
            [
             1,
             "#f0f921"
            ]
           ]
          },
          "colorway": [
           "#636efa",
           "#EF553B",
           "#00cc96",
           "#ab63fa",
           "#FFA15A",
           "#19d3f3",
           "#FF6692",
           "#B6E880",
           "#FF97FF",
           "#FECB52"
          ],
          "font": {
           "color": "#2a3f5f"
          },
          "geo": {
           "bgcolor": "white",
           "lakecolor": "white",
           "landcolor": "#E5ECF6",
           "showlakes": true,
           "showland": true,
           "subunitcolor": "white"
          },
          "hoverlabel": {
           "align": "left"
          },
          "hovermode": "closest",
          "mapbox": {
           "style": "light"
          },
          "paper_bgcolor": "white",
          "plot_bgcolor": "#E5ECF6",
          "polar": {
           "angularaxis": {
            "gridcolor": "white",
            "linecolor": "white",
            "ticks": ""
           },
           "bgcolor": "#E5ECF6",
           "radialaxis": {
            "gridcolor": "white",
            "linecolor": "white",
            "ticks": ""
           }
          },
          "scene": {
           "xaxis": {
            "backgroundcolor": "#E5ECF6",
            "gridcolor": "white",
            "gridwidth": 2,
            "linecolor": "white",
            "showbackground": true,
            "ticks": "",
            "zerolinecolor": "white"
           },
           "yaxis": {
            "backgroundcolor": "#E5ECF6",
            "gridcolor": "white",
            "gridwidth": 2,
            "linecolor": "white",
            "showbackground": true,
            "ticks": "",
            "zerolinecolor": "white"
           },
           "zaxis": {
            "backgroundcolor": "#E5ECF6",
            "gridcolor": "white",
            "gridwidth": 2,
            "linecolor": "white",
            "showbackground": true,
            "ticks": "",
            "zerolinecolor": "white"
           }
          },
          "shapedefaults": {
           "line": {
            "color": "#2a3f5f"
           }
          },
          "ternary": {
           "aaxis": {
            "gridcolor": "white",
            "linecolor": "white",
            "ticks": ""
           },
           "baxis": {
            "gridcolor": "white",
            "linecolor": "white",
            "ticks": ""
           },
           "bgcolor": "#E5ECF6",
           "caxis": {
            "gridcolor": "white",
            "linecolor": "white",
            "ticks": ""
           }
          },
          "title": {
           "x": 0.05
          },
          "xaxis": {
           "automargin": true,
           "gridcolor": "white",
           "linecolor": "white",
           "ticks": "",
           "title": {
            "standoff": 15
           },
           "zerolinecolor": "white",
           "zerolinewidth": 2
          },
          "yaxis": {
           "automargin": true,
           "gridcolor": "white",
           "linecolor": "white",
           "ticks": "",
           "title": {
            "standoff": 15
           },
           "zerolinecolor": "white",
           "zerolinewidth": 2
          }
         }
        },
        "title": {
         "text": "Distribution of Crude Steel Capacity (Operating Plants)"
        },
        "xaxis": {
         "anchor": "y",
         "domain": [
          0,
          1
         ],
         "title": {
          "text": "Capacity (thousand tonnes per annum)"
         }
        },
        "yaxis": {
         "anchor": "x",
         "domain": [
          0,
          1
         ],
         "title": {
          "text": "Number of Plants"
         }
        }
       }
      }
     },
     "metadata": {},
     "output_type": "display_data"
    },
    {
     "data": {
      "application/vnd.plotly.v1+json": {
       "config": {
        "plotlyServerURL": "https://plot.ly"
       },
       "data": [
        {
         "customdata": [
          [
           "South Korea",
           "POSCO Holdings Inc"
          ],
          [
           "China",
           "Angang Steel Co Ltd"
          ],
          [
           "China",
           "Baoshan Iron & Steel Co Ltd"
          ],
          [
           "South Korea",
           "POSCO Holdings Inc"
          ],
          [
           "China",
           "Zhangjiagang Hongchang Steel Co Ltd"
          ],
          [
           "South Korea",
           "Hyundai Steel Co"
          ],
          [
           "China",
           "Wuhan Iron and Steel Co Ltd"
          ],
          [
           "China",
           "Inner Mongolia BaoTou Steel Union Co Ltd"
          ],
          [
           "China",
           "Maanshan Iron & Steel Co Ltd"
          ],
          [
           "Russia",
           "Magnitogorskiy Metallurgicheskiy Kombinat PJSC"
          ],
          [
           "Russia",
           "Novolipetsk Steel PJSC"
          ],
          [
           "China",
           "Shougang Jingtang United Iron & Steel Co Ltd"
          ],
          [
           "Japan",
           "JFE Steel Corp"
          ],
          [
           "China",
           "Baosteel Zhanjiang Iron & Steel Co Ltd"
          ],
          [
           "China",
           "Shanxi Taigang Stainless Steel Co Ltd"
          ],
          [
           "China",
           "Bengang Steel Plates Co Ltd"
          ],
          [
           "Russia",
           "Severstal PJSC"
          ],
          [
           "India",
           "JSW Steel Ltd"
          ],
          [
           "Vietnam",
           "Hoa Phat Dung Quat Steel JSC"
          ],
          [
           "China",
           "Rizhao Steel Holding Group Co Ltd"
          ]
         ],
         "hovertemplate": "Capacity (ttpa)=%{marker.color}<br>Plant=%{y}<br>Country/Area=%{customdata[0]}<br>Owner=%{customdata[1]}<extra></extra>",
         "legendgroup": "",
         "marker": {
          "color": {
           "bdata": "AAAAAMB11kAAAAAAgCrUQAAAAAAAVtNAAAAAAEBJ0UAAAAAAwIzQQAAAAAAApM9AAAAAAIARz0AAAAAAAH3OQAAAAAAAPM5AAAAAAABSzEAAAAAAACDMQAAAAAAAwspAAAAAAABlyUAAAAAAAHjIQAAAAAAAVshAAAAAAAA4yEAAAAAAgHDHQAAAAACAPcdAAAAAAACoxkAAAAAAABLGQA==",
           "dtype": "f8"
          },
          "coloraxis": "coloraxis",
          "pattern": {
           "shape": ""
          }
         },
         "name": "",
         "orientation": "h",
         "showlegend": false,
         "textposition": "auto",
         "type": "bar",
         "x": {
          "bdata": "AAAAAMB11kAAAAAAgCrUQAAAAAAAVtNAAAAAAEBJ0UAAAAAAwIzQQAAAAAAApM9AAAAAAIARz0AAAAAAAH3OQAAAAAAAPM5AAAAAAABSzEAAAAAAACDMQAAAAAAAwspAAAAAAABlyUAAAAAAAHjIQAAAAAAAVshAAAAAAAA4yEAAAAAAgHDHQAAAAACAPcdAAAAAAACoxkAAAAAAABLGQA==",
          "dtype": "f8"
         },
         "xaxis": "x",
         "y": [
          "POSCO Gwangyang steel plant",
          "Angang Steel Co Ltd",
          "Baoshan Iron and Steel Co Ltd Headquarters",
          "POSCO Pohang steel plant",
          "Zhangjiagang Hongchang Steel Co Ltd",
          "Hyundai Steel Dangjin steel plant",
          "Wuhan Iron and Steel Co Ltd",
          "Inner Mongolia BaoTou Steel Union Co Ltd",
          "Maanshan Iron and Steel Co Ltd",
          "Magnitogorsk Iron and Steel Works",
          "NLMK Lipetsk steel plant",
          "Shougang Jingtang United Iron and Steel Co Ltd",
          "JFE West Japan Works (Fukuyama) steel plant",
          "Baosteel Zhanjiang Iron and Steel Co Ltd",
          "Shanxi Taigang Stainless Steel Co Ltd",
          "Bengang Steel Plates Co Ltd",
          "Severstal Cherepovets steel plant",
          "JSW Steel Vijayanagar steel plant",
          "Hoa Phat Dung Quat steel plant",
          "Rizhao Steel Holding Group Co Ltd"
         ],
         "yaxis": "y"
        }
       ],
       "layout": {
        "barmode": "relative",
        "coloraxis": {
         "colorbar": {
          "title": {
           "text": "Capacity (ttpa)"
          }
         },
         "colorscale": [
          [
           0,
           "#440154"
          ],
          [
           0.1111111111111111,
           "#482878"
          ],
          [
           0.2222222222222222,
           "#3e4989"
          ],
          [
           0.3333333333333333,
           "#31688e"
          ],
          [
           0.4444444444444444,
           "#26828e"
          ],
          [
           0.5555555555555556,
           "#1f9e89"
          ],
          [
           0.6666666666666666,
           "#35b779"
          ],
          [
           0.7777777777777778,
           "#6ece58"
          ],
          [
           0.8888888888888888,
           "#b5de2b"
          ],
          [
           1,
           "#fde725"
          ]
         ]
        },
        "height": 600,
        "legend": {
         "tracegroupgap": 0
        },
        "showlegend": false,
        "template": {
         "data": {
          "bar": [
           {
            "error_x": {
             "color": "#2a3f5f"
            },
            "error_y": {
             "color": "#2a3f5f"
            },
            "marker": {
             "line": {
              "color": "#E5ECF6",
              "width": 0.5
             },
             "pattern": {
              "fillmode": "overlay",
              "size": 10,
              "solidity": 0.2
             }
            },
            "type": "bar"
           }
          ],
          "barpolar": [
           {
            "marker": {
             "line": {
              "color": "#E5ECF6",
              "width": 0.5
             },
             "pattern": {
              "fillmode": "overlay",
              "size": 10,
              "solidity": 0.2
             }
            },
            "type": "barpolar"
           }
          ],
          "carpet": [
           {
            "aaxis": {
             "endlinecolor": "#2a3f5f",
             "gridcolor": "white",
             "linecolor": "white",
             "minorgridcolor": "white",
             "startlinecolor": "#2a3f5f"
            },
            "baxis": {
             "endlinecolor": "#2a3f5f",
             "gridcolor": "white",
             "linecolor": "white",
             "minorgridcolor": "white",
             "startlinecolor": "#2a3f5f"
            },
            "type": "carpet"
           }
          ],
          "choropleth": [
           {
            "colorbar": {
             "outlinewidth": 0,
             "ticks": ""
            },
            "type": "choropleth"
           }
          ],
          "contour": [
           {
            "colorbar": {
             "outlinewidth": 0,
             "ticks": ""
            },
            "colorscale": [
             [
              0,
              "#0d0887"
             ],
             [
              0.1111111111111111,
              "#46039f"
             ],
             [
              0.2222222222222222,
              "#7201a8"
             ],
             [
              0.3333333333333333,
              "#9c179e"
             ],
             [
              0.4444444444444444,
              "#bd3786"
             ],
             [
              0.5555555555555556,
              "#d8576b"
             ],
             [
              0.6666666666666666,
              "#ed7953"
             ],
             [
              0.7777777777777778,
              "#fb9f3a"
             ],
             [
              0.8888888888888888,
              "#fdca26"
             ],
             [
              1,
              "#f0f921"
             ]
            ],
            "type": "contour"
           }
          ],
          "contourcarpet": [
           {
            "colorbar": {
             "outlinewidth": 0,
             "ticks": ""
            },
            "type": "contourcarpet"
           }
          ],
          "heatmap": [
           {
            "colorbar": {
             "outlinewidth": 0,
             "ticks": ""
            },
            "colorscale": [
             [
              0,
              "#0d0887"
             ],
             [
              0.1111111111111111,
              "#46039f"
             ],
             [
              0.2222222222222222,
              "#7201a8"
             ],
             [
              0.3333333333333333,
              "#9c179e"
             ],
             [
              0.4444444444444444,
              "#bd3786"
             ],
             [
              0.5555555555555556,
              "#d8576b"
             ],
             [
              0.6666666666666666,
              "#ed7953"
             ],
             [
              0.7777777777777778,
              "#fb9f3a"
             ],
             [
              0.8888888888888888,
              "#fdca26"
             ],
             [
              1,
              "#f0f921"
             ]
            ],
            "type": "heatmap"
           }
          ],
          "histogram": [
           {
            "marker": {
             "pattern": {
              "fillmode": "overlay",
              "size": 10,
              "solidity": 0.2
             }
            },
            "type": "histogram"
           }
          ],
          "histogram2d": [
           {
            "colorbar": {
             "outlinewidth": 0,
             "ticks": ""
            },
            "colorscale": [
             [
              0,
              "#0d0887"
             ],
             [
              0.1111111111111111,
              "#46039f"
             ],
             [
              0.2222222222222222,
              "#7201a8"
             ],
             [
              0.3333333333333333,
              "#9c179e"
             ],
             [
              0.4444444444444444,
              "#bd3786"
             ],
             [
              0.5555555555555556,
              "#d8576b"
             ],
             [
              0.6666666666666666,
              "#ed7953"
             ],
             [
              0.7777777777777778,
              "#fb9f3a"
             ],
             [
              0.8888888888888888,
              "#fdca26"
             ],
             [
              1,
              "#f0f921"
             ]
            ],
            "type": "histogram2d"
           }
          ],
          "histogram2dcontour": [
           {
            "colorbar": {
             "outlinewidth": 0,
             "ticks": ""
            },
            "colorscale": [
             [
              0,
              "#0d0887"
             ],
             [
              0.1111111111111111,
              "#46039f"
             ],
             [
              0.2222222222222222,
              "#7201a8"
             ],
             [
              0.3333333333333333,
              "#9c179e"
             ],
             [
              0.4444444444444444,
              "#bd3786"
             ],
             [
              0.5555555555555556,
              "#d8576b"
             ],
             [
              0.6666666666666666,
              "#ed7953"
             ],
             [
              0.7777777777777778,
              "#fb9f3a"
             ],
             [
              0.8888888888888888,
              "#fdca26"
             ],
             [
              1,
              "#f0f921"
             ]
            ],
            "type": "histogram2dcontour"
           }
          ],
          "mesh3d": [
           {
            "colorbar": {
             "outlinewidth": 0,
             "ticks": ""
            },
            "type": "mesh3d"
           }
          ],
          "parcoords": [
           {
            "line": {
             "colorbar": {
              "outlinewidth": 0,
              "ticks": ""
             }
            },
            "type": "parcoords"
           }
          ],
          "pie": [
           {
            "automargin": true,
            "type": "pie"
           }
          ],
          "scatter": [
           {
            "fillpattern": {
             "fillmode": "overlay",
             "size": 10,
             "solidity": 0.2
            },
            "type": "scatter"
           }
          ],
          "scatter3d": [
           {
            "line": {
             "colorbar": {
              "outlinewidth": 0,
              "ticks": ""
             }
            },
            "marker": {
             "colorbar": {
              "outlinewidth": 0,
              "ticks": ""
             }
            },
            "type": "scatter3d"
           }
          ],
          "scattercarpet": [
           {
            "marker": {
             "colorbar": {
              "outlinewidth": 0,
              "ticks": ""
             }
            },
            "type": "scattercarpet"
           }
          ],
          "scattergeo": [
           {
            "marker": {
             "colorbar": {
              "outlinewidth": 0,
              "ticks": ""
             }
            },
            "type": "scattergeo"
           }
          ],
          "scattergl": [
           {
            "marker": {
             "colorbar": {
              "outlinewidth": 0,
              "ticks": ""
             }
            },
            "type": "scattergl"
           }
          ],
          "scattermap": [
           {
            "marker": {
             "colorbar": {
              "outlinewidth": 0,
              "ticks": ""
             }
            },
            "type": "scattermap"
           }
          ],
          "scattermapbox": [
           {
            "marker": {
             "colorbar": {
              "outlinewidth": 0,
              "ticks": ""
             }
            },
            "type": "scattermapbox"
           }
          ],
          "scatterpolar": [
           {
            "marker": {
             "colorbar": {
              "outlinewidth": 0,
              "ticks": ""
             }
            },
            "type": "scatterpolar"
           }
          ],
          "scatterpolargl": [
           {
            "marker": {
             "colorbar": {
              "outlinewidth": 0,
              "ticks": ""
             }
            },
            "type": "scatterpolargl"
           }
          ],
          "scatterternary": [
           {
            "marker": {
             "colorbar": {
              "outlinewidth": 0,
              "ticks": ""
             }
            },
            "type": "scatterternary"
           }
          ],
          "surface": [
           {
            "colorbar": {
             "outlinewidth": 0,
             "ticks": ""
            },
            "colorscale": [
             [
              0,
              "#0d0887"
             ],
             [
              0.1111111111111111,
              "#46039f"
             ],
             [
              0.2222222222222222,
              "#7201a8"
             ],
             [
              0.3333333333333333,
              "#9c179e"
             ],
             [
              0.4444444444444444,
              "#bd3786"
             ],
             [
              0.5555555555555556,
              "#d8576b"
             ],
             [
              0.6666666666666666,
              "#ed7953"
             ],
             [
              0.7777777777777778,
              "#fb9f3a"
             ],
             [
              0.8888888888888888,
              "#fdca26"
             ],
             [
              1,
              "#f0f921"
             ]
            ],
            "type": "surface"
           }
          ],
          "table": [
           {
            "cells": {
             "fill": {
              "color": "#EBF0F8"
             },
             "line": {
              "color": "white"
             }
            },
            "header": {
             "fill": {
              "color": "#C8D4E3"
             },
             "line": {
              "color": "white"
             }
            },
            "type": "table"
           }
          ]
         },
         "layout": {
          "annotationdefaults": {
           "arrowcolor": "#2a3f5f",
           "arrowhead": 0,
           "arrowwidth": 1
          },
          "autotypenumbers": "strict",
          "coloraxis": {
           "colorbar": {
            "outlinewidth": 0,
            "ticks": ""
           }
          },
          "colorscale": {
           "diverging": [
            [
             0,
             "#8e0152"
            ],
            [
             0.1,
             "#c51b7d"
            ],
            [
             0.2,
             "#de77ae"
            ],
            [
             0.3,
             "#f1b6da"
            ],
            [
             0.4,
             "#fde0ef"
            ],
            [
             0.5,
             "#f7f7f7"
            ],
            [
             0.6,
             "#e6f5d0"
            ],
            [
             0.7,
             "#b8e186"
            ],
            [
             0.8,
             "#7fbc41"
            ],
            [
             0.9,
             "#4d9221"
            ],
            [
             1,
             "#276419"
            ]
           ],
           "sequential": [
            [
             0,
             "#0d0887"
            ],
            [
             0.1111111111111111,
             "#46039f"
            ],
            [
             0.2222222222222222,
             "#7201a8"
            ],
            [
             0.3333333333333333,
             "#9c179e"
            ],
            [
             0.4444444444444444,
             "#bd3786"
            ],
            [
             0.5555555555555556,
             "#d8576b"
            ],
            [
             0.6666666666666666,
             "#ed7953"
            ],
            [
             0.7777777777777778,
             "#fb9f3a"
            ],
            [
             0.8888888888888888,
             "#fdca26"
            ],
            [
             1,
             "#f0f921"
            ]
           ],
           "sequentialminus": [
            [
             0,
             "#0d0887"
            ],
            [
             0.1111111111111111,
             "#46039f"
            ],
            [
             0.2222222222222222,
             "#7201a8"
            ],
            [
             0.3333333333333333,
             "#9c179e"
            ],
            [
             0.4444444444444444,
             "#bd3786"
            ],
            [
             0.5555555555555556,
             "#d8576b"
            ],
            [
             0.6666666666666666,
             "#ed7953"
            ],
            [
             0.7777777777777778,
             "#fb9f3a"
            ],
            [
             0.8888888888888888,
             "#fdca26"
            ],
            [
             1,
             "#f0f921"
            ]
           ]
          },
          "colorway": [
           "#636efa",
           "#EF553B",
           "#00cc96",
           "#ab63fa",
           "#FFA15A",
           "#19d3f3",
           "#FF6692",
           "#B6E880",
           "#FF97FF",
           "#FECB52"
          ],
          "font": {
           "color": "#2a3f5f"
          },
          "geo": {
           "bgcolor": "white",
           "lakecolor": "white",
           "landcolor": "#E5ECF6",
           "showlakes": true,
           "showland": true,
           "subunitcolor": "white"
          },
          "hoverlabel": {
           "align": "left"
          },
          "hovermode": "closest",
          "mapbox": {
           "style": "light"
          },
          "paper_bgcolor": "white",
          "plot_bgcolor": "#E5ECF6",
          "polar": {
           "angularaxis": {
            "gridcolor": "white",
            "linecolor": "white",
            "ticks": ""
           },
           "bgcolor": "#E5ECF6",
           "radialaxis": {
            "gridcolor": "white",
            "linecolor": "white",
            "ticks": ""
           }
          },
          "scene": {
           "xaxis": {
            "backgroundcolor": "#E5ECF6",
            "gridcolor": "white",
            "gridwidth": 2,
            "linecolor": "white",
            "showbackground": true,
            "ticks": "",
            "zerolinecolor": "white"
           },
           "yaxis": {
            "backgroundcolor": "#E5ECF6",
            "gridcolor": "white",
            "gridwidth": 2,
            "linecolor": "white",
            "showbackground": true,
            "ticks": "",
            "zerolinecolor": "white"
           },
           "zaxis": {
            "backgroundcolor": "#E5ECF6",
            "gridcolor": "white",
            "gridwidth": 2,
            "linecolor": "white",
            "showbackground": true,
            "ticks": "",
            "zerolinecolor": "white"
           }
          },
          "shapedefaults": {
           "line": {
            "color": "#2a3f5f"
           }
          },
          "ternary": {
           "aaxis": {
            "gridcolor": "white",
            "linecolor": "white",
            "ticks": ""
           },
           "baxis": {
            "gridcolor": "white",
            "linecolor": "white",
            "ticks": ""
           },
           "bgcolor": "#E5ECF6",
           "caxis": {
            "gridcolor": "white",
            "linecolor": "white",
            "ticks": ""
           }
          },
          "title": {
           "x": 0.05
          },
          "xaxis": {
           "automargin": true,
           "gridcolor": "white",
           "linecolor": "white",
           "ticks": "",
           "title": {
            "standoff": 15
           },
           "zerolinecolor": "white",
           "zerolinewidth": 2
          },
          "yaxis": {
           "automargin": true,
           "gridcolor": "white",
           "linecolor": "white",
           "ticks": "",
           "title": {
            "standoff": 15
           },
           "zerolinecolor": "white",
           "zerolinewidth": 2
          }
         }
        },
        "title": {
         "text": "Top 20 Operating Plants by Crude Steel Capacity"
        },
        "xaxis": {
         "anchor": "y",
         "domain": [
          0,
          1
         ],
         "title": {
          "text": "Capacity (ttpa)"
         }
        },
        "yaxis": {
         "anchor": "x",
         "domain": [
          0,
          1
         ],
         "title": {
          "text": ""
         }
        }
       }
      }
     },
     "metadata": {},
     "output_type": "display_data"
    }
   ],
   "source": [
    "capacity_column = 'Nominal crude steel capacity (ttpa)'\n",
    "\n",
    "# Convert the selected capacity column to numeric\n",
    "if capacity_column in df.columns:\n",
    "    df[capacity_column] = pd.to_numeric(df[capacity_column], errors='coerce')\n",
    "\n",
    "print(\"\\nCapacity Statistics (in thousand tonnes per annum - ttpa):\\n\")\n",
    "\n",
    "if capacity_column in df.columns:\n",
    "    non_null_count = df[capacity_column].notna().sum()\n",
    "    if non_null_count > 0:\n",
    "        print(f\"{capacity_column}:\")\n",
    "        print(f\"  Plants with data: {non_null_count}\")\n",
    "        print(f\"  Average: {df[capacity_column].mean():,.2f} ttpa\")\n",
    "        print(f\"  Median: {df[capacity_column].median():,.2f} ttpa\")\n",
    "        print(f\"  Min: {df[capacity_column].min():,.2f} ttpa\")\n",
    "        print(f\"  Max: {df[capacity_column].max():,.2f} ttpa\")\n",
    "        print(f\"  Total: {df[capacity_column].sum():,.2f} ttpa\")\n",
    "        print()\n",
    "\n",
    "\n",
    "# 1. Histogram of crude steel capacity distribution\n",
    "fig1 = px.histogram(\n",
    "    df.dropna(subset=['Nominal crude steel capacity (ttpa)']),\n",
    "    x='Nominal crude steel capacity (ttpa)',\n",
    "    nbins=50,\n",
    "    title='Distribution of Crude Steel Capacity (Operating Plants)',\n",
    "    labels={'Nominal crude steel capacity (ttpa)': 'Capacity (ttpa)'},\n",
    "    color_discrete_sequence=['#1f77b4']\n",
    ")\n",
    "fig1.update_layout(\n",
    "    xaxis_title='Capacity (thousand tonnes per annum)',\n",
    "    yaxis_title='Number of Plants',\n",
    "    showlegend=False,\n",
    "    height=400\n",
    ")\n",
    "fig1.show()\n",
    "\n",
    "# 2. Top 20 plants by crude steel capacity\n",
    "top_plants = df.nlargest(20, 'Nominal crude steel capacity (ttpa)')[\n",
    "    ['Plant name (English)', 'Country/Area', 'Nominal crude steel capacity (ttpa)', 'Owner']\n",
    "].copy()\n",
    "\n",
    "fig2 = px.bar(\n",
    "    top_plants,\n",
    "    y='Plant name (English)',\n",
    "    x='Nominal crude steel capacity (ttpa)',\n",
    "    title='Top 20 Operating Plants by Crude Steel Capacity',\n",
    "    labels={'Nominal crude steel capacity (ttpa)': 'Capacity (ttpa)', 'Plant name (English)': 'Plant'},\n",
    "    hover_data=['Country/Area', 'Owner'],\n",
    "    color='Nominal crude steel capacity (ttpa)',\n",
    "    color_continuous_scale='Viridis',\n",
    "    orientation='h'\n",
    ")\n",
    "fig2.update_layout(\n",
    "    xaxis_title='Capacity (ttpa)',\n",
    "    yaxis_title='',\n",
    "    height=600,\n",
    "    showlegend=False\n",
    ")\n",
    "fig2.show()"
   ]
  },
  {
   "cell_type": "markdown",
   "metadata": {},
   "source": [
    "What is the range of latitudes and longitudes?"
   ]
  },
  {
   "cell_type": "code",
   "execution_count": 33,
   "metadata": {},
   "outputs": [
    {
     "name": "stdout",
     "output_type": "stream",
     "text": [
      "Latitude range:\n",
      "  Min: -37.8314°\n",
      "  Max: 66.3115°\n",
      "  Mean: 30.5709°\n",
      "\n",
      "Longitude range:\n",
      "  Min: -123.1636°\n",
      "  Max: 174.7281°\n",
      "  Mean: 59.6227°\n"
     ]
    }
   ],
   "source": [
    "# Split coordinates column into latitude and longitude\n",
    "df[['latitude', 'longitude']] = df['Coordinates'].str.split(',', expand=True)\n",
    "df['latitude'] = pd.to_numeric(df['latitude'], errors='coerce')\n",
    "df['longitude'] = pd.to_numeric(df['longitude'], errors='coerce')\n",
    "\n",
    "print(f\"Latitude range:\")\n",
    "print(f\"  Min: {df['latitude'].min():.4f}°\")\n",
    "print(f\"  Max: {df['latitude'].max():.4f}°\")\n",
    "print(f\"  Mean: {df['latitude'].mean():.4f}°\")\n",
    "print(f\"\\nLongitude range:\")\n",
    "print(f\"  Min: {df['longitude'].min():.4f}°\")\n",
    "print(f\"  Max: {df['longitude'].max():.4f}°\")\n",
    "print(f\"  Mean: {df['longitude'].mean():.4f}°\")\n"
   ]
  },
  {
   "cell_type": "code",
   "execution_count": 34,
   "metadata": {},
   "outputs": [
    {
     "name": "stdout",
     "output_type": "stream",
     "text": [
      "\n",
      "Plants with age data: 853 out of 868\n",
      "\n",
      "Age Statistics:\n",
      "  Mean: 39.65 years\n",
      "  Median: 26.99 years\n",
      "  Min: 0 years\n",
      "  Max: 286 years\n",
      "  Std Dev: 35.83 years\n",
      "\n",
      "Age Distribution by Category:\n",
      "age_category\n",
      "0-10 years      108\n",
      "11-20 years     172\n",
      "21-30 years     186\n",
      "31-40 years      84\n",
      "41-50 years      45\n",
      "51-100 years    199\n",
      "100+ years       56\n",
      "Name: count, dtype: int64\n"
     ]
    },
    {
     "data": {
      "application/vnd.plotly.v1+json": {
       "config": {
        "plotlyServerURL": "https://plot.ly"
       },
       "data": [
        {
         "hovertemplate": "Age Category=%{x}<br>Number of Plants=%{y}<br>color=%{marker.color}<extra></extra>",
         "legendgroup": "",
         "marker": {
          "color": {
           "bdata": "bACsALoAVAAtAMcAOAA=",
           "dtype": "i2"
          },
          "coloraxis": "coloraxis",
          "pattern": {
           "shape": ""
          }
         },
         "name": "",
         "orientation": "v",
         "showlegend": false,
         "textposition": "auto",
         "type": "bar",
         "x": [
          "0-10 years",
          "11-20 years",
          "21-30 years",
          "31-40 years",
          "41-50 years",
          "51-100 years",
          "100+ years"
         ],
         "xaxis": "x",
         "y": {
          "bdata": "bACsALoAVAAtAMcAOAA=",
          "dtype": "i2"
         },
         "yaxis": "y"
        }
       ],
       "layout": {
        "barmode": "relative",
        "coloraxis": {
         "colorbar": {
          "title": {
           "text": "color"
          }
         },
         "colorscale": [
          [
           0,
           "rgb(247,252,245)"
          ],
          [
           0.125,
           "rgb(229,245,224)"
          ],
          [
           0.25,
           "rgb(199,233,192)"
          ],
          [
           0.375,
           "rgb(161,217,155)"
          ],
          [
           0.5,
           "rgb(116,196,118)"
          ],
          [
           0.625,
           "rgb(65,171,93)"
          ],
          [
           0.75,
           "rgb(35,139,69)"
          ],
          [
           0.875,
           "rgb(0,109,44)"
          ],
          [
           1,
           "rgb(0,68,27)"
          ]
         ]
        },
        "height": 400,
        "legend": {
         "tracegroupgap": 0
        },
        "showlegend": false,
        "template": {
         "data": {
          "bar": [
           {
            "error_x": {
             "color": "#2a3f5f"
            },
            "error_y": {
             "color": "#2a3f5f"
            },
            "marker": {
             "line": {
              "color": "#E5ECF6",
              "width": 0.5
             },
             "pattern": {
              "fillmode": "overlay",
              "size": 10,
              "solidity": 0.2
             }
            },
            "type": "bar"
           }
          ],
          "barpolar": [
           {
            "marker": {
             "line": {
              "color": "#E5ECF6",
              "width": 0.5
             },
             "pattern": {
              "fillmode": "overlay",
              "size": 10,
              "solidity": 0.2
             }
            },
            "type": "barpolar"
           }
          ],
          "carpet": [
           {
            "aaxis": {
             "endlinecolor": "#2a3f5f",
             "gridcolor": "white",
             "linecolor": "white",
             "minorgridcolor": "white",
             "startlinecolor": "#2a3f5f"
            },
            "baxis": {
             "endlinecolor": "#2a3f5f",
             "gridcolor": "white",
             "linecolor": "white",
             "minorgridcolor": "white",
             "startlinecolor": "#2a3f5f"
            },
            "type": "carpet"
           }
          ],
          "choropleth": [
           {
            "colorbar": {
             "outlinewidth": 0,
             "ticks": ""
            },
            "type": "choropleth"
           }
          ],
          "contour": [
           {
            "colorbar": {
             "outlinewidth": 0,
             "ticks": ""
            },
            "colorscale": [
             [
              0,
              "#0d0887"
             ],
             [
              0.1111111111111111,
              "#46039f"
             ],
             [
              0.2222222222222222,
              "#7201a8"
             ],
             [
              0.3333333333333333,
              "#9c179e"
             ],
             [
              0.4444444444444444,
              "#bd3786"
             ],
             [
              0.5555555555555556,
              "#d8576b"
             ],
             [
              0.6666666666666666,
              "#ed7953"
             ],
             [
              0.7777777777777778,
              "#fb9f3a"
             ],
             [
              0.8888888888888888,
              "#fdca26"
             ],
             [
              1,
              "#f0f921"
             ]
            ],
            "type": "contour"
           }
          ],
          "contourcarpet": [
           {
            "colorbar": {
             "outlinewidth": 0,
             "ticks": ""
            },
            "type": "contourcarpet"
           }
          ],
          "heatmap": [
           {
            "colorbar": {
             "outlinewidth": 0,
             "ticks": ""
            },
            "colorscale": [
             [
              0,
              "#0d0887"
             ],
             [
              0.1111111111111111,
              "#46039f"
             ],
             [
              0.2222222222222222,
              "#7201a8"
             ],
             [
              0.3333333333333333,
              "#9c179e"
             ],
             [
              0.4444444444444444,
              "#bd3786"
             ],
             [
              0.5555555555555556,
              "#d8576b"
             ],
             [
              0.6666666666666666,
              "#ed7953"
             ],
             [
              0.7777777777777778,
              "#fb9f3a"
             ],
             [
              0.8888888888888888,
              "#fdca26"
             ],
             [
              1,
              "#f0f921"
             ]
            ],
            "type": "heatmap"
           }
          ],
          "histogram": [
           {
            "marker": {
             "pattern": {
              "fillmode": "overlay",
              "size": 10,
              "solidity": 0.2
             }
            },
            "type": "histogram"
           }
          ],
          "histogram2d": [
           {
            "colorbar": {
             "outlinewidth": 0,
             "ticks": ""
            },
            "colorscale": [
             [
              0,
              "#0d0887"
             ],
             [
              0.1111111111111111,
              "#46039f"
             ],
             [
              0.2222222222222222,
              "#7201a8"
             ],
             [
              0.3333333333333333,
              "#9c179e"
             ],
             [
              0.4444444444444444,
              "#bd3786"
             ],
             [
              0.5555555555555556,
              "#d8576b"
             ],
             [
              0.6666666666666666,
              "#ed7953"
             ],
             [
              0.7777777777777778,
              "#fb9f3a"
             ],
             [
              0.8888888888888888,
              "#fdca26"
             ],
             [
              1,
              "#f0f921"
             ]
            ],
            "type": "histogram2d"
           }
          ],
          "histogram2dcontour": [
           {
            "colorbar": {
             "outlinewidth": 0,
             "ticks": ""
            },
            "colorscale": [
             [
              0,
              "#0d0887"
             ],
             [
              0.1111111111111111,
              "#46039f"
             ],
             [
              0.2222222222222222,
              "#7201a8"
             ],
             [
              0.3333333333333333,
              "#9c179e"
             ],
             [
              0.4444444444444444,
              "#bd3786"
             ],
             [
              0.5555555555555556,
              "#d8576b"
             ],
             [
              0.6666666666666666,
              "#ed7953"
             ],
             [
              0.7777777777777778,
              "#fb9f3a"
             ],
             [
              0.8888888888888888,
              "#fdca26"
             ],
             [
              1,
              "#f0f921"
             ]
            ],
            "type": "histogram2dcontour"
           }
          ],
          "mesh3d": [
           {
            "colorbar": {
             "outlinewidth": 0,
             "ticks": ""
            },
            "type": "mesh3d"
           }
          ],
          "parcoords": [
           {
            "line": {
             "colorbar": {
              "outlinewidth": 0,
              "ticks": ""
             }
            },
            "type": "parcoords"
           }
          ],
          "pie": [
           {
            "automargin": true,
            "type": "pie"
           }
          ],
          "scatter": [
           {
            "fillpattern": {
             "fillmode": "overlay",
             "size": 10,
             "solidity": 0.2
            },
            "type": "scatter"
           }
          ],
          "scatter3d": [
           {
            "line": {
             "colorbar": {
              "outlinewidth": 0,
              "ticks": ""
             }
            },
            "marker": {
             "colorbar": {
              "outlinewidth": 0,
              "ticks": ""
             }
            },
            "type": "scatter3d"
           }
          ],
          "scattercarpet": [
           {
            "marker": {
             "colorbar": {
              "outlinewidth": 0,
              "ticks": ""
             }
            },
            "type": "scattercarpet"
           }
          ],
          "scattergeo": [
           {
            "marker": {
             "colorbar": {
              "outlinewidth": 0,
              "ticks": ""
             }
            },
            "type": "scattergeo"
           }
          ],
          "scattergl": [
           {
            "marker": {
             "colorbar": {
              "outlinewidth": 0,
              "ticks": ""
             }
            },
            "type": "scattergl"
           }
          ],
          "scattermap": [
           {
            "marker": {
             "colorbar": {
              "outlinewidth": 0,
              "ticks": ""
             }
            },
            "type": "scattermap"
           }
          ],
          "scattermapbox": [
           {
            "marker": {
             "colorbar": {
              "outlinewidth": 0,
              "ticks": ""
             }
            },
            "type": "scattermapbox"
           }
          ],
          "scatterpolar": [
           {
            "marker": {
             "colorbar": {
              "outlinewidth": 0,
              "ticks": ""
             }
            },
            "type": "scatterpolar"
           }
          ],
          "scatterpolargl": [
           {
            "marker": {
             "colorbar": {
              "outlinewidth": 0,
              "ticks": ""
             }
            },
            "type": "scatterpolargl"
           }
          ],
          "scatterternary": [
           {
            "marker": {
             "colorbar": {
              "outlinewidth": 0,
              "ticks": ""
             }
            },
            "type": "scatterternary"
           }
          ],
          "surface": [
           {
            "colorbar": {
             "outlinewidth": 0,
             "ticks": ""
            },
            "colorscale": [
             [
              0,
              "#0d0887"
             ],
             [
              0.1111111111111111,
              "#46039f"
             ],
             [
              0.2222222222222222,
              "#7201a8"
             ],
             [
              0.3333333333333333,
              "#9c179e"
             ],
             [
              0.4444444444444444,
              "#bd3786"
             ],
             [
              0.5555555555555556,
              "#d8576b"
             ],
             [
              0.6666666666666666,
              "#ed7953"
             ],
             [
              0.7777777777777778,
              "#fb9f3a"
             ],
             [
              0.8888888888888888,
              "#fdca26"
             ],
             [
              1,
              "#f0f921"
             ]
            ],
            "type": "surface"
           }
          ],
          "table": [
           {
            "cells": {
             "fill": {
              "color": "#EBF0F8"
             },
             "line": {
              "color": "white"
             }
            },
            "header": {
             "fill": {
              "color": "#C8D4E3"
             },
             "line": {
              "color": "white"
             }
            },
            "type": "table"
           }
          ]
         },
         "layout": {
          "annotationdefaults": {
           "arrowcolor": "#2a3f5f",
           "arrowhead": 0,
           "arrowwidth": 1
          },
          "autotypenumbers": "strict",
          "coloraxis": {
           "colorbar": {
            "outlinewidth": 0,
            "ticks": ""
           }
          },
          "colorscale": {
           "diverging": [
            [
             0,
             "#8e0152"
            ],
            [
             0.1,
             "#c51b7d"
            ],
            [
             0.2,
             "#de77ae"
            ],
            [
             0.3,
             "#f1b6da"
            ],
            [
             0.4,
             "#fde0ef"
            ],
            [
             0.5,
             "#f7f7f7"
            ],
            [
             0.6,
             "#e6f5d0"
            ],
            [
             0.7,
             "#b8e186"
            ],
            [
             0.8,
             "#7fbc41"
            ],
            [
             0.9,
             "#4d9221"
            ],
            [
             1,
             "#276419"
            ]
           ],
           "sequential": [
            [
             0,
             "#0d0887"
            ],
            [
             0.1111111111111111,
             "#46039f"
            ],
            [
             0.2222222222222222,
             "#7201a8"
            ],
            [
             0.3333333333333333,
             "#9c179e"
            ],
            [
             0.4444444444444444,
             "#bd3786"
            ],
            [
             0.5555555555555556,
             "#d8576b"
            ],
            [
             0.6666666666666666,
             "#ed7953"
            ],
            [
             0.7777777777777778,
             "#fb9f3a"
            ],
            [
             0.8888888888888888,
             "#fdca26"
            ],
            [
             1,
             "#f0f921"
            ]
           ],
           "sequentialminus": [
            [
             0,
             "#0d0887"
            ],
            [
             0.1111111111111111,
             "#46039f"
            ],
            [
             0.2222222222222222,
             "#7201a8"
            ],
            [
             0.3333333333333333,
             "#9c179e"
            ],
            [
             0.4444444444444444,
             "#bd3786"
            ],
            [
             0.5555555555555556,
             "#d8576b"
            ],
            [
             0.6666666666666666,
             "#ed7953"
            ],
            [
             0.7777777777777778,
             "#fb9f3a"
            ],
            [
             0.8888888888888888,
             "#fdca26"
            ],
            [
             1,
             "#f0f921"
            ]
           ]
          },
          "colorway": [
           "#636efa",
           "#EF553B",
           "#00cc96",
           "#ab63fa",
           "#FFA15A",
           "#19d3f3",
           "#FF6692",
           "#B6E880",
           "#FF97FF",
           "#FECB52"
          ],
          "font": {
           "color": "#2a3f5f"
          },
          "geo": {
           "bgcolor": "white",
           "lakecolor": "white",
           "landcolor": "#E5ECF6",
           "showlakes": true,
           "showland": true,
           "subunitcolor": "white"
          },
          "hoverlabel": {
           "align": "left"
          },
          "hovermode": "closest",
          "mapbox": {
           "style": "light"
          },
          "paper_bgcolor": "white",
          "plot_bgcolor": "#E5ECF6",
          "polar": {
           "angularaxis": {
            "gridcolor": "white",
            "linecolor": "white",
            "ticks": ""
           },
           "bgcolor": "#E5ECF6",
           "radialaxis": {
            "gridcolor": "white",
            "linecolor": "white",
            "ticks": ""
           }
          },
          "scene": {
           "xaxis": {
            "backgroundcolor": "#E5ECF6",
            "gridcolor": "white",
            "gridwidth": 2,
            "linecolor": "white",
            "showbackground": true,
            "ticks": "",
            "zerolinecolor": "white"
           },
           "yaxis": {
            "backgroundcolor": "#E5ECF6",
            "gridcolor": "white",
            "gridwidth": 2,
            "linecolor": "white",
            "showbackground": true,
            "ticks": "",
            "zerolinecolor": "white"
           },
           "zaxis": {
            "backgroundcolor": "#E5ECF6",
            "gridcolor": "white",
            "gridwidth": 2,
            "linecolor": "white",
            "showbackground": true,
            "ticks": "",
            "zerolinecolor": "white"
           }
          },
          "shapedefaults": {
           "line": {
            "color": "#2a3f5f"
           }
          },
          "ternary": {
           "aaxis": {
            "gridcolor": "white",
            "linecolor": "white",
            "ticks": ""
           },
           "baxis": {
            "gridcolor": "white",
            "linecolor": "white",
            "ticks": ""
           },
           "bgcolor": "#E5ECF6",
           "caxis": {
            "gridcolor": "white",
            "linecolor": "white",
            "ticks": ""
           }
          },
          "title": {
           "x": 0.05
          },
          "xaxis": {
           "automargin": true,
           "gridcolor": "white",
           "linecolor": "white",
           "ticks": "",
           "title": {
            "standoff": 15
           },
           "zerolinecolor": "white",
           "zerolinewidth": 2
          },
          "yaxis": {
           "automargin": true,
           "gridcolor": "white",
           "linecolor": "white",
           "ticks": "",
           "title": {
            "standoff": 15
           },
           "zerolinecolor": "white",
           "zerolinewidth": 2
          }
         }
        },
        "title": {
         "text": "Number of Operating Plants by Age Category"
        },
        "xaxis": {
         "anchor": "y",
         "domain": [
          0,
          1
         ],
         "title": {
          "text": "Age Category"
         }
        },
        "yaxis": {
         "anchor": "x",
         "domain": [
          0,
          1
         ],
         "title": {
          "text": "Number of Plants"
         }
        }
       }
      }
     },
     "metadata": {},
     "output_type": "display_data"
    },
    {
     "data": {
      "application/vnd.plotly.v1+json": {
       "config": {
        "plotlyServerURL": "https://plot.ly"
       },
       "data": [
        {
         "customdata": [
          [
           "Algeria",
           "Algerian Qatari Steel"
          ],
          [
           "Algeria",
           "Groupe Industriel Sider SpA"
          ],
          [
           "Algeria",
           "Tosyali Ironsteel Industry Algerie SpA"
          ],
          [
           "Angola",
           "Ada - Aceria De Angola SA"
          ],
          [
           "Egypt",
           "AlGioshy Steel SAE"
          ],
          [
           "Egypt",
           "Al Ezz Dekheila Steel Company Alexandria SAE"
          ],
          [
           "Egypt",
           "Delta Steel Company Ltd"
          ],
          [
           "Egypt",
           "Egyptian American Steel Rolling Company SAE"
          ],
          [
           "Egypt",
           "Egyptian Sponge Iron & Steel Company SAE"
          ],
          [
           "Egypt",
           "Egyptian Steel Group"
          ],
          [
           "Egypt",
           "Egyptian Steel Group"
          ],
          [
           "Egypt",
           "Al Ezz Flat Steel Company SAE"
          ],
          [
           "Egypt",
           "Ezz Steel Co"
          ],
          [
           "Egypt",
           "Suez Steel Company SAE"
          ],
          [
           "Ghana",
           "Sentuo Steel Ltd"
          ],
          [
           "Kenya",
           "Devki Steel Mills Ltd"
          ],
          [
           "Libya",
           "Libyan Iron and Steel Co"
          ],
          [
           "Morocco",
           "ArcelorMittal SA"
          ],
          [
           "Morocco",
           "Maghreb Steel SA"
          ],
          [
           "Morocco",
           "Riva Industries"
          ],
          [
           "Morocco",
           "Univers Acier"
          ],
          [
           "Nigeria",
           "Kam Industries (Nigeria) Ltd"
          ],
          [
           "South Africa",
           "Columbus Stainless (Pty) Ltd"
          ],
          [
           "South Africa",
           "ArcelorMittal South Africa Ltd"
          ],
          [
           "South Africa",
           "Scaw Metals Group Pty Ltd"
          ],
          [
           "Uganda",
           "Tembo Steels Uganda Ltd"
          ],
          [
           "Zimbabwe",
           "Dinson Iron & Steel Company Pvt Ltd"
          ]
         ],
         "hovertemplate": "<b>%{hovertext}</b><br><br>Region=Africa<br>Plant age (years)=%{x}<br>Nominal crude steel capacity (ttpa)=%{marker.size}<br>Country/Area=%{customdata[0]}<br>Owner=%{customdata[1]}<extra></extra>",
         "hovertext": [
          "Algerian Qatari Steel Jijel plant",
          "Sider El Hadjar Annaba steel plant",
          "Tosyali Algerie Oran steel plant",
          "Aceria Angola Bengo steel plant",
          "Al Gioshy Steel Ain Sokhna plant",
          "Al-Ezz Dekheila Steel Alexandria plant",
          "Delta Steel Mill Al Qalyubia plant",
          "Egyptian American Steel Rolling Company Sadat City plant",
          "Egyptian Sponge Iron and Steel Company Sadat City plant",
          "Egyptian Steel Ain Sokhna plant",
          "Egyptian Steel Beni Suef plant",
          "Ezz Flat Steel Ain Sokhna plant",
          "Ezz Steel Rebar Sadat City plant",
          "Suez Steel Solb Misr Attaka plant",
          "Sentuo Steel Tema plant",
          "Devki Steel Mills Kwale plant",
          "Libyan Iron and Steel Misrata plant",
          "ArcelorMittal Sonasid Casablanca steel plant",
          "Mahgreb Steel Casablanca plant",
          "Riva Industries Jorf Lasfar steel plant",
          "Univers Acier Sidi Hajjaj steel plant",
          "Kam Industries Kwara steel plant",
          "Acerinox Columbus Stainless steel plant",
          "ArcelorMittal Vanderbijlpark Steel Works",
          "Scaw Metals Group Germiston plant",
          "Tembo Steels Iganga plant",
          "Dinson Chivhu iron and steel plant"
         ],
         "legendgroup": "Africa",
         "marker": {
          "color": "#636efa",
          "opacity": 0.7,
          "size": {
           "bdata": "AAAAAAAwoUAAAAAAAMygQAAAAAAAOLhAAAAAAABAf0AAAAAAAEB/QAAAAAAAAKlAAAAAAABAf0AAAAAAAMCSQAAAAAAAcKdAAAAAAADAgkAAAAAAAMCCQAAAAAAAeK5AAAAAAABAj0AAAAAAAGigQAAAAAAAAIlAAAAAAABAj0AAAAAAADiZQAAAAAAAAIlAAAAAAADAkkAAAAAAAACJQAAAAAAAwJJAAAAAAADAgkAAAAAAAJCKQAAAAAAAQKpAAAAAAADAgkAAAAAAACB8QAAAAAAAwIJA",
           "dtype": "f8"
          },
          "sizemode": "area",
          "sizeref": 102.21777777777778,
          "symbol": "circle"
         },
         "mode": "markers",
         "name": "Africa",
         "orientation": "v",
         "showlegend": true,
         "type": "scatter",
         "x": {
          "bdata": "AAAAAAAAIEAAAAAAAABMQAAAAAAAAChAAAAAAAAAJEAAAAAAAAAkQAAAAAAAgENAAAAAAACAU0AAAAAAAAA7QAAAAAAAADFAAAAAAAAAHEAAAAAAAAAiQAAAAAAAADtAAAAAAAAAP0AAAAAAAAA5QAAAAAAAACRAAAAAAAAACEAAAAAAAABCQAAAAAAAADRAAAAAAAAASUAAAAAAAAAQQAAAAAAAADdAAAAAAAAAPUAAAAAAAIBNQAAAAAAAgFNAAAAAAABAWUAAAAAAAADwP3sUrkfhevQ/",
          "dtype": "f8"
         },
         "xaxis": "x",
         "y": {
          "bdata": "AAAAAAAwoUAAAAAAAMygQAAAAAAAOLhAAAAAAABAf0AAAAAAAEB/QAAAAAAAAKlAAAAAAABAf0AAAAAAAMCSQAAAAAAAcKdAAAAAAADAgkAAAAAAAMCCQAAAAAAAeK5AAAAAAABAj0AAAAAAAGigQAAAAAAAAIlAAAAAAABAj0AAAAAAADiZQAAAAAAAAIlAAAAAAADAkkAAAAAAAACJQAAAAAAAwJJAAAAAAADAgkAAAAAAAJCKQAAAAAAAQKpAAAAAAADAgkAAAAAAACB8QAAAAAAAwIJA",
          "dtype": "f8"
         },
         "yaxis": "y"
        },
        {
         "customdata": [
          [
           "Argentina",
           "Acindar Industria Argentina de Aceros SA"
          ],
          [
           "Argentina",
           "Sipar Aceros SA"
          ],
          [
           "Argentina",
           "Siderca SAIC"
          ],
          [
           "Argentina",
           "Ternium Argentina SA"
          ],
          [
           "Bolivia",
           "Empresa Siderúrgica del Mutún"
          ],
          [
           "Brazil",
           "Aperam Inox America do Sul SA"
          ],
          [
           "Brazil",
           "ArcelorMittal Brasil SA"
          ],
          [
           "Brazil",
           "ArcelorMittal Brasil SA"
          ],
          [
           "Brazil",
           "ArcelorMittal Brasil SA"
          ],
          [
           "Brazil",
           "ArcelorMittal Brasil SA"
          ],
          [
           "Brazil",
           "ArcelorMittal Brasil SA"
          ],
          [
           "Brazil",
           "ArcelorMittal Brasil SA"
          ],
          [
           "Brazil",
           "ArcelorMittal Tubarão Comercial SA"
          ],
          [
           "Brazil",
           "Aco Verde do Brasil SA"
          ],
          [
           "Brazil",
           "Companhia Siderúrgica Nacional SA"
          ],
          [
           "Brazil",
           "Gerdau Acominas SA"
          ],
          [
           "Brazil",
           "Gerdau Acos Longos SA"
          ],
          [
           "Brazil",
           "Gerdau Acos Longos SA"
          ],
          [
           "Brazil",
           "Gerdau SA"
          ],
          [
           "Brazil",
           "Gerdau Acos Longos SA"
          ],
          [
           "Brazil",
           "GV do Brasil Industria e Comercio de Aço Ltda"
          ],
          [
           "Brazil",
           "GV do Brasil Industria e Comercio de Aço Ltda"
          ],
          [
           "Brazil",
           "Siderurgica Norte Brasil SA"
          ],
          [
           "Brazil",
           "Ternium Brasil Ltda"
          ],
          [
           "Brazil",
           "Usinas Siderurgicas de Minas Gerais SA"
          ],
          [
           "Brazil",
           "Vallourec Soluções Tubulares do Brasil SA"
          ],
          [
           "Chile",
           "Aceros AZA SA"
          ],
          [
           "Guatemala",
           "Corporación AG SA"
          ],
          [
           "Peru",
           "Corporacion Aceros Arequipa SA"
          ],
          [
           "Peru",
           "Empresa Siderurgica del Peru SAA"
          ],
          [
           "Venezuela",
           "Siderurgica del Orinoco Alfredo Maneiro CA"
          ]
         ],
         "hovertemplate": "<b>%{hovertext}</b><br><br>Region=Central & South America<br>Plant age (years)=%{x}<br>Nominal crude steel capacity (ttpa)=%{marker.size}<br>Country/Area=%{customdata[0]}<br>Owner=%{customdata[1]}<extra></extra>",
         "hovertext": [
          "ArcelorMittal Acindar Villa Constitución steel plant",
          "Gerdau Sipar Pérez steel plant",
          "TenarisSiderca Campana steel plant",
          "Ternium Siderar San Nicolás steel plant",
          "ESM Mutún steel plant",
          "Aperam Timóteo steel plant",
          "ArcelorMittal Barra Mansa steel plant",
          "ArcelorMittal Juiz de Fora steel plant",
          "ArcelorMittal Monlevade steel plant",
          "ArcelorMittal Pecém steel plant",
          "ArcelorMittal Piracicaba steel plant",
          "ArcelorMittal Resende steel plant",
          "ArcelorMittal Tubarão steel plant",
          "AVB Açailândia steel plant",
          "CSN Volta Redonda steel plant",
          "Gerdau Açominas Ouro Branco steel plant",
          "Gerdau Cosigua Santa Cruz steel plant",
          "Gerdau Divinópolis steel plant",
          "Gerdau Pindamonhangaba steel plant",
          "Gerdau São Paulo Araçariguama steel plant",
          "Simec Cariacica steel plant",
          "Simec Pindamonhangaba steel plant",
          "Sinobras Marabá steel plant",
          "Ternium Brasil Santa Cruz steel plant",
          "Usiminas Ipatinga steel plant",
          "Vallourec Jeceaba steel plant",
          "AZA Colina steel plant",
          "AG Sidegua Masagua steel plant",
          "Aceros Arequipa Pisco steel plant",
          "Gerdau Siderperu Chimbote steel plant",
          "Sidor Ciudad Guayana steel plant"
         ],
         "legendgroup": "Central & South America",
         "marker": {
          "color": "#EF553B",
          "opacity": 0.7,
          "size": {
           "bdata": "AAAAAABAn0AAAAAAAFCEQAAAAAAA4JpAAAAAAABaq0AAAAAAAABpQAAAAAAAIIxAAAAAAAAAiUAAAAAAADCRQAAAAAAAwJJAAAAAAABwp0AAAAAAADCRQAAAAAAAQI9AAAAAAABMvUAAAAAAAMCCQAAAAAAAa7hAAAAAAAAIsUAAAAAAAECNQAAAAAAAwIJAAAAAAACQgEAAAAAAALCNQAAAAAAAwIJAAAAAAABAf0AAAAAAALB9QAAAAAAAULRAAAAAAACIs0AAAAAAAECPQAAAAAAAQIBAAAAAAABAf0AAAAAAAIiTQAAAAAAAcIdAAAAAAADgj0A=",
           "dtype": "f8"
          },
          "sizemode": "area",
          "sizeref": 102.21777777777778,
          "symbol": "circle"
         },
         "mode": "markers",
         "name": "Central & South America",
         "orientation": "v",
         "showlegend": true,
         "type": "scatter",
         "x": {
          "bdata": "AAAAAADAU0AAAAAAAAAgQLgehetRSFBAAAAAAABAUED2KFyPwvXgPwAAAAAAAFNAAAAAAAAAVkAAAAAAAIBEQAAAAAAAAFZAAAAAAAAAIkAAAAAAAIBRQAAAAAAAADBAAAAAAAAARUAAAAAAAAAkQAAAAAAAwFNAAAAAAACAQ0AAAAAAAABLQAAAAAAAAFJAAAAAAACARkAAAAAAAAAzQAAAAAAAwFRAAAAAAAAAJEAAAAAAAAAyQAAAAAAAAC5AAAAAAACAT0AAAAAAAAAsQD0K16NwPTpAAAAAAAAAP0AAAAAAAABDQAAAAAAAwFBAAAAAAACAT0A=",
          "dtype": "f8"
         },
         "xaxis": "x",
         "y": {
          "bdata": "AAAAAABAn0AAAAAAAFCEQAAAAAAA4JpAAAAAAABaq0AAAAAAAABpQAAAAAAAIIxAAAAAAAAAiUAAAAAAADCRQAAAAAAAwJJAAAAAAABwp0AAAAAAADCRQAAAAAAAQI9AAAAAAABMvUAAAAAAAMCCQAAAAAAAa7hAAAAAAAAIsUAAAAAAAECNQAAAAAAAwIJAAAAAAACQgEAAAAAAALCNQAAAAAAAwIJAAAAAAABAf0AAAAAAALB9QAAAAAAAULRAAAAAAACIs0AAAAAAAECPQAAAAAAAQIBAAAAAAABAf0AAAAAAAIiTQAAAAAAAcIdAAAAAAADgj0A=",
          "dtype": "f8"
         },
         "yaxis": "y"
        },
        {
         "customdata": [
          [
           "Australia",
           "BlueScope Steel Ltd"
          ],
          [
           "Australia",
           "Infrabuild Australia Pty Ltd"
          ],
          [
           "Australia",
           "Infrabuild Australia Pty Ltd"
          ],
          [
           "Bangladesh",
           "Abul Khair Steel Ltd"
          ],
          [
           "Bangladesh",
           "Bangladesh Steel Re-Rolling Mills Ltd"
          ],
          [
           "Bangladesh",
           "BSRM Steels Ltd"
          ],
          [
           "Bangladesh",
           "GPH Ispat Ltd"
          ],
          [
           "Bangladesh",
           "KSRM Steel Plant Ltd"
          ],
          [
           "China",
           "Xinyang Iron & Steel Co.,ltd of Angang Group"
          ],
          [
           "China",
           "Angang Lianzhong Stainless Steel Corp"
          ],
          [
           "China",
           "Angang Steel Co Ltd"
          ],
          [
           "China",
           "Angang Steel Co Ltd"
          ],
          [
           "China",
           "Anhui Changjiang Steel Co Ltd"
          ],
          [
           "China",
           "Anhui Guihang Special Steel Co Ltd"
          ],
          [
           "China",
           "Anhui Jin'an Stainless Steel Foundry Co Ltd"
          ],
          [
           "China",
           "Anhui Langxi County Fuhang Steel Co Ltd"
          ],
          [
           "China",
           "Guangde Xinyuanda Metal Products Co., Ltd. Co Ltd"
          ],
          [
           "China",
           "Anhui Shoukuang Dachang Metal Material Co Ltd"
          ],
          [
           "China",
           "Anshan Baode Iron & Steel Co Ltd"
          ],
          [
           "China",
           "Angang Steel Co Ltd"
          ],
          [
           "China",
           "Anyang Iron & Steel Co Ltd"
          ],
          [
           "China",
           "Baoshan Iron & Steel Co Ltd"
          ],
          [
           "China",
           "Baosteel Desheng Stainless Steel Co Ltd"
          ],
          [
           "China",
           "Baosteel Group Xinjiang Bayi Iron & Steel Co Ltd"
          ],
          [
           "China",
           "Baosteel Zhanjiang Iron & Steel Co Ltd"
          ],
          [
           "China",
           "Baowu Group Echeng Iron & Steel Co Ltd"
          ],
          [
           "China",
           "Bengang Steel Plates Co Ltd"
          ],
          [
           "China",
           "Benxi Beiying Iron & Steel (GROUP) Co Ltd"
          ],
          [
           "China",
           "Cangzhou China Railway Equipment Manufacturing Materials Co Ltd"
          ],
          [
           "China",
           "Changshu Longteng Special Steel Co Ltd"
          ],
          [
           "China",
           "Lucheng Xingbao Iron & Steel Co Ltd"
          ],
          [
           "China",
           "Changzhou Dongfang Special Steel Co Ltd"
          ],
          [
           "China",
           "Chengde Street Ltd"
          ],
          [
           "China",
           "Chengde Jianlong SPECIAL Steel Co Ltd"
          ],
          [
           "China",
           "Chengdu Changfeng Steel Group Co Ltd"
          ],
          [
           "China",
           "Chengyu Vanadium & Titanium Technology Co Ltd"
          ],
          [
           "China",
           "Chifeng Yuanlian Steel Co Ltd"
          ],
          [
           "China",
           "Chifeng Zhongtang Special Steel Co Ltd"
          ],
          [
           "China",
           "Chizhou Guichi Guihang Metal Products Co Ltd"
          ],
          [
           "China",
           "Chongqing Iron & Steel Co Ltd"
          ],
          [
           "China",
           "Chongqing Yonghang Steel Group Co Ltd"
          ],
          [
           "China",
           "Danyang Longjiang Steel Co Ltd"
          ],
          [
           "China",
           "Daye SPECIAL Steel Co Ltd"
          ],
          [
           "China",
           "Hubei Xinxin Steel Group Co Ltd; natural person(s)"
          ],
          [
           "China",
           "DELONG Steel Ltd"
          ],
          [
           "China",
           "Dongbei Special Steel Group Dalian Special Steel Co Ltd"
          ],
          [
           "China",
           "Fangda Special Steel Technology Co Ltd"
          ],
          [
           "China",
           "Fujian Great Dong Hai Industrial Group Co Ltd"
          ],
          [
           "China",
           "Fujian Dingsheng Steel Co Ltd"
          ],
          [
           "China",
           "Fujian Dingxin Industry Co Ltd"
          ],
          [
           "China",
           "Fujian Fuxin Special Steel Co Ltd"
          ],
          [
           "China",
           "Fujian Luoyuan Minguang Iron & Steel Co Ltd"
          ],
          [
           "China",
           "Fujian Qingtuo New Material Co Ltd"
          ],
          [
           "China",
           "Fujian Sanbao Steel Co Ltd"
          ],
          [
           "China",
           "Fujian Tsingtuo Nickel Industry Co Ltd"
          ],
          [
           "China",
           "Fujian Wuhang Stainless Steel Products Co Ltd"
          ],
          [
           "China",
           "Fushun New Steel Corp Ltd"
          ],
          [
           "China",
           "Fushun Special Steel Co Ltd"
          ],
          [
           "China",
           "Fuzhou Wuhang Steel Products Co Ltd"
          ],
          [
           "China",
           "Gansu Jiu Steel Group Hongxing Iron and Steel Co Ltd"
          ],
          [
           "China",
           "Guangdong Guangqing METAL Technology Co Ltd"
          ],
          [
           "China",
           "Guangdong Jingye Iron and Steel Co Ltd"
          ],
          [
           "China",
           "Guangdong Jinshenglan Metallurgical Technology Co Ltd"
          ],
          [
           "China",
           "Guangdong Nanfang Donghai Iron and Steel Co Ltd"
          ],
          [
           "China",
           "Guangdong Yuebei United Steel Co Ltd"
          ],
          [
           "China",
           "Guangshui Huaxin Smelt Industry Co Ltd"
          ],
          [
           "China",
           "Guangxi BG New Materials Co Ltd"
          ],
          [
           "China",
           "Guangxi Chiji Iron and Steel Co Ltd"
          ],
          [
           "China",
           "Guangxi Longzhou Zhongheng Wanhua Industrial Co Ltd"
          ],
          [
           "China",
           "Guangxi Guigang Iron and Steel Group Co Ltd"
          ],
          [
           "China",
           "Guangxi Guigang Iron and Steel Group Guigang Guibao SPECIAL Steel Co Ltd"
          ],
          [
           "China",
           "Guangxi Guixin Steel Group Co Ltd"
          ],
          [
           "China",
           "Hezhou Zhaoxin Hardware Products Co Ltd"
          ],
          [
           "China",
           "Guangxi Hezhou Kexinda Metal Products Co Ltd"
          ],
          [
           "China",
           "Guangxi Iron and Steel Group Co Ltd"
          ],
          [
           "China",
           "Guangxi Shenglong Metallurgical Co Ltd"
          ],
          [
           "China",
           "Guangxi Wuzhou Jinhai Stainless Steel Co Ltd"
          ],
          [
           "China",
           "Guilin Pinggang Iron and Steel Co Ltd"
          ],
          [
           "China",
           "Guizhou Ganglian Industrial Group Co Ltd"
          ],
          [
           "China",
           "Guizhou Hexing Metal Products Co Ltd"
          ],
          [
           "China",
           "Guizhou United Steel (Group) Co Ltd"
          ],
          [
           "China",
           "Hanshan Iron and Steel Co Ltd"
          ],
          [
           "China",
           "Dazhou Hangda Steel Co Ltd"
          ],
          [
           "China",
           "HBIS Laoting Steel Co Ltd"
          ],
          [
           "China",
           "Hebei Anfeng Iron & Steel Co Ltd"
          ],
          [
           "China",
           "Hebei Donghai SPECIAL Steel Group Co Ltd"
          ],
          [
           "China",
           "Hebei Huaxi Special Steel Co Ltd"
          ],
          [
           "China",
           "Hebei Huaxin Special Steel Co Ltd"
          ],
          [
           "China",
           "Hebei Jinxi Iron & Steel Group Co Ltd"
          ],
          [
           "China",
           "Hebei Puyang Iron and Steel Co Ltd"
          ],
          [
           "China",
           "Hebei Rongxin Iron & Steel Co Ltd"
          ],
          [
           "China",
           "Hebei Taihang Iron and Steel Group Co Ltd"
          ],
          [
           "China",
           "Hebei Tangyin IRON&STEEL Co Ltd"
          ],
          [
           "China",
           "Hebei Tianzhu Iron and Steel Group Special Steel Co Ltd"
          ],
          [
           "China",
           "Hebei Xinda Iron and Steel Co Ltd"
          ],
          [
           "China",
           "Hebei Xinjin Iron and Steel Co Ltd"
          ],
          [
           "China",
           "Hebei New Wuan Iron and Steel Group Xin Hui Metallurgy Co Ltd"
          ],
          [
           "China",
           "Hebei Xinxing Ductile Iron Pipes Co Ltd"
          ],
          [
           "China",
           "Hebei Yanshan Iron and Steel Group Co Ltd"
          ],
          [
           "China",
           "Hebei YongYang Special Steel Group Co Ltd"
          ],
          [
           "China",
           "Hbzx HIGH Tech Co Ltd"
          ],
          [
           "China",
           "Hebei Zongheng Group Fengnan Iron & Steel Co Ltd"
          ],
          [
           "China",
           "Heilongjiang Jianlong Iron and Steel Co Ltd"
          ],
          [
           "China",
           "Henan Angang Zhoukou Iron and Steel Co Ltd"
          ],
          [
           "China",
           "Henan Xinjinhui Stainless Steel Industry Co Ltd"
          ],
          [
           "China",
           "Henan Jiyuan Iron & Steel (Group) Co Ltd"
          ],
          [
           "China",
           "Henan YAXIN Steel Industry Co Ltd"
          ],
          [
           "China",
           "Hengyang Valin Steel Tube Co Ltd"
          ],
          [
           "China",
           "Heping Yueshen Steel Industrial Co Ltd"
          ],
          [
           "China",
           "Heyuan Derun Steel Co Ltd"
          ],
          [
           "China",
           "Hezhou Xindu Sanyuan Casting Co Ltd"
          ],
          [
           "China",
           "Houying Group Haicheng Iron and Steel Co Ltd"
          ],
          [
           "China",
           "Huainan Hongtai Steel Limited Liability Co"
          ],
          [
           "China",
           "Hubei Jinshenglan Metallurgical Technology Co Ltd"
          ],
          [
           "China",
           "Hubei Lijin Steel Group Co Ltd"
          ],
          [
           "China",
           "Hubei Shunle Iron and Steel Co Ltd"
          ],
          [
           "China",
           "Hunan Valin Lianyuan Iron and Steel Co Ltd"
          ],
          [
           "China",
           "Hunan Valin Lianyuan Iron and Steel Co Ltd"
          ],
          [
           "China",
           "Inner Mongolia BaoTou Steel Union Co Ltd"
          ],
          [
           "China",
           "Inner Mongolia Desheng Metal Products Co Ltd"
          ],
          [
           "China",
           "Inner Mongolia Yaxinlongshun Special Steel Co Ltd"
          ],
          [
           "China",
           "Jianglong Acheng Iron & Steel Co Ltd"
          ],
          [
           "China",
           "Jiangsu Province Binxin Steel Group Co Ltd"
          ],
          [
           "China",
           "Jiangsu Changqiang Iron & Steel Co Ltd"
          ],
          [
           "China",
           "Jiangsu Delong Nickel Industry Co Ltd"
          ],
          [
           "China",
           "Jiangsu HONGTAI Metals Ware Co Ltd"
          ],
          [
           "China",
           "Jiangsu Shagang Group Huaigang SPECIAL Steel Co Ltd"
          ],
          [
           "China",
           "Jiangsu Xusteel Group Co Ltd"
          ],
          [
           "China",
           "Jiangxi Taixin Iron & Steel Co Ltd"
          ],
          [
           "China",
           "Jiangyin Huaxi Steel Co Ltd"
          ],
          [
           "China",
           "Jiangyin Xicheng Steel Co Ltd"
          ],
          [
           "China",
           "Jiangyin Xingcheng SPECIAL Steel Works Co Ltd"
          ],
          [
           "China",
           "Jianlong Beiman SPECIAL Steel Co Ltd"
          ],
          [
           "China",
           "Jianlong Xilin Iron and Steel Co Ltd"
          ],
          [
           "China",
           "Jilin Jianlong Steel Co Ltd"
          ],
          [
           "China",
           "Jilin Jingang Lron and Steel Co Ltd"
          ],
          [
           "China",
           "Jinan Iron & Steel Group Co Ltd"
          ],
          [
           "China",
           "Jincheng FUSHENG Iron & Steel Co Ltd"
          ],
          [
           "China",
           "Jinding Heavy Industries Co Ltd"
          ],
          [
           "China",
           "Jingye Iron and Steel Co Ltd"
          ],
          [
           "China",
           "Jingzhou Qunli Metal Products Co Ltd"
          ],
          [
           "China",
           "Jinye Steel Group Co Ltd"
          ],
          [
           "China",
           "Jiugang Group Yuzhong Iron & Steel Co Ltd"
          ],
          [
           "China",
           "JiuJiang PXSteel Co Ltd"
          ],
          [
           "China",
           "Laiwu Steel Yinshan Section Co Ltd"
          ],
          [
           "China",
           "Gaolan County Lanxin Steel Co Ltd"
          ],
          [
           "China",
           "Lengshuijiang Iron and Steel Co Ltd"
          ],
          [
           "China",
           "Lianfeng Steel (Zhangjiagang) Co Ltd"
          ],
          [
           "China",
           "Lianyungang Huale Alloy Group Co Ltd"
          ],
          [
           "China",
           "Lianyungang Xingxin Iron and Steel Co Ltd"
          ],
          [
           "China",
           "Lianyungang Yaxin Iron and Steel Co Ltd"
          ],
          [
           "China",
           "Liaoyang United Steel Co Ltd"
          ],
          [
           "China",
           "Liaoyang Xinyi Special Steel Co Ltd"
          ],
          [
           "China",
           "Licheng Taihang Iron & Steel Co Ltd"
          ],
          [
           "China",
           "Lingyuan Iron & Steel Co Ltd"
          ],
          [
           "China",
           "Linyi Iron and Steel Investment Group Co Ltd"
          ],
          [
           "China",
           "Huahong Iron and Steel Products Co Ltd"
          ],
          [
           "China",
           "Liuzhou IRON&STEEL Co Ltd"
          ],
          [
           "China",
           "Liyang Baorun Steel Co Ltd"
          ],
          [
           "China",
           "Luzhou Xinyang Vanadium Titanium Steel Co Ltd"
          ],
          [
           "China",
           "Lvliang Jianlong Industrial Co Ltd"
          ],
          [
           "China",
           "Maanshan Iron & Steel Co Ltd"
          ],
          [
           "China",
           "Nanjing Iron & Steel Co Ltd"
          ],
          [
           "China",
           "Nanyang Hanye SPECIAL STREET Co Ltd"
          ],
          [
           "China",
           "Ningbo Haoyang New MATERIALS Techonology Co Ltd"
          ],
          [
           "China",
           "Ningbo Iron & Steel Co Ltd"
          ],
          [
           "China",
           "Ningxia Iron and Steel (Group) Co Ltd"
          ],
          [
           "China",
           "Ningxia Jianlong Special Steel Co Ltd"
          ],
          [
           "China",
           "Pan Gang Group Sichuan Changcheng Special Steel Co Ltd"
          ],
          [
           "China",
           "Panzhihua Steel Group Panzhihua Steel Vanadium Co Ltd"
          ],
          [
           "China",
           "Pangang Group Xichang Steel and Vanadium Co Ltd"
          ],
          [
           "China",
           "Jilinheng Precision Casting Technology Co Ltd"
          ],
          [
           "China",
           "Anyuan Iron & Steel Co Ltd"
          ],
          [
           "China",
           "Posco (Zhangjiagang) Stainless Steel Co Ltd"
          ],
          [
           "China",
           "Qian'an City Jiujiang Wire Co Ltd"
          ],
          [
           "China",
           "Qian'an Zhayi Steel Group Co Ltd"
          ],
          [
           "China",
           "Qingdao Special Iron and Steel Co Ltd"
          ],
          [
           "China",
           "Qinhuangdao Baigong Steel Co Ltd"
          ],
          [
           "China",
           "Qinhuangdao Hongxing Iron & Steel Co Ltd"
          ],
          [
           "China",
           "Rizhao Steel Holding Group Co Ltd"
          ],
          [
           "China",
           "Rizhao Steel Yingkou Medium Plate Co Ltd"
          ],
          [
           "China",
           "Sansteel Minguang Co Ltd Fujian"
          ],
          [
           "China",
           "SGIS Songshan Co Ltd"
          ],
          [
           "China",
           "Shaanxi Hanzhong Iron & Steel Group Co"
          ],
          [
           "China",
           "Shaanxi Huaxin Special Steel Group Co Ltd"
          ],
          [
           "China",
           "Shaanxi LONG MEN IRON&STEEL Co Ltd"
          ],
          [
           "China",
           "Shangang Group Hanzhong Iron & Steel Co Ltd"
          ],
          [
           "China",
           "Shagang Group Anyang Yongxing Iron & Steel Co Ltd"
          ],
          [
           "China",
           "Fulun Iron & Steel Co Ltd"
          ],
          [
           "China",
           "Shandong Iron and Steel Co Ltd"
          ],
          [
           "China",
           "Shandong IRON&STEEL Group Rizhao Co Ltd"
          ],
          [
           "China",
           "Shandong Iron & Steel Group Yongfeng Lingang Corp"
          ],
          [
           "China",
           "Shandong Luli Steel Co Ltd"
          ],
          [
           "China",
           "Shandong Shouguang Juneng SPECIAL Steel Co Ltd"
          ],
          [
           "China",
           "Shanghai Meishan Iron & Steel Co Ltd"
          ],
          [
           "China",
           "Shanxi Gaoyi Steel Co Ltd"
          ],
          [
           "China",
           "Shanxi HONGDA Iron and Steel Group Co Ltd"
          ],
          [
           "China",
           "Hejin Huaxinyuan Steel & Iron Co Ltd"
          ],
          [
           "China",
           "Shanxi Jianlong Industrial Co Ltd"
          ],
          [
           "China",
           "Shanxi Jinnan Iron and Steel Group Co Ltd"
          ],
          [
           "China",
           "Shanxi Meijin Iron and Steel Co Ltd"
          ],
          [
           "China",
           "Shanxi Taigang Stainless Steel Co Ltd"
          ],
          [
           "China",
           "ShanXi TongCai Industry and Trade Co Ltd"
          ],
          [
           "China",
           "Shanxi Tongde Xinghua Special Steel Co Ltd"
          ],
          [
           "China",
           "Shanxi Xintai Iron & Steel Co Ltd"
          ],
          [
           "China",
           "Shanxi Zhongyang Iron & Steel Co Ltd"
          ],
          [
           "China",
           "Shiheng SPECIAL Steel Group Co Ltd"
          ],
          [
           "China",
           "Shijiazhuang Iron and Steel Co Ltd"
          ],
          [
           "China",
           "Yun County Rongfeng Rolling Mill Factory"
          ],
          [
           "China",
           "Shougang Changzhi IRON& Steel Co Ltd"
          ],
          [
           "China",
           "Shougang Guiyang SPECIAL Steel Co Ltd"
          ],
          [
           "China",
           "Shougang Jingtang United Iron & Steel Co Ltd"
          ],
          [
           "China",
           "Beijing Shougang Co Ltd"
          ],
          [
           "China",
           "Shougang Shuicheng Iron & Steel (Group) Co Ltd"
          ],
          [
           "China",
           "Sichuan De Sheng Group, Vanadium and Titanium Co Ltd"
          ],
          [
           "China",
           "Sichuan Gangchen Stainless Steel Co Ltd"
          ],
          [
           "China",
           "Sichuan Shehong Chuanzhong Construction Materials Co Ltd"
          ],
          [
           "China",
           "Sichuan Shengquan Iron and Steel Group Co Ltd"
          ],
          [
           "China",
           "Sichuan Ya'an Anshan Iron and Steel Co Ltd"
          ],
          [
           "China",
           "Tangshan Donghai Iron and Steel Group Co Ltd"
          ],
          [
           "China",
           "Tangshan Donghua Iron & Steel Enterprise Group Co Ltd"
          ],
          [
           "China",
           "Tangshan Fengnan District Jing'an Iron and Steel Co Ltd"
          ],
          [
           "China",
           "Tangshan Ganglu Iron & Steel Co Ltd"
          ],
          [
           "China",
           "Tangshan Guotang Steel Co Ltd"
          ],
          [
           "China",
           "Tangshan Heavy Plate Co Ltd"
          ],
          [
           "China",
           "Tangshan RUIFENG Steel and Iron (GROUP) Co Ltd"
          ],
          [
           "China",
           "Tangshan Songting IRON&STEEL Co Ltd"
          ],
          [
           "China",
           "Tangshan Wenfeng Special Steel Co Ltd"
          ],
          [
           "China",
           "Tangshan Xinglong Steel Co Ltd"
          ],
          [
           "China",
           "Tangshan Yutian Jinzhou Industry Co Ltd"
          ],
          [
           "China",
           "Tangshan Zhengfeng Steel Co Ltd"
          ],
          [
           "China",
           "Tianjin Iron and Steel Group Co Ltd"
          ],
          [
           "China",
           "Tianjin Iron PLANT Co Ltd"
          ],
          [
           "China",
           "Tianjin Tiangang UNITED SPECIAL Steel Co Ltd"
          ],
          [
           "China",
           "Tianjin Pipe Corp"
          ],
          [
           "China",
           "Rockcheck Steel Group Co Ltd"
          ],
          [
           "China",
           "Tonghua Iron & Steel Co Ltd"
          ],
          [
           "China",
           "Tongling Fuxin Iron & Steel Co Ltd"
          ],
          [
           "China",
           "Tongling City Xuanli Special Steel Co Ltd"
          ],
          [
           "China",
           "Weifang SPECIAL Steel Group Co Ltd"
          ],
          [
           "China",
           "Wuhai Baogang Wanteng Iron and Steel Co Ltd"
          ],
          [
           "China",
           "Wuhan Iron and Steel Co Ltd"
          ],
          [
           "China",
           "Wuhan Shunle Stainless Steel Co Ltd"
          ],
          [
           "China",
           "Wuhu Fuxin Iron & Steel Co Ltd"
          ],
          [
           "China",
           "Wuhu Xinxing Ductile Iron Pipes Co Ltd"
          ],
          [
           "China",
           "Wulanhot Iron & Steel Co Ltd"
          ],
          [
           "China",
           "Wuyang Iron and Steel Co Ltd"
          ],
          [
           "China",
           "Wuzhou Yongda Special Steel Co Ltd"
          ],
          [
           "China",
           "Xiangfen County XinJinShan Special Steel Co Ltd"
          ],
          [
           "China",
           "Xining Special Steel Co Ltd"
          ],
          [
           "China",
           "Xinji AOSEN Steel Group Co Ltd"
          ],
          [
           "China",
           "Xinjiang Da'an Special Steel Co Ltd"
          ],
          [
           "China",
           "Xinjiang Ka Steel Group Co"
          ],
          [
           "China",
           "Xinjiang KingTec Steel Co Ltd"
          ],
          [
           "China",
           "Xinjiang Minxin Iron and Steel (Group) Minhang Special Steel Co Ltd"
          ],
          [
           "China",
           "Xinxing Ductile Iron Pipes Xinjiang Co Ltd"
          ],
          [
           "China",
           "Xinjiang Xin'an Special Steel Co Ltd"
          ],
          [
           "China",
           "Xinjiang Yili Iron and Steel Co Ltd"
          ],
          [
           "China",
           "Xinyu Iron & Steel Corp Ltd"
          ],
          [
           "China",
           "Yancheng Lianxin Steel Co Ltd"
          ],
          [
           "China",
           "Yangchun New Iron & Steel Co Ltd"
          ],
          [
           "China",
           "Yangzhou Hengrun Ocean Heavy Industry Co Ltd"
          ],
          [
           "China",
           "Yangzhou Qinyou Special Metal Materials Co Ltd"
          ],
          [
           "China",
           "Yantai Walsin Stainless Steel Co Ltd"
          ],
          [
           "China",
           "Yunnan Qujing Iron and Steel Group Chenggang Iron and Steel Co Ltd"
          ],
          [
           "China",
           "Yunnan Qujing Iron and Steel Group Co Ltd"
          ],
          [
           "China",
           "YunNan Province Tiangao Nickel Alloy Co Ltd"
          ],
          [
           "China",
           "Yunnan Yuxi Iron and Steel Group Yukun Iron and Steel Co Ltd"
          ],
          [
           "China",
           "Yunnan Yuxi Xianfu Iron and Steel (Group) Co Ltd"
          ],
          [
           "China",
           "Zenith Steel Group Co Ltd"
          ],
          [
           "China",
           "Zenith Steel Group (Nantong) Co Ltd"
          ],
          [
           "China",
           "Zhangjiagang Hongchang Steel Co Ltd"
          ],
          [
           "China",
           "Zhangjiagang Rongsheng Steel-Making Co Ltd"
          ],
          [
           "China",
           "Zhejiang TSINGSHAN IRON&STEEL Co Ltd"
          ],
          [
           "China",
           "Zhejiang Wantai Special Steel Co Ltd"
          ],
          [
           "China",
           "Zhongpu (Handan) Iron and Steel Co Ltd"
          ],
          [
           "China",
           "Zhongxin Iron and Steel Group Co Ltd"
          ],
          [
           "China",
           "BERIS Jiangsu Heavy Industry Co Ltd"
          ],
          [
           "China",
           "Zhuhai Yueyufeng IRON&STEEL Co Ltd"
          ],
          [
           "India",
           "Adhunik Metaliks Ltd"
          ],
          [
           "India",
           "ArcelorMittal Nippon Steel India Ltd"
          ],
          [
           "India",
           "Arjas Steel Pvt Ltd"
          ],
          [
           "India",
           "BMM Ispat Ltd"
          ],
          [
           "India",
           "ESL Steel Ltd"
          ],
          [
           "India",
           "Evonith Metallics Ltd"
          ],
          [
           "India",
           "Godawari Power and Ispat Ltd"
          ],
          [
           "India",
           "Hospet Steels Ltd"
          ],
          [
           "India",
           "Jai Balaji Industries Ltd"
          ],
          [
           "India",
           "Jai Balaji Jyoti Steels Ltd"
          ],
          [
           "India",
           "Jayaswal Neco Industries Ltd"
          ],
          [
           "India",
           "Jindal Stainless Ltd"
          ],
          [
           "India",
           "Jindal Stainless Ltd"
          ],
          [
           "India",
           "Jindal Steel & Power Ltd"
          ],
          [
           "India",
           "Jindal Steel & Power Ltd"
          ],
          [
           "India",
           "JSW Steel Ltd"
          ],
          [
           "India",
           "JSW Steel Ltd"
          ],
          [
           "India",
           "JSW Ispat Special Products Ltd"
          ],
          [
           "India",
           "JSW Steel Ltd"
          ],
          [
           "India",
           "JSW Steel Ltd"
          ],
          [
           "India",
           "JSW Vijayanagar Metallics Ltd"
          ],
          [
           "India",
           "Mesco Kalinga Steel Ltd"
          ],
          [
           "India",
           "Mono Steel (India) Ltd"
          ],
          [
           "India",
           "MSP Steel & Power Ltd"
          ],
          [
           "India",
           "NR Ispat and Power Pvt Ltd"
          ],
          [
           "India",
           "Neelachal Ispat Nigam Ltd"
          ],
          [
           "India",
           "Nilachal Iron & Power Ltd"
          ],
          [
           "India",
           "NMDC Steel Ltd"
          ],
          [
           "India",
           "Orissa Metaliks Pvt Ltd"
          ],
          [
           "India",
           "Orissa Metaliks Pvt Ltd"
          ],
          [
           "India",
           "Orissa Metaliks Pvt Ltd"
          ],
          [
           "India",
           "Orissa Sponge Iron and Steel Ltd"
          ],
          [
           "India",
           "Prakash Industries Ltd"
          ],
          [
           "India",
           "Rashmi Metaliks Ltd"
          ],
          [
           "India",
           "Rashtriya Ispat Nigam Ltd"
          ],
          [
           "India",
           "Rungta Mines Ltd"
          ],
          [
           "India",
           "Rungta Mines Ltd"
          ],
          [
           "India",
           "Steel Authority of India Ltd"
          ],
          [
           "India",
           "Steel Authority of India Ltd"
          ],
          [
           "India",
           "Steel Authority of India Ltd"
          ],
          [
           "India",
           "Steel Authority of India Ltd"
          ],
          [
           "India",
           "Steel Authority of India Ltd"
          ],
          [
           "India",
           "Steel Authority of India Ltd"
          ],
          [
           "India",
           "Shakambhari Ispat & Power Ltd"
          ],
          [
           "India",
           "Shri Bajrang Power and Ispat Ltd"
          ],
          [
           "India",
           "Shyam Metalics and Energy Ltd"
          ],
          [
           "India",
           "Shyam Metalics and Energy Ltd"
          ],
          [
           "India",
           "Shyam Steel Industries Ltd"
          ],
          [
           "India",
           "Sunflag Iron and Steel Co Ltd"
          ],
          [
           "India",
           "Tata Steel BSL Ltd"
          ],
          [
           "India",
           "Tata Steel Ltd"
          ],
          [
           "India",
           "Tata Steel Ltd"
          ],
          [
           "India",
           "Tata Steel Long Products Ltd"
          ],
          [
           "India",
           "Welspun Corp Ltd"
          ],
          [
           "India",
           "Yazdani Steel and Power Ltd"
          ],
          [
           "Indonesia",
           "PT Mandan Steel"
          ],
          [
           "Indonesia",
           "Dexin Steel Pte Ltd"
          ],
          [
           "Indonesia",
           "PT Gunung Raja Paksi Tbk"
          ],
          [
           "Indonesia",
           "PT Jakarta Prima Steel Industries"
          ],
          [
           "Indonesia",
           "PT Krakatau Steel (Persero) Tbk"
          ],
          [
           "Indonesia",
           "PT Krakatau Posco"
          ],
          [
           "Indonesia",
           "PT The Master Steel MFG"
          ],
          [
           "Indonesia",
           "LNM Group"
          ],
          [
           "Japan",
           "Aichi Steel Corp"
          ],
          [
           "Japan",
           "Chubu Steel Plate Co Ltd"
          ],
          [
           "Japan",
           "Daido Steel Co Ltd"
          ],
          [
           "Japan",
           "Godo Steel Ltd"
          ],
          [
           "Japan",
           "Godo Steel Ltd"
          ],
          [
           "Japan",
           "JFE Bars & Shapes Corp"
          ],
          [
           "Japan",
           "JFE Bars & Shapes Corp"
          ],
          [
           "Japan",
           "JFE Bars & Shapes Corp"
          ],
          [
           "Japan",
           "JFE Steel Corp"
          ],
          [
           "Japan",
           "JFE Steel Corp"
          ],
          [
           "Japan",
           "JFE Steel Corp"
          ],
          [
           "Japan",
           "JFE Steel Corp"
          ],
          [
           "Japan",
           "Kishiwada Steel Co Ltd"
          ],
          [
           "Japan",
           "Kobe Steel Ltd"
          ],
          [
           "Japan",
           "Kyoei Steel Ltd"
          ],
          [
           "Japan",
           "Kyoei Steel Ltd"
          ],
          [
           "Japan",
           "Kyoei Steel Ltd"
          ],
          [
           "Japan",
           "Nakayama Steel Products Co Ltd"
          ],
          [
           "Japan",
           "Nakayama Steel Works Ltd"
          ],
          [
           "Japan",
           "Nippon Steel Corp"
          ],
          [
           "Japan",
           "Nippon Steel Corp"
          ],
          [
           "Japan",
           "Nippon Steel Corp"
          ],
          [
           "Japan",
           "Nippon Steel Corp"
          ],
          [
           "Japan",
           "Nippon Steel Corp"
          ],
          [
           "Japan",
           "Sanyo Special Steel Co Ltd"
          ],
          [
           "Japan",
           "Nippon Steel Corp"
          ],
          [
           "Japan",
           "Nippon Steel Stainless Steel Corp"
          ],
          [
           "Japan",
           "Nippon Steel Stainless Steel Corp"
          ],
          [
           "Japan",
           "Nippon Steel Corp"
          ],
          [
           "Japan",
           "Osaka Steel Co Ltd"
          ],
          [
           "Japan",
           "Tokyo Steel Manufacturing Co Ltd"
          ],
          [
           "Japan",
           "Tokyo Steel Manufacturing Co Ltd"
          ],
          [
           "Japan",
           "Tokyo Steel Manufacturing Co Ltd"
          ],
          [
           "Japan",
           "Tokyo Steel Manufacturing Co Ltd"
          ],
          [
           "Japan",
           "Topy Industries Ltd"
          ],
          [
           "Japan",
           "Yamato Steel Co Ltd"
          ],
          [
           "Malaysia",
           "Alliance Steel (M) Sdn Bhd"
          ],
          [
           "Malaysia",
           "Ann Joo Integrated Steel Sdn Bhd"
          ],
          [
           "Malaysia",
           "Ann Joo Steel Bhd"
          ],
          [
           "Malaysia",
           "Eastern Steel Sdn Bhd"
          ],
          [
           "Malaysia",
           "Eden Flame Sdn Bhd"
          ],
          [
           "Malaysia",
           "Amsteel Mills Sdn Bhd"
          ],
          [
           "Malaysia",
           "Amsteel Mills Sdn Bhd"
          ],
          [
           "Malaysia",
           "Malaysia Steel Works (KL) Bhd"
          ],
          [
           "Malaysia",
           "Southern Steel Bhd"
          ],
          [
           "North Korea",
           "Government of North Korea"
          ],
          [
           "North Korea",
           "Government of North Korea"
          ],
          [
           "North Korea",
           "Government of North Korea"
          ],
          [
           "North Korea",
           "Government of North Korea"
          ],
          [
           "Pakistan",
           "Agha Steel Industries Ltd"
          ],
          [
           "Pakistan",
           "Amreli Steels Ltd"
          ],
          [
           "Pakistan",
           "Faizan Steel"
          ],
          [
           "Pakistan",
           "Ittehad Steels Pvt Ltd"
          ],
          [
           "Pakistan",
           "Mughal Iron & Steel Industries Ltd"
          ],
          [
           "Philippines",
           "SteelAsia Manufacturing Corp"
          ],
          [
           "Philippines",
           "SteelAsia Manufacturing Corp"
          ],
          [
           "Singapore",
           "Tata Steel Ltd"
          ],
          [
           "South Korea",
           "Daehan Steel Co Ltd"
          ],
          [
           "South Korea",
           "Dongkuk Steel Mill Co Ltd"
          ],
          [
           "South Korea",
           "Dongkuk Steel Mill Co Ltd"
          ],
          [
           "South Korea",
           "Hwanyoung Steel Industries Co Ltd"
          ],
          [
           "South Korea",
           "Hyundai Steel Co"
          ],
          [
           "South Korea",
           "Hyundai Steel Co"
          ],
          [
           "South Korea",
           "KG Steel Co Ltd"
          ],
          [
           "South Korea",
           "KISCO Corp"
          ],
          [
           "South Korea",
           "POSCO Holdings Inc"
          ],
          [
           "South Korea",
           "POSCO Holdings Inc"
          ],
          [
           "South Korea",
           "SeAH Besteel Holdings Corp"
          ],
          [
           "South Korea",
           "SeAH Changwon Integrated Special Steel Corp"
          ],
          [
           "South Korea",
           "SeAh Steel Holdings Corp"
          ],
          [
           "South Korea",
           "YK Steel Corp"
          ],
          [
           "Taiwan",
           "China Steel Corp"
          ],
          [
           "Taiwan",
           "Dragon Steel Corp"
          ],
          [
           "Taiwan",
           "E-Top Metal Co Ltd"
          ],
          [
           "Taiwan",
           "Feng Hsin Steel Co Ltd"
          ],
          [
           "Taiwan",
           "Hai Kwang Enterprise Corp"
          ],
          [
           "Taiwan",
           "Shyeh Sheng Fuat Steel & Iron Works Co Ltd"
          ],
          [
           "Taiwan",
           "Tung Ho Steel Enterprise Corp"
          ],
          [
           "Taiwan",
           "Tung Ho Steel Enterprise Corp"
          ],
          [
           "Taiwan",
           "Tung Ho Steel Enterprise Corp"
          ],
          [
           "Taiwan",
           "Yieh United Steel Corp"
          ],
          [
           "Thailand",
           "Bangkok Steel Industry PCL"
          ],
          [
           "Thailand",
           "Chow Steel Industries PCL"
          ],
          [
           "Thailand",
           "Millcon Steel PCL"
          ],
          [
           "Thailand",
           "G Steel PCL"
          ],
          [
           "Thailand",
           "G J Steel PCL"
          ],
          [
           "Thailand",
           "Siam Yamato Steel Co Ltd"
          ],
          [
           "Thailand",
           "Siam Yamato Steel Co Ltd"
          ],
          [
           "Thailand",
           "Tata Steel (Thailand) PCL"
          ],
          [
           "Thailand",
           "Tata Steel (Thailand) PCL"
          ],
          [
           "Thailand",
           "TY Steel Co Ltd"
          ],
          [
           "Thailand",
           "UMC Metals Ltd"
          ],
          [
           "Vietnam",
           "Formosa Ha Tinh Steel Corp"
          ],
          [
           "Vietnam",
           "Hoa Phat Dung Quat Steel JSC"
          ],
          [
           "Vietnam",
           "Hoa Phat Hai Duong Steel JSC"
          ],
          [
           "Vietnam",
           "Lao Cai Cast Iron and Steel"
          ],
          [
           "Vietnam",
           "Pomina Steel JSC"
          ],
          [
           "Vietnam",
           "Pomina Steel JSC"
          ],
          [
           "Vietnam",
           "Posco Vietnam Co Ltd"
          ],
          [
           "Vietnam",
           "Shengli Vietnam Special Steel Co Ltd"
          ],
          [
           "Vietnam",
           "Thai Nguyen Iron And Steel JSC"
          ],
          [
           "Vietnam",
           "Tung Ho Steel Vietnam Corp Ltd"
          ],
          [
           "Vietnam",
           "Tuyen Quang Iron Steel Co Ltd"
          ],
          [
           "Vietnam",
           "VAS Steel An Hung Tuong LLC"
          ],
          [
           "Vietnam",
           "Nghi Son VAS Group JSC"
          ],
          [
           "Vietnam",
           "VAS Steel Tue Minh JSC"
          ],
          [
           "Vietnam",
           "Viet Nhat Advanced Steel JSC"
          ],
          [
           "Vietnam",
           "Vietnam - Italy Steel JSC"
          ],
          [
           "Vietnam",
           "Vina Kyoei Steel Ltd Co"
          ],
          [
           "Vietnam",
           "Vina One Steel Manufacturing Corp"
          ],
          [
           "Vietnam",
           "VNSTEEL Southern Steel Co Ltd"
          ]
         ],
         "hovertemplate": "<b>%{hovertext}</b><br><br>Region=Asia Pacific<br>Plant age (years)=%{x}<br>Nominal crude steel capacity (ttpa)=%{marker.size}<br>Country/Area=%{customdata[0]}<br>Owner=%{customdata[1]}<extra></extra>",
         "hovertext": [
          "BlueScope Port Kembla steel plant",
          "GFG Liberty Laverton Steel Mill",
          "GFG Liberty Sydney Steel Mill",
          "Abul Khair Steel Sitakunda plant",
          "BSRM Ltd Mirsarai plant",
          "BSRM Steels Mirsarai plant",
          "GPH Steel Sitakunda plant",
          "KSRM Sitakunda steel plant",
          "Angang Group Xinyang Iron and Steel Co Ltd",
          "Angang Lianzhong Stainless Steel Co Ltd",
          "Angang Steel Co Ltd",
          "Angang Steel Co Ltd Bayuquan branch",
          "Anhui Changjiang Steel Co Ltd",
          "Anhui Guihang Special Steel Co Ltd",
          "Anhui Jin an Stainless Steel Casting Co Ltd",
          "Anhui Langxi Hongtai Iron and Steel Co Ltd",
          "Anhui Lixin Special Steel Co Ltd",
          "Anhui Shoukuang Dachang Metal Material Co Ltd",
          "Anshan Baode Iron and Steel Co Ltd",
          "Ansteel Group Chaoyang Steel and Iron Co Ltd",
          "Anyang Iron and Steel Co Ltd",
          "Baoshan Iron and Steel Co Ltd Headquarters",
          "Baosteel Desheng Stainless Steel Co Ltd",
          "Baosteel Group Xinjiang Bayi Iron and Steel Co Ltd",
          "Baosteel Zhanjiang Iron and Steel Co Ltd",
          "Baowu Group Echeng Iron and Steel Co Ltd",
          "Bengang Steel Plates Co Ltd",
          "Benxi Beiying Iron and Steel Group Co Ltd Beitai Town",
          "Cangzhou China Railway Equipment Manufacture Material Co Ltd",
          "Changshu Longteng Special Steel Co Ltd",
          "Changzhi Xingbao Steel Co Ltd",
          "Changzhou Eastern Special Steel Co Ltd",
          "Chengde Iron and Steel Group Co Ltd",
          "Chengde Jianlong Special Steel Co Ltd",
          "Chengdu Changfeng Iron and Steel Group Co Ltd",
          "Chengyu Vanadium and Titanium Technology Co Ltd",
          "Chifeng Yuanlian Steel Co Ltd",
          "Chifeng Zhongtang Special Steel Co Ltd",
          "Chizhou Guichi Guihang Metal Products Co Ltd",
          "Chongqing Iron and Steel Co Ltd",
          "Chongqing Yonghang Steel Group Co Ltd",
          "Danyang Longjiang Steel Co Ltd",
          "Daye Special Steel Co Ltd",
          "Daye Xinye Special Steel Co Ltd",
          "Delong Steel Co Ltd",
          "Dongbei Special Steel Group Dalian Special Steel Co Ltd",
          "Fangda Special Steel Technology Co Ltd",
          "Fujian Dadonghai Industrial Group Co Ltd plant",
          "Fujian Dingsheng Iron and Steel Co Ltd",
          "Fujian Dingxin Industrial Co Ltd",
          "Fujian Fuxin Special Steel Co Ltd",
          "Fujian Luoyuan Minguang Iron and Steel Co Ltd",
          "Fujian Qingtuo New Material Co Ltd",
          "Fujian Sanbao Steel Co Ltd",
          "Fujian Tsingtuo Nickel Industry Co Ltd",
          "Fujian Wuhang Stainless Steel Products Co Ltd",
          "Fushun New Steel Co Ltd",
          "Fushun Special Steel Co Ltd",
          "Fuzhou Wuhang Steel Products Co Ltd",
          "Gansu Jiu Steel Group Hongxing Iron and Steel Co Ltd",
          "Guangdong Guangqing Metal Technology Co Ltd",
          "Guangdong Jingye Iron and Steel Co Ltd",
          "Guangdong Jinshenglan Metallurgical Technology Co Ltd",
          "Guangdong Nanfang Donghai Iron and Steel Co Ltd",
          "Guangdong Yuebei United Steel Co Ltd",
          "Guangshui Huaxin Metallurgical Industry Co Ltd",
          "Guangxi Beigang New Material Co Ltd",
          "Guangxi Chiji Iron and Steel Co Ltd",
          "Guangxi Guifeng Special Steel Co Ltd",
          "Guangxi Guigang Iron and Steel Group Co Ltd",
          "Guangxi Guigang Iron and Steel Group Guigang Guibao Special Steel Co Ltd",
          "Guangxi Guixin Iron and Steel Group Co Ltd",
          "Guangxi Guixin Steel Manufacturing Co Ltd",
          "Guangxi Hezhou Kexinda Metal Products Co Ltd",
          "Guangxi Iron and Steel Group Co Ltd",
          "Guangxi Shenglong Metallurgical Co Ltd",
          "Guangxi Wuzhou Jinhai Stainless Steel Co Ltd",
          "Guilin Pinggang Iron and Steel Co Ltd",
          "Guizhou Ganglian Industrial Group Co Ltd",
          "Guizhou Hexing Steel Co Ltd",
          "Guizhou United Iron and Steel Group Co Ltd",
          "Hangang Longshan Iron and Steel Co Ltd",
          "Hangda Steel Co Ltd",
          "Hbis Laoting Steel Co Ltd",
          "Hebei Anfeng Iron and Steel Co Ltd",
          "Hebei Donghai Special Steel Co Ltd",
          "Hebei Huaxi Special Steel Co Ltd",
          "Hebei Huaxin Special Steel Co Ltd",
          "Hebei Jinxi Iron and Steel Group Co Ltd",
          "Hebei Puyang Iron and Steel Co Ltd",
          "Hebei Rongxin Steel Co Ltd",
          "Hebei Taihang Iron and Steel Group Co Ltd",
          "Hebei Tangyin Iron and Steel Co Ltd Caofeidian base",
          "Hebei Tianzhu Iron and Steel Group Co Ltd",
          "Hebei Xinda Iron and Steel Group Co Ltd",
          "Hebei Xinjin Iron and Steel Co Ltd",
          "Hebei Xinwuan Iron and Steel Group Xinhui Metallurgy Co Ltd",
          "Hebei Xinxing Ductile Iron Pipes Co Ltd",
          "Hebei Yanshan Iron and Steel Group Co Ltd",
          "Hebei Yongyang Special Steel Group Co Ltd",
          "Hebei Zhangxuan High Tech Co Ltd",
          "Hebei Zongheng Group Fengnan Iron and Steel Co Ltd",
          "Heilongjiang Jianlong Iron and Steel Co Ltd",
          "Henan Angang Zhoukou Iron and Steel Co Ltd",
          "Henan Jinhui Industrial Group",
          "Henan Jiyuan Iron and Steel Group Co Ltd",
          "Henan Yaxin Iron and Steel Group Co Ltd",
          "Hengyang Valin Steel Tube Co Ltd",
          "Heping Yueshen Steel Industry Co Ltd",
          "Heyuan Derun Steel Co Ltd LanTang Industrial Park",
          "Hezhou Xindu Sanyuan Casting Co Ltd",
          "Houying Group Haicheng Iron and Steel Co Ltd Datun Branch",
          "Huainan Hongtai Iron and Steel Co Ltd",
          "Hubei Jinshenglan Metallurgical Technology Co Ltd",
          "Hubei Lijin Steel Group Co Ltd",
          "Hubei Shunle Steel Co Ltd plant",
          "Hunan Valin Lianyuan Iron and Steel Co Ltd",
          "Hunan Valin Xiangtan Iron and Steel Co Ltd",
          "Inner Mongolia BaoTou Steel Union Co Ltd",
          "Inner Mongolia Desheng Metal Products Co Ltd",
          "Inner Mongolia Yaxin Longshun Special Steel Co Ltd",
          "Jianglong Acheng Iron and Steel Co Ltd",
          "Jiangsu Binxin Steel Group Co Ltd",
          "Jiangsu Changqiang Iron and Steel Co Ltd",
          "Jiangsu Delong Nickel Industry Co Ltd",
          "Jiangsu Hongtai Iron and Steel Co Ltd",
          "Jiangsu Shagang Group Huaigang Special Steel Co Ltd",
          "Jiangsu Xugang Iron and Steel Group Co Ltd",
          "Jiangxi Taixin Iron and Steel Co Ltd",
          "Jiangyin Huaxi Iron and Steel Co Ltd",
          "Jiangyin Xicheng Steel Co Ltd",
          "Jiangyin Xingcheng Special Steel Works Co Ltd",
          "Jianlong Beiman Special Steel Co Ltd",
          "Jianlong Xilin Iron and Steel Co Ltd",
          "Jilin Jianlong Steel Co Ltd",
          "Jilin Jingang Iron and Steel Co Ltd",
          "Jinan Iron and Steel Group Co Ltd",
          "Jincheng Fusheng Iron and Steel Co Ltd",
          "Jinding Heavy Industry Co Ltd",
          "Jingye Iron and Steel Co Ltd",
          "Jingzhou Qunli Metal Products Co Ltd",
          "Jinye Iron and Steel Group Co Ltd",
          "Jiugang Group Yuzhong Iron and Steel Co Ltd",
          "Jiujiang Pinggang Iron and Steel Co Ltd",
          "Laiwu Iron and Steel Group Yinshan Section Steel Co Ltd",
          "Lanxin Steel Group Co Ltd plant",
          "Lengshuijiang Steel Co Ltd",
          "Lianfeng Steel Zhangjiagang Co Ltd",
          "Lianyungang Huale Alloy Group Co Ltd",
          "Lianyungang Xingxin Iron and Steel Co Ltd",
          "Lianyungang Yaxin Iron and Steel Co Ltd",
          "Liaoyang United Steel Co Ltd",
          "Liaoyang Xinyi Special Steel Co Ltd",
          "Licheng Taihang Iron and Steel Co Ltd",
          "Lingyuan Iron and Steel Co Ltd",
          "Linyi Iron and Steel Investment Group Co Ltd",
          "Lishui Huahong Iron and Steel Products Co Ltd",
          "Liuzhou Iron and Steel Co Ltd Liuzhou Base",
          "Liyang Baorun Steel Co Ltd",
          "Luzhou Xinyang Vanadium Titanium Steel Co Ltd",
          "Lvliang Jianlong Industrial Co Ltd",
          "Maanshan Iron and Steel Co Ltd",
          "Nanjing Iron and Steel Co Ltd",
          "Nanyang Hanye Special Steel Co Ltd",
          "Ningbo Haoyang New Materials Techonology Co Ltd",
          "Ningbo Iron and Steel Co Ltd",
          "Ningxia Iron and Steel Group Co Ltd",
          "Ningxia Jianlong Special Steel Co Ltd",
          "Pangang Group Jiangyou Changcheng Special Steel Co Ltd",
          "Pangang Group Panzhihua Steel Vanadium Co Ltd",
          "Pangang Group Xichang Steel and Vanadium Co Ltd",
          "Panshi Jianlong Iron and Steel Co Ltd",
          "Pingxiang Pinggang Anyuan Iron and Steel Co Ltd",
          "Posco Zhangjiagang Stainless Steel Co Ltd",
          "Qian an Jiujiang Wire Co Ltd",
          "Qian an Zhayi Steel Group Co Ltd",
          "Qingdao Special Iron and Steel Co Ltd",
          "Qinhuangdao Baigong Steel Co Ltd",
          "Qinhuangdao Hongxing Iron and Steel Co Ltd",
          "Rizhao Steel Holding Group Co Ltd",
          "Rizhao Steel Yingkou Medium Plate Co Ltd",
          "Sansteel Minguang Co Ltd Fujian plant",
          "SGIS Songshan Co Ltd",
          "Shaanxi Hanzhong Iron & Steel Group Company",
          "Shaanxi Huaxin Special Steel Group Co Ltd",
          "Shaanxi Longmen Steel Co Ltd",
          "Shaanxi Steel Group Hanzhong Iron and Steel Co Ltd",
          "Shagang Group Anyang Yongxing Special Steel Co Ltd",
          "Shandong Fulun Iron and Steel Co Ltd",
          "Shandong Iron and Steel Co Ltd Laiwu Branch Aishan Street",
          "Shandong Iron and Steel Group Rizhao Co Ltd",
          "Shandong Iron and Steel Group Yongfeng Lingang Co Ltd",
          "Shandong Luli Steel Co Ltd",
          "Shandong Shouguang Juneng Special Steel Co Ltd",
          "Shanghai Meishan Iron and Steel Co Ltd",
          "Shanxi Gaoyi Steel Co Ltd",
          "Shanxi Hongda Iron and Steel Group Co Ltd",
          "Shanxi Huaxinyuan Steel and Iron Group Co Ltd",
          "Shanxi Jianlong Industrial Co Ltd",
          "Shanxi Jinnan Iron and Steel Group Co Ltd",
          "Shanxi Meijin Iron and Steel Co Ltd Dongyu Town",
          "Shanxi Taigang Stainless Steel Co Ltd",
          "Shanxi Tongcai Industry and Trade Co Ltd",
          "Shanxi Tongde Xinghua Special Steel Co Ltd",
          "Shanxi Xintai Iron and Steel Co Ltd",
          "Shanxi Zhongyang Iron and Steel Co Ltd",
          "Shiheng Special Steel Group Co Ltd",
          "Shijiazhuang Iron and Steel Co Ltd Special Steel Branch",
          "Shiyan Yunyang District Rongfeng Iron and Steel Co Ltd",
          "Shougang Changzhi Iron and Steel Co Ltd",
          "Shougang Guiyang Special Steel Co Ltd",
          "Shougang Jingtang United Iron and Steel Co Ltd",
          "Shougang Qian an Iron and Steel Co Ltd",
          "Shougang Shuicheng Iron and Steel Group Co Ltd",
          "Sichuan Desheng Group Vanadium and Titanium Co Ltd",
          "Sichuan Gangchen Stainless Steel Co Ltd",
          "Sichuan Shehong Chuanzhong Construction Materials Co Ltd",
          "Sichuan Shengquan Iron and Steel Group Co Ltd",
          "Sichuan Yaan Anshan Iron and Steel Co Ltd",
          "Tangshan Donghai Iron and Steel Group Co Ltd",
          "Tangshan Donghua Iron and Steel Enterprise Group Co Ltd",
          "Tangshan Fengnan District Jing an Iron and Steel Co Ltd",
          "Tangshan Ganglu Iron and Steel Co Ltd",
          "Tangshan Guotang Steel Co Ltd",
          "Tangshan Medium Thick Plate Co Ltd",
          "Tangshan Ruifeng Iron and Steel Group Co Ltd",
          "Tangshan Songting Iron and Steel Co Ltd",
          "Tangshan Wenfeng Special Steel Co Ltd",
          "Tangshan Xinglong Iron and Steel Co Ltd",
          "Tangshan Yutian Jinzhou Industrial Co Ltd",
          "Tangshan Zhengfeng Steel Co Ltd",
          "Tianjin Iron and Steel Group Co Ltd",
          "Tianjin Iron Plant",
          "Tianjin New Tiangang United Special Steel Co Ltd",
          "Tianjin Pipe Corporation",
          "Tianjin Rockcheck Steel Group Co Ltd",
          "Tonghua Iron and Steel Co Ltd",
          "Tongling Fuxin Iron and Steel Co Ltd",
          "Tongling Xuanli Special Steel Co Ltd",
          "Weifang Special Steel Group Co Ltd",
          "Wuhai Baogang Wanteng Iron and Steel Co Ltd",
          "Wuhan Iron and Steel Co Ltd",
          "Wuhan Shunle Stainless Steel Co Ltd",
          "Wuhu Fuxin Iron and Steel Co Ltd",
          "Wuhu Xinxing Ductile Iron Pipes Co Ltd",
          "Wulanhot Steel Co Ltd",
          "Wuyang Iron and Steel Co Ltd",
          "Wuzhou Yongda Special Steel Co Ltd",
          "Xiangfen County Xinjinshan Special Steel Co Ltd",
          "Xining Special Steel Co Ltd",
          "Xinji Aosen Iron and Steel Group Co Ltd",
          "Xinjiang Daan Special Steel Co Ltd",
          "Xinjiang Ka Steel Group Co",
          "Xinjiang Kingtec Steel Co Ltd",
          "Xinjiang Minxin Iron and Steel Group Minhang Special Steel Co Ltd",
          "Xinjiang Tianshan Iron and Steel Bazhou Co Ltd",
          "Xinjiang Xinan Special Steel Co Ltd",
          "Xinjiang Yili Iron and Steel Co Ltd",
          "Xinyu Iron and Steel Group Co Ltd",
          "Yancheng Lianxin Iron and Steel Co Ltd",
          "Yangchun New Steel Co Ltd",
          "Yangzhou Hengrun Ocean Heavy Industry Co Ltd",
          "Yangzhou Qinyou Special Metal Materials Co Ltd",
          "Yantai Walsin Stainless Steel Co Ltd",
          "Yunnan Qujing Iron and Steel Group Chenggang Iron and Steel Co Ltd",
          "Yunnan Qujing Iron and Steel Group Fenghuang Steel Co Ltd",
          "Yunnan Tiangao Nickel Alloy Co Ltd",
          "Yunnan Yuxi Iron and Steel Group Yukun Iron and Steel Co Ltd",
          "Yunnan Yuxi Xianfu Iron and Steel Group Co Ltd",
          "Zenith Steel Group Co Ltd",
          "Zenith Steel Group Nantong Co Ltd",
          "Zhangjiagang Hongchang Steel Co Ltd",
          "Zhangjiagang Rongsheng Special Steel Co Ltd",
          "Zhejiang Tsingshan Iron and Steel Co Ltd",
          "Zhejiang Wantai Special Steel Co Ltd",
          "Zhongpu Handan Iron and Steel Co Ltd",
          "Zhongxin Iron and Steel Group Co Ltd",
          "Zhongye Dongfang Jiangsu Heavy Industry Co Ltd",
          "Zhuhai Yueyufeng Iron and Steel Co Ltd",
          "Adhunik Metaliks Kuanrmunda steel plant",
          "ArcelorMittal Nippon Steel Hazira Plant",
          "Arjas Steel Tadipatri plant",
          "BMM Ispat Danapur steel plant",
          "Electrosteel Bokaro steel plant",
          "Evonith Value Steel Wardha Steel Plant",
          "Godawari Power and Ispat Siltara steel plant",
          "Hospet Steels Hospet plant",
          "Jai Balaji Durgapur Unit IV steel plant",
          "Jai Balaji Jyoti Steels Sundargarh plant",
          "Jayaswal Neco Industries Raipur steel plant",
          "Jindal Stainless Hisar steel plant",
          "Jindal Stainless Jajpur steel plant",
          "JSPL Angul steel plant",
          "JSPL Raigarh steel plant",
          "JSW BPSL Jharsuguda steel plant",
          "JSW Steel Dolvi steel plant",
          "JSW Steel Raigarh steel plant",
          "JSW Steel Salem steel plant",
          "JSW Steel Vijayanagar steel plant",
          "JSW Vijayanagar Metallics steel plant",
          "Mesco Steel Kalinganagar plant",
          "Mono Steel Gandhidham plant",
          "MSP Steel & Power Raigarh plant",
          "N R Ispat and Power Raigarh steel plant",
          "Neelachal Ispat Nigam steel plant",
          "Nilachal Iron & Power Gamharia Steel Plant",
          "NMDC Nagarnar steel plant",
          "Orissa Alloy Steel Kharagpur Plant",
          "Orissa Metaliks Kharagpur Steel Plant",
          "Orissa Metaliks Markuta steel plant",
          "Orissa Sponge Iron and Steel plant",
          "Prakash Industries Janjgir steel plant",
          "Rashmi Metaliks Kharagpur steel plant",
          "RINL Vizag Steel plant",
          "Rungta Mines Dhenkanal steel plant",
          "Rungta Mines Karakhendra Steel Plant",
          "SAIL Alloy Steel Plant",
          "SAIL Bhilai steel plant",
          "SAIL Bokaro steel plant",
          "SAIL Durgapur steel plant",
          "SAIL IISCO steel plant",
          "SAIL Rourkela steel plant",
          "Shakambhari Ispat and Power Purulia Steel Plant",
          "Shri Bajrang Power & Ispat Tilda Steel Plant",
          "Shyam Metalics Jamuria Steel Plant",
          "Shyam Metalics Sambalpur Steel Plant",
          "Shyam Steel Raghunathpur Steel Plant",
          "Sunflag Iron and Steel plant",
          "Tata Steel BSL Meramandali steel plant",
          "Tata Steel Jamshedpur steel plant",
          "Tata Steel Kalinganagar steel plant",
          "Tata Steel Long Products Gamharia steel plant",
          "Welspun Metallics Anjar Steel plant",
          "Yazdani Steel and Power Kalinganagar steel plant",
          "CNR Mandan Steel South Kalimantan plant",
          "Dexin Steel Morowali plant",
          "Gunung Raja Paksi West Java steel plant",
          "Jakarta Prima Steel Industries plant",
          "Krakatau Steel Cilegon plant",
          "KS Posco Cilegon steel plant",
          "Master Steel Jakarta Steel plant",
          "PT Ispat Indo steel plant",
          "Aichi Steel Chita Plant (Tokai)",
          "Chubu Steel Plate Nagoya plant",
          "Daido Steel Chita plant (Tokai)",
          "Godo Steel Himeji Works",
          "Godo Steel Osaka Works",
          "JFE Bars & Shapes Himeji Works steel plant",
          "JFE Bars & Shapes Kashima Works steel plant",
          "JFE Bars & Shapes Mizushima Works steel plant",
          "JFE East Japan Works (Chiba) steel plant",
          "JFE Sendai Works steel plant",
          "JFE West Japan Works (Fukuyama) steel plant",
          "JFE West Japan Works (Kurashiki) steel plant",
          "Kishiwada Steel Osaka Steel Plant",
          "Kobe Kakogawa Works steel plant",
          "Kyoei Steel Hirakata Division (Osaka)",
          "Kyoei Steel Nagoya Division (Tokai)",
          "Kyoei Steel Yamaguchi Division (Yamaguchi)",
          "Nakayama Steel Products Osaka plant",
          "Nakayama Steel Works Osaka",
          "Nippon East Japan Works (Kashima) steel plant",
          "Nippon East Japan Works (Kimitsu) steel plant",
          "Nippon Kansai Works (Wakayama Area, Wakayama) steel plant",
          "Nippon Kyushu Works (Oita Area, Oita) steel plant",
          "Nippon Nagoya steel plant",
          "Nippon Sanyo Special Steel",
          "Nippon Setouchi Works (Hirohata Area) steel plant",
          "Nippon Stainless Steel Yamaguchi Works (Hikari Area) steel plant",
          "Nippon Stainless Steel Yamaguchi Works (Shunan Area) steel plant",
          "North Nippon Muroran Works steel plant",
          "Osaka Steel Sakai Works",
          "Tokyo Steel Kyushu plant",
          "Tokyo Steel Okayama plant",
          "Tokyo Steel Tahara plant",
          "Tokyo Steel Utsunomiya plant",
          "Topy Industries Toyohashi steel plant",
          "Yamato Steel Himeji Plant",
          "Alliance Steel Kuantan plant",
          "Ann Joo Integrated Steel Penang plant",
          "Ann Joo Steel Selangor plant",
          "Eastern Steel Kemaman plant",
          "Eden Flame Johor steel plant",
          "Lion Industries Amsteel Banting steel plant",
          "Lion Industries Amsteel Klang steel plant",
          "Malaysia Steel Works Klang",
          "Southern Steel Prai Penang plant",
          "Ch'ollima Steel Complex steel plant",
          "Ch'ŏngjin Ironworks steel plant",
          "Hwanghae Iron and Steel Complex steel plant",
          "Kim Chaek Iron and Steel Complex steel plant",
          "Agha Steel Industries Karachi plant",
          "Amreli Steels Dhabeji plant",
          "Faizan Steel Karachi steel plant",
          "Ittehad Steel Faisalabad plant",
          "Mughal Iron & Steel Industries Lahore plant",
          "SteelAsia Calaca plant",
          "SteelAsia Compostela steel plant",
          "Natsteel Singapore plant",
          "DaehanSteel Noksan Steel Plant",
          "Dongkuk Steel Incheon steel plant",
          "Dongkuk Steel Pohang steel plant",
          "Hansco Hwanyoung Steel Dangjin plant",
          "Hyundai Steel Dangjin steel plant",
          "Hyundai Steel Incheon steel plant",
          "KG Steel Incheon steel plant",
          "KISCO steel Changwon plant",
          "POSCO Gwangyang steel plant",
          "POSCO Pohang steel plant",
          "SeAH Besteel Gunsan steel plant",
          "SeAH Changwon Integrated Special Steel plant",
          "SeAH Steel Pohang plant",
          "YK Steel Busan plant",
          "China Steel Corporation Xiaogang plant",
          "China Steel Dragon Steel Taichung plant",
          "E Top Metal Changhua plant",
          "Feng Hsin Steel Taichung plant",
          "Hai Kwang Enterprise Corporation",
          "Shyeh Sheng Fuat Steel Kaohsiung plant",
          "Tung Ho Steel Kaohsiung Plant",
          "Tung Ho Steel Miaoli Plant",
          "Tung Ho Steel Taoyuan Plant",
          "Yieh United Steel Kaohsiung plant",
          "Bangkok Steel Industry Samut Prakan plant",
          "Chow Steel Kabinburi Steel Plant",
          "Millcon Steel Rayong plant",
          "Nippon G Steel plant",
          "Nippon GJS steel plant",
          "Siam Yamato Steel Huai Pong plant",
          "Siam Yamato Steel Map Ta Phut plant",
          "Tata Steel Manufacturing NTS Plant",
          "Tata Steel Manufacturing SCSC Plant",
          "TY Steel Rayong Steel Plant",
          "UMC Metals Chon Buri plant",
          "Formosa Ha Tinh Steel plant",
          "Hoa Phat Dung Quat steel plant",
          "Hoa Phat Hai Duong Steel plant",
          "Lao Cai Cast Iron and Steel Plant",
          "Pomina Steel 2 Phu My plant",
          "Pomina Steel 3 Phu My plant",
          "POSCO Vietnam Phu My steel plant",
          "Shengli Vietnam Special Steel An Bai steel plant",
          "Thai Nguyen Iron and Steel plant",
          "Tung Ho Steel Phu My plant",
          "Tuyen Quang Iron and Steel Long Binh steel plant",
          "VAS An Hung Tuong Steel Binh Duong plant",
          "VAS Nghi Son Cast Iron and Steel plant",
          "VAS Tue Minh Steel Binh Duong plant",
          "Viet Nhat VJS Nam Cau Kien steel plant",
          "Vietnam Italy Steel Pho Noi steel plant",
          "Vina Kyoei Steel Phu My plant",
          "Vina One Steel Ben Luc steel plant",
          "VNSteel Southern Steel Company plant"
         ],
         "legendgroup": "Asia Pacific",
         "marker": {
          "color": "#00cc96",
          "opacity": 0.7,
          "size": {
           "bdata": "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",
           "dtype": "f8"
          },
          "sizemode": "area",
          "sizeref": 102.21777777777778,
          "symbol": "circle"
         },
         "mode": "markers",
         "name": "Asia Pacific",
         "orientation": "v",
         "showlegend": true,
         "type": "scatter",
         "x": {
          "bdata": "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",
          "dtype": "f8"
         },
         "xaxis": "x",
         "y": {
          "bdata": "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",
          "dtype": "f8"
         },
         "yaxis": "y"
        },
        {
         "customdata": [
          [
           "Austria",
           "Voestalpine Stahl Donawitz GmbH"
          ],
          [
           "Austria",
           "Voestalpine Stahl GmbH"
          ],
          [
           "Belarus",
           "BMZ-Upravlyayushchaya Kompaniya Kholdinga BMK JSC"
          ],
          [
           "Belgium",
           "Aperam Stainless Belgium NV"
          ],
          [
           "Belgium",
           "Aperam Stainless Belgium NV"
          ],
          [
           "Belgium",
           "ArcelorMittal SA"
          ],
          [
           "Belgium",
           "Thy-Marcinelle SA"
          ],
          [
           "Bosnia and Herzegovina",
           "Pavgord doo"
          ],
          [
           "Bulgaria",
           "Stomana Industry AD"
          ],
          [
           "Czech Republic",
           "TRINECKÉ ZELEZÁRNY AS"
          ],
          [
           "Finland",
           "Outokumpu Stainless AB"
          ],
          [
           "Finland",
           "Ovako AB"
          ],
          [
           "France",
           "ArcelorMittal Atlantique et Lorraine SAS"
          ],
          [
           "France",
           "ArcelorMittal Méditerranée SAS"
          ],
          [
           "France",
           "Ascometal France Holding SAS"
          ],
          [
           "France",
           "Celsa France SAS"
          ],
          [
           "France",
           "Lamines Marchands Europeens SA"
          ],
          [
           "France",
           "ALPA - Aciéries et Laminoirs de Paris SAS"
          ],
          [
           "France",
           "Iton Seine SAS"
          ],
          [
           "France",
           "Sam Montereau SAS"
          ],
          [
           "France",
           "Societe des Aciers d'Armature pour le Beton SAS"
          ],
          [
           "France",
           "Saarstahl AG"
          ],
          [
           "Germany",
           "ArcelorMittal Bremen GmbH"
          ],
          [
           "Germany",
           "ArcelorMittal Eisenhüttenstadt GmbH"
          ],
          [
           "Germany",
           "ArcelorMittal Hamburg GmbH"
          ],
          [
           "Germany",
           "Benteler Steel/Tube GmbH"
          ],
          [
           "Germany",
           "Stahlwerk Thueringen GmbH"
          ],
          [
           "Germany",
           "Deutsche Edelstahlwerke GmbH"
          ],
          [
           "Germany",
           "ESF Elbe-Stahlwerke Feralpi GmbH"
          ],
          [
           "Germany",
           "Georgsmarienhuette GmbH"
          ],
          [
           "Germany",
           "Badische Stahlwerke GmbH"
          ],
          [
           "Germany",
           "Lech Stahlwerke GmbH"
          ],
          [
           "Germany",
           "BES Brandenburger Elektrostahlwerke GmbH"
          ],
          [
           "Germany",
           "HES Hennigsdorfer Elektrostahlwerke GmbH"
          ],
          [
           "Germany",
           "Peiner Traeger GmbH"
          ],
          [
           "Greece",
           "Hellenic Halyvourgia SA"
          ],
          [
           "Greece",
           "Sidenor Steel Industry SA"
          ],
          [
           "Greece",
           "Sovel SA"
          ],
          [
           "Italy",
           "Acciaierie d'italia SpA"
          ],
          [
           "Italy",
           "Acciaierie Venete SpA"
          ],
          [
           "Italy",
           "Acciaierie Venete SpA"
          ],
          [
           "Italy",
           "Acciaierie Venete SpA"
          ],
          [
           "Italy",
           "AFV Acciaierie Beltrame SpA"
          ],
          [
           "Italy",
           "Alfa Acciai SpA"
          ],
          [
           "Italy",
           "Acciaierie di Sicilia SpA"
          ],
          [
           "Italy",
           "Acciaierie Bertoli Safau SpA"
          ],
          [
           "Italy",
           "Duferco Travi e Profilati SpA"
          ],
          [
           "Italy",
           "Acciaierie di Calvisano SpA"
          ],
          [
           "Italy",
           "Feralpi Siderurgica SpA"
          ],
          [
           "Italy",
           "Ferriera Valsabbia SpA"
          ],
          [
           "Italy",
           "Acciai Speciali Terni SpA"
          ],
          [
           "Italy",
           "Acciaieria Arvedi SpA"
          ],
          [
           "Italy",
           "Industrie Riunite Odolesi IRO SpA"
          ],
          [
           "Italy",
           "ORI Martin - Acciaieria e Ferriera di Brescia SpA"
          ],
          [
           "Italy",
           "Acciaierie di Verona SpA"
          ],
          [
           "Italy",
           "Ferriere Nord SpA"
          ],
          [
           "Italy",
           "Siderpotenza SpA"
          ],
          [
           "Italy",
           "Riva Acciaio SpA"
          ],
          [
           "Italy",
           "Riva Acciaio SpA"
          ],
          [
           "Italy",
           "Dalmine SpA"
          ],
          [
           "Luxembourg",
           "ArcelorMittal SA"
          ],
          [
           "Moldova",
           "Moldova Steel Works JSC"
          ],
          [
           "North Macedonia",
           "Makstil AD"
          ],
          [
           "Norway",
           "Sev.en Global Investments AS"
          ],
          [
           "Poland",
           "ArcelorMittal Poland SA"
          ],
          [
           "Poland",
           "Arcelormittal Warszawa SP zoo"
          ],
          [
           "Poland",
           "Celsa Huta Ostrowiec SP zoo"
          ],
          [
           "Poland",
           "CMC Poland SP zoo"
          ],
          [
           "Poland",
           "Ferrostal Labedy SP zoo"
          ],
          [
           "Poland",
           "Liberty Steel Group"
          ],
          [
           "Portugal",
           "SN MAIA Siderurgia Nacional SA"
          ],
          [
           "Portugal",
           "SN SEIXAL Siderurgia Nacional SA"
          ],
          [
           "Romania",
           "ArcelorMittal Hunedoara SA"
          ],
          [
           "Romania",
           "GLGH Steel"
          ],
          [
           "Romania",
           "S.C. Silcotub SA"
          ],
          [
           "Serbia",
           "HBIS Group Serbia Iron & Steel Beograd doo"
          ],
          [
           "Serbia",
           "Metalfer Steel Mill Sremska Mitrovica doo"
          ],
          [
           "Slovakia",
           "US Steel Košice sro"
          ],
          [
           "Slovenia",
           "SIJ Acroni doo"
          ],
          [
           "Spain",
           "Acerinox Europa SAU"
          ],
          [
           "Spain",
           "ArcelorMittal España SA"
          ],
          [
           "Spain",
           "ArcelorMittal España SA"
          ],
          [
           "Spain",
           "Arcelormittal Olaberria-Bergara SL"
          ],
          [
           "Spain",
           "Arcelormittal Sestao SL"
          ],
          [
           "Spain",
           "Compania Espanola de Laminacion SL"
          ],
          [
           "Spain",
           "Global Steel Wire SA"
          ],
          [
           "Spain",
           "Nervacero SA"
          ],
          [
           "Spain",
           "Corrugados Getafe SL"
          ],
          [
           "Spain",
           "AG Siderurgica Balboa SA"
          ],
          [
           "Spain",
           "Megasa Siderurgica SL"
          ],
          [
           "Spain",
           "Megasider Zaragoza SA"
          ],
          [
           "Spain",
           "Siderurgica Sevillana SA"
          ],
          [
           "Spain",
           "Sidenor Aceros Especiales SLU"
          ],
          [
           "Sweden",
           "Outokumpu Stainless AB"
          ],
          [
           "Sweden",
           "Ovako AB"
          ],
          [
           "Sweden",
           "SSAB AB"
          ],
          [
           "Switzerland",
           "Stahl Gerlafingen AG"
          ],
          [
           "Switzerland",
           "Swiss Steel Holding AG"
          ],
          [
           "Türkiye",
           "ABA Çelik Demir LŞ"
          ],
          [
           "Türkiye",
           "Asil Celik Sanayi ve Ticaret AŞ"
          ],
          [
           "Türkiye",
           "Çebitaş Demir Çelik Endüstrisi AŞ"
          ],
          [
           "Türkiye",
           "Çolakoğlu Metalürji AŞ"
          ],
          [
           "Türkiye",
           "Diler Demir Celik Endustri ve Ticaret AŞ"
          ],
          [
           "Türkiye",
           "Ege Celik Endustrisi Sanayi ve Ticaret AŞ"
          ],
          [
           "Türkiye",
           "Ekinciler Demir ve Celik Sanayi AŞ"
          ],
          [
           "Türkiye",
           "Eregli Demir ve Celik Fabrikalari AŞ"
          ],
          [
           "Türkiye",
           "Habas Industrial and Medical Gases Production Industries AŞ"
          ],
          [
           "Türkiye",
           "Içdaş Çelik Enerji Tersane Ve Ulaşim Sanayi AŞ"
          ],
          [
           "Türkiye",
           "Izmir Demir Celik Sanayi AŞ"
          ],
          [
           "Türkiye",
           "Iskenderun Demir ve Celik AŞ"
          ],
          [
           "Türkiye",
           "Kaptan Demir Celik Endustrisi Ve Ticaret AŞ"
          ],
          [
           "Türkiye",
           "Kardemir Karabuk Demir Çelik Sanayi Ve Ticaret AŞ"
          ],
          [
           "Türkiye",
           "Kardemir Karabuk Demir Çelik Sanayi Ve Ticaret AŞ"
          ],
          [
           "Türkiye",
           "Koc Metalurji AŞ"
          ],
          [
           "Türkiye",
           "Kroman Celik Sanayii AS"
          ],
          [
           "Türkiye",
           "Mescier Demir Celik AŞ"
          ],
          [
           "Türkiye",
           "MMK Metalurji Sanayi Ticaret ve Liman Isletmeciligi AŞ"
          ],
          [
           "Türkiye",
           "Ozkan Demir Celik Sanayi AŞ"
          ],
          [
           "Türkiye",
           "Sıddık Kardeşler Haddecilik Sanayi Ticaret LŞ"
          ],
          [
           "Türkiye",
           "Toscelik Profil ve Sac Endustrisi AS"
          ],
          [
           "Türkiye",
           "Toscelik Profil ve Sac Endustrisi AS"
          ],
          [
           "Türkiye",
           "Yazici Demir Celik Sanayi ve Turizm Ticaret AŞ"
          ],
          [
           "Türkiye",
           "Yesilyurt Demir Celik Endustri Ve Liman Isletmeleri AŞ"
          ],
          [
           "Ukraine",
           "Alchevsk Metallurgical Plant PJSC"
          ],
          [
           "Ukraine",
           "ArcelorMittal Kryvyi Rih PJSC"
          ],
          [
           "Ukraine",
           "Interpipe Ltd"
          ],
          [
           "Ukraine",
           "Kamet-Steel PrJSC"
          ],
          [
           "Ukraine",
           "Zaporiz'kyi Metalurhiinyi Kombinat Zaporizhstal' PJSC"
          ],
          [
           "Ukraine",
           "Yenakiieve Metallurgical Plant Branch PJSC"
          ],
          [
           "Ukraine",
           "SUE DPR UMP"
          ],
          [
           "United Kingdom",
           "Sev.en Global Investments AS"
          ]
         ],
         "hovertemplate": "<b>%{hovertext}</b><br><br>Region=Europe<br>Plant age (years)=%{x}<br>Nominal crude steel capacity (ttpa)=%{marker.size}<br>Country/Area=%{customdata[0]}<br>Owner=%{customdata[1]}<extra></extra>",
         "hovertext": [
          "Voestalpine Stahl Donawitz steel plant",
          "Voestalpine Stahl Linz steel plant",
          "Byelorussian Steel Works",
          "Aperam Stainless Belgium Châtelet steel plant",
          "Aperam Stainless Belgium Genk steel plant",
          "ArcelorMittal Gent steel plant",
          "Thy Marcinelle Charleroi steel plant",
          "Pavgord Zenica steel plant",
          "Stomana Industry Pernik steel plant",
          "TZMS Třinecké železárny Trinec steel plant",
          "Outokumpu Tornio steel plant",
          "Ovako Imatra steel plant",
          "ArcelorMittal Dunkerque steel plant",
          "ArcelorMittal Méditerranée Fos sur Mer steel plant",
          "Ascometal Hagondange steel plant",
          "Celsa France Boucau steel plant",
          "LME Trith-Saint-Léger steel plant",
          "Riva Alpa Gargenville steel plant",
          "Riva Iton Seine Bonnieres Sur Seine steel plant",
          "Riva Sam Montereau steel plant",
          "Riva Sam Neuves-Maisons steel plant",
          "Saarstahl Ascoval Saint-Saulve steel plant",
          "ArcelorMittal Bremen steel plant",
          "ArcelorMittal Eisenhüttenstadt steel plant",
          "ArcelorMittal Hamburg steel plant",
          "Benteler Steel Tube Lingen plant",
          "CSN Stahlwerk Thüringen Unterwellenborn steel plant",
          "Deutsche Edelstahlwerke steel plant",
          "ESF Elbe Stahlwerke Feralpi Riesa plant",
          "Georgsmarienhütte Osnabrück steel plant",
          "Kehler Baden Steel Works",
          "Lech Stahlwerke Meitingen steel plant",
          "Riva Brandenburg Electric Steel Works",
          "Riva Hennigsdorfer Electric Steel Works",
          "Salzgitter Peiner Träger Peine steel plant",
          "Hellenic Halyvourgia Velestino steel plant",
          "Sidenor Steel Industry Thessaloniki plant",
          "Sovel Almyros steel plant",
          "Acciaierie d'Italia Taranto steel plant",
          "Acciaierie Venete Borgo Valsugana steel plant",
          "Acciaierie Venete Padua steel plant",
          "Acciaierie Venete Sarezzo steel plant",
          "AFV Accaierie Beltrame Vicenza steel plant",
          "Alfa Acciai Brescia steel plant",
          "Alfa Acciai Catania steel plant",
          "Danieli ABS Pozzuolo del Friuli steel plant",
          "Duferco Travi e Profilati San Zeno Naviglio steel plant",
          "Feralpi Calvisano steel plant",
          "Feralpi Siderurgica Lonato steel plant",
          "Ferriera Valsabbia Odolo steel plant",
          "Finarvedi Acciai Speciali Terni steel plant",
          "Finarvedi Cremona steel plant",
          "IRO Odolo steel plant",
          "Ori Martin Brescia steel plant",
          "Pittini Acciaierie di Verona steel plant",
          "Pittini Ferriere Nord Osoppo steel plant",
          "Pittini Siderpotenza Potenza steel plant",
          "Riva Acciaio Caronno Pertusella steel plant",
          "Riva Acciaio Lesegno steel plant",
          "Tenaris Dalmine steel plant",
          "ArcelorMittal Differdange steel plant",
          "JSC Moldova Steel Works",
          "Makstil Skopje Steel plant",
          "Sev.en GI Mo i Rana steel plant",
          "ArcelorMittal Dąbrowa Górnicza steel plant",
          "ArcelorMittal Warszawa steel plant",
          "Celsa Huta Ostrowiec steel plant",
          "CMC Zawiercie steel plant",
          "Ferrostal Labedy Gliwice steel plant",
          "Huta Czestochowa steel plant",
          "SN MAIA Siderurgia Nacional steel plant",
          "SN SEIXAL Siderurgia Nacional steel plant",
          "ArcelorMittal Hunedoara steel plant",
          "GLGH Resita steel plant",
          "Tenaris Silcotub Calarasi steel mill",
          "HBIS GROUP Serbia Iron & Steel plant Belgrade",
          "Metalfer Steel Mill Sremska Mitrovica",
          "U. S. Steel Košice steel plant",
          "SIJ Acroni Jesenice steel plant",
          "Acerinox Europa Los Barrios steel plant",
          "ArcelorMittal Asturias (Aviles) steel plant",
          "ArcelorMittal Asturias (Gijón) steel plant",
          "ArcelorMittal Olaberria-Bergara (Olaberria) steel plant",
          "ArcelorMittal Sestao steel plant",
          "Celsa Barcelona Castellbisbal steel plant",
          "Celsa Global Steel Wire Santander plant",
          "Celsa Nervacero steel plant",
          "Grupo Gallardo Corrugados Getafe steel plant",
          "Grupo Gallardo Siderurgica Balboa Jerez de los Caballeros steel plant",
          "Megasa Siderúrgica Narón steel plant",
          "Megasider Zaragoza steel plant",
          "Riva Siderurgica Sevillana steel plant",
          "Sidenor Aceros Especiales Basauri steel plant",
          "Outokumpu Avesta steel plant",
          "Ovako Hofors steel plant",
          "SSAB Luleå steel plant",
          "Stahl Gerlafingen steel plant",
          "Swiss Steel Emmenbrücke plant",
          "Aba Iron and Steel Payas plant",
          "Asil Celik Orhangazi steel plant",
          "Cebitas steel plant",
          "Colakoglu Metallurgical Dilovasi plant",
          "Diler Iron and Steel Dilovasi plant",
          "Ege Steel Aliaga plant",
          "Ekinciler Iron and Steel Iskenderun plant",
          "Erdemir Eregli steel plant",
          "Habas Aliaga steel plant",
          "İÇDAŞ Biga steel plant",
          "İDÇ Izdemir Aliaga steel plant",
          "Isdemir Payas steel plant",
          "Kaptan Ereglisi steel plant",
          "Kardemir Celik Sanayi Izmir steel plant",
          "Kardemir Merkez steel plant",
          "Koc Metallurgical Toprakkale plant",
          "Kroman Steel Darica plant",
          "Mescier Iron and Steel Bartin plant",
          "MMK Türkiye Metallurgical Payas plant",
          "Ozkan Iron and Steel Aliaga plant",
          "Siddik Kardesler Dilovasi steel plant",
          "Toscelik Iskenderun steel plant",
          "Toscelik Toprakkale steel plant",
          "Yazici Iron and Steel Iskenderun plant",
          "Yesilyurt Iron and Steel Tekkekoy plant",
          "Alchevsk Metallurgical Plant",
          "ArcelorMittal Kryvyi Rih steel plant",
          "Interpipe Steel Plant",
          "Metallurgical Plant Kametstal",
          "Metinvest Zaporizhstal steel plant",
          "Yenakiieve Metallurgical Plant",
          "Yuzovsky Metallurgical Plant",
          "Se.ven GI Cardiff plant"
         ],
         "legendgroup": "Europe",
         "marker": {
          "color": "#ab63fa",
          "opacity": 0.7,
          "size": {
           "bdata": "AAAAAACAhkAAAAAAAECvQAAAAAAAcKdAAAAAAABAj0AAAAAAAMCSQAAAAAAAiKNAAAAAAAAAiUAAAAAAAFCeQAAAAAAA4JVAAAAAAABwl0AAAAAAAMCSQAAAAAAA+IFAAAAAAABeukAAAAAAAOyjQAAAAAAAyIlAAAAAAADAkkAAAAAAAKCJQAAAAAAA4IVAAAAAAAAwgUAAAAAAAICGQAAAAAAAkIpAAAAAAADQhkAAAAAAAECfQAAAAAAAwJJAAAAAAAAwkUAAAAAAAFCEQAAAAAAAMJFAAAAAAADAgkAAAAAAAOCVQAAAAAAAUIRAAAAAAACIo0AAAAAAAOCVQAAAAAAAIJxAAAAAAABAj0AAAAAAAECPQAAAAAAA4IVAAAAAAAAAiUAAAAAAABiVQAAAAAAAeL5AAAAAAADAgkAAAAAAAMCCQAAAAAAA4IBAAAAAAADAkkAAAAAAAECfQAAAAAAAQH9AAAAAAAAwkUAAAAAAALCNQAAAAAAAwIJAAAAAAAAAk0AAAAAAACCMQAAAAAAAqJZAAAAAAADMsEAAAAAAAMCCQAAAAAAAUIRAAAAAAACIk0AAAAAAADChQAAAAAAA4IVAAAAAAABgiEAAAAAAAMCCQAAAAAAA4IVAAAAAAAAYlUAAAAAAAECPQAAAAAAAMIFAAAAAAAAQiEAAAAAAAImzQAAAAAAAcIdAAAAAAAAgjEAAAAAAAJCaQAAAAAAAQH9AAAAAAABAikAAAAAAAMCCQAAAAAAAMJFAAAAAAAAAiUAAAAAAAEB/QAAAAAAAuIBAAAAAAAAuoUAAAAAAAEB/QAAAAAAAlLFAAAAAAACwhkAAAAAAAMCSQAAAAAAAaLBAAAAAAADAkkAAAAAAAKiWQAAAAAAAQJ9AAAAAAACIo0AAAAAAAHCHQAAAAAAAQI9AAAAAAADAgkAAAAAAAFCUQAAAAAAA4IVAAAAAAABAf0AAAAAAAFCUQAAAAAAAIIdAAAAAAABAf0AAAAAAAEB/QAAAAAAAACpAAAAAAACAhkAAAAAAAFCEQAAAAAAAMJFAAAAAAADQhkAAAAAAAOCKQAAAAAAAlLFAAAAAAABQlEAAAAAAAMCSQAAAAAAAiJNAAAAAAACyrUAAAAAAAJSxQAAAAAAAibNAAAAAAAA4qEAAAAAAAKi2QAAAAAAA4JVAAAAAAACIk0AAAAAAAFqrQAAAAAAAMJFAAAAAAADglUAAAAAAAECPQAAAAAAAiKNAAAAAAADAkkAAAAAAAJCFQAAAAAAAQK9AAAAAAABAn0AAAAAAAGiQQAAAAAAAUJRAAAAAAABgtUAAAAAAAOyQQAAAAAAAoJRAAAAAAABYq0AAAAAAAOSmQAAAAAAAMKFAAAAAAABAj0AAAAAAAMCSQA==",
           "dtype": "f8"
          },
          "sizemode": "area",
          "sizeref": 102.21777777777778,
          "symbol": "circle"
         },
         "mode": "markers",
         "name": "Europe",
         "orientation": "v",
         "showlegend": true,
         "type": "scatter",
         "x": {
          "bdata": "AAAAAABgYkAAAAAAAEBVQAAAAAAAgERAAAAAAACASEAAAAAAAIBLQAAAAAAAgE1AAAAAAAAAQkAAAAAAAKBgQAAAAAAAwFBAAAAAAABAZ0AAAAAAAIBIQAAAAAAAgFZAAAAAAAAAT0AAAAAAAIBJQAAAAAAAQFxAAAAAAAAATkAAAAAAAMBiQAAAAAAAgElAAAAAAABAW0AAAAAAAABKQAAAAAAAIGNAAAAAAAAASUAAAAAAAABRQAAAAAAAwFJAAAAAAAAATEAAAAAAAIBJQAAAAAAAYGJAAAAAAACAWEAAAAAAAIBAQAAAAAAAIGVAAAAAAACAUUAAAAAAAIBLQAAAAAAAQFxAAAAAAAAAW0AAAAAAAOBkQAAAAAAAAE9AAAAAAACAT0AAAAAAAAA4QAAAAAAAAE5AAAAAAAAAR0AAAAAAAABBQAAAAAAAAE1AAAAAAACASEAAAAAAAIBRQAAAAAAAADtAAAAAAACAakAAAAAAAAA1QAAAAAAAgEpAAAAAAACATEAAAAAAAIBMQAAAAAAAoGFAAAAAAACAQEAAAAAAAIBSQAAAAAAAAFdAAAAAAADAXkAAAAAAAABJQAAAAAAAAE9AAAAAAAAAUUAAAAAAAABQQAAAAAAAAF1AAAAAAAAgYEAAAAAAAABEQAAAAAAAAE1AAAAAAADAU0AAAAAAAIBIQAAAAAAAAFFAAAAAAACAakAAAAAAAABfQAAAAAAAAEBAAAAAAADAXkAAAAAAAIBJQAAAAAAAAFBAAAAAAACgYUAAAAAAAMBvQAAAAAAAADVAAAAAAACATkAAAAAAAAAxQAAAAAAAAE5AAAAAAABAUEAAAAAAAIBLQAAAAAAAwFJAAAAAAAAAS0AAAAAAAIBAQAAAAAAAwF5AAAAAAAAAUUAAAAAAAIBfQAAAAAAAAEtAAAAAAABAU0AAAAAAAIBAQAAAAAAAAFJAAAAAAADAUEAAAAAAAMBRQAAAAAAAAE1AAAAAAADAV0AAAAAAAEBbQAAAAAAAAFVAAAAAAADAWkAAAAAAAAA6QAAAAAAAAEVAAAAAAAAAR0AAAAAAAABCQAAAAAAAAExAAAAAAACAREAAAAAAAAA4QAAAAAAAAEJAAAAAAAAATkAAAAAAAABDQAAAAAAAgEtAAAAAAAAAQ0AAAAAAAABIQAAAAAAAADdAAAAAAAAACEAAAAAAAIBVQAAAAAAAACpAAAAAAAAATEAAAAAAAAAUQAAAAAAAACxAAAAAAAAALkAAAAAAAAAiQAAAAAAAAABAAAAAAAAAMEAAAAAAAAA/QAAAAAAAADxAAAAAAAAgYEAAAAAAAMBWQAAAAAAAACpAAAAAAABAYUAAAAAAAABXQAAAAAAAQGBAAAAAAAAAOkAAAAAAAAAzQA==",
          "dtype": "f8"
         },
         "xaxis": "x",
         "y": {
          "bdata": "AAAAAACAhkAAAAAAAECvQAAAAAAAcKdAAAAAAABAj0AAAAAAAMCSQAAAAAAAiKNAAAAAAAAAiUAAAAAAAFCeQAAAAAAA4JVAAAAAAABwl0AAAAAAAMCSQAAAAAAA+IFAAAAAAABeukAAAAAAAOyjQAAAAAAAyIlAAAAAAADAkkAAAAAAAKCJQAAAAAAA4IVAAAAAAAAwgUAAAAAAAICGQAAAAAAAkIpAAAAAAADQhkAAAAAAAECfQAAAAAAAwJJAAAAAAAAwkUAAAAAAAFCEQAAAAAAAMJFAAAAAAADAgkAAAAAAAOCVQAAAAAAAUIRAAAAAAACIo0AAAAAAAOCVQAAAAAAAIJxAAAAAAABAj0AAAAAAAECPQAAAAAAA4IVAAAAAAAAAiUAAAAAAABiVQAAAAAAAeL5AAAAAAADAgkAAAAAAAMCCQAAAAAAA4IBAAAAAAADAkkAAAAAAAECfQAAAAAAAQH9AAAAAAAAwkUAAAAAAALCNQAAAAAAAwIJAAAAAAAAAk0AAAAAAACCMQAAAAAAAqJZAAAAAAADMsEAAAAAAAMCCQAAAAAAAUIRAAAAAAACIk0AAAAAAADChQAAAAAAA4IVAAAAAAABgiEAAAAAAAMCCQAAAAAAA4IVAAAAAAAAYlUAAAAAAAECPQAAAAAAAMIFAAAAAAAAQiEAAAAAAAImzQAAAAAAAcIdAAAAAAAAgjEAAAAAAAJCaQAAAAAAAQH9AAAAAAABAikAAAAAAAMCCQAAAAAAAMJFAAAAAAAAAiUAAAAAAAEB/QAAAAAAAuIBAAAAAAAAuoUAAAAAAAEB/QAAAAAAAlLFAAAAAAACwhkAAAAAAAMCSQAAAAAAAaLBAAAAAAADAkkAAAAAAAKiWQAAAAAAAQJ9AAAAAAACIo0AAAAAAAHCHQAAAAAAAQI9AAAAAAADAgkAAAAAAAFCUQAAAAAAA4IVAAAAAAABAf0AAAAAAAFCUQAAAAAAAIIdAAAAAAABAf0AAAAAAAEB/QAAAAAAAACpAAAAAAACAhkAAAAAAAFCEQAAAAAAAMJFAAAAAAADQhkAAAAAAAOCKQAAAAAAAlLFAAAAAAABQlEAAAAAAAMCSQAAAAAAAiJNAAAAAAACyrUAAAAAAAJSxQAAAAAAAibNAAAAAAAA4qEAAAAAAAKi2QAAAAAAA4JVAAAAAAACIk0AAAAAAAFqrQAAAAAAAMJFAAAAAAADglUAAAAAAAECPQAAAAAAAiKNAAAAAAADAkkAAAAAAAJCFQAAAAAAAQK9AAAAAAABAn0AAAAAAAGiQQAAAAAAAUJRAAAAAAABgtUAAAAAAAOyQQAAAAAAAoJRAAAAAAABYq0AAAAAAAOSmQAAAAAAAMKFAAAAAAABAj0AAAAAAAMCSQA==",
          "dtype": "f8"
         },
         "yaxis": "y"
        },
        {
         "customdata": [
          [
           "Azerbaijan",
           "Baku Steel Company QSC"
          ],
          [
           "Kazakhstan",
           "Qazaqstan Steel Group LLP"
          ],
          [
           "Russia",
           "Abinski Elektrometallurgicheski Zavod LLC"
          ],
          [
           "Russia",
           "Amurstal LLC"
          ],
          [
           "Russia",
           "Ashinskiy Metzavod PJSC"
          ],
          [
           "Russia",
           "MZ Balakovo JSC"
          ],
          [
           "Russia",
           "Evraz NTMK JSC"
          ],
          [
           "Russia",
           "Evraz ZSMK JSC"
          ],
          [
           "Russia",
           "Promsort LLC"
          ],
          [
           "Russia",
           "KMK Tempo JSC"
          ],
          [
           "Russia",
           "Magnitogorskiy Metallurgicheskiy Kombinat PJSC"
          ],
          [
           "Russia",
           "Chelyabinskiy Metallurgicheskiy Kombinat PJSC"
          ],
          [
           "Russia",
           "Oskol'skiy Elektrometallurgicheskiy Kombinat Imeni Alekseya Alekseyevicha Ugarova JSC"
          ],
          [
           "Russia",
           "UMK-Stal LLC"
          ],
          [
           "Russia",
           "Novolipetsk Steel PJSC"
          ],
          [
           "Russia",
           "Novorossiysk Rolling Plant LLC"
          ],
          [
           "Russia",
           "Vyksunskiy Metallurgicheskiy Zavod AO"
          ],
          [
           "Russia",
           "Chelyabinskiy Truboprokatnyi Zavod JSC"
          ],
          [
           "Russia",
           "Promsort LLC"
          ],
          [
           "Russia",
           "Promsort LLC"
          ],
          [
           "Russia",
           "Severstal PJSC"
          ],
          [
           "Russia",
           "StavStal' LLC"
          ],
          [
           "Russia",
           "Severskiy Trubnyi Zavod JSC"
          ],
          [
           "Russia",
           "Taganrogskiy Metallurgicheskiy Zavod JSC"
          ],
          [
           "Russia",
           "UMK-Stal LLC"
          ],
          [
           "Russia",
           "Uralskaya Stal JSC"
          ],
          [
           "Russia",
           "Krasnyi Oktyabr' Corporation JSC"
          ],
          [
           "Russia",
           "Volzhskiy Trubnyi Zavod JSC"
          ],
          [
           "Uzbekistan",
           "Uzbekskiy Metallurgicheskiy Kombinat JSC"
          ]
         ],
         "hovertemplate": "<b>%{hovertext}</b><br><br>Region=Eurasia<br>Plant age (years)=%{x}<br>Nominal crude steel capacity (ttpa)=%{marker.size}<br>Country/Area=%{customdata[0]}<br>Owner=%{customdata[1]}<extra></extra>",
         "hovertext": [
          "Baku Steel Company steel plant",
          "Qarmet steel plant",
          "Abinsk Electric Steel Works",
          "Amurstal steel plant",
          "Ashinskiy Metallurgical plant",
          "Balakovo Steel Plant",
          "Evraz NTMK steel plant",
          "Evraz ZSMK steel plant",
          "IMH Tula steel plant",
          "Kamsky Metallurgical Works TEMPO",
          "Magnitogorsk Iron and Steel Works",
          "Mechel Chelyabinsk Metallurgical Plant",
          "Metalloinvest OEMK steel plant",
          "Nadezhdinski Metallurgical Plant",
          "NLMK Lipetsk steel plant",
          "Novorossiysk rolling plant",
          "OMK Vyksa Casting and Rolling Complex",
          "Pervouralsk Pipe Plant",
          "Promsort Kaluga steel plant",
          "Promsort Ural steel plant",
          "Severstal Cherepovets steel plant",
          "StavStal Metallurgical Plant",
          "TMK Seversky Pipe Plant",
          "TMK Taganrog Metallurgical Plant",
          "Tyumen Electrosteel plant",
          "Ural Steel Metallurgical Plant",
          "VMK Red October steel plant",
          "Volzhsky Pipe Plant",
          "Uzmetkombinat steel plant"
         ],
         "legendgroup": "Eurasia",
         "marker": {
          "color": "#FFA15A",
          "opacity": 0.7,
          "size": {
           "bdata": "AAAAAAAAiUAAAAAAAHC3QAAAAAAAOJhAAAAAAAD4kUAAAAAAAECPQAAAAAAAiJNAAAAAAAAwsUAAAAAAABzBQAAAAAAAQJ9AAAAAAACAf0AAAAAAAFLMQAAAAAAAp7ZAAAAAAABYq0AAAAAAAKCHQAAAAAAAIMxAAAAAAADQhkAAAAAAAOCVQAAAAAAAsI1AAAAAAABwl0AAAAAAAECfQAAAAACAcMdAAAAAAABAf0AAAAAAALCNQAAAAAAAsI1AAAAAAADAhEAAAAAAAASgQAAAAAAAUH9AAAAAAAAgjEAAAAAAADCRQA==",
           "dtype": "f8"
          },
          "sizemode": "area",
          "sizeref": 102.21777777777778,
          "symbol": "circle"
         },
         "mode": "markers",
         "name": "Eurasia",
         "orientation": "v",
         "showlegend": true,
         "type": "scatter",
         "x": {
          "bdata": "AAAAAAAAOEAAAAAAAEBQQAAAAAAAACZAAAAAAADAVEAAAAAAAEBfQAAAAAAAAChAAAAAAABAVUAAAAAAAEBXQAAAAAAAgFZAAAAAAAAAIkAAAAAAAEBXQAAAAAAAgFRAAAAAAACAREAAAAAAACBgQAAAAAAAwFZAAAAAAAAAMkCkcD0K179wQAAAAAAAwFZAAAAAAAAAKEAAAAAAAAA0QAAAAAAAgFFAAAAAAAAAIkAAAAAAAOBxQAAAAAAAIGBAAAAAAAAAJkAAAAAAAIBRQAAAAAAAwF9AAAAAAACAS0AAAAAAAEBUQA==",
          "dtype": "f8"
         },
         "xaxis": "x",
         "y": {
          "bdata": "AAAAAAAAiUAAAAAAAHC3QAAAAAAAOJhAAAAAAAD4kUAAAAAAAECPQAAAAAAAiJNAAAAAAAAwsUAAAAAAABzBQAAAAAAAQJ9AAAAAAACAf0AAAAAAAFLMQAAAAAAAp7ZAAAAAAABYq0AAAAAAAKCHQAAAAAAAIMxAAAAAAADQhkAAAAAAAOCVQAAAAAAAsI1AAAAAAABwl0AAAAAAAECfQAAAAACAcMdAAAAAAABAf0AAAAAAALCNQAAAAAAAsI1AAAAAAADAhEAAAAAAAASgQAAAAAAAUH9AAAAAAAAgjEAAAAAAADCRQA==",
          "dtype": "f8"
         },
         "yaxis": "y"
        },
        {
         "customdata": [
          [
           "Bahrain",
           "Sulb Company BSCC"
          ],
          [
           "Iran",
           "Arfa Iron and Steel Co"
          ],
          [
           "Iran",
           "Arvand Jahanara Steel Co"
          ],
          [
           "Iran",
           "Bafgh Mineral Complex Iron & Steel Co"
          ],
          [
           "Iran",
           "Bonab Steel Complex"
          ],
          [
           "Iran",
           "Butia Iranian Steel Co"
          ],
          [
           "Iran",
           "Chadormalu Mining & Industrial Co"
          ],
          [
           "Iran",
           "Esfahan Steel Co"
          ],
          [
           "Iran",
           "Ghaenat Steel Complex"
          ],
          [
           "Iran",
           "Iran Alloy Steel Co"
          ],
          [
           "Iran",
           "Sirjan Jahan Steel Co"
          ],
          [
           "Iran",
           "Khorasan Steel Complex Co"
          ],
          [
           "Iran",
           "Khouzestan Steel Co"
          ],
          [
           "Iran",
           "Kish South Kaveh Steel Co"
          ],
          [
           "Iran",
           "Mobarakeh Steel Co"
          ],
          [
           "Iran",
           "Mobarakeh Steel Co"
          ],
          [
           "Iran",
           "Mobarakeh Steel Co"
          ],
          [
           "Iran",
           "Mobarakeh Steel Co"
          ],
          [
           "Iran",
           "Natanz Steel Co"
          ],
          [
           "Iran",
           "Neyriz Ghadir Steel Co"
          ],
          [
           "Iran",
           "Pasargad Steel Complex Co"
          ],
          [
           "Iran",
           "Iranian Sirjan Steel Co"
          ],
          [
           "Iran",
           "West Alborz Steel Co"
          ],
          [
           "Iran",
           "Zarand Iranian Steel Co"
          ],
          [
           "Iraq",
           "Al Anmaa for Construction Materials Production Ltd"
          ],
          [
           "Iraq",
           "F&F Steel"
          ],
          [
           "Iraq",
           "Mass Iraq Iron and Steel Industry Co"
          ],
          [
           "Iraq",
           "Van Company for Industrial Investment and General Trading"
          ],
          [
           "Kuwait",
           "United Steel Industries Co KSCC"
          ],
          [
           "Oman",
           "Jindal Shadeed Iron & Steel LLC"
          ],
          [
           "Oman",
           "Moon Iron and Steel Company SAOC"
          ],
          [
           "Oman",
           "Sohar Steel LLC"
          ],
          [
           "Qatar",
           "Qatar Steel Company QPSC"
          ],
          [
           "Saudi Arabia",
           "Arab Steel Co"
          ],
          [
           "Saudi Arabia",
           "National Steel Co"
          ],
          [
           "Saudi Arabia",
           "Al Qaryan Steel Co"
          ],
          [
           "Saudi Arabia",
           "Rajhi Steel Industries Co Ltd"
          ],
          [
           "Saudi Arabia",
           "Saudi Iron and Steel Co"
          ],
          [
           "Saudi Arabia",
           "Solb Steel Co"
          ],
          [
           "Syria",
           "Hadeed Metal Manufacturing Co"
          ],
          [
           "Syria",
           "Hmisho Steel SA"
          ],
          [
           "United Arab Emirates",
           "Arabian Gulf Steel Industries Selling Port LLC"
          ],
          [
           "United Arab Emirates",
           "Emsteel Building Materials PJSC"
          ]
         ],
         "hovertemplate": "<b>%{hovertext}</b><br><br>Region=Middle East<br>Plant age (years)=%{x}<br>Nominal crude steel capacity (ttpa)=%{marker.size}<br>Country/Area=%{customdata[0]}<br>Owner=%{customdata[1]}<extra></extra>",
         "hovertext": [
          "Sulb Bahrain Al Hidd steel plant",
          "Arfa Iron and Steel Yazd plant",
          "Arvand Jahanara Steel Khouzestan plant",
          "Bafgh Mineral Complex Iron and Steel Yazd plant",
          "Bonab Steel Complex",
          "Butia Steel Kerman plant",
          "Chadormalu Mining and Industrial Company Yazd plant",
          "Esfahan Steel Isfahan plant",
          "Ghaenat Steel Complex South Khorasan",
          "Iran Alloy Steel Company Yazd plant",
          "Jahan Foolad Sirjan Steel Kerman plant",
          "Khorasan Steel Complex",
          "Khouzestan Steel plant",
          "Kish South Kaveh Steel Hormuzgan plant",
          "Mobarakeh Saba Steel Complex",
          "Mobarakeh Steel Complex Isfahan",
          "Mobarakeh Steel Hormuzgan Steel Company plant",
          "Mobarakeh Steel Sefid Dasht Steel Complex",
          "Natanz Steel Company Isfahan plant",
          "Neyriz Ghadir Steel Company Fars plant",
          "Pasargad Steel Complex Fars",
          "Sirjan Iranian Steel Kerman Plant",
          "West Alborz Ana Steel Zanjan plant",
          "Zarand Iranian Steel Company Kerman plant",
          "Al Anmaa Basra steel plant",
          "F&F Steel Erbil plant",
          "Mass Iron and Steel Industry Co Sulaimaniya plant",
          "Van Steel Kurdistan plant",
          "United Steel Industrial Kuwait Steel Sharq plant",
          "Jindal Steel Sohar plant",
          "Moon Iron & Steel Company Sohar plant",
          "Sohar Steel plant",
          "Industries Qatar Steel Mesaieed plant",
          "Al Ittefaq Arab Steel Dammam plant",
          "Al Ittefaq National Steel Dammam plant",
          "Al Qaryan steel plant",
          "Rajhi Al Assemah Steel Jeddah plant",
          "SABIC Hadeed Al Jubail steel plant",
          "Solb Steel Jizan plant",
          "Hadeed Metal Manufacturing Co Damascus steel plant",
          "Hmisho Steel Hassia plant",
          "Arabian Gulf Steel Industries Abu Dhabi plant",
          "Emsteel Abu Dhabi plant"
         ],
         "legendgroup": "Middle East",
         "marker": {
          "color": "#19d3f3",
          "opacity": 0.7,
          "size": {
           "bdata": "AAAAAADEk0AAAAAAAECPQAAAAAAAGKVAAAAAAADAkkAAAAAAAECPQAAAAAAAcJdAAAAAAADAkkAAAAAAACCsQAAAAAAAAIlAAAAAAADAgkAAAAAAAMCSQAAAAAAA4JVAAAAAAAAgrEAAAAAAAMCiQAAAAAAAAJlAAAAAAACIw0AAAAAAAHCXQAAAAAAAQI9AAAAAAAA4j0AAAAAAAECPQAAAAAAAcJdAAAAAAABAj0AAAAAAAACZQAAAAAAAcJdAAAAAAAD4hkAAAAAAAMCCQAAAAAAAiJNAAAAAAABwh0AAAAAAAMCSQAAAAAAAwKJAAAAAAADAkkAAAAAAAOCFQAAAAAAAHKRAAAAAAABQpEAAAAAAAECPQAAAAAAA4HVAAAAAAACQikAAAAAAAHC3QAAAAAAAwJJAAAAAAADglUAAAAAAAACJQAAAAAAAwIJAAAAAAAAgrEA=",
           "dtype": "f8"
          },
          "sizemode": "area",
          "sizeref": 102.21777777777778,
          "symbol": "circle"
         },
         "mode": "markers",
         "name": "Middle East",
         "orientation": "v",
         "showlegend": true,
         "type": "scatter",
         "x": {
          "bdata": "AAAAAAAAKkDhehSuR+EsQAAAAAAAABBAAAAAAAAAKEAAAAAAAAAxQAAAAAAAACxAAAAAAAAAIEAAAAAAAABLQAAAAAAAAAhAAAAAAAAAOkAAAAAAAAAwQAAAAAAAADhAAAAAAAAAQkAAAAAAAAAsQAAAAAAAADNAAAAAAAAAQUAAAAAAAAAsQAAAAAAAACJAAAAAAAAAOEAAAAAAAAAcQAAAAAAAAChAAAAAAAAAKEAAAAAAAAA0QAAAAAAAADFAAAAAAAAAKkAK16NwPQooQAAAAAAAACRAAAAAAAAACEAAAAAAAAAyQAAAAAAAAC5AAAAAAAAAFEAAAAAAAAAxQAAAAAAAgEdAAAAAAAAAQkAAAAAAAAA1QAAAAAAAACBAAAAAAACAREAAAAAAAABHQAAAAAAAADBAAAAAAAAAKkAAAAAAAAAuQAAAAAAAADFAAAAAAAAANkA=",
          "dtype": "f8"
         },
         "xaxis": "x",
         "y": {
          "bdata": "AAAAAADEk0AAAAAAAECPQAAAAAAAGKVAAAAAAADAkkAAAAAAAECPQAAAAAAAcJdAAAAAAADAkkAAAAAAACCsQAAAAAAAAIlAAAAAAADAgkAAAAAAAMCSQAAAAAAA4JVAAAAAAAAgrEAAAAAAAMCiQAAAAAAAAJlAAAAAAACIw0AAAAAAAHCXQAAAAAAAQI9AAAAAAAA4j0AAAAAAAECPQAAAAAAAcJdAAAAAAABAj0AAAAAAAACZQAAAAAAAcJdAAAAAAAD4hkAAAAAAAMCCQAAAAAAAiJNAAAAAAABwh0AAAAAAAMCSQAAAAAAAwKJAAAAAAADAkkAAAAAAAOCFQAAAAAAAHKRAAAAAAABQpEAAAAAAAECPQAAAAAAA4HVAAAAAAACQikAAAAAAAHC3QAAAAAAAwJJAAAAAAADglUAAAAAAAACJQAAAAAAAwIJAAAAAAAAgrEA=",
          "dtype": "f8"
         },
         "yaxis": "y"
        },
        {
         "customdata": [
          [
           "Canada",
           "Algoma Steel Group Inc"
          ],
          [
           "Canada",
           "ArcelorMittal Dofasco GP"
          ],
          [
           "Canada",
           "ArcelorMittal Long Products Canada GP"
          ],
          [
           "Canada",
           "Cleveland-Cliffs Inc"
          ],
          [
           "Canada",
           "Evraz North America PLC"
          ],
          [
           "Canada",
           "Gerdau Ameristeel Corp"
          ],
          [
           "Canada",
           "Ivaco Rolling Mills 2004 LP"
          ],
          [
           "Canada",
           "Rio Tinto Iron and Titanium Canada Inc"
          ],
          [
           "Mexico",
           "ArcelorMittal México SA de CV"
          ],
          [
           "Mexico",
           "DeAcero SAPI de CV"
          ],
          [
           "Mexico",
           "DeAcero SAPI de CV"
          ],
          [
           "Mexico",
           "Gerdau Corsa SAPI de CV"
          ],
          [
           "Mexico",
           "Gerdau Corsa SAPI de CV"
          ],
          [
           "Mexico",
           "Grupo Acerero SA de CV"
          ],
          [
           "Mexico",
           "Aceros Especiales Simec Tlaxcala SA de CV"
          ],
          [
           "Mexico",
           "Aceros Especiales Simec Tlaxcala SA de CV"
          ],
          [
           "Mexico",
           "Tubos de Acero de Mexico SA"
          ],
          [
           "Mexico",
           "Ternium México SA de CV"
          ],
          [
           "Mexico",
           "Ternium México SA de CV"
          ],
          [
           "Mexico",
           "Ternium México SA de CV"
          ],
          [
           "Mexico",
           "Talleres y Aceros SA de CV"
          ],
          [
           "United States",
           "Alton Steel Inc"
          ],
          [
           "United States",
           "AM/NS Calvert LLC"
          ],
          [
           "United States",
           "North Star BlueScope Steel Ltd"
          ],
          [
           "United States",
           "Cascade Steel Rolling Mills Inc"
          ],
          [
           "United States",
           "Charter Manufacturing Co Inc"
          ],
          [
           "United States",
           "Charter Manufacturing Co Inc"
          ],
          [
           "United States",
           "Cleveland-Cliffs Inc"
          ],
          [
           "United States",
           "Cleveland-Cliffs Inc"
          ],
          [
           "United States",
           "Cleveland-Cliffs Inc"
          ],
          [
           "United States",
           "Cleveland-Cliffs Inc"
          ],
          [
           "United States",
           "Cleveland-Cliffs Inc"
          ],
          [
           "United States",
           "Cleveland-Cliffs Inc"
          ],
          [
           "United States",
           "Cleveland-Cliffs Inc"
          ],
          [
           "United States",
           "Cleveland-Cliffs Inc"
          ],
          [
           "United States",
           "Commercial Metals Co"
          ],
          [
           "United States",
           "Commercial Metals Co"
          ],
          [
           "United States",
           "Commercial Metals Co"
          ],
          [
           "United States",
           "Commercial Metals Co"
          ],
          [
           "United States",
           "Commercial Metals Co"
          ],
          [
           "United States",
           "Commercial Metals Co"
          ],
          [
           "United States",
           "Commercial Metals Co"
          ],
          [
           "United States",
           "Evraz North America PLC"
          ],
          [
           "United States",
           "A. Finkl & Sons Corp"
          ],
          [
           "United States",
           "Gerdau Ameristeel Corp"
          ],
          [
           "United States",
           "Gerdau Ameristeel Corp"
          ],
          [
           "United States",
           "Gerdau Ameristeel Corp"
          ],
          [
           "United States",
           "Gerdau Ameristeel Corp"
          ],
          [
           "United States",
           "Gerdau Ameristeel Corp"
          ],
          [
           "United States",
           "Gerdau Ameristeel Corp"
          ],
          [
           "United States",
           "Hybar LLC"
          ],
          [
           "United States",
           "JSW Steel USA Ohio Inc"
          ],
          [
           "United States",
           "Sterling Steel Co LLC"
          ],
          [
           "United States",
           "Metallus Inc"
          ],
          [
           "United States",
           "NLMK Indiana LLC"
          ],
          [
           "United States",
           "North American Stainless Inc"
          ],
          [
           "United States",
           "Nucor Corp"
          ],
          [
           "United States",
           "Nucor Corp"
          ],
          [
           "United States",
           "Nucor Corp"
          ],
          [
           "United States",
           "Nucor Corp"
          ],
          [
           "United States",
           "Nucor Corp"
          ],
          [
           "United States",
           "Nucor Steel Decatur LLC"
          ],
          [
           "United States",
           "Nucor Corp"
          ],
          [
           "United States",
           "Nucor Corp"
          ],
          [
           "United States",
           "Nucor Corp"
          ],
          [
           "United States",
           "Nucor Corp"
          ],
          [
           "United States",
           "Nucor Steel Kankakee Inc"
          ],
          [
           "United States",
           "Nucor Steel Memphis Inc"
          ],
          [
           "United States",
           "Nucor Corp"
          ],
          [
           "United States",
           "Nucor Corp"
          ],
          [
           "United States",
           "Nucor Steel Seattle Inc"
          ],
          [
           "United States",
           "Nucor Steel Tuscaloosa Inc"
          ],
          [
           "United States",
           "Nucor Yamato Steel Co"
          ],
          [
           "United States",
           "Optimus Steel LLC"
          ],
          [
           "United States",
           "Outokumpu Stainless USA LLC"
          ],
          [
           "United States",
           "SSAB Americas Holding AB"
          ],
          [
           "United States",
           "SSAB Americas Holding AB"
          ],
          [
           "United States",
           "Steel Dynamics Inc"
          ],
          [
           "United States",
           "Steel Dynamics Inc"
          ],
          [
           "United States",
           "Steel Dynamics Inc"
          ],
          [
           "United States",
           "Steel Dynamics Inc"
          ],
          [
           "United States",
           "Steel Dynamics Inc"
          ],
          [
           "United States",
           "Steel Dynamics Inc"
          ],
          [
           "United States",
           "Big River Steel LLC"
          ],
          [
           "United States",
           "United States Steel Corp"
          ],
          [
           "United States",
           "United States Steel Corp"
          ],
          [
           "United States",
           "United States Steel Corp"
          ],
          [
           "United States",
           "Vallourec Star LP"
          ]
         ],
         "hovertemplate": "<b>%{hovertext}</b><br><br>Region=North America<br>Plant age (years)=%{x}<br>Nominal crude steel capacity (ttpa)=%{marker.size}<br>Country/Area=%{customdata[0]}<br>Owner=%{customdata[1]}<extra></extra>",
         "hovertext": [
          "Algoma steel plant",
          "ArcelorMittal Dofasco steel plant",
          "ArcelorMittal Montreal steel plant",
          "Cleveland-Cliffs Lake Erie steel plant",
          "Evraz Regina Steel plant",
          "Gerdau Whitby Steel Mill",
          "Ivaco Rolling Mills steel plant",
          "Rio Tinto Fer et Titane steel plant",
          "ArcelorMittal Lázaro Cárdenas steel plant",
          "DEACERO Celaya steel plant",
          "DEACERO Ramos Arizpe steel plant",
          "Gerdau Corsa Ciudad Sahagún steel plant",
          "Gerdau Corsa Tultitlán steel plant",
          "Grupo Acerero steel plant",
          "Grupo Simec Apizaco Cholula steel plant",
          "Grupo Simec San Luis steel plants",
          "Tenaris TAMSA Veracruz steel plant",
          "Ternium Apodaca steel plant",
          "Ternium Guerrero San Nicolás de los Garza steel plant",
          "Ternium Puebla steel plant",
          "TYASA steel plant",
          "Alton Steel plant",
          "ArcelorMittal Calvert",
          "BlueScope North Star Steel plant",
          "Cascade Steel Rolling Mills",
          "Charter Steel Cleveland plant",
          "Charter Steel Saukville plant",
          "Cleveland-Cliffs Burns Harbor steel plant",
          "Cleveland-Cliffs Butler steel plant",
          "Cleveland-Cliffs Cleveland steel plant",
          "Cleveland-Cliffs Coatesville steel plant",
          "Cleveland-Cliffs Dearborn steel plant",
          "Cleveland-Cliffs Indiana Harbor steel plant",
          "Cleveland-Cliffs Mansfield Works",
          "Cleveland-Cliffs Middletown steel plant",
          "CMC Alabama steel plant",
          "CMC Arizona steel plant",
          "CMC South Carolina steel plant",
          "CMC Steel Florida plant",
          "CMC Steel New Jersey plant",
          "CMC Steel Texas plant",
          "CMC Tennessee steel plant",
          "Evraz Pueblo steel plant",
          "Finkl Steel Chicago plant",
          "Gerdau Cartersville steel plant",
          "Gerdau Fort Smith steel plant",
          "Gerdau Jackson steel mill",
          "Gerdau Midlothian Steel Mill",
          "Gerdau Monroe steel plant",
          "Gerdau Petersburg Steel Mill",
          "Hybar Arkansas steel plant",
          "JSW Steel USA Ohio plant",
          "Leggett & Platt Sterling Steel plant",
          "Metallus Faircrest steel plant",
          "NLMK Indiana steel plant",
          "North American Stainless Ghent steel plant",
          "Nucor Steel Berkeley plant",
          "Nucor Steel Birmingham plant",
          "Nucor Steel Brandenburg plant",
          "Nucor Steel Crawfordsville plant",
          "Nucor Steel Darlington plant",
          "Nucor Steel Decatur plant",
          "Nucor Steel Gallatin plant",
          "Nucor Steel Hertford plant",
          "Nucor Steel Hickman plant",
          "Nucor Steel Jewett plant",
          "Nucor Steel Kankakee plant",
          "Nucor Steel Memphis plant",
          "Nucor Steel Norfolk plant",
          "Nucor Steel Plymouth plant",
          "Nucor Steel Seattle plant",
          "Nucor Steel Tuscaloosa plant",
          "Nucor-Yamato Steel Blytheville plant",
          "Optimus Steel Beaumont plant",
          "Outokumpu Stainless USA steel plant",
          "SSAB Americas Alabama steel plant",
          "SSAB Americas Iowa steel plant",
          "Steel Dynamics Butler plant",
          "Steel Dynamics Columbia City plant",
          "Steel Dynamics Columbus plant",
          "Steel Dynamics Engineered Bar Products steel plant",
          "Steel Dynamics Roanoke steel plant",
          "Steel Dynamics Sinton plant",
          "U.S. Steel Big River Steel plant",
          "U.S. Steel Edgar Thomson Plant",
          "U.S. Steel Fairfield plant",
          "U.S. Steel Gary Works",
          "Vallourec Star Youngstown steel plant"
         ],
         "legendgroup": "North America",
         "marker": {
          "color": "#FF6692",
          "opacity": 0.7,
          "size": {
           "bdata": "AAAAAADorEAAAAAAABiVQAAAAAAAwKJAAAAAAACIo0AAAAAAAMCSQAAAAAAAMJFAAAAAAABQhEAAAAAAAMCCQAAAAAAAZLlAAAAAAAD4oUAAAAAAADChQAAAAAAAQI9AAAAAAABAf0AAAAAAAKiGQAAAAAAA0JFAAAAAAACAiUAAAAAAADiTQAAAAAAAwIJAAAAAAADAokAAAAAAAMiUQAAAAAAAyJlAAAAAAABAhUAAAAAAAHCXQAAAAAAAtKdAAAAAAADgikAAAAAAANiDQAAAAAAA0IFAAAAAAACJs0AAAAAAAGCMQAAAAAAABLBAAAAAAAAAiUAAAAAAAHCnQAAAAAAAkLpAAAAAAAAQgUAAAAAAAESlQAAAAAAAaIRAAAAAAADQi0AAAAAAAECIQAAAAAAASINAAAAAAABohEAAAAAAAHiNQAAAAAAAAIFAAAAAAAAwkUAAAAAAAOiBQAAAAAAAYIxAAAAAAACQf0AAAAAAAKiDQAAAAAAAcJdAAAAAAADQhkAAAAAAAKiJQAAAAAAAAIFAAAAAAABwl0AAAAAAAAiRQAAAAAAAAJFAAAAAAAAQiEAAAAAAAACZQAAAAAAAGKdAAAAAAABAf0AAAAAAAKiWQAAAAAAAAKJAAAAAAABwjEAAAAAAADioQAAAAAAARKVAAAAAAAAYmEAAAAAAACSjQAAAAAAAWIxAAAAAAADQiEAAAAAAANiLQAAAAAAAAJFAAAAAAABgjEAAAAAAALiKQAAAAAAAwJJAAAAAAADMqEAAAAAAAHCHQAAAAAAAQI9AAAAAAACIk0AAAAAAAMCSQAAAAAAAqKZAAAAAAABAn0AAAAAAAJCqQAAAAAAAsI1AAAAAAABwgkAAAAAAAESlQAAAAAAAhrdAAAAAAABQpEAAAAAAAACZQAAAAAAAeL5AAAAAAACohkA=",
           "dtype": "f8"
          },
          "sizemode": "area",
          "sizeref": 102.21777777777778,
          "symbol": "circle"
         },
         "mode": "markers",
         "name": "North America",
         "orientation": "v",
         "showlegend": true,
         "type": "scatter",
         "x": {
          "bdata": "AAAAAAAAX0AAAAAAAEBcQAAAAAAAwFtAAAAAAACARkAAAAAAAABQQAAAAAAAgE5AAAAAAAAAS0AAAAAAAMBSQM3MzMzMbEhAAAAAAAAAO0AAAAAAAIBDQAAAAAAAACRAAAAAAACAREAAAAAAAAA1QM3MzMzMzBxAAAAAAAAAQEAAAAAAAMBRQAAAAAAAAEBAAAAAAACAVEAAAAAAAABMQAAAAAAAAEBAAAAAAAAANkAAAAAAAAAAAAAAAAAAAD1AAAAAAACATEAAAAAAAAAzQAAAAAAAAEFAAAAAAACATkAAAAAAAEBdQAAAAAAAAFxAAAAAAADgakAAAAAAAEBaQAAAAAAAAF9AAAAAAABAWUAAAAAAAABfQAAAAAAAAD9AAAAAAAAAMEAAAAAAAIBAQAAAAAAAgElAAAAAAAAAP0AAAAAAAIBFQAAAAAAAADlAAAAAAAAAYkAAAAAAAAAsQAAAAAAAAD1AAAAAAACAREAAAAAAAABGQAAAAAAAgEtAAAAAAACARkAAAAAAAAA7QOxRuB6F69E/AAAAAAAAHEAAAAAAAAA2QAAAAAAAAFtAAAAAAACAQEAAAAAAAIBBQAAAAAAAAD1AAAAAAAAARUAAAAAAAAAIQAAAAAAAAEJAAAAAAAAATEAAAAAAAAA8QAAAAAAAAD5AAAAAAAAAOUAAAAAAAIBAQAAAAAAAAElAAAAAAAAAUEAAAAAAAAAxQAAAAAAAAEdAAAAAAAAARkAAAAAAAEBeQAAAAAAAAERAAAAAAACAQkAAAAAAAIBIQAAAAAAAADJAAAAAAAAAOEAAAAAAAAA8QAAAAAAAAD1AAAAAAAAAN0AAAAAAAAAyQAAAAAAAADVAAAAAAACAUUAAAAAAAAAIQAAAAAAAACJAAAAAAADAYkAAAAAAAAAUQAAAAAAAQF1AAAAAAAAAREA=",
          "dtype": "f8"
         },
         "xaxis": "x",
         "y": {
          "bdata": "AAAAAADorEAAAAAAABiVQAAAAAAAwKJAAAAAAACIo0AAAAAAAMCSQAAAAAAAMJFAAAAAAABQhEAAAAAAAMCCQAAAAAAAZLlAAAAAAAD4oUAAAAAAADChQAAAAAAAQI9AAAAAAABAf0AAAAAAAKiGQAAAAAAA0JFAAAAAAACAiUAAAAAAADiTQAAAAAAAwIJAAAAAAADAokAAAAAAAMiUQAAAAAAAyJlAAAAAAABAhUAAAAAAAHCXQAAAAAAAtKdAAAAAAADgikAAAAAAANiDQAAAAAAA0IFAAAAAAACJs0AAAAAAAGCMQAAAAAAABLBAAAAAAAAAiUAAAAAAAHCnQAAAAAAAkLpAAAAAAAAQgUAAAAAAAESlQAAAAAAAaIRAAAAAAADQi0AAAAAAAECIQAAAAAAASINAAAAAAABohEAAAAAAAHiNQAAAAAAAAIFAAAAAAAAwkUAAAAAAAOiBQAAAAAAAYIxAAAAAAACQf0AAAAAAAKiDQAAAAAAAcJdAAAAAAADQhkAAAAAAAKiJQAAAAAAAAIFAAAAAAABwl0AAAAAAAAiRQAAAAAAAAJFAAAAAAAAQiEAAAAAAAACZQAAAAAAAGKdAAAAAAABAf0AAAAAAAKiWQAAAAAAAAKJAAAAAAABwjEAAAAAAADioQAAAAAAARKVAAAAAAAAYmEAAAAAAACSjQAAAAAAAWIxAAAAAAADQiEAAAAAAANiLQAAAAAAAAJFAAAAAAABgjEAAAAAAALiKQAAAAAAAwJJAAAAAAADMqEAAAAAAAHCHQAAAAAAAQI9AAAAAAACIk0AAAAAAAMCSQAAAAAAAqKZAAAAAAABAn0AAAAAAAJCqQAAAAAAAsI1AAAAAAABwgkAAAAAAAESlQAAAAAAAhrdAAAAAAABQpEAAAAAAAACZQAAAAAAAeL5AAAAAAACohkA=",
          "dtype": "f8"
         },
         "yaxis": "y"
        }
       ],
       "layout": {
        "height": 500,
        "legend": {
         "itemsizing": "constant",
         "title": {
          "text": "Region"
         },
         "tracegroupgap": 0
        },
        "template": {
         "data": {
          "bar": [
           {
            "error_x": {
             "color": "#2a3f5f"
            },
            "error_y": {
             "color": "#2a3f5f"
            },
            "marker": {
             "line": {
              "color": "#E5ECF6",
              "width": 0.5
             },
             "pattern": {
              "fillmode": "overlay",
              "size": 10,
              "solidity": 0.2
             }
            },
            "type": "bar"
           }
          ],
          "barpolar": [
           {
            "marker": {
             "line": {
              "color": "#E5ECF6",
              "width": 0.5
             },
             "pattern": {
              "fillmode": "overlay",
              "size": 10,
              "solidity": 0.2
             }
            },
            "type": "barpolar"
           }
          ],
          "carpet": [
           {
            "aaxis": {
             "endlinecolor": "#2a3f5f",
             "gridcolor": "white",
             "linecolor": "white",
             "minorgridcolor": "white",
             "startlinecolor": "#2a3f5f"
            },
            "baxis": {
             "endlinecolor": "#2a3f5f",
             "gridcolor": "white",
             "linecolor": "white",
             "minorgridcolor": "white",
             "startlinecolor": "#2a3f5f"
            },
            "type": "carpet"
           }
          ],
          "choropleth": [
           {
            "colorbar": {
             "outlinewidth": 0,
             "ticks": ""
            },
            "type": "choropleth"
           }
          ],
          "contour": [
           {
            "colorbar": {
             "outlinewidth": 0,
             "ticks": ""
            },
            "colorscale": [
             [
              0,
              "#0d0887"
             ],
             [
              0.1111111111111111,
              "#46039f"
             ],
             [
              0.2222222222222222,
              "#7201a8"
             ],
             [
              0.3333333333333333,
              "#9c179e"
             ],
             [
              0.4444444444444444,
              "#bd3786"
             ],
             [
              0.5555555555555556,
              "#d8576b"
             ],
             [
              0.6666666666666666,
              "#ed7953"
             ],
             [
              0.7777777777777778,
              "#fb9f3a"
             ],
             [
              0.8888888888888888,
              "#fdca26"
             ],
             [
              1,
              "#f0f921"
             ]
            ],
            "type": "contour"
           }
          ],
          "contourcarpet": [
           {
            "colorbar": {
             "outlinewidth": 0,
             "ticks": ""
            },
            "type": "contourcarpet"
           }
          ],
          "heatmap": [
           {
            "colorbar": {
             "outlinewidth": 0,
             "ticks": ""
            },
            "colorscale": [
             [
              0,
              "#0d0887"
             ],
             [
              0.1111111111111111,
              "#46039f"
             ],
             [
              0.2222222222222222,
              "#7201a8"
             ],
             [
              0.3333333333333333,
              "#9c179e"
             ],
             [
              0.4444444444444444,
              "#bd3786"
             ],
             [
              0.5555555555555556,
              "#d8576b"
             ],
             [
              0.6666666666666666,
              "#ed7953"
             ],
             [
              0.7777777777777778,
              "#fb9f3a"
             ],
             [
              0.8888888888888888,
              "#fdca26"
             ],
             [
              1,
              "#f0f921"
             ]
            ],
            "type": "heatmap"
           }
          ],
          "histogram": [
           {
            "marker": {
             "pattern": {
              "fillmode": "overlay",
              "size": 10,
              "solidity": 0.2
             }
            },
            "type": "histogram"
           }
          ],
          "histogram2d": [
           {
            "colorbar": {
             "outlinewidth": 0,
             "ticks": ""
            },
            "colorscale": [
             [
              0,
              "#0d0887"
             ],
             [
              0.1111111111111111,
              "#46039f"
             ],
             [
              0.2222222222222222,
              "#7201a8"
             ],
             [
              0.3333333333333333,
              "#9c179e"
             ],
             [
              0.4444444444444444,
              "#bd3786"
             ],
             [
              0.5555555555555556,
              "#d8576b"
             ],
             [
              0.6666666666666666,
              "#ed7953"
             ],
             [
              0.7777777777777778,
              "#fb9f3a"
             ],
             [
              0.8888888888888888,
              "#fdca26"
             ],
             [
              1,
              "#f0f921"
             ]
            ],
            "type": "histogram2d"
           }
          ],
          "histogram2dcontour": [
           {
            "colorbar": {
             "outlinewidth": 0,
             "ticks": ""
            },
            "colorscale": [
             [
              0,
              "#0d0887"
             ],
             [
              0.1111111111111111,
              "#46039f"
             ],
             [
              0.2222222222222222,
              "#7201a8"
             ],
             [
              0.3333333333333333,
              "#9c179e"
             ],
             [
              0.4444444444444444,
              "#bd3786"
             ],
             [
              0.5555555555555556,
              "#d8576b"
             ],
             [
              0.6666666666666666,
              "#ed7953"
             ],
             [
              0.7777777777777778,
              "#fb9f3a"
             ],
             [
              0.8888888888888888,
              "#fdca26"
             ],
             [
              1,
              "#f0f921"
             ]
            ],
            "type": "histogram2dcontour"
           }
          ],
          "mesh3d": [
           {
            "colorbar": {
             "outlinewidth": 0,
             "ticks": ""
            },
            "type": "mesh3d"
           }
          ],
          "parcoords": [
           {
            "line": {
             "colorbar": {
              "outlinewidth": 0,
              "ticks": ""
             }
            },
            "type": "parcoords"
           }
          ],
          "pie": [
           {
            "automargin": true,
            "type": "pie"
           }
          ],
          "scatter": [
           {
            "fillpattern": {
             "fillmode": "overlay",
             "size": 10,
             "solidity": 0.2
            },
            "type": "scatter"
           }
          ],
          "scatter3d": [
           {
            "line": {
             "colorbar": {
              "outlinewidth": 0,
              "ticks": ""
             }
            },
            "marker": {
             "colorbar": {
              "outlinewidth": 0,
              "ticks": ""
             }
            },
            "type": "scatter3d"
           }
          ],
          "scattercarpet": [
           {
            "marker": {
             "colorbar": {
              "outlinewidth": 0,
              "ticks": ""
             }
            },
            "type": "scattercarpet"
           }
          ],
          "scattergeo": [
           {
            "marker": {
             "colorbar": {
              "outlinewidth": 0,
              "ticks": ""
             }
            },
            "type": "scattergeo"
           }
          ],
          "scattergl": [
           {
            "marker": {
             "colorbar": {
              "outlinewidth": 0,
              "ticks": ""
             }
            },
            "type": "scattergl"
           }
          ],
          "scattermap": [
           {
            "marker": {
             "colorbar": {
              "outlinewidth": 0,
              "ticks": ""
             }
            },
            "type": "scattermap"
           }
          ],
          "scattermapbox": [
           {
            "marker": {
             "colorbar": {
              "outlinewidth": 0,
              "ticks": ""
             }
            },
            "type": "scattermapbox"
           }
          ],
          "scatterpolar": [
           {
            "marker": {
             "colorbar": {
              "outlinewidth": 0,
              "ticks": ""
             }
            },
            "type": "scatterpolar"
           }
          ],
          "scatterpolargl": [
           {
            "marker": {
             "colorbar": {
              "outlinewidth": 0,
              "ticks": ""
             }
            },
            "type": "scatterpolargl"
           }
          ],
          "scatterternary": [
           {
            "marker": {
             "colorbar": {
              "outlinewidth": 0,
              "ticks": ""
             }
            },
            "type": "scatterternary"
           }
          ],
          "surface": [
           {
            "colorbar": {
             "outlinewidth": 0,
             "ticks": ""
            },
            "colorscale": [
             [
              0,
              "#0d0887"
             ],
             [
              0.1111111111111111,
              "#46039f"
             ],
             [
              0.2222222222222222,
              "#7201a8"
             ],
             [
              0.3333333333333333,
              "#9c179e"
             ],
             [
              0.4444444444444444,
              "#bd3786"
             ],
             [
              0.5555555555555556,
              "#d8576b"
             ],
             [
              0.6666666666666666,
              "#ed7953"
             ],
             [
              0.7777777777777778,
              "#fb9f3a"
             ],
             [
              0.8888888888888888,
              "#fdca26"
             ],
             [
              1,
              "#f0f921"
             ]
            ],
            "type": "surface"
           }
          ],
          "table": [
           {
            "cells": {
             "fill": {
              "color": "#EBF0F8"
             },
             "line": {
              "color": "white"
             }
            },
            "header": {
             "fill": {
              "color": "#C8D4E3"
             },
             "line": {
              "color": "white"
             }
            },
            "type": "table"
           }
          ]
         },
         "layout": {
          "annotationdefaults": {
           "arrowcolor": "#2a3f5f",
           "arrowhead": 0,
           "arrowwidth": 1
          },
          "autotypenumbers": "strict",
          "coloraxis": {
           "colorbar": {
            "outlinewidth": 0,
            "ticks": ""
           }
          },
          "colorscale": {
           "diverging": [
            [
             0,
             "#8e0152"
            ],
            [
             0.1,
             "#c51b7d"
            ],
            [
             0.2,
             "#de77ae"
            ],
            [
             0.3,
             "#f1b6da"
            ],
            [
             0.4,
             "#fde0ef"
            ],
            [
             0.5,
             "#f7f7f7"
            ],
            [
             0.6,
             "#e6f5d0"
            ],
            [
             0.7,
             "#b8e186"
            ],
            [
             0.8,
             "#7fbc41"
            ],
            [
             0.9,
             "#4d9221"
            ],
            [
             1,
             "#276419"
            ]
           ],
           "sequential": [
            [
             0,
             "#0d0887"
            ],
            [
             0.1111111111111111,
             "#46039f"
            ],
            [
             0.2222222222222222,
             "#7201a8"
            ],
            [
             0.3333333333333333,
             "#9c179e"
            ],
            [
             0.4444444444444444,
             "#bd3786"
            ],
            [
             0.5555555555555556,
             "#d8576b"
            ],
            [
             0.6666666666666666,
             "#ed7953"
            ],
            [
             0.7777777777777778,
             "#fb9f3a"
            ],
            [
             0.8888888888888888,
             "#fdca26"
            ],
            [
             1,
             "#f0f921"
            ]
           ],
           "sequentialminus": [
            [
             0,
             "#0d0887"
            ],
            [
             0.1111111111111111,
             "#46039f"
            ],
            [
             0.2222222222222222,
             "#7201a8"
            ],
            [
             0.3333333333333333,
             "#9c179e"
            ],
            [
             0.4444444444444444,
             "#bd3786"
            ],
            [
             0.5555555555555556,
             "#d8576b"
            ],
            [
             0.6666666666666666,
             "#ed7953"
            ],
            [
             0.7777777777777778,
             "#fb9f3a"
            ],
            [
             0.8888888888888888,
             "#fdca26"
            ],
            [
             1,
             "#f0f921"
            ]
           ]
          },
          "colorway": [
           "#636efa",
           "#EF553B",
           "#00cc96",
           "#ab63fa",
           "#FFA15A",
           "#19d3f3",
           "#FF6692",
           "#B6E880",
           "#FF97FF",
           "#FECB52"
          ],
          "font": {
           "color": "#2a3f5f"
          },
          "geo": {
           "bgcolor": "white",
           "lakecolor": "white",
           "landcolor": "#E5ECF6",
           "showlakes": true,
           "showland": true,
           "subunitcolor": "white"
          },
          "hoverlabel": {
           "align": "left"
          },
          "hovermode": "closest",
          "mapbox": {
           "style": "light"
          },
          "paper_bgcolor": "white",
          "plot_bgcolor": "#E5ECF6",
          "polar": {
           "angularaxis": {
            "gridcolor": "white",
            "linecolor": "white",
            "ticks": ""
           },
           "bgcolor": "#E5ECF6",
           "radialaxis": {
            "gridcolor": "white",
            "linecolor": "white",
            "ticks": ""
           }
          },
          "scene": {
           "xaxis": {
            "backgroundcolor": "#E5ECF6",
            "gridcolor": "white",
            "gridwidth": 2,
            "linecolor": "white",
            "showbackground": true,
            "ticks": "",
            "zerolinecolor": "white"
           },
           "yaxis": {
            "backgroundcolor": "#E5ECF6",
            "gridcolor": "white",
            "gridwidth": 2,
            "linecolor": "white",
            "showbackground": true,
            "ticks": "",
            "zerolinecolor": "white"
           },
           "zaxis": {
            "backgroundcolor": "#E5ECF6",
            "gridcolor": "white",
            "gridwidth": 2,
            "linecolor": "white",
            "showbackground": true,
            "ticks": "",
            "zerolinecolor": "white"
           }
          },
          "shapedefaults": {
           "line": {
            "color": "#2a3f5f"
           }
          },
          "ternary": {
           "aaxis": {
            "gridcolor": "white",
            "linecolor": "white",
            "ticks": ""
           },
           "baxis": {
            "gridcolor": "white",
            "linecolor": "white",
            "ticks": ""
           },
           "bgcolor": "#E5ECF6",
           "caxis": {
            "gridcolor": "white",
            "linecolor": "white",
            "ticks": ""
           }
          },
          "title": {
           "x": 0.05
          },
          "xaxis": {
           "automargin": true,
           "gridcolor": "white",
           "linecolor": "white",
           "ticks": "",
           "title": {
            "standoff": 15
           },
           "zerolinecolor": "white",
           "zerolinewidth": 2
          },
          "yaxis": {
           "automargin": true,
           "gridcolor": "white",
           "linecolor": "white",
           "ticks": "",
           "title": {
            "standoff": 15
           },
           "zerolinecolor": "white",
           "zerolinewidth": 2
          }
         }
        },
        "title": {
         "text": "Plant Age vs Capacity (Operating Plants)"
        },
        "xaxis": {
         "anchor": "y",
         "domain": [
          0,
          1
         ],
         "title": {
          "text": "Plant Age (years)"
         }
        },
        "yaxis": {
         "anchor": "x",
         "domain": [
          0,
          1
         ],
         "title": {
          "text": "Crude Steel Capacity (ttpa)"
         }
        }
       }
      }
     },
     "metadata": {},
     "output_type": "display_data"
    },
    {
     "name": "stdout",
     "output_type": "stream",
     "text": [
      "KEY INSIGHTS FROM AGE ANALYSIS\n",
      "  • Oldest operating plant: 286 years old\n",
      "  • Newest operating plant: 0 years old\n",
      "  • Median age: 27.0 years\n",
      "  • Most common age range: 51-100 years\n",
      "  • Plants over 100 years old: 56\n"
     ]
    }
   ],
   "source": [
    "# Convert Plant age to numeric\n",
    "df['Plant age (years)'] = pd.to_numeric(df['Plant age (years)'], errors='coerce')\n",
    "\n",
    "print(f\"\\nPlants with age data: {df['Plant age (years)'].notna().sum()} out of {len(df)}\")\n",
    "print(f\"\\nAge Statistics:\")\n",
    "print(f\"  Mean: {df['Plant age (years)'].mean():.2f} years\")\n",
    "print(f\"  Median: {df['Plant age (years)'].median():.2f} years\")\n",
    "print(f\"  Min: {df['Plant age (years)'].min():.0f} years\")\n",
    "print(f\"  Max: {df['Plant age (years)'].max():.0f} years\")\n",
    "print(f\"  Std Dev: {df['Plant age (years)'].std():.2f} years\")\n",
    "\n",
    "# Age distribution by bins\n",
    "print(f\"\\nAge Distribution by Category:\")\n",
    "age_bins = [0, 10, 20, 30, 40, 50, 100, 300]\n",
    "age_labels = ['0-10 years', '11-20 years', '21-30 years', '31-40 years', '41-50 years', '51-100 years', '100+ years']\n",
    "df['age_category'] = pd.cut(df['Plant age (years)'], bins=age_bins, labels=age_labels, right=True)\n",
    "print(df['age_category'].value_counts().sort_index())\n",
    "\n",
    "# Bar chart of age categories\n",
    "age_category_counts = df['age_category'].value_counts().sort_index()\n",
    "fig_age_cat = px.bar(\n",
    "    x=age_category_counts.index.astype(str),\n",
    "    y=age_category_counts.values,\n",
    "    title='Number of Operating Plants by Age Category',\n",
    "    labels={'x': 'Age Category', 'y': 'Number of Plants'},\n",
    "    color=age_category_counts.values,\n",
    "    color_continuous_scale='Greens'\n",
    ")\n",
    "fig_age_cat.update_layout(\n",
    "    xaxis_title='Age Category',\n",
    "    yaxis_title='Number of Plants',\n",
    "    showlegend=False,\n",
    "    height=400\n",
    ")\n",
    "fig_age_cat.show()\n",
    "\n",
    "# Scatter plot: Age vs Capacity\n",
    "fig_age_capacity = px.scatter(\n",
    "    df.dropna(subset=['Plant age (years)', 'Nominal crude steel capacity (ttpa)']),\n",
    "    x='Plant age (years)',\n",
    "    y='Nominal crude steel capacity (ttpa)',\n",
    "    color='Region',\n",
    "    size='Nominal crude steel capacity (ttpa)',\n",
    "    hover_name='Plant name (English)',\n",
    "    hover_data=['Country/Area', 'Owner'],\n",
    "    title='Plant Age vs Capacity (Operating Plants)',\n",
    "    size_max=15,\n",
    "    opacity=0.7\n",
    ")\n",
    "fig_age_capacity.update_layout(\n",
    "    xaxis_title='Plant Age (years)',\n",
    "    yaxis_title='Crude Steel Capacity (ttpa)',\n",
    "    height=500\n",
    ")\n",
    "fig_age_capacity.show()\n",
    "\n",
    "\n",
    "print(\"KEY INSIGHTS FROM AGE ANALYSIS\")\n",
    "print(f\"  • Oldest operating plant: {df['Plant age (years)'].max():.0f} years old\")\n",
    "print(f\"  • Newest operating plant: {df['Plant age (years)'].min():.0f} years old\")\n",
    "print(f\"  • Median age: {df['Plant age (years)'].median():.1f} years\")\n",
    "print(f\"  • Most common age range: {age_category_counts.idxmax()}\")\n",
    "print(f\"  • Plants over 100 years old: {(df['Plant age (years)'] > 100).sum()}\")\n"
   ]
  },
  {
   "cell_type": "markdown",
   "metadata": {},
   "source": [
    "### Question 3: Geographic Distribution\n",
    "**Task:** Analyze the geographic distribution of steel plants.\n",
    "- Which countries/regions have the most steel plants?\n",
    "- What is the distribution of plants by company?\n"
   ]
  },
  {
   "cell_type": "code",
   "execution_count": 35,
   "metadata": {},
   "outputs": [
    {
     "name": "stdout",
     "output_type": "stream",
     "text": [
      "Top 15 Countries by Number of Operating Steel Plants:\n",
      "\n",
      "Country/Area\n",
      "China            289\n",
      "India             74\n",
      "United States     70\n",
      "Japan             38\n",
      "Iran              31\n",
      "Russia            27\n",
      "Türkiye           25\n",
      "Brazil            22\n",
      "Italy             22\n",
      "Vietnam           20\n",
      "South Korea       15\n",
      "Spain             14\n",
      "Mexico            13\n",
      "Germany           13\n",
      "Thailand          11\n",
      "Name: count, dtype: int64\n",
      "\n",
      "Total countries: 80\n",
      "Plants by Region:\n",
      "\n",
      "Region\n",
      "Asia Pacific               497\n",
      "Europe                     132\n",
      "North America               91\n",
      "Middle East                 51\n",
      "Central & South America     37\n",
      "Africa                      30\n",
      "Eurasia                     30\n",
      "Name: count, dtype: int64\n"
     ]
    },
    {
     "data": {
      "application/vnd.plotly.v1+json": {
       "config": {
        "plotlyServerURL": "https://plot.ly"
       },
       "data": [
        {
         "hovertemplate": "Number of Plants=%{x}<br>Country=%{y}<br>color=%{marker.color}<extra></extra>",
         "legendgroup": "",
         "marker": {
          "color": {
           "bdata": "IQFKAEYAJgAfABsAGQAWABYAFAAPAA4ADQANAAsA",
           "dtype": "i2"
          },
          "coloraxis": "coloraxis",
          "pattern": {
           "shape": ""
          }
         },
         "name": "",
         "orientation": "h",
         "showlegend": false,
         "textposition": "auto",
         "type": "bar",
         "x": {
          "bdata": "IQFKAEYAJgAfABsAGQAWABYAFAAPAA4ADQANAAsA",
          "dtype": "i2"
         },
         "xaxis": "x",
         "y": [
          "China",
          "India",
          "United States",
          "Japan",
          "Iran",
          "Russia",
          "Türkiye",
          "Brazil",
          "Italy",
          "Vietnam",
          "South Korea",
          "Spain",
          "Mexico",
          "Germany",
          "Thailand"
         ],
         "yaxis": "y"
        }
       ],
       "layout": {
        "barmode": "relative",
        "coloraxis": {
         "colorbar": {
          "title": {
           "text": "color"
          }
         },
         "colorscale": [
          [
           0,
           "rgb(247,251,255)"
          ],
          [
           0.125,
           "rgb(222,235,247)"
          ],
          [
           0.25,
           "rgb(198,219,239)"
          ],
          [
           0.375,
           "rgb(158,202,225)"
          ],
          [
           0.5,
           "rgb(107,174,214)"
          ],
          [
           0.625,
           "rgb(66,146,198)"
          ],
          [
           0.75,
           "rgb(33,113,181)"
          ],
          [
           0.875,
           "rgb(8,81,156)"
          ],
          [
           1,
           "rgb(8,48,107)"
          ]
         ]
        },
        "height": 500,
        "legend": {
         "tracegroupgap": 0
        },
        "showlegend": false,
        "template": {
         "data": {
          "bar": [
           {
            "error_x": {
             "color": "#2a3f5f"
            },
            "error_y": {
             "color": "#2a3f5f"
            },
            "marker": {
             "line": {
              "color": "#E5ECF6",
              "width": 0.5
             },
             "pattern": {
              "fillmode": "overlay",
              "size": 10,
              "solidity": 0.2
             }
            },
            "type": "bar"
           }
          ],
          "barpolar": [
           {
            "marker": {
             "line": {
              "color": "#E5ECF6",
              "width": 0.5
             },
             "pattern": {
              "fillmode": "overlay",
              "size": 10,
              "solidity": 0.2
             }
            },
            "type": "barpolar"
           }
          ],
          "carpet": [
           {
            "aaxis": {
             "endlinecolor": "#2a3f5f",
             "gridcolor": "white",
             "linecolor": "white",
             "minorgridcolor": "white",
             "startlinecolor": "#2a3f5f"
            },
            "baxis": {
             "endlinecolor": "#2a3f5f",
             "gridcolor": "white",
             "linecolor": "white",
             "minorgridcolor": "white",
             "startlinecolor": "#2a3f5f"
            },
            "type": "carpet"
           }
          ],
          "choropleth": [
           {
            "colorbar": {
             "outlinewidth": 0,
             "ticks": ""
            },
            "type": "choropleth"
           }
          ],
          "contour": [
           {
            "colorbar": {
             "outlinewidth": 0,
             "ticks": ""
            },
            "colorscale": [
             [
              0,
              "#0d0887"
             ],
             [
              0.1111111111111111,
              "#46039f"
             ],
             [
              0.2222222222222222,
              "#7201a8"
             ],
             [
              0.3333333333333333,
              "#9c179e"
             ],
             [
              0.4444444444444444,
              "#bd3786"
             ],
             [
              0.5555555555555556,
              "#d8576b"
             ],
             [
              0.6666666666666666,
              "#ed7953"
             ],
             [
              0.7777777777777778,
              "#fb9f3a"
             ],
             [
              0.8888888888888888,
              "#fdca26"
             ],
             [
              1,
              "#f0f921"
             ]
            ],
            "type": "contour"
           }
          ],
          "contourcarpet": [
           {
            "colorbar": {
             "outlinewidth": 0,
             "ticks": ""
            },
            "type": "contourcarpet"
           }
          ],
          "heatmap": [
           {
            "colorbar": {
             "outlinewidth": 0,
             "ticks": ""
            },
            "colorscale": [
             [
              0,
              "#0d0887"
             ],
             [
              0.1111111111111111,
              "#46039f"
             ],
             [
              0.2222222222222222,
              "#7201a8"
             ],
             [
              0.3333333333333333,
              "#9c179e"
             ],
             [
              0.4444444444444444,
              "#bd3786"
             ],
             [
              0.5555555555555556,
              "#d8576b"
             ],
             [
              0.6666666666666666,
              "#ed7953"
             ],
             [
              0.7777777777777778,
              "#fb9f3a"
             ],
             [
              0.8888888888888888,
              "#fdca26"
             ],
             [
              1,
              "#f0f921"
             ]
            ],
            "type": "heatmap"
           }
          ],
          "histogram": [
           {
            "marker": {
             "pattern": {
              "fillmode": "overlay",
              "size": 10,
              "solidity": 0.2
             }
            },
            "type": "histogram"
           }
          ],
          "histogram2d": [
           {
            "colorbar": {
             "outlinewidth": 0,
             "ticks": ""
            },
            "colorscale": [
             [
              0,
              "#0d0887"
             ],
             [
              0.1111111111111111,
              "#46039f"
             ],
             [
              0.2222222222222222,
              "#7201a8"
             ],
             [
              0.3333333333333333,
              "#9c179e"
             ],
             [
              0.4444444444444444,
              "#bd3786"
             ],
             [
              0.5555555555555556,
              "#d8576b"
             ],
             [
              0.6666666666666666,
              "#ed7953"
             ],
             [
              0.7777777777777778,
              "#fb9f3a"
             ],
             [
              0.8888888888888888,
              "#fdca26"
             ],
             [
              1,
              "#f0f921"
             ]
            ],
            "type": "histogram2d"
           }
          ],
          "histogram2dcontour": [
           {
            "colorbar": {
             "outlinewidth": 0,
             "ticks": ""
            },
            "colorscale": [
             [
              0,
              "#0d0887"
             ],
             [
              0.1111111111111111,
              "#46039f"
             ],
             [
              0.2222222222222222,
              "#7201a8"
             ],
             [
              0.3333333333333333,
              "#9c179e"
             ],
             [
              0.4444444444444444,
              "#bd3786"
             ],
             [
              0.5555555555555556,
              "#d8576b"
             ],
             [
              0.6666666666666666,
              "#ed7953"
             ],
             [
              0.7777777777777778,
              "#fb9f3a"
             ],
             [
              0.8888888888888888,
              "#fdca26"
             ],
             [
              1,
              "#f0f921"
             ]
            ],
            "type": "histogram2dcontour"
           }
          ],
          "mesh3d": [
           {
            "colorbar": {
             "outlinewidth": 0,
             "ticks": ""
            },
            "type": "mesh3d"
           }
          ],
          "parcoords": [
           {
            "line": {
             "colorbar": {
              "outlinewidth": 0,
              "ticks": ""
             }
            },
            "type": "parcoords"
           }
          ],
          "pie": [
           {
            "automargin": true,
            "type": "pie"
           }
          ],
          "scatter": [
           {
            "fillpattern": {
             "fillmode": "overlay",
             "size": 10,
             "solidity": 0.2
            },
            "type": "scatter"
           }
          ],
          "scatter3d": [
           {
            "line": {
             "colorbar": {
              "outlinewidth": 0,
              "ticks": ""
             }
            },
            "marker": {
             "colorbar": {
              "outlinewidth": 0,
              "ticks": ""
             }
            },
            "type": "scatter3d"
           }
          ],
          "scattercarpet": [
           {
            "marker": {
             "colorbar": {
              "outlinewidth": 0,
              "ticks": ""
             }
            },
            "type": "scattercarpet"
           }
          ],
          "scattergeo": [
           {
            "marker": {
             "colorbar": {
              "outlinewidth": 0,
              "ticks": ""
             }
            },
            "type": "scattergeo"
           }
          ],
          "scattergl": [
           {
            "marker": {
             "colorbar": {
              "outlinewidth": 0,
              "ticks": ""
             }
            },
            "type": "scattergl"
           }
          ],
          "scattermap": [
           {
            "marker": {
             "colorbar": {
              "outlinewidth": 0,
              "ticks": ""
             }
            },
            "type": "scattermap"
           }
          ],
          "scattermapbox": [
           {
            "marker": {
             "colorbar": {
              "outlinewidth": 0,
              "ticks": ""
             }
            },
            "type": "scattermapbox"
           }
          ],
          "scatterpolar": [
           {
            "marker": {
             "colorbar": {
              "outlinewidth": 0,
              "ticks": ""
             }
            },
            "type": "scatterpolar"
           }
          ],
          "scatterpolargl": [
           {
            "marker": {
             "colorbar": {
              "outlinewidth": 0,
              "ticks": ""
             }
            },
            "type": "scatterpolargl"
           }
          ],
          "scatterternary": [
           {
            "marker": {
             "colorbar": {
              "outlinewidth": 0,
              "ticks": ""
             }
            },
            "type": "scatterternary"
           }
          ],
          "surface": [
           {
            "colorbar": {
             "outlinewidth": 0,
             "ticks": ""
            },
            "colorscale": [
             [
              0,
              "#0d0887"
             ],
             [
              0.1111111111111111,
              "#46039f"
             ],
             [
              0.2222222222222222,
              "#7201a8"
             ],
             [
              0.3333333333333333,
              "#9c179e"
             ],
             [
              0.4444444444444444,
              "#bd3786"
             ],
             [
              0.5555555555555556,
              "#d8576b"
             ],
             [
              0.6666666666666666,
              "#ed7953"
             ],
             [
              0.7777777777777778,
              "#fb9f3a"
             ],
             [
              0.8888888888888888,
              "#fdca26"
             ],
             [
              1,
              "#f0f921"
             ]
            ],
            "type": "surface"
           }
          ],
          "table": [
           {
            "cells": {
             "fill": {
              "color": "#EBF0F8"
             },
             "line": {
              "color": "white"
             }
            },
            "header": {
             "fill": {
              "color": "#C8D4E3"
             },
             "line": {
              "color": "white"
             }
            },
            "type": "table"
           }
          ]
         },
         "layout": {
          "annotationdefaults": {
           "arrowcolor": "#2a3f5f",
           "arrowhead": 0,
           "arrowwidth": 1
          },
          "autotypenumbers": "strict",
          "coloraxis": {
           "colorbar": {
            "outlinewidth": 0,
            "ticks": ""
           }
          },
          "colorscale": {
           "diverging": [
            [
             0,
             "#8e0152"
            ],
            [
             0.1,
             "#c51b7d"
            ],
            [
             0.2,
             "#de77ae"
            ],
            [
             0.3,
             "#f1b6da"
            ],
            [
             0.4,
             "#fde0ef"
            ],
            [
             0.5,
             "#f7f7f7"
            ],
            [
             0.6,
             "#e6f5d0"
            ],
            [
             0.7,
             "#b8e186"
            ],
            [
             0.8,
             "#7fbc41"
            ],
            [
             0.9,
             "#4d9221"
            ],
            [
             1,
             "#276419"
            ]
           ],
           "sequential": [
            [
             0,
             "#0d0887"
            ],
            [
             0.1111111111111111,
             "#46039f"
            ],
            [
             0.2222222222222222,
             "#7201a8"
            ],
            [
             0.3333333333333333,
             "#9c179e"
            ],
            [
             0.4444444444444444,
             "#bd3786"
            ],
            [
             0.5555555555555556,
             "#d8576b"
            ],
            [
             0.6666666666666666,
             "#ed7953"
            ],
            [
             0.7777777777777778,
             "#fb9f3a"
            ],
            [
             0.8888888888888888,
             "#fdca26"
            ],
            [
             1,
             "#f0f921"
            ]
           ],
           "sequentialminus": [
            [
             0,
             "#0d0887"
            ],
            [
             0.1111111111111111,
             "#46039f"
            ],
            [
             0.2222222222222222,
             "#7201a8"
            ],
            [
             0.3333333333333333,
             "#9c179e"
            ],
            [
             0.4444444444444444,
             "#bd3786"
            ],
            [
             0.5555555555555556,
             "#d8576b"
            ],
            [
             0.6666666666666666,
             "#ed7953"
            ],
            [
             0.7777777777777778,
             "#fb9f3a"
            ],
            [
             0.8888888888888888,
             "#fdca26"
            ],
            [
             1,
             "#f0f921"
            ]
           ]
          },
          "colorway": [
           "#636efa",
           "#EF553B",
           "#00cc96",
           "#ab63fa",
           "#FFA15A",
           "#19d3f3",
           "#FF6692",
           "#B6E880",
           "#FF97FF",
           "#FECB52"
          ],
          "font": {
           "color": "#2a3f5f"
          },
          "geo": {
           "bgcolor": "white",
           "lakecolor": "white",
           "landcolor": "#E5ECF6",
           "showlakes": true,
           "showland": true,
           "subunitcolor": "white"
          },
          "hoverlabel": {
           "align": "left"
          },
          "hovermode": "closest",
          "mapbox": {
           "style": "light"
          },
          "paper_bgcolor": "white",
          "plot_bgcolor": "#E5ECF6",
          "polar": {
           "angularaxis": {
            "gridcolor": "white",
            "linecolor": "white",
            "ticks": ""
           },
           "bgcolor": "#E5ECF6",
           "radialaxis": {
            "gridcolor": "white",
            "linecolor": "white",
            "ticks": ""
           }
          },
          "scene": {
           "xaxis": {
            "backgroundcolor": "#E5ECF6",
            "gridcolor": "white",
            "gridwidth": 2,
            "linecolor": "white",
            "showbackground": true,
            "ticks": "",
            "zerolinecolor": "white"
           },
           "yaxis": {
            "backgroundcolor": "#E5ECF6",
            "gridcolor": "white",
            "gridwidth": 2,
            "linecolor": "white",
            "showbackground": true,
            "ticks": "",
            "zerolinecolor": "white"
           },
           "zaxis": {
            "backgroundcolor": "#E5ECF6",
            "gridcolor": "white",
            "gridwidth": 2,
            "linecolor": "white",
            "showbackground": true,
            "ticks": "",
            "zerolinecolor": "white"
           }
          },
          "shapedefaults": {
           "line": {
            "color": "#2a3f5f"
           }
          },
          "ternary": {
           "aaxis": {
            "gridcolor": "white",
            "linecolor": "white",
            "ticks": ""
           },
           "baxis": {
            "gridcolor": "white",
            "linecolor": "white",
            "ticks": ""
           },
           "bgcolor": "#E5ECF6",
           "caxis": {
            "gridcolor": "white",
            "linecolor": "white",
            "ticks": ""
           }
          },
          "title": {
           "x": 0.05
          },
          "xaxis": {
           "automargin": true,
           "gridcolor": "white",
           "linecolor": "white",
           "ticks": "",
           "title": {
            "standoff": 15
           },
           "zerolinecolor": "white",
           "zerolinewidth": 2
          },
          "yaxis": {
           "automargin": true,
           "gridcolor": "white",
           "linecolor": "white",
           "ticks": "",
           "title": {
            "standoff": 15
           },
           "zerolinecolor": "white",
           "zerolinewidth": 2
          }
         }
        },
        "title": {
         "text": "Top 15 Countries by Number of Operating Steel Plants"
        },
        "xaxis": {
         "anchor": "y",
         "domain": [
          0,
          1
         ],
         "title": {
          "text": "Number of Plants"
         }
        },
        "yaxis": {
         "anchor": "x",
         "categoryorder": "total ascending",
         "domain": [
          0,
          1
         ],
         "title": {
          "text": "Country"
         }
        }
       }
      }
     },
     "metadata": {},
     "output_type": "display_data"
    },
    {
     "data": {
      "application/vnd.plotly.v1+json": {
       "config": {
        "plotlyServerURL": "https://plot.ly"
       },
       "data": [
        {
         "domain": {
          "x": [
           0,
           1
          ],
          "y": [
           0,
           1
          ]
         },
         "hole": 0.3,
         "hovertemplate": "label=%{label}<br>value=%{value}<extra></extra>",
         "labels": [
          "Asia Pacific",
          "Europe",
          "North America",
          "Middle East",
          "Central & South America",
          "Africa",
          "Eurasia"
         ],
         "legendgroup": "",
         "name": "",
         "showlegend": true,
         "textinfo": "percent+label",
         "textposition": "inside",
         "type": "pie",
         "values": {
          "bdata": "8QGEAFsAMwAlAB4AHgA=",
          "dtype": "i2"
         }
        }
       ],
       "layout": {
        "height": 500,
        "legend": {
         "tracegroupgap": 0
        },
        "template": {
         "data": {
          "bar": [
           {
            "error_x": {
             "color": "#2a3f5f"
            },
            "error_y": {
             "color": "#2a3f5f"
            },
            "marker": {
             "line": {
              "color": "#E5ECF6",
              "width": 0.5
             },
             "pattern": {
              "fillmode": "overlay",
              "size": 10,
              "solidity": 0.2
             }
            },
            "type": "bar"
           }
          ],
          "barpolar": [
           {
            "marker": {
             "line": {
              "color": "#E5ECF6",
              "width": 0.5
             },
             "pattern": {
              "fillmode": "overlay",
              "size": 10,
              "solidity": 0.2
             }
            },
            "type": "barpolar"
           }
          ],
          "carpet": [
           {
            "aaxis": {
             "endlinecolor": "#2a3f5f",
             "gridcolor": "white",
             "linecolor": "white",
             "minorgridcolor": "white",
             "startlinecolor": "#2a3f5f"
            },
            "baxis": {
             "endlinecolor": "#2a3f5f",
             "gridcolor": "white",
             "linecolor": "white",
             "minorgridcolor": "white",
             "startlinecolor": "#2a3f5f"
            },
            "type": "carpet"
           }
          ],
          "choropleth": [
           {
            "colorbar": {
             "outlinewidth": 0,
             "ticks": ""
            },
            "type": "choropleth"
           }
          ],
          "contour": [
           {
            "colorbar": {
             "outlinewidth": 0,
             "ticks": ""
            },
            "colorscale": [
             [
              0,
              "#0d0887"
             ],
             [
              0.1111111111111111,
              "#46039f"
             ],
             [
              0.2222222222222222,
              "#7201a8"
             ],
             [
              0.3333333333333333,
              "#9c179e"
             ],
             [
              0.4444444444444444,
              "#bd3786"
             ],
             [
              0.5555555555555556,
              "#d8576b"
             ],
             [
              0.6666666666666666,
              "#ed7953"
             ],
             [
              0.7777777777777778,
              "#fb9f3a"
             ],
             [
              0.8888888888888888,
              "#fdca26"
             ],
             [
              1,
              "#f0f921"
             ]
            ],
            "type": "contour"
           }
          ],
          "contourcarpet": [
           {
            "colorbar": {
             "outlinewidth": 0,
             "ticks": ""
            },
            "type": "contourcarpet"
           }
          ],
          "heatmap": [
           {
            "colorbar": {
             "outlinewidth": 0,
             "ticks": ""
            },
            "colorscale": [
             [
              0,
              "#0d0887"
             ],
             [
              0.1111111111111111,
              "#46039f"
             ],
             [
              0.2222222222222222,
              "#7201a8"
             ],
             [
              0.3333333333333333,
              "#9c179e"
             ],
             [
              0.4444444444444444,
              "#bd3786"
             ],
             [
              0.5555555555555556,
              "#d8576b"
             ],
             [
              0.6666666666666666,
              "#ed7953"
             ],
             [
              0.7777777777777778,
              "#fb9f3a"
             ],
             [
              0.8888888888888888,
              "#fdca26"
             ],
             [
              1,
              "#f0f921"
             ]
            ],
            "type": "heatmap"
           }
          ],
          "histogram": [
           {
            "marker": {
             "pattern": {
              "fillmode": "overlay",
              "size": 10,
              "solidity": 0.2
             }
            },
            "type": "histogram"
           }
          ],
          "histogram2d": [
           {
            "colorbar": {
             "outlinewidth": 0,
             "ticks": ""
            },
            "colorscale": [
             [
              0,
              "#0d0887"
             ],
             [
              0.1111111111111111,
              "#46039f"
             ],
             [
              0.2222222222222222,
              "#7201a8"
             ],
             [
              0.3333333333333333,
              "#9c179e"
             ],
             [
              0.4444444444444444,
              "#bd3786"
             ],
             [
              0.5555555555555556,
              "#d8576b"
             ],
             [
              0.6666666666666666,
              "#ed7953"
             ],
             [
              0.7777777777777778,
              "#fb9f3a"
             ],
             [
              0.8888888888888888,
              "#fdca26"
             ],
             [
              1,
              "#f0f921"
             ]
            ],
            "type": "histogram2d"
           }
          ],
          "histogram2dcontour": [
           {
            "colorbar": {
             "outlinewidth": 0,
             "ticks": ""
            },
            "colorscale": [
             [
              0,
              "#0d0887"
             ],
             [
              0.1111111111111111,
              "#46039f"
             ],
             [
              0.2222222222222222,
              "#7201a8"
             ],
             [
              0.3333333333333333,
              "#9c179e"
             ],
             [
              0.4444444444444444,
              "#bd3786"
             ],
             [
              0.5555555555555556,
              "#d8576b"
             ],
             [
              0.6666666666666666,
              "#ed7953"
             ],
             [
              0.7777777777777778,
              "#fb9f3a"
             ],
             [
              0.8888888888888888,
              "#fdca26"
             ],
             [
              1,
              "#f0f921"
             ]
            ],
            "type": "histogram2dcontour"
           }
          ],
          "mesh3d": [
           {
            "colorbar": {
             "outlinewidth": 0,
             "ticks": ""
            },
            "type": "mesh3d"
           }
          ],
          "parcoords": [
           {
            "line": {
             "colorbar": {
              "outlinewidth": 0,
              "ticks": ""
             }
            },
            "type": "parcoords"
           }
          ],
          "pie": [
           {
            "automargin": true,
            "type": "pie"
           }
          ],
          "scatter": [
           {
            "fillpattern": {
             "fillmode": "overlay",
             "size": 10,
             "solidity": 0.2
            },
            "type": "scatter"
           }
          ],
          "scatter3d": [
           {
            "line": {
             "colorbar": {
              "outlinewidth": 0,
              "ticks": ""
             }
            },
            "marker": {
             "colorbar": {
              "outlinewidth": 0,
              "ticks": ""
             }
            },
            "type": "scatter3d"
           }
          ],
          "scattercarpet": [
           {
            "marker": {
             "colorbar": {
              "outlinewidth": 0,
              "ticks": ""
             }
            },
            "type": "scattercarpet"
           }
          ],
          "scattergeo": [
           {
            "marker": {
             "colorbar": {
              "outlinewidth": 0,
              "ticks": ""
             }
            },
            "type": "scattergeo"
           }
          ],
          "scattergl": [
           {
            "marker": {
             "colorbar": {
              "outlinewidth": 0,
              "ticks": ""
             }
            },
            "type": "scattergl"
           }
          ],
          "scattermap": [
           {
            "marker": {
             "colorbar": {
              "outlinewidth": 0,
              "ticks": ""
             }
            },
            "type": "scattermap"
           }
          ],
          "scattermapbox": [
           {
            "marker": {
             "colorbar": {
              "outlinewidth": 0,
              "ticks": ""
             }
            },
            "type": "scattermapbox"
           }
          ],
          "scatterpolar": [
           {
            "marker": {
             "colorbar": {
              "outlinewidth": 0,
              "ticks": ""
             }
            },
            "type": "scatterpolar"
           }
          ],
          "scatterpolargl": [
           {
            "marker": {
             "colorbar": {
              "outlinewidth": 0,
              "ticks": ""
             }
            },
            "type": "scatterpolargl"
           }
          ],
          "scatterternary": [
           {
            "marker": {
             "colorbar": {
              "outlinewidth": 0,
              "ticks": ""
             }
            },
            "type": "scatterternary"
           }
          ],
          "surface": [
           {
            "colorbar": {
             "outlinewidth": 0,
             "ticks": ""
            },
            "colorscale": [
             [
              0,
              "#0d0887"
             ],
             [
              0.1111111111111111,
              "#46039f"
             ],
             [
              0.2222222222222222,
              "#7201a8"
             ],
             [
              0.3333333333333333,
              "#9c179e"
             ],
             [
              0.4444444444444444,
              "#bd3786"
             ],
             [
              0.5555555555555556,
              "#d8576b"
             ],
             [
              0.6666666666666666,
              "#ed7953"
             ],
             [
              0.7777777777777778,
              "#fb9f3a"
             ],
             [
              0.8888888888888888,
              "#fdca26"
             ],
             [
              1,
              "#f0f921"
             ]
            ],
            "type": "surface"
           }
          ],
          "table": [
           {
            "cells": {
             "fill": {
              "color": "#EBF0F8"
             },
             "line": {
              "color": "white"
             }
            },
            "header": {
             "fill": {
              "color": "#C8D4E3"
             },
             "line": {
              "color": "white"
             }
            },
            "type": "table"
           }
          ]
         },
         "layout": {
          "annotationdefaults": {
           "arrowcolor": "#2a3f5f",
           "arrowhead": 0,
           "arrowwidth": 1
          },
          "autotypenumbers": "strict",
          "coloraxis": {
           "colorbar": {
            "outlinewidth": 0,
            "ticks": ""
           }
          },
          "colorscale": {
           "diverging": [
            [
             0,
             "#8e0152"
            ],
            [
             0.1,
             "#c51b7d"
            ],
            [
             0.2,
             "#de77ae"
            ],
            [
             0.3,
             "#f1b6da"
            ],
            [
             0.4,
             "#fde0ef"
            ],
            [
             0.5,
             "#f7f7f7"
            ],
            [
             0.6,
             "#e6f5d0"
            ],
            [
             0.7,
             "#b8e186"
            ],
            [
             0.8,
             "#7fbc41"
            ],
            [
             0.9,
             "#4d9221"
            ],
            [
             1,
             "#276419"
            ]
           ],
           "sequential": [
            [
             0,
             "#0d0887"
            ],
            [
             0.1111111111111111,
             "#46039f"
            ],
            [
             0.2222222222222222,
             "#7201a8"
            ],
            [
             0.3333333333333333,
             "#9c179e"
            ],
            [
             0.4444444444444444,
             "#bd3786"
            ],
            [
             0.5555555555555556,
             "#d8576b"
            ],
            [
             0.6666666666666666,
             "#ed7953"
            ],
            [
             0.7777777777777778,
             "#fb9f3a"
            ],
            [
             0.8888888888888888,
             "#fdca26"
            ],
            [
             1,
             "#f0f921"
            ]
           ],
           "sequentialminus": [
            [
             0,
             "#0d0887"
            ],
            [
             0.1111111111111111,
             "#46039f"
            ],
            [
             0.2222222222222222,
             "#7201a8"
            ],
            [
             0.3333333333333333,
             "#9c179e"
            ],
            [
             0.4444444444444444,
             "#bd3786"
            ],
            [
             0.5555555555555556,
             "#d8576b"
            ],
            [
             0.6666666666666666,
             "#ed7953"
            ],
            [
             0.7777777777777778,
             "#fb9f3a"
            ],
            [
             0.8888888888888888,
             "#fdca26"
            ],
            [
             1,
             "#f0f921"
            ]
           ]
          },
          "colorway": [
           "#636efa",
           "#EF553B",
           "#00cc96",
           "#ab63fa",
           "#FFA15A",
           "#19d3f3",
           "#FF6692",
           "#B6E880",
           "#FF97FF",
           "#FECB52"
          ],
          "font": {
           "color": "#2a3f5f"
          },
          "geo": {
           "bgcolor": "white",
           "lakecolor": "white",
           "landcolor": "#E5ECF6",
           "showlakes": true,
           "showland": true,
           "subunitcolor": "white"
          },
          "hoverlabel": {
           "align": "left"
          },
          "hovermode": "closest",
          "mapbox": {
           "style": "light"
          },
          "paper_bgcolor": "white",
          "plot_bgcolor": "#E5ECF6",
          "polar": {
           "angularaxis": {
            "gridcolor": "white",
            "linecolor": "white",
            "ticks": ""
           },
           "bgcolor": "#E5ECF6",
           "radialaxis": {
            "gridcolor": "white",
            "linecolor": "white",
            "ticks": ""
           }
          },
          "scene": {
           "xaxis": {
            "backgroundcolor": "#E5ECF6",
            "gridcolor": "white",
            "gridwidth": 2,
            "linecolor": "white",
            "showbackground": true,
            "ticks": "",
            "zerolinecolor": "white"
           },
           "yaxis": {
            "backgroundcolor": "#E5ECF6",
            "gridcolor": "white",
            "gridwidth": 2,
            "linecolor": "white",
            "showbackground": true,
            "ticks": "",
            "zerolinecolor": "white"
           },
           "zaxis": {
            "backgroundcolor": "#E5ECF6",
            "gridcolor": "white",
            "gridwidth": 2,
            "linecolor": "white",
            "showbackground": true,
            "ticks": "",
            "zerolinecolor": "white"
           }
          },
          "shapedefaults": {
           "line": {
            "color": "#2a3f5f"
           }
          },
          "ternary": {
           "aaxis": {
            "gridcolor": "white",
            "linecolor": "white",
            "ticks": ""
           },
           "baxis": {
            "gridcolor": "white",
            "linecolor": "white",
            "ticks": ""
           },
           "bgcolor": "#E5ECF6",
           "caxis": {
            "gridcolor": "white",
            "linecolor": "white",
            "ticks": ""
           }
          },
          "title": {
           "x": 0.05
          },
          "xaxis": {
           "automargin": true,
           "gridcolor": "white",
           "linecolor": "white",
           "ticks": "",
           "title": {
            "standoff": 15
           },
           "zerolinecolor": "white",
           "zerolinewidth": 2
          },
          "yaxis": {
           "automargin": true,
           "gridcolor": "white",
           "linecolor": "white",
           "ticks": "",
           "title": {
            "standoff": 15
           },
           "zerolinecolor": "white",
           "zerolinewidth": 2
          }
         }
        },
        "title": {
         "text": "Regional Distribution of Operating Steel Plants"
        }
       }
      }
     },
     "metadata": {},
     "output_type": "display_data"
    },
    {
     "name": "stdout",
     "output_type": "stream",
     "text": [
      "\n",
      "Key Insights:\n",
      "  • China leads with 289 plants (33.3% of total)\n",
      "  • Top 5 countries account for 502 plants (57.8% of total)\n",
      "  • Asia Pacific has the most plants with 497\n"
     ]
    }
   ],
   "source": [
    "plants_by_country = df['Country/Area'].value_counts()\n",
    "plants_by_region = df['Region'].value_counts()\n",
    "\n",
    "print(\"Top 15 Countries by Number of Operating Steel Plants:\\n\")\n",
    "print(plants_by_country.head(15))\n",
    "print(f\"\\nTotal countries: {len(plants_by_country)}\")\n",
    "\n",
    "print(\"Plants by Region:\\n\")\n",
    "print(plants_by_region.sort_values(ascending=False))\n",
    "\n",
    "top_15_countries = plants_by_country.head(15)\n",
    "fig1 = px.bar(\n",
    "    x=top_15_countries.values,\n",
    "    y=top_15_countries.index,\n",
    "    orientation='h',\n",
    "    title='Top 15 Countries by Number of Operating Steel Plants',\n",
    "    labels={'x': 'Number of Plants', 'y': 'Country'},\n",
    "    color=top_15_countries.values,\n",
    "    color_continuous_scale='Blues'\n",
    ")\n",
    "fig1.update_layout(yaxis={'categoryorder': 'total ascending'}, showlegend=False, height=500)\n",
    "fig1.show()\n",
    "\n",
    "fig2 = px.pie(\n",
    "    values=plants_by_region.values,\n",
    "    names=plants_by_region.index,\n",
    "    title='Regional Distribution of Operating Steel Plants',\n",
    "    hole=0.3\n",
    ")\n",
    "fig2.update_traces(textposition='inside', textinfo='percent+label')\n",
    "fig2.update_layout(height=500)\n",
    "fig2.show()\n",
    "\n",
    "print(f\"\\nKey Insights:\")\n",
    "print(f\"  • China leads with {plants_by_country.iloc[0]} plants ({plants_by_country.iloc[0]/len(df)*100:.1f}% of total)\")\n",
    "print(f\"  • Top 5 countries account for {plants_by_country.head(5).sum()} plants ({plants_by_country.head(5).sum()/len(df)*100:.1f}% of total)\")\n",
    "print(f\"  • {plants_by_region.idxmax()} has the most plants with {plants_by_region.max()}\")"
   ]
  },
  {
   "cell_type": "code",
   "execution_count": 36,
   "metadata": {},
   "outputs": [
    {
     "name": "stdout",
     "output_type": "stream",
     "text": [
      "Top 20 Companies (Owner) by Number of Operating Steel Plants:\n",
      "\n",
      "Owner\n",
      "Nucor Corp                          11\n",
      "Cleveland-Cliffs Inc                10\n",
      "Nippon Steel Corp                    8\n",
      "Gerdau Ameristeel Corp               7\n",
      "Commercial Metals Co                 7\n",
      "Steel Dynamics Inc                   6\n",
      "Steel Authority of India Ltd         6\n",
      "ArcelorMittal Brasil SA              6\n",
      "Rungta Mines Ltd                     5\n",
      "JFE Steel Corp                       4\n",
      "JSW Steel Ltd                        4\n",
      "ArcelorMittal SA                     4\n",
      "Tokyo Steel Manufacturing Co Ltd     4\n",
      "Mobarakeh Steel Co                   4\n",
      "Government of North Korea            4\n",
      "United States Steel Corp             3\n",
      "JFE Bars & Shapes Corp               3\n",
      "Hyundai Steel Co                     3\n",
      "Kyoei Steel Ltd                      3\n",
      "Acciaierie Venete SpA                3\n",
      "Name: count, dtype: int64\n",
      "\n",
      "============================================================\n",
      "\n",
      "Company Statistics (by Owner):\n",
      "  Total unique companies: 731\n",
      "  Mean plants per company: 1.19\n",
      "  Median plants per company: 1.0\n",
      "  Companies with only 1 plant: 667 (91.2%)\n",
      "  Companies with 5+ plants: 9\n"
     ]
    },
    {
     "data": {
      "application/vnd.plotly.v1+json": {
       "config": {
        "plotlyServerURL": "https://plot.ly"
       },
       "data": [
        {
         "hovertemplate": "Number of Plants=%{x}<br>Company=%{y}<br>color=%{marker.color}<extra></extra>",
         "legendgroup": "",
         "marker": {
          "color": {
           "bdata": "CwoIBwcGBgYFBAQEBAQEAwMDAwM=",
           "dtype": "i1"
          },
          "coloraxis": "coloraxis",
          "pattern": {
           "shape": ""
          }
         },
         "name": "",
         "orientation": "h",
         "showlegend": false,
         "textposition": "auto",
         "type": "bar",
         "x": {
          "bdata": "CwoIBwcGBgYFBAQEBAQEAwMDAwM=",
          "dtype": "i1"
         },
         "xaxis": "x",
         "y": [
          "Nucor Corp",
          "Cleveland-Cliffs Inc",
          "Nippon Steel Corp",
          "Gerdau Ameristeel Corp",
          "Commercial Metals Co",
          "Steel Dynamics Inc",
          "Steel Authority of India Ltd",
          "ArcelorMittal Brasil SA",
          "Rungta Mines Ltd",
          "JFE Steel Corp",
          "JSW Steel Ltd",
          "ArcelorMittal SA",
          "Tokyo Steel Manufacturing Co Ltd",
          "Mobarakeh Steel Co",
          "Government of North Korea",
          "United States Steel Corp",
          "JFE Bars & Shapes Corp",
          "Hyundai Steel Co",
          "Kyoei Steel Ltd",
          "Acciaierie Venete SpA"
         ],
         "yaxis": "y"
        }
       ],
       "layout": {
        "barmode": "relative",
        "coloraxis": {
         "colorbar": {
          "title": {
           "text": "color"
          }
         },
         "colorscale": [
          [
           0,
           "rgb(247,252,245)"
          ],
          [
           0.125,
           "rgb(229,245,224)"
          ],
          [
           0.25,
           "rgb(199,233,192)"
          ],
          [
           0.375,
           "rgb(161,217,155)"
          ],
          [
           0.5,
           "rgb(116,196,118)"
          ],
          [
           0.625,
           "rgb(65,171,93)"
          ],
          [
           0.75,
           "rgb(35,139,69)"
          ],
          [
           0.875,
           "rgb(0,109,44)"
          ],
          [
           1,
           "rgb(0,68,27)"
          ]
         ]
        },
        "height": 600,
        "legend": {
         "tracegroupgap": 0
        },
        "showlegend": false,
        "template": {
         "data": {
          "bar": [
           {
            "error_x": {
             "color": "#2a3f5f"
            },
            "error_y": {
             "color": "#2a3f5f"
            },
            "marker": {
             "line": {
              "color": "#E5ECF6",
              "width": 0.5
             },
             "pattern": {
              "fillmode": "overlay",
              "size": 10,
              "solidity": 0.2
             }
            },
            "type": "bar"
           }
          ],
          "barpolar": [
           {
            "marker": {
             "line": {
              "color": "#E5ECF6",
              "width": 0.5
             },
             "pattern": {
              "fillmode": "overlay",
              "size": 10,
              "solidity": 0.2
             }
            },
            "type": "barpolar"
           }
          ],
          "carpet": [
           {
            "aaxis": {
             "endlinecolor": "#2a3f5f",
             "gridcolor": "white",
             "linecolor": "white",
             "minorgridcolor": "white",
             "startlinecolor": "#2a3f5f"
            },
            "baxis": {
             "endlinecolor": "#2a3f5f",
             "gridcolor": "white",
             "linecolor": "white",
             "minorgridcolor": "white",
             "startlinecolor": "#2a3f5f"
            },
            "type": "carpet"
           }
          ],
          "choropleth": [
           {
            "colorbar": {
             "outlinewidth": 0,
             "ticks": ""
            },
            "type": "choropleth"
           }
          ],
          "contour": [
           {
            "colorbar": {
             "outlinewidth": 0,
             "ticks": ""
            },
            "colorscale": [
             [
              0,
              "#0d0887"
             ],
             [
              0.1111111111111111,
              "#46039f"
             ],
             [
              0.2222222222222222,
              "#7201a8"
             ],
             [
              0.3333333333333333,
              "#9c179e"
             ],
             [
              0.4444444444444444,
              "#bd3786"
             ],
             [
              0.5555555555555556,
              "#d8576b"
             ],
             [
              0.6666666666666666,
              "#ed7953"
             ],
             [
              0.7777777777777778,
              "#fb9f3a"
             ],
             [
              0.8888888888888888,
              "#fdca26"
             ],
             [
              1,
              "#f0f921"
             ]
            ],
            "type": "contour"
           }
          ],
          "contourcarpet": [
           {
            "colorbar": {
             "outlinewidth": 0,
             "ticks": ""
            },
            "type": "contourcarpet"
           }
          ],
          "heatmap": [
           {
            "colorbar": {
             "outlinewidth": 0,
             "ticks": ""
            },
            "colorscale": [
             [
              0,
              "#0d0887"
             ],
             [
              0.1111111111111111,
              "#46039f"
             ],
             [
              0.2222222222222222,
              "#7201a8"
             ],
             [
              0.3333333333333333,
              "#9c179e"
             ],
             [
              0.4444444444444444,
              "#bd3786"
             ],
             [
              0.5555555555555556,
              "#d8576b"
             ],
             [
              0.6666666666666666,
              "#ed7953"
             ],
             [
              0.7777777777777778,
              "#fb9f3a"
             ],
             [
              0.8888888888888888,
              "#fdca26"
             ],
             [
              1,
              "#f0f921"
             ]
            ],
            "type": "heatmap"
           }
          ],
          "histogram": [
           {
            "marker": {
             "pattern": {
              "fillmode": "overlay",
              "size": 10,
              "solidity": 0.2
             }
            },
            "type": "histogram"
           }
          ],
          "histogram2d": [
           {
            "colorbar": {
             "outlinewidth": 0,
             "ticks": ""
            },
            "colorscale": [
             [
              0,
              "#0d0887"
             ],
             [
              0.1111111111111111,
              "#46039f"
             ],
             [
              0.2222222222222222,
              "#7201a8"
             ],
             [
              0.3333333333333333,
              "#9c179e"
             ],
             [
              0.4444444444444444,
              "#bd3786"
             ],
             [
              0.5555555555555556,
              "#d8576b"
             ],
             [
              0.6666666666666666,
              "#ed7953"
             ],
             [
              0.7777777777777778,
              "#fb9f3a"
             ],
             [
              0.8888888888888888,
              "#fdca26"
             ],
             [
              1,
              "#f0f921"
             ]
            ],
            "type": "histogram2d"
           }
          ],
          "histogram2dcontour": [
           {
            "colorbar": {
             "outlinewidth": 0,
             "ticks": ""
            },
            "colorscale": [
             [
              0,
              "#0d0887"
             ],
             [
              0.1111111111111111,
              "#46039f"
             ],
             [
              0.2222222222222222,
              "#7201a8"
             ],
             [
              0.3333333333333333,
              "#9c179e"
             ],
             [
              0.4444444444444444,
              "#bd3786"
             ],
             [
              0.5555555555555556,
              "#d8576b"
             ],
             [
              0.6666666666666666,
              "#ed7953"
             ],
             [
              0.7777777777777778,
              "#fb9f3a"
             ],
             [
              0.8888888888888888,
              "#fdca26"
             ],
             [
              1,
              "#f0f921"
             ]
            ],
            "type": "histogram2dcontour"
           }
          ],
          "mesh3d": [
           {
            "colorbar": {
             "outlinewidth": 0,
             "ticks": ""
            },
            "type": "mesh3d"
           }
          ],
          "parcoords": [
           {
            "line": {
             "colorbar": {
              "outlinewidth": 0,
              "ticks": ""
             }
            },
            "type": "parcoords"
           }
          ],
          "pie": [
           {
            "automargin": true,
            "type": "pie"
           }
          ],
          "scatter": [
           {
            "fillpattern": {
             "fillmode": "overlay",
             "size": 10,
             "solidity": 0.2
            },
            "type": "scatter"
           }
          ],
          "scatter3d": [
           {
            "line": {
             "colorbar": {
              "outlinewidth": 0,
              "ticks": ""
             }
            },
            "marker": {
             "colorbar": {
              "outlinewidth": 0,
              "ticks": ""
             }
            },
            "type": "scatter3d"
           }
          ],
          "scattercarpet": [
           {
            "marker": {
             "colorbar": {
              "outlinewidth": 0,
              "ticks": ""
             }
            },
            "type": "scattercarpet"
           }
          ],
          "scattergeo": [
           {
            "marker": {
             "colorbar": {
              "outlinewidth": 0,
              "ticks": ""
             }
            },
            "type": "scattergeo"
           }
          ],
          "scattergl": [
           {
            "marker": {
             "colorbar": {
              "outlinewidth": 0,
              "ticks": ""
             }
            },
            "type": "scattergl"
           }
          ],
          "scattermap": [
           {
            "marker": {
             "colorbar": {
              "outlinewidth": 0,
              "ticks": ""
             }
            },
            "type": "scattermap"
           }
          ],
          "scattermapbox": [
           {
            "marker": {
             "colorbar": {
              "outlinewidth": 0,
              "ticks": ""
             }
            },
            "type": "scattermapbox"
           }
          ],
          "scatterpolar": [
           {
            "marker": {
             "colorbar": {
              "outlinewidth": 0,
              "ticks": ""
             }
            },
            "type": "scatterpolar"
           }
          ],
          "scatterpolargl": [
           {
            "marker": {
             "colorbar": {
              "outlinewidth": 0,
              "ticks": ""
             }
            },
            "type": "scatterpolargl"
           }
          ],
          "scatterternary": [
           {
            "marker": {
             "colorbar": {
              "outlinewidth": 0,
              "ticks": ""
             }
            },
            "type": "scatterternary"
           }
          ],
          "surface": [
           {
            "colorbar": {
             "outlinewidth": 0,
             "ticks": ""
            },
            "colorscale": [
             [
              0,
              "#0d0887"
             ],
             [
              0.1111111111111111,
              "#46039f"
             ],
             [
              0.2222222222222222,
              "#7201a8"
             ],
             [
              0.3333333333333333,
              "#9c179e"
             ],
             [
              0.4444444444444444,
              "#bd3786"
             ],
             [
              0.5555555555555556,
              "#d8576b"
             ],
             [
              0.6666666666666666,
              "#ed7953"
             ],
             [
              0.7777777777777778,
              "#fb9f3a"
             ],
             [
              0.8888888888888888,
              "#fdca26"
             ],
             [
              1,
              "#f0f921"
             ]
            ],
            "type": "surface"
           }
          ],
          "table": [
           {
            "cells": {
             "fill": {
              "color": "#EBF0F8"
             },
             "line": {
              "color": "white"
             }
            },
            "header": {
             "fill": {
              "color": "#C8D4E3"
             },
             "line": {
              "color": "white"
             }
            },
            "type": "table"
           }
          ]
         },
         "layout": {
          "annotationdefaults": {
           "arrowcolor": "#2a3f5f",
           "arrowhead": 0,
           "arrowwidth": 1
          },
          "autotypenumbers": "strict",
          "coloraxis": {
           "colorbar": {
            "outlinewidth": 0,
            "ticks": ""
           }
          },
          "colorscale": {
           "diverging": [
            [
             0,
             "#8e0152"
            ],
            [
             0.1,
             "#c51b7d"
            ],
            [
             0.2,
             "#de77ae"
            ],
            [
             0.3,
             "#f1b6da"
            ],
            [
             0.4,
             "#fde0ef"
            ],
            [
             0.5,
             "#f7f7f7"
            ],
            [
             0.6,
             "#e6f5d0"
            ],
            [
             0.7,
             "#b8e186"
            ],
            [
             0.8,
             "#7fbc41"
            ],
            [
             0.9,
             "#4d9221"
            ],
            [
             1,
             "#276419"
            ]
           ],
           "sequential": [
            [
             0,
             "#0d0887"
            ],
            [
             0.1111111111111111,
             "#46039f"
            ],
            [
             0.2222222222222222,
             "#7201a8"
            ],
            [
             0.3333333333333333,
             "#9c179e"
            ],
            [
             0.4444444444444444,
             "#bd3786"
            ],
            [
             0.5555555555555556,
             "#d8576b"
            ],
            [
             0.6666666666666666,
             "#ed7953"
            ],
            [
             0.7777777777777778,
             "#fb9f3a"
            ],
            [
             0.8888888888888888,
             "#fdca26"
            ],
            [
             1,
             "#f0f921"
            ]
           ],
           "sequentialminus": [
            [
             0,
             "#0d0887"
            ],
            [
             0.1111111111111111,
             "#46039f"
            ],
            [
             0.2222222222222222,
             "#7201a8"
            ],
            [
             0.3333333333333333,
             "#9c179e"
            ],
            [
             0.4444444444444444,
             "#bd3786"
            ],
            [
             0.5555555555555556,
             "#d8576b"
            ],
            [
             0.6666666666666666,
             "#ed7953"
            ],
            [
             0.7777777777777778,
             "#fb9f3a"
            ],
            [
             0.8888888888888888,
             "#fdca26"
            ],
            [
             1,
             "#f0f921"
            ]
           ]
          },
          "colorway": [
           "#636efa",
           "#EF553B",
           "#00cc96",
           "#ab63fa",
           "#FFA15A",
           "#19d3f3",
           "#FF6692",
           "#B6E880",
           "#FF97FF",
           "#FECB52"
          ],
          "font": {
           "color": "#2a3f5f"
          },
          "geo": {
           "bgcolor": "white",
           "lakecolor": "white",
           "landcolor": "#E5ECF6",
           "showlakes": true,
           "showland": true,
           "subunitcolor": "white"
          },
          "hoverlabel": {
           "align": "left"
          },
          "hovermode": "closest",
          "mapbox": {
           "style": "light"
          },
          "paper_bgcolor": "white",
          "plot_bgcolor": "#E5ECF6",
          "polar": {
           "angularaxis": {
            "gridcolor": "white",
            "linecolor": "white",
            "ticks": ""
           },
           "bgcolor": "#E5ECF6",
           "radialaxis": {
            "gridcolor": "white",
            "linecolor": "white",
            "ticks": ""
           }
          },
          "scene": {
           "xaxis": {
            "backgroundcolor": "#E5ECF6",
            "gridcolor": "white",
            "gridwidth": 2,
            "linecolor": "white",
            "showbackground": true,
            "ticks": "",
            "zerolinecolor": "white"
           },
           "yaxis": {
            "backgroundcolor": "#E5ECF6",
            "gridcolor": "white",
            "gridwidth": 2,
            "linecolor": "white",
            "showbackground": true,
            "ticks": "",
            "zerolinecolor": "white"
           },
           "zaxis": {
            "backgroundcolor": "#E5ECF6",
            "gridcolor": "white",
            "gridwidth": 2,
            "linecolor": "white",
            "showbackground": true,
            "ticks": "",
            "zerolinecolor": "white"
           }
          },
          "shapedefaults": {
           "line": {
            "color": "#2a3f5f"
           }
          },
          "ternary": {
           "aaxis": {
            "gridcolor": "white",
            "linecolor": "white",
            "ticks": ""
           },
           "baxis": {
            "gridcolor": "white",
            "linecolor": "white",
            "ticks": ""
           },
           "bgcolor": "#E5ECF6",
           "caxis": {
            "gridcolor": "white",
            "linecolor": "white",
            "ticks": ""
           }
          },
          "title": {
           "x": 0.05
          },
          "xaxis": {
           "automargin": true,
           "gridcolor": "white",
           "linecolor": "white",
           "ticks": "",
           "title": {
            "standoff": 15
           },
           "zerolinecolor": "white",
           "zerolinewidth": 2
          },
          "yaxis": {
           "automargin": true,
           "gridcolor": "white",
           "linecolor": "white",
           "ticks": "",
           "title": {
            "standoff": 15
           },
           "zerolinecolor": "white",
           "zerolinewidth": 2
          }
         }
        },
        "title": {
         "text": "Top 20 Companies by Number of Operating Plants (Owner)"
        },
        "xaxis": {
         "anchor": "y",
         "domain": [
          0,
          1
         ],
         "title": {
          "text": "Number of Plants"
         }
        },
        "yaxis": {
         "anchor": "x",
         "categoryorder": "total ascending",
         "domain": [
          0,
          1
         ],
         "title": {
          "text": "Company"
         }
        }
       }
      }
     },
     "metadata": {},
     "output_type": "display_data"
    },
    {
     "name": "stdout",
     "output_type": "stream",
     "text": [
      "\n",
      "Top 5 companies account for 43 plants (5.0% of total)\n"
     ]
    }
   ],
   "source": [
    "plants_by_owner = df['Owner'].value_counts()\n",
    "\n",
    "print(\"Top 20 Companies (Owner) by Number of Operating Steel Plants:\\n\")\n",
    "print(plants_by_owner.head(20))\n",
    "\n",
    "print(\"\\n\" + \"=\"*60 + \"\\n\")\n",
    "print(\"Company Statistics (by Owner):\")\n",
    "print(f\"  Total unique companies: {len(plants_by_owner)}\")\n",
    "print(f\"  Mean plants per company: {plants_by_owner.mean():.2f}\")\n",
    "print(f\"  Median plants per company: {plants_by_owner.median():.1f}\")\n",
    "print(f\"  Companies with only 1 plant: {(plants_by_owner == 1).sum()} ({(plants_by_owner == 1).sum()/len(plants_by_owner)*100:.1f}%)\")\n",
    "print(f\"  Companies with 5+ plants: {(plants_by_owner >= 5).sum()}\")\n",
    "\n",
    "top_20_companies = plants_by_owner.head(20)\n",
    "fig = px.bar(\n",
    "    x=top_20_companies.values,\n",
    "    y=top_20_companies.index,\n",
    "    orientation='h',\n",
    "    title='Top 20 Companies by Number of Operating Plants (Owner)',\n",
    "    labels={'x': 'Number of Plants', 'y': 'Company'},\n",
    "    color=top_20_companies.values,\n",
    "    color_continuous_scale='Greens'\n",
    ")\n",
    "fig.update_layout(yaxis={'categoryorder': 'total ascending'}, showlegend=False, height=600)\n",
    "fig.show()\n",
    "\n",
    "print(f\"\\nTop 5 companies account for {plants_by_owner.head(5).sum()} plants ({plants_by_owner.head(5).sum()/len(df)*100:.1f}% of total)\")"
   ]
  },
  {
   "cell_type": "markdown",
   "metadata": {},
   "source": [
    "### Question 4: Capacity Analysis\n",
    "**Task:** Analyze the capacity distribution.\n",
    "- What is the total global steel production capacity?\n",
    "- Which companies have the highest total capacity?\n",
    "- How does capacity vary by region?\n"
   ]
  },
  {
   "cell_type": "code",
   "execution_count": 39,
   "metadata": {},
   "outputs": [
    {
     "name": "stdout",
     "output_type": "stream",
     "text": [
      "Global Steel Production Capacity:\n",
      "\n",
      "  Total capacity: 2,004,617 ttpa\n",
      "  Plants with capacity data: 815 out of 868\n",
      "  Average capacity per plant: 2,460 ttpa\n",
      "\n",
      "Capacity by Region:\n",
      "\n",
      "                         Total Capacity (ttpa)  Number of Plants  \\\n",
      "Region                                                             \n",
      "Asia Pacific                         1382183.0               464   \n",
      "Europe                                208118.0               132   \n",
      "North America                         148741.0                88   \n",
      "Eurasia                                92565.0                29   \n",
      "Middle East                            74973.0                43   \n",
      "Central & South America                55713.0                31   \n",
      "Africa                                 42324.0                28   \n",
      "\n",
      "                         Average Capacity (ttpa)  \n",
      "Region                                            \n",
      "Asia Pacific                              2979.0  \n",
      "Europe                                    1577.0  \n",
      "North America                             1690.0  \n",
      "Eurasia                                   3192.0  \n",
      "Middle East                               1744.0  \n",
      "Central & South America                   1797.0  \n",
      "Africa                                    1512.0  \n"
     ]
    },
    {
     "data": {
      "application/vnd.plotly.v1+json": {
       "config": {
        "plotlyServerURL": "https://plot.ly"
       },
       "data": [
        {
         "hovertemplate": "Total Capacity (ttpa)=%{marker.color}<br>Region=%{y}<extra></extra>",
         "legendgroup": "",
         "marker": {
          "color": {
           "bdata": "AAAAACcXNUEAAAAAsGcJQQAAAAAoKAJBAAAAAFCZ9kAAAAAA0E3yQAAAAAAgNOtAAAAAAICq5EA=",
           "dtype": "f8"
          },
          "coloraxis": "coloraxis",
          "pattern": {
           "shape": ""
          }
         },
         "name": "",
         "orientation": "h",
         "showlegend": false,
         "text": {
          "bdata": "AAAAACcXNUEAAAAAsGcJQQAAAAAoKAJBAAAAAFCZ9kAAAAAA0E3yQAAAAAAgNOtAAAAAAICq5EA=",
          "dtype": "f8"
         },
         "textposition": "outside",
         "texttemplate": "%{text:,.0f}",
         "type": "bar",
         "x": {
          "bdata": "AAAAACcXNUEAAAAAsGcJQQAAAAAoKAJBAAAAAFCZ9kAAAAAA0E3yQAAAAAAgNOtAAAAAAICq5EA=",
          "dtype": "f8"
         },
         "xaxis": "x",
         "y": [
          "Asia Pacific",
          "Europe",
          "North America",
          "Eurasia",
          "Middle East",
          "Central & South America",
          "Africa"
         ],
         "yaxis": "y"
        }
       ],
       "layout": {
        "barmode": "relative",
        "coloraxis": {
         "colorbar": {
          "title": {
           "text": "Total Capacity (ttpa)"
          }
         },
         "colorscale": [
          [
           0,
           "rgb(255,245,240)"
          ],
          [
           0.125,
           "rgb(254,224,210)"
          ],
          [
           0.25,
           "rgb(252,187,161)"
          ],
          [
           0.375,
           "rgb(252,146,114)"
          ],
          [
           0.5,
           "rgb(251,106,74)"
          ],
          [
           0.625,
           "rgb(239,59,44)"
          ],
          [
           0.75,
           "rgb(203,24,29)"
          ],
          [
           0.875,
           "rgb(165,15,21)"
          ],
          [
           1,
           "rgb(103,0,13)"
          ]
         ]
        },
        "height": 400,
        "legend": {
         "tracegroupgap": 0
        },
        "showlegend": false,
        "template": {
         "data": {
          "bar": [
           {
            "error_x": {
             "color": "#2a3f5f"
            },
            "error_y": {
             "color": "#2a3f5f"
            },
            "marker": {
             "line": {
              "color": "#E5ECF6",
              "width": 0.5
             },
             "pattern": {
              "fillmode": "overlay",
              "size": 10,
              "solidity": 0.2
             }
            },
            "type": "bar"
           }
          ],
          "barpolar": [
           {
            "marker": {
             "line": {
              "color": "#E5ECF6",
              "width": 0.5
             },
             "pattern": {
              "fillmode": "overlay",
              "size": 10,
              "solidity": 0.2
             }
            },
            "type": "barpolar"
           }
          ],
          "carpet": [
           {
            "aaxis": {
             "endlinecolor": "#2a3f5f",
             "gridcolor": "white",
             "linecolor": "white",
             "minorgridcolor": "white",
             "startlinecolor": "#2a3f5f"
            },
            "baxis": {
             "endlinecolor": "#2a3f5f",
             "gridcolor": "white",
             "linecolor": "white",
             "minorgridcolor": "white",
             "startlinecolor": "#2a3f5f"
            },
            "type": "carpet"
           }
          ],
          "choropleth": [
           {
            "colorbar": {
             "outlinewidth": 0,
             "ticks": ""
            },
            "type": "choropleth"
           }
          ],
          "contour": [
           {
            "colorbar": {
             "outlinewidth": 0,
             "ticks": ""
            },
            "colorscale": [
             [
              0,
              "#0d0887"
             ],
             [
              0.1111111111111111,
              "#46039f"
             ],
             [
              0.2222222222222222,
              "#7201a8"
             ],
             [
              0.3333333333333333,
              "#9c179e"
             ],
             [
              0.4444444444444444,
              "#bd3786"
             ],
             [
              0.5555555555555556,
              "#d8576b"
             ],
             [
              0.6666666666666666,
              "#ed7953"
             ],
             [
              0.7777777777777778,
              "#fb9f3a"
             ],
             [
              0.8888888888888888,
              "#fdca26"
             ],
             [
              1,
              "#f0f921"
             ]
            ],
            "type": "contour"
           }
          ],
          "contourcarpet": [
           {
            "colorbar": {
             "outlinewidth": 0,
             "ticks": ""
            },
            "type": "contourcarpet"
           }
          ],
          "heatmap": [
           {
            "colorbar": {
             "outlinewidth": 0,
             "ticks": ""
            },
            "colorscale": [
             [
              0,
              "#0d0887"
             ],
             [
              0.1111111111111111,
              "#46039f"
             ],
             [
              0.2222222222222222,
              "#7201a8"
             ],
             [
              0.3333333333333333,
              "#9c179e"
             ],
             [
              0.4444444444444444,
              "#bd3786"
             ],
             [
              0.5555555555555556,
              "#d8576b"
             ],
             [
              0.6666666666666666,
              "#ed7953"
             ],
             [
              0.7777777777777778,
              "#fb9f3a"
             ],
             [
              0.8888888888888888,
              "#fdca26"
             ],
             [
              1,
              "#f0f921"
             ]
            ],
            "type": "heatmap"
           }
          ],
          "histogram": [
           {
            "marker": {
             "pattern": {
              "fillmode": "overlay",
              "size": 10,
              "solidity": 0.2
             }
            },
            "type": "histogram"
           }
          ],
          "histogram2d": [
           {
            "colorbar": {
             "outlinewidth": 0,
             "ticks": ""
            },
            "colorscale": [
             [
              0,
              "#0d0887"
             ],
             [
              0.1111111111111111,
              "#46039f"
             ],
             [
              0.2222222222222222,
              "#7201a8"
             ],
             [
              0.3333333333333333,
              "#9c179e"
             ],
             [
              0.4444444444444444,
              "#bd3786"
             ],
             [
              0.5555555555555556,
              "#d8576b"
             ],
             [
              0.6666666666666666,
              "#ed7953"
             ],
             [
              0.7777777777777778,
              "#fb9f3a"
             ],
             [
              0.8888888888888888,
              "#fdca26"
             ],
             [
              1,
              "#f0f921"
             ]
            ],
            "type": "histogram2d"
           }
          ],
          "histogram2dcontour": [
           {
            "colorbar": {
             "outlinewidth": 0,
             "ticks": ""
            },
            "colorscale": [
             [
              0,
              "#0d0887"
             ],
             [
              0.1111111111111111,
              "#46039f"
             ],
             [
              0.2222222222222222,
              "#7201a8"
             ],
             [
              0.3333333333333333,
              "#9c179e"
             ],
             [
              0.4444444444444444,
              "#bd3786"
             ],
             [
              0.5555555555555556,
              "#d8576b"
             ],
             [
              0.6666666666666666,
              "#ed7953"
             ],
             [
              0.7777777777777778,
              "#fb9f3a"
             ],
             [
              0.8888888888888888,
              "#fdca26"
             ],
             [
              1,
              "#f0f921"
             ]
            ],
            "type": "histogram2dcontour"
           }
          ],
          "mesh3d": [
           {
            "colorbar": {
             "outlinewidth": 0,
             "ticks": ""
            },
            "type": "mesh3d"
           }
          ],
          "parcoords": [
           {
            "line": {
             "colorbar": {
              "outlinewidth": 0,
              "ticks": ""
             }
            },
            "type": "parcoords"
           }
          ],
          "pie": [
           {
            "automargin": true,
            "type": "pie"
           }
          ],
          "scatter": [
           {
            "fillpattern": {
             "fillmode": "overlay",
             "size": 10,
             "solidity": 0.2
            },
            "type": "scatter"
           }
          ],
          "scatter3d": [
           {
            "line": {
             "colorbar": {
              "outlinewidth": 0,
              "ticks": ""
             }
            },
            "marker": {
             "colorbar": {
              "outlinewidth": 0,
              "ticks": ""
             }
            },
            "type": "scatter3d"
           }
          ],
          "scattercarpet": [
           {
            "marker": {
             "colorbar": {
              "outlinewidth": 0,
              "ticks": ""
             }
            },
            "type": "scattercarpet"
           }
          ],
          "scattergeo": [
           {
            "marker": {
             "colorbar": {
              "outlinewidth": 0,
              "ticks": ""
             }
            },
            "type": "scattergeo"
           }
          ],
          "scattergl": [
           {
            "marker": {
             "colorbar": {
              "outlinewidth": 0,
              "ticks": ""
             }
            },
            "type": "scattergl"
           }
          ],
          "scattermap": [
           {
            "marker": {
             "colorbar": {
              "outlinewidth": 0,
              "ticks": ""
             }
            },
            "type": "scattermap"
           }
          ],
          "scattermapbox": [
           {
            "marker": {
             "colorbar": {
              "outlinewidth": 0,
              "ticks": ""
             }
            },
            "type": "scattermapbox"
           }
          ],
          "scatterpolar": [
           {
            "marker": {
             "colorbar": {
              "outlinewidth": 0,
              "ticks": ""
             }
            },
            "type": "scatterpolar"
           }
          ],
          "scatterpolargl": [
           {
            "marker": {
             "colorbar": {
              "outlinewidth": 0,
              "ticks": ""
             }
            },
            "type": "scatterpolargl"
           }
          ],
          "scatterternary": [
           {
            "marker": {
             "colorbar": {
              "outlinewidth": 0,
              "ticks": ""
             }
            },
            "type": "scatterternary"
           }
          ],
          "surface": [
           {
            "colorbar": {
             "outlinewidth": 0,
             "ticks": ""
            },
            "colorscale": [
             [
              0,
              "#0d0887"
             ],
             [
              0.1111111111111111,
              "#46039f"
             ],
             [
              0.2222222222222222,
              "#7201a8"
             ],
             [
              0.3333333333333333,
              "#9c179e"
             ],
             [
              0.4444444444444444,
              "#bd3786"
             ],
             [
              0.5555555555555556,
              "#d8576b"
             ],
             [
              0.6666666666666666,
              "#ed7953"
             ],
             [
              0.7777777777777778,
              "#fb9f3a"
             ],
             [
              0.8888888888888888,
              "#fdca26"
             ],
             [
              1,
              "#f0f921"
             ]
            ],
            "type": "surface"
           }
          ],
          "table": [
           {
            "cells": {
             "fill": {
              "color": "#EBF0F8"
             },
             "line": {
              "color": "white"
             }
            },
            "header": {
             "fill": {
              "color": "#C8D4E3"
             },
             "line": {
              "color": "white"
             }
            },
            "type": "table"
           }
          ]
         },
         "layout": {
          "annotationdefaults": {
           "arrowcolor": "#2a3f5f",
           "arrowhead": 0,
           "arrowwidth": 1
          },
          "autotypenumbers": "strict",
          "coloraxis": {
           "colorbar": {
            "outlinewidth": 0,
            "ticks": ""
           }
          },
          "colorscale": {
           "diverging": [
            [
             0,
             "#8e0152"
            ],
            [
             0.1,
             "#c51b7d"
            ],
            [
             0.2,
             "#de77ae"
            ],
            [
             0.3,
             "#f1b6da"
            ],
            [
             0.4,
             "#fde0ef"
            ],
            [
             0.5,
             "#f7f7f7"
            ],
            [
             0.6,
             "#e6f5d0"
            ],
            [
             0.7,
             "#b8e186"
            ],
            [
             0.8,
             "#7fbc41"
            ],
            [
             0.9,
             "#4d9221"
            ],
            [
             1,
             "#276419"
            ]
           ],
           "sequential": [
            [
             0,
             "#0d0887"
            ],
            [
             0.1111111111111111,
             "#46039f"
            ],
            [
             0.2222222222222222,
             "#7201a8"
            ],
            [
             0.3333333333333333,
             "#9c179e"
            ],
            [
             0.4444444444444444,
             "#bd3786"
            ],
            [
             0.5555555555555556,
             "#d8576b"
            ],
            [
             0.6666666666666666,
             "#ed7953"
            ],
            [
             0.7777777777777778,
             "#fb9f3a"
            ],
            [
             0.8888888888888888,
             "#fdca26"
            ],
            [
             1,
             "#f0f921"
            ]
           ],
           "sequentialminus": [
            [
             0,
             "#0d0887"
            ],
            [
             0.1111111111111111,
             "#46039f"
            ],
            [
             0.2222222222222222,
             "#7201a8"
            ],
            [
             0.3333333333333333,
             "#9c179e"
            ],
            [
             0.4444444444444444,
             "#bd3786"
            ],
            [
             0.5555555555555556,
             "#d8576b"
            ],
            [
             0.6666666666666666,
             "#ed7953"
            ],
            [
             0.7777777777777778,
             "#fb9f3a"
            ],
            [
             0.8888888888888888,
             "#fdca26"
            ],
            [
             1,
             "#f0f921"
            ]
           ]
          },
          "colorway": [
           "#636efa",
           "#EF553B",
           "#00cc96",
           "#ab63fa",
           "#FFA15A",
           "#19d3f3",
           "#FF6692",
           "#B6E880",
           "#FF97FF",
           "#FECB52"
          ],
          "font": {
           "color": "#2a3f5f"
          },
          "geo": {
           "bgcolor": "white",
           "lakecolor": "white",
           "landcolor": "#E5ECF6",
           "showlakes": true,
           "showland": true,
           "subunitcolor": "white"
          },
          "hoverlabel": {
           "align": "left"
          },
          "hovermode": "closest",
          "mapbox": {
           "style": "light"
          },
          "paper_bgcolor": "white",
          "plot_bgcolor": "#E5ECF6",
          "polar": {
           "angularaxis": {
            "gridcolor": "white",
            "linecolor": "white",
            "ticks": ""
           },
           "bgcolor": "#E5ECF6",
           "radialaxis": {
            "gridcolor": "white",
            "linecolor": "white",
            "ticks": ""
           }
          },
          "scene": {
           "xaxis": {
            "backgroundcolor": "#E5ECF6",
            "gridcolor": "white",
            "gridwidth": 2,
            "linecolor": "white",
            "showbackground": true,
            "ticks": "",
            "zerolinecolor": "white"
           },
           "yaxis": {
            "backgroundcolor": "#E5ECF6",
            "gridcolor": "white",
            "gridwidth": 2,
            "linecolor": "white",
            "showbackground": true,
            "ticks": "",
            "zerolinecolor": "white"
           },
           "zaxis": {
            "backgroundcolor": "#E5ECF6",
            "gridcolor": "white",
            "gridwidth": 2,
            "linecolor": "white",
            "showbackground": true,
            "ticks": "",
            "zerolinecolor": "white"
           }
          },
          "shapedefaults": {
           "line": {
            "color": "#2a3f5f"
           }
          },
          "ternary": {
           "aaxis": {
            "gridcolor": "white",
            "linecolor": "white",
            "ticks": ""
           },
           "baxis": {
            "gridcolor": "white",
            "linecolor": "white",
            "ticks": ""
           },
           "bgcolor": "#E5ECF6",
           "caxis": {
            "gridcolor": "white",
            "linecolor": "white",
            "ticks": ""
           }
          },
          "title": {
           "x": 0.05
          },
          "xaxis": {
           "automargin": true,
           "gridcolor": "white",
           "linecolor": "white",
           "ticks": "",
           "title": {
            "standoff": 15
           },
           "zerolinecolor": "white",
           "zerolinewidth": 2
          },
          "yaxis": {
           "automargin": true,
           "gridcolor": "white",
           "linecolor": "white",
           "ticks": "",
           "title": {
            "standoff": 15
           },
           "zerolinecolor": "white",
           "zerolinewidth": 2
          }
         }
        },
        "title": {
         "text": "Total Steel Production Capacity by Region"
        },
        "xaxis": {
         "anchor": "y",
         "domain": [
          0,
          1
         ],
         "title": {
          "text": "Total Capacity (ttpa)"
         }
        },
        "yaxis": {
         "anchor": "x",
         "categoryorder": "total ascending",
         "domain": [
          0,
          1
         ],
         "title": {
          "text": "Region"
         }
        }
       }
      }
     },
     "metadata": {},
     "output_type": "display_data"
    },
    {
     "data": {
      "application/vnd.plotly.v1+json": {
       "config": {
        "plotlyServerURL": "https://plot.ly"
       },
       "data": [
        {
         "domain": {
          "x": [
           0,
           1
          ],
          "y": [
           0,
           1
          ]
         },
         "hole": 0.3,
         "hovertemplate": "Region=%{label}<br>Total Capacity (ttpa)=%{value}<extra></extra>",
         "labels": [
          "Asia Pacific",
          "Europe",
          "North America",
          "Eurasia",
          "Middle East",
          "Central & South America",
          "Africa"
         ],
         "legendgroup": "",
         "name": "",
         "showlegend": true,
         "textinfo": "percent+label",
         "textposition": "inside",
         "type": "pie",
         "values": {
          "bdata": "AAAAACcXNUEAAAAAsGcJQQAAAAAoKAJBAAAAAFCZ9kAAAAAA0E3yQAAAAAAgNOtAAAAAAICq5EA=",
          "dtype": "f8"
         }
        }
       ],
       "layout": {
        "height": 500,
        "legend": {
         "tracegroupgap": 0
        },
        "template": {
         "data": {
          "bar": [
           {
            "error_x": {
             "color": "#2a3f5f"
            },
            "error_y": {
             "color": "#2a3f5f"
            },
            "marker": {
             "line": {
              "color": "#E5ECF6",
              "width": 0.5
             },
             "pattern": {
              "fillmode": "overlay",
              "size": 10,
              "solidity": 0.2
             }
            },
            "type": "bar"
           }
          ],
          "barpolar": [
           {
            "marker": {
             "line": {
              "color": "#E5ECF6",
              "width": 0.5
             },
             "pattern": {
              "fillmode": "overlay",
              "size": 10,
              "solidity": 0.2
             }
            },
            "type": "barpolar"
           }
          ],
          "carpet": [
           {
            "aaxis": {
             "endlinecolor": "#2a3f5f",
             "gridcolor": "white",
             "linecolor": "white",
             "minorgridcolor": "white",
             "startlinecolor": "#2a3f5f"
            },
            "baxis": {
             "endlinecolor": "#2a3f5f",
             "gridcolor": "white",
             "linecolor": "white",
             "minorgridcolor": "white",
             "startlinecolor": "#2a3f5f"
            },
            "type": "carpet"
           }
          ],
          "choropleth": [
           {
            "colorbar": {
             "outlinewidth": 0,
             "ticks": ""
            },
            "type": "choropleth"
           }
          ],
          "contour": [
           {
            "colorbar": {
             "outlinewidth": 0,
             "ticks": ""
            },
            "colorscale": [
             [
              0,
              "#0d0887"
             ],
             [
              0.1111111111111111,
              "#46039f"
             ],
             [
              0.2222222222222222,
              "#7201a8"
             ],
             [
              0.3333333333333333,
              "#9c179e"
             ],
             [
              0.4444444444444444,
              "#bd3786"
             ],
             [
              0.5555555555555556,
              "#d8576b"
             ],
             [
              0.6666666666666666,
              "#ed7953"
             ],
             [
              0.7777777777777778,
              "#fb9f3a"
             ],
             [
              0.8888888888888888,
              "#fdca26"
             ],
             [
              1,
              "#f0f921"
             ]
            ],
            "type": "contour"
           }
          ],
          "contourcarpet": [
           {
            "colorbar": {
             "outlinewidth": 0,
             "ticks": ""
            },
            "type": "contourcarpet"
           }
          ],
          "heatmap": [
           {
            "colorbar": {
             "outlinewidth": 0,
             "ticks": ""
            },
            "colorscale": [
             [
              0,
              "#0d0887"
             ],
             [
              0.1111111111111111,
              "#46039f"
             ],
             [
              0.2222222222222222,
              "#7201a8"
             ],
             [
              0.3333333333333333,
              "#9c179e"
             ],
             [
              0.4444444444444444,
              "#bd3786"
             ],
             [
              0.5555555555555556,
              "#d8576b"
             ],
             [
              0.6666666666666666,
              "#ed7953"
             ],
             [
              0.7777777777777778,
              "#fb9f3a"
             ],
             [
              0.8888888888888888,
              "#fdca26"
             ],
             [
              1,
              "#f0f921"
             ]
            ],
            "type": "heatmap"
           }
          ],
          "histogram": [
           {
            "marker": {
             "pattern": {
              "fillmode": "overlay",
              "size": 10,
              "solidity": 0.2
             }
            },
            "type": "histogram"
           }
          ],
          "histogram2d": [
           {
            "colorbar": {
             "outlinewidth": 0,
             "ticks": ""
            },
            "colorscale": [
             [
              0,
              "#0d0887"
             ],
             [
              0.1111111111111111,
              "#46039f"
             ],
             [
              0.2222222222222222,
              "#7201a8"
             ],
             [
              0.3333333333333333,
              "#9c179e"
             ],
             [
              0.4444444444444444,
              "#bd3786"
             ],
             [
              0.5555555555555556,
              "#d8576b"
             ],
             [
              0.6666666666666666,
              "#ed7953"
             ],
             [
              0.7777777777777778,
              "#fb9f3a"
             ],
             [
              0.8888888888888888,
              "#fdca26"
             ],
             [
              1,
              "#f0f921"
             ]
            ],
            "type": "histogram2d"
           }
          ],
          "histogram2dcontour": [
           {
            "colorbar": {
             "outlinewidth": 0,
             "ticks": ""
            },
            "colorscale": [
             [
              0,
              "#0d0887"
             ],
             [
              0.1111111111111111,
              "#46039f"
             ],
             [
              0.2222222222222222,
              "#7201a8"
             ],
             [
              0.3333333333333333,
              "#9c179e"
             ],
             [
              0.4444444444444444,
              "#bd3786"
             ],
             [
              0.5555555555555556,
              "#d8576b"
             ],
             [
              0.6666666666666666,
              "#ed7953"
             ],
             [
              0.7777777777777778,
              "#fb9f3a"
             ],
             [
              0.8888888888888888,
              "#fdca26"
             ],
             [
              1,
              "#f0f921"
             ]
            ],
            "type": "histogram2dcontour"
           }
          ],
          "mesh3d": [
           {
            "colorbar": {
             "outlinewidth": 0,
             "ticks": ""
            },
            "type": "mesh3d"
           }
          ],
          "parcoords": [
           {
            "line": {
             "colorbar": {
              "outlinewidth": 0,
              "ticks": ""
             }
            },
            "type": "parcoords"
           }
          ],
          "pie": [
           {
            "automargin": true,
            "type": "pie"
           }
          ],
          "scatter": [
           {
            "fillpattern": {
             "fillmode": "overlay",
             "size": 10,
             "solidity": 0.2
            },
            "type": "scatter"
           }
          ],
          "scatter3d": [
           {
            "line": {
             "colorbar": {
              "outlinewidth": 0,
              "ticks": ""
             }
            },
            "marker": {
             "colorbar": {
              "outlinewidth": 0,
              "ticks": ""
             }
            },
            "type": "scatter3d"
           }
          ],
          "scattercarpet": [
           {
            "marker": {
             "colorbar": {
              "outlinewidth": 0,
              "ticks": ""
             }
            },
            "type": "scattercarpet"
           }
          ],
          "scattergeo": [
           {
            "marker": {
             "colorbar": {
              "outlinewidth": 0,
              "ticks": ""
             }
            },
            "type": "scattergeo"
           }
          ],
          "scattergl": [
           {
            "marker": {
             "colorbar": {
              "outlinewidth": 0,
              "ticks": ""
             }
            },
            "type": "scattergl"
           }
          ],
          "scattermap": [
           {
            "marker": {
             "colorbar": {
              "outlinewidth": 0,
              "ticks": ""
             }
            },
            "type": "scattermap"
           }
          ],
          "scattermapbox": [
           {
            "marker": {
             "colorbar": {
              "outlinewidth": 0,
              "ticks": ""
             }
            },
            "type": "scattermapbox"
           }
          ],
          "scatterpolar": [
           {
            "marker": {
             "colorbar": {
              "outlinewidth": 0,
              "ticks": ""
             }
            },
            "type": "scatterpolar"
           }
          ],
          "scatterpolargl": [
           {
            "marker": {
             "colorbar": {
              "outlinewidth": 0,
              "ticks": ""
             }
            },
            "type": "scatterpolargl"
           }
          ],
          "scatterternary": [
           {
            "marker": {
             "colorbar": {
              "outlinewidth": 0,
              "ticks": ""
             }
            },
            "type": "scatterternary"
           }
          ],
          "surface": [
           {
            "colorbar": {
             "outlinewidth": 0,
             "ticks": ""
            },
            "colorscale": [
             [
              0,
              "#0d0887"
             ],
             [
              0.1111111111111111,
              "#46039f"
             ],
             [
              0.2222222222222222,
              "#7201a8"
             ],
             [
              0.3333333333333333,
              "#9c179e"
             ],
             [
              0.4444444444444444,
              "#bd3786"
             ],
             [
              0.5555555555555556,
              "#d8576b"
             ],
             [
              0.6666666666666666,
              "#ed7953"
             ],
             [
              0.7777777777777778,
              "#fb9f3a"
             ],
             [
              0.8888888888888888,
              "#fdca26"
             ],
             [
              1,
              "#f0f921"
             ]
            ],
            "type": "surface"
           }
          ],
          "table": [
           {
            "cells": {
             "fill": {
              "color": "#EBF0F8"
             },
             "line": {
              "color": "white"
             }
            },
            "header": {
             "fill": {
              "color": "#C8D4E3"
             },
             "line": {
              "color": "white"
             }
            },
            "type": "table"
           }
          ]
         },
         "layout": {
          "annotationdefaults": {
           "arrowcolor": "#2a3f5f",
           "arrowhead": 0,
           "arrowwidth": 1
          },
          "autotypenumbers": "strict",
          "coloraxis": {
           "colorbar": {
            "outlinewidth": 0,
            "ticks": ""
           }
          },
          "colorscale": {
           "diverging": [
            [
             0,
             "#8e0152"
            ],
            [
             0.1,
             "#c51b7d"
            ],
            [
             0.2,
             "#de77ae"
            ],
            [
             0.3,
             "#f1b6da"
            ],
            [
             0.4,
             "#fde0ef"
            ],
            [
             0.5,
             "#f7f7f7"
            ],
            [
             0.6,
             "#e6f5d0"
            ],
            [
             0.7,
             "#b8e186"
            ],
            [
             0.8,
             "#7fbc41"
            ],
            [
             0.9,
             "#4d9221"
            ],
            [
             1,
             "#276419"
            ]
           ],
           "sequential": [
            [
             0,
             "#0d0887"
            ],
            [
             0.1111111111111111,
             "#46039f"
            ],
            [
             0.2222222222222222,
             "#7201a8"
            ],
            [
             0.3333333333333333,
             "#9c179e"
            ],
            [
             0.4444444444444444,
             "#bd3786"
            ],
            [
             0.5555555555555556,
             "#d8576b"
            ],
            [
             0.6666666666666666,
             "#ed7953"
            ],
            [
             0.7777777777777778,
             "#fb9f3a"
            ],
            [
             0.8888888888888888,
             "#fdca26"
            ],
            [
             1,
             "#f0f921"
            ]
           ],
           "sequentialminus": [
            [
             0,
             "#0d0887"
            ],
            [
             0.1111111111111111,
             "#46039f"
            ],
            [
             0.2222222222222222,
             "#7201a8"
            ],
            [
             0.3333333333333333,
             "#9c179e"
            ],
            [
             0.4444444444444444,
             "#bd3786"
            ],
            [
             0.5555555555555556,
             "#d8576b"
            ],
            [
             0.6666666666666666,
             "#ed7953"
            ],
            [
             0.7777777777777778,
             "#fb9f3a"
            ],
            [
             0.8888888888888888,
             "#fdca26"
            ],
            [
             1,
             "#f0f921"
            ]
           ]
          },
          "colorway": [
           "#636efa",
           "#EF553B",
           "#00cc96",
           "#ab63fa",
           "#FFA15A",
           "#19d3f3",
           "#FF6692",
           "#B6E880",
           "#FF97FF",
           "#FECB52"
          ],
          "font": {
           "color": "#2a3f5f"
          },
          "geo": {
           "bgcolor": "white",
           "lakecolor": "white",
           "landcolor": "#E5ECF6",
           "showlakes": true,
           "showland": true,
           "subunitcolor": "white"
          },
          "hoverlabel": {
           "align": "left"
          },
          "hovermode": "closest",
          "mapbox": {
           "style": "light"
          },
          "paper_bgcolor": "white",
          "plot_bgcolor": "#E5ECF6",
          "polar": {
           "angularaxis": {
            "gridcolor": "white",
            "linecolor": "white",
            "ticks": ""
           },
           "bgcolor": "#E5ECF6",
           "radialaxis": {
            "gridcolor": "white",
            "linecolor": "white",
            "ticks": ""
           }
          },
          "scene": {
           "xaxis": {
            "backgroundcolor": "#E5ECF6",
            "gridcolor": "white",
            "gridwidth": 2,
            "linecolor": "white",
            "showbackground": true,
            "ticks": "",
            "zerolinecolor": "white"
           },
           "yaxis": {
            "backgroundcolor": "#E5ECF6",
            "gridcolor": "white",
            "gridwidth": 2,
            "linecolor": "white",
            "showbackground": true,
            "ticks": "",
            "zerolinecolor": "white"
           },
           "zaxis": {
            "backgroundcolor": "#E5ECF6",
            "gridcolor": "white",
            "gridwidth": 2,
            "linecolor": "white",
            "showbackground": true,
            "ticks": "",
            "zerolinecolor": "white"
           }
          },
          "shapedefaults": {
           "line": {
            "color": "#2a3f5f"
           }
          },
          "ternary": {
           "aaxis": {
            "gridcolor": "white",
            "linecolor": "white",
            "ticks": ""
           },
           "baxis": {
            "gridcolor": "white",
            "linecolor": "white",
            "ticks": ""
           },
           "bgcolor": "#E5ECF6",
           "caxis": {
            "gridcolor": "white",
            "linecolor": "white",
            "ticks": ""
           }
          },
          "title": {
           "x": 0.05
          },
          "xaxis": {
           "automargin": true,
           "gridcolor": "white",
           "linecolor": "white",
           "ticks": "",
           "title": {
            "standoff": 15
           },
           "zerolinecolor": "white",
           "zerolinewidth": 2
          },
          "yaxis": {
           "automargin": true,
           "gridcolor": "white",
           "linecolor": "white",
           "ticks": "",
           "title": {
            "standoff": 15
           },
           "zerolinecolor": "white",
           "zerolinewidth": 2
          }
         }
        },
        "title": {
         "text": "Global Steel Capacity Distribution by Region"
        }
       }
      }
     },
     "metadata": {},
     "output_type": "display_data"
    },
    {
     "name": "stdout",
     "output_type": "stream",
     "text": [
      "\n",
      "Key Insights:\n",
      "  • Asia Pacific has the highest capacity with 1,382,183 ttpa (68.9%)\n",
      "  • Top 3 regions account for 1,739,042 ttpa (86.8%)\n",
      "  • Highest average plant capacity: Eurasia (3,192 ttpa)\n"
     ]
    }
   ],
   "source": [
    "total_capacity = df['Nominal crude steel capacity (ttpa)'].sum()\n",
    "plants_with_capacity = df['Nominal crude steel capacity (ttpa)'].notna().sum()\n",
    "\n",
    "print(\"Global Steel Production Capacity:\\n\")\n",
    "print(f\"  Total capacity: {total_capacity:,.0f} ttpa\")\n",
    "print(f\"  Plants with capacity data: {plants_with_capacity} out of {len(df)}\")\n",
    "print(f\"  Average capacity per plant: {df['Nominal crude steel capacity (ttpa)'].mean():,.0f} ttpa\")\n",
    "\n",
    "capacity_by_region = df.groupby('Region')['Nominal crude steel capacity (ttpa)'].agg(['sum', 'count', 'mean']).round(0)\n",
    "capacity_by_region.columns = ['Total Capacity (ttpa)', 'Number of Plants', 'Average Capacity (ttpa)']\n",
    "capacity_by_region = capacity_by_region.sort_values('Total Capacity (ttpa)', ascending=False)\n",
    "\n",
    "print(\"\\nCapacity by Region:\\n\")\n",
    "print(capacity_by_region)\n",
    "\n",
    "fig1 = px.bar(\n",
    "    capacity_by_region.reset_index(),\n",
    "    x='Total Capacity (ttpa)',\n",
    "    y='Region',\n",
    "    orientation='h',\n",
    "    title='Total Steel Production Capacity by Region',\n",
    "    labels={'Total Capacity (ttpa)': 'Total Capacity (ttpa)', 'Region': 'Region'},\n",
    "    color='Total Capacity (ttpa)',\n",
    "    color_continuous_scale='Reds',\n",
    "    text='Total Capacity (ttpa)'\n",
    ")\n",
    "fig1.update_layout(yaxis={'categoryorder': 'total ascending'}, showlegend=False, height=400)\n",
    "fig1.update_traces(texttemplate='%{text:,.0f}', textposition='outside')\n",
    "fig1.show()\n",
    "\n",
    "fig2 = px.pie(\n",
    "    capacity_by_region.reset_index(),\n",
    "    values='Total Capacity (ttpa)',\n",
    "    names='Region',\n",
    "    title='Global Steel Capacity Distribution by Region',\n",
    "    hole=0.3\n",
    ")\n",
    "fig2.update_traces(textposition='inside', textinfo='percent+label')\n",
    "fig2.update_layout(height=500)\n",
    "fig2.show()\n",
    "\n",
    "print(f\"\\nKey Insights:\")\n",
    "print(f\"  • {capacity_by_region.index[0]} has the highest capacity with {capacity_by_region.iloc[0, 0]:,.0f} ttpa ({capacity_by_region.iloc[0, 0]/total_capacity*100:.1f}%)\")\n",
    "print(f\"  • Top 3 regions account for {capacity_by_region.head(3)['Total Capacity (ttpa)'].sum():,.0f} ttpa ({capacity_by_region.head(3)['Total Capacity (ttpa)'].sum()/total_capacity*100:.1f}%)\")\n",
    "print(f\"  • Highest average plant capacity: {capacity_by_region['Average Capacity (ttpa)'].idxmax()} ({capacity_by_region['Average Capacity (ttpa)'].max():,.0f} ttpa)\")"
   ]
  },
  {
   "cell_type": "code",
   "execution_count": 38,
   "metadata": {},
   "outputs": [
    {
     "name": "stdout",
     "output_type": "stream",
     "text": [
      "Top 20 Companies by Total Steel Production Capacity:\n",
      "\n",
      "                                                Total Capacity (ttpa)  \\\n",
      "Owner                                                                   \n",
      "POSCO Holdings Inc                                            40700.0   \n",
      "Nippon Steel Corp                                             35395.0   \n",
      "Angang Steel Co Ltd                                           30250.0   \n",
      "JSW Steel Ltd                                                 28359.0   \n",
      "Cleveland-Cliffs Inc                                          26377.0   \n",
      "Hyundai Steel Co                                              24297.0   \n",
      "JFE Steel Corp                                                20469.0   \n",
      "Steel Authority of India Ltd                                  20132.0   \n",
      "Baoshan Iron & Steel Co Ltd                                   19800.0   \n",
      "Tata Steel Ltd                                                19720.0   \n",
      "Nucor Corp                                                    17737.0   \n",
      "Zhangjiagang Hongchang Steel Co Ltd                           16947.0   \n",
      "Wuhan Iron and Steel Co Ltd                                   15907.0   \n",
      "Inner Mongolia BaoTou Steel Union Co Ltd                      15610.0   \n",
      "Maanshan Iron & Steel Co Ltd                                  15480.0   \n",
      "Hunan Valin Lianyuan Iron and Steel Co Ltd                    15200.0   \n",
      "Magnitogorskiy Metallurgicheskiy Kombinat PJSC                14500.0   \n",
      "Novolipetsk Steel PJSC                                        14400.0   \n",
      "Mobarakeh Steel Co                                            14100.0   \n",
      "Shougang Jingtang United Iron & Steel Co Ltd                  13700.0   \n",
      "\n",
      "                                                Number of Plants  \n",
      "Owner                                                             \n",
      "POSCO Holdings Inc                                             2  \n",
      "Nippon Steel Corp                                              7  \n",
      "Angang Steel Co Ltd                                            3  \n",
      "JSW Steel Ltd                                                  4  \n",
      "Cleveland-Cliffs Inc                                           9  \n",
      "Hyundai Steel Co                                               3  \n",
      "JFE Steel Corp                                                 4  \n",
      "Steel Authority of India Ltd                                   6  \n",
      "Baoshan Iron & Steel Co Ltd                                    1  \n",
      "Tata Steel Ltd                                                 3  \n",
      "Nucor Corp                                                    11  \n",
      "Zhangjiagang Hongchang Steel Co Ltd                            1  \n",
      "Wuhan Iron and Steel Co Ltd                                    1  \n",
      "Inner Mongolia BaoTou Steel Union Co Ltd                       1  \n",
      "Maanshan Iron & Steel Co Ltd                                   1  \n",
      "Hunan Valin Lianyuan Iron and Steel Co Ltd                     2  \n",
      "Magnitogorskiy Metallurgicheskiy Kombinat PJSC                 1  \n",
      "Novolipetsk Steel PJSC                                         1  \n",
      "Mobarakeh Steel Co                                             4  \n",
      "Shougang Jingtang United Iron & Steel Co Ltd                   1  \n",
      "\n",
      "============================================================\n",
      "\n",
      "Capacity Concentration Statistics:\n",
      "  Top 5 companies control: 161,081 ttpa (8.0%)\n",
      "  Top 10 companies control: 265,499 ttpa (13.2%)\n",
      "  Top 20 companies control: 419,080 ttpa (20.9%)\n"
     ]
    },
    {
     "data": {
      "application/vnd.plotly.v1+json": {
       "config": {
        "plotlyServerURL": "https://plot.ly"
       },
       "data": [
        {
         "customdata": {
          "bdata": "AgcDBAkDBAYBAwsBAQEBAgEBBAE=",
          "dtype": "i1",
          "shape": "20, 1"
         },
         "hovertemplate": "Total Capacity (ttpa)=%{marker.color}<br>Company=%{y}<br>Number of Plants=%{customdata[0]}<extra></extra>",
         "legendgroup": "",
         "marker": {
          "color": {
           "bdata": "AAAAAIDf40AAAAAAYEjhQAAAAACAit1AAAAAAMCx20AAAAAAQMLZQAAAAABAutdAAAAAAED900AAAAAAAKnTQAAAAAAAVtNAAAAAAABC00AAAAAAQFLRQAAAAADAjNBAAAAAAIARz0AAAAAAAH3OQAAAAAAAPM5AAAAAAACwzUAAAAAAAFLMQAAAAAAAIMxAAAAAAACKy0AAAAAAAMLKQA==",
           "dtype": "f8"
          },
          "coloraxis": "coloraxis",
          "pattern": {
           "shape": ""
          }
         },
         "name": "",
         "orientation": "h",
         "showlegend": false,
         "textposition": "auto",
         "type": "bar",
         "x": {
          "bdata": "AAAAAIDf40AAAAAAYEjhQAAAAACAit1AAAAAAMCx20AAAAAAQMLZQAAAAABAutdAAAAAAED900AAAAAAAKnTQAAAAAAAVtNAAAAAAABC00AAAAAAQFLRQAAAAADAjNBAAAAAAIARz0AAAAAAAH3OQAAAAAAAPM5AAAAAAACwzUAAAAAAAFLMQAAAAAAAIMxAAAAAAACKy0AAAAAAAMLKQA==",
          "dtype": "f8"
         },
         "xaxis": "x",
         "y": [
          "POSCO Holdings Inc",
          "Nippon Steel Corp",
          "Angang Steel Co Ltd",
          "JSW Steel Ltd",
          "Cleveland-Cliffs Inc",
          "Hyundai Steel Co",
          "JFE Steel Corp",
          "Steel Authority of India Ltd",
          "Baoshan Iron & Steel Co Ltd",
          "Tata Steel Ltd",
          "Nucor Corp",
          "Zhangjiagang Hongchang Steel Co Ltd",
          "Wuhan Iron and Steel Co Ltd",
          "Inner Mongolia BaoTou Steel Union Co Ltd",
          "Maanshan Iron & Steel Co Ltd",
          "Hunan Valin Lianyuan Iron and Steel Co Ltd",
          "Magnitogorskiy Metallurgicheskiy Kombinat PJSC",
          "Novolipetsk Steel PJSC",
          "Mobarakeh Steel Co",
          "Shougang Jingtang United Iron & Steel Co Ltd"
         ],
         "yaxis": "y"
        }
       ],
       "layout": {
        "barmode": "relative",
        "coloraxis": {
         "colorbar": {
          "title": {
           "text": "Total Capacity (ttpa)"
          }
         },
         "colorscale": [
          [
           0,
           "rgb(255,245,235)"
          ],
          [
           0.125,
           "rgb(254,230,206)"
          ],
          [
           0.25,
           "rgb(253,208,162)"
          ],
          [
           0.375,
           "rgb(253,174,107)"
          ],
          [
           0.5,
           "rgb(253,141,60)"
          ],
          [
           0.625,
           "rgb(241,105,19)"
          ],
          [
           0.75,
           "rgb(217,72,1)"
          ],
          [
           0.875,
           "rgb(166,54,3)"
          ],
          [
           1,
           "rgb(127,39,4)"
          ]
         ]
        },
        "height": 700,
        "legend": {
         "tracegroupgap": 0
        },
        "showlegend": false,
        "template": {
         "data": {
          "bar": [
           {
            "error_x": {
             "color": "#2a3f5f"
            },
            "error_y": {
             "color": "#2a3f5f"
            },
            "marker": {
             "line": {
              "color": "#E5ECF6",
              "width": 0.5
             },
             "pattern": {
              "fillmode": "overlay",
              "size": 10,
              "solidity": 0.2
             }
            },
            "type": "bar"
           }
          ],
          "barpolar": [
           {
            "marker": {
             "line": {
              "color": "#E5ECF6",
              "width": 0.5
             },
             "pattern": {
              "fillmode": "overlay",
              "size": 10,
              "solidity": 0.2
             }
            },
            "type": "barpolar"
           }
          ],
          "carpet": [
           {
            "aaxis": {
             "endlinecolor": "#2a3f5f",
             "gridcolor": "white",
             "linecolor": "white",
             "minorgridcolor": "white",
             "startlinecolor": "#2a3f5f"
            },
            "baxis": {
             "endlinecolor": "#2a3f5f",
             "gridcolor": "white",
             "linecolor": "white",
             "minorgridcolor": "white",
             "startlinecolor": "#2a3f5f"
            },
            "type": "carpet"
           }
          ],
          "choropleth": [
           {
            "colorbar": {
             "outlinewidth": 0,
             "ticks": ""
            },
            "type": "choropleth"
           }
          ],
          "contour": [
           {
            "colorbar": {
             "outlinewidth": 0,
             "ticks": ""
            },
            "colorscale": [
             [
              0,
              "#0d0887"
             ],
             [
              0.1111111111111111,
              "#46039f"
             ],
             [
              0.2222222222222222,
              "#7201a8"
             ],
             [
              0.3333333333333333,
              "#9c179e"
             ],
             [
              0.4444444444444444,
              "#bd3786"
             ],
             [
              0.5555555555555556,
              "#d8576b"
             ],
             [
              0.6666666666666666,
              "#ed7953"
             ],
             [
              0.7777777777777778,
              "#fb9f3a"
             ],
             [
              0.8888888888888888,
              "#fdca26"
             ],
             [
              1,
              "#f0f921"
             ]
            ],
            "type": "contour"
           }
          ],
          "contourcarpet": [
           {
            "colorbar": {
             "outlinewidth": 0,
             "ticks": ""
            },
            "type": "contourcarpet"
           }
          ],
          "heatmap": [
           {
            "colorbar": {
             "outlinewidth": 0,
             "ticks": ""
            },
            "colorscale": [
             [
              0,
              "#0d0887"
             ],
             [
              0.1111111111111111,
              "#46039f"
             ],
             [
              0.2222222222222222,
              "#7201a8"
             ],
             [
              0.3333333333333333,
              "#9c179e"
             ],
             [
              0.4444444444444444,
              "#bd3786"
             ],
             [
              0.5555555555555556,
              "#d8576b"
             ],
             [
              0.6666666666666666,
              "#ed7953"
             ],
             [
              0.7777777777777778,
              "#fb9f3a"
             ],
             [
              0.8888888888888888,
              "#fdca26"
             ],
             [
              1,
              "#f0f921"
             ]
            ],
            "type": "heatmap"
           }
          ],
          "histogram": [
           {
            "marker": {
             "pattern": {
              "fillmode": "overlay",
              "size": 10,
              "solidity": 0.2
             }
            },
            "type": "histogram"
           }
          ],
          "histogram2d": [
           {
            "colorbar": {
             "outlinewidth": 0,
             "ticks": ""
            },
            "colorscale": [
             [
              0,
              "#0d0887"
             ],
             [
              0.1111111111111111,
              "#46039f"
             ],
             [
              0.2222222222222222,
              "#7201a8"
             ],
             [
              0.3333333333333333,
              "#9c179e"
             ],
             [
              0.4444444444444444,
              "#bd3786"
             ],
             [
              0.5555555555555556,
              "#d8576b"
             ],
             [
              0.6666666666666666,
              "#ed7953"
             ],
             [
              0.7777777777777778,
              "#fb9f3a"
             ],
             [
              0.8888888888888888,
              "#fdca26"
             ],
             [
              1,
              "#f0f921"
             ]
            ],
            "type": "histogram2d"
           }
          ],
          "histogram2dcontour": [
           {
            "colorbar": {
             "outlinewidth": 0,
             "ticks": ""
            },
            "colorscale": [
             [
              0,
              "#0d0887"
             ],
             [
              0.1111111111111111,
              "#46039f"
             ],
             [
              0.2222222222222222,
              "#7201a8"
             ],
             [
              0.3333333333333333,
              "#9c179e"
             ],
             [
              0.4444444444444444,
              "#bd3786"
             ],
             [
              0.5555555555555556,
              "#d8576b"
             ],
             [
              0.6666666666666666,
              "#ed7953"
             ],
             [
              0.7777777777777778,
              "#fb9f3a"
             ],
             [
              0.8888888888888888,
              "#fdca26"
             ],
             [
              1,
              "#f0f921"
             ]
            ],
            "type": "histogram2dcontour"
           }
          ],
          "mesh3d": [
           {
            "colorbar": {
             "outlinewidth": 0,
             "ticks": ""
            },
            "type": "mesh3d"
           }
          ],
          "parcoords": [
           {
            "line": {
             "colorbar": {
              "outlinewidth": 0,
              "ticks": ""
             }
            },
            "type": "parcoords"
           }
          ],
          "pie": [
           {
            "automargin": true,
            "type": "pie"
           }
          ],
          "scatter": [
           {
            "fillpattern": {
             "fillmode": "overlay",
             "size": 10,
             "solidity": 0.2
            },
            "type": "scatter"
           }
          ],
          "scatter3d": [
           {
            "line": {
             "colorbar": {
              "outlinewidth": 0,
              "ticks": ""
             }
            },
            "marker": {
             "colorbar": {
              "outlinewidth": 0,
              "ticks": ""
             }
            },
            "type": "scatter3d"
           }
          ],
          "scattercarpet": [
           {
            "marker": {
             "colorbar": {
              "outlinewidth": 0,
              "ticks": ""
             }
            },
            "type": "scattercarpet"
           }
          ],
          "scattergeo": [
           {
            "marker": {
             "colorbar": {
              "outlinewidth": 0,
              "ticks": ""
             }
            },
            "type": "scattergeo"
           }
          ],
          "scattergl": [
           {
            "marker": {
             "colorbar": {
              "outlinewidth": 0,
              "ticks": ""
             }
            },
            "type": "scattergl"
           }
          ],
          "scattermap": [
           {
            "marker": {
             "colorbar": {
              "outlinewidth": 0,
              "ticks": ""
             }
            },
            "type": "scattermap"
           }
          ],
          "scattermapbox": [
           {
            "marker": {
             "colorbar": {
              "outlinewidth": 0,
              "ticks": ""
             }
            },
            "type": "scattermapbox"
           }
          ],
          "scatterpolar": [
           {
            "marker": {
             "colorbar": {
              "outlinewidth": 0,
              "ticks": ""
             }
            },
            "type": "scatterpolar"
           }
          ],
          "scatterpolargl": [
           {
            "marker": {
             "colorbar": {
              "outlinewidth": 0,
              "ticks": ""
             }
            },
            "type": "scatterpolargl"
           }
          ],
          "scatterternary": [
           {
            "marker": {
             "colorbar": {
              "outlinewidth": 0,
              "ticks": ""
             }
            },
            "type": "scatterternary"
           }
          ],
          "surface": [
           {
            "colorbar": {
             "outlinewidth": 0,
             "ticks": ""
            },
            "colorscale": [
             [
              0,
              "#0d0887"
             ],
             [
              0.1111111111111111,
              "#46039f"
             ],
             [
              0.2222222222222222,
              "#7201a8"
             ],
             [
              0.3333333333333333,
              "#9c179e"
             ],
             [
              0.4444444444444444,
              "#bd3786"
             ],
             [
              0.5555555555555556,
              "#d8576b"
             ],
             [
              0.6666666666666666,
              "#ed7953"
             ],
             [
              0.7777777777777778,
              "#fb9f3a"
             ],
             [
              0.8888888888888888,
              "#fdca26"
             ],
             [
              1,
              "#f0f921"
             ]
            ],
            "type": "surface"
           }
          ],
          "table": [
           {
            "cells": {
             "fill": {
              "color": "#EBF0F8"
             },
             "line": {
              "color": "white"
             }
            },
            "header": {
             "fill": {
              "color": "#C8D4E3"
             },
             "line": {
              "color": "white"
             }
            },
            "type": "table"
           }
          ]
         },
         "layout": {
          "annotationdefaults": {
           "arrowcolor": "#2a3f5f",
           "arrowhead": 0,
           "arrowwidth": 1
          },
          "autotypenumbers": "strict",
          "coloraxis": {
           "colorbar": {
            "outlinewidth": 0,
            "ticks": ""
           }
          },
          "colorscale": {
           "diverging": [
            [
             0,
             "#8e0152"
            ],
            [
             0.1,
             "#c51b7d"
            ],
            [
             0.2,
             "#de77ae"
            ],
            [
             0.3,
             "#f1b6da"
            ],
            [
             0.4,
             "#fde0ef"
            ],
            [
             0.5,
             "#f7f7f7"
            ],
            [
             0.6,
             "#e6f5d0"
            ],
            [
             0.7,
             "#b8e186"
            ],
            [
             0.8,
             "#7fbc41"
            ],
            [
             0.9,
             "#4d9221"
            ],
            [
             1,
             "#276419"
            ]
           ],
           "sequential": [
            [
             0,
             "#0d0887"
            ],
            [
             0.1111111111111111,
             "#46039f"
            ],
            [
             0.2222222222222222,
             "#7201a8"
            ],
            [
             0.3333333333333333,
             "#9c179e"
            ],
            [
             0.4444444444444444,
             "#bd3786"
            ],
            [
             0.5555555555555556,
             "#d8576b"
            ],
            [
             0.6666666666666666,
             "#ed7953"
            ],
            [
             0.7777777777777778,
             "#fb9f3a"
            ],
            [
             0.8888888888888888,
             "#fdca26"
            ],
            [
             1,
             "#f0f921"
            ]
           ],
           "sequentialminus": [
            [
             0,
             "#0d0887"
            ],
            [
             0.1111111111111111,
             "#46039f"
            ],
            [
             0.2222222222222222,
             "#7201a8"
            ],
            [
             0.3333333333333333,
             "#9c179e"
            ],
            [
             0.4444444444444444,
             "#bd3786"
            ],
            [
             0.5555555555555556,
             "#d8576b"
            ],
            [
             0.6666666666666666,
             "#ed7953"
            ],
            [
             0.7777777777777778,
             "#fb9f3a"
            ],
            [
             0.8888888888888888,
             "#fdca26"
            ],
            [
             1,
             "#f0f921"
            ]
           ]
          },
          "colorway": [
           "#636efa",
           "#EF553B",
           "#00cc96",
           "#ab63fa",
           "#FFA15A",
           "#19d3f3",
           "#FF6692",
           "#B6E880",
           "#FF97FF",
           "#FECB52"
          ],
          "font": {
           "color": "#2a3f5f"
          },
          "geo": {
           "bgcolor": "white",
           "lakecolor": "white",
           "landcolor": "#E5ECF6",
           "showlakes": true,
           "showland": true,
           "subunitcolor": "white"
          },
          "hoverlabel": {
           "align": "left"
          },
          "hovermode": "closest",
          "mapbox": {
           "style": "light"
          },
          "paper_bgcolor": "white",
          "plot_bgcolor": "#E5ECF6",
          "polar": {
           "angularaxis": {
            "gridcolor": "white",
            "linecolor": "white",
            "ticks": ""
           },
           "bgcolor": "#E5ECF6",
           "radialaxis": {
            "gridcolor": "white",
            "linecolor": "white",
            "ticks": ""
           }
          },
          "scene": {
           "xaxis": {
            "backgroundcolor": "#E5ECF6",
            "gridcolor": "white",
            "gridwidth": 2,
            "linecolor": "white",
            "showbackground": true,
            "ticks": "",
            "zerolinecolor": "white"
           },
           "yaxis": {
            "backgroundcolor": "#E5ECF6",
            "gridcolor": "white",
            "gridwidth": 2,
            "linecolor": "white",
            "showbackground": true,
            "ticks": "",
            "zerolinecolor": "white"
           },
           "zaxis": {
            "backgroundcolor": "#E5ECF6",
            "gridcolor": "white",
            "gridwidth": 2,
            "linecolor": "white",
            "showbackground": true,
            "ticks": "",
            "zerolinecolor": "white"
           }
          },
          "shapedefaults": {
           "line": {
            "color": "#2a3f5f"
           }
          },
          "ternary": {
           "aaxis": {
            "gridcolor": "white",
            "linecolor": "white",
            "ticks": ""
           },
           "baxis": {
            "gridcolor": "white",
            "linecolor": "white",
            "ticks": ""
           },
           "bgcolor": "#E5ECF6",
           "caxis": {
            "gridcolor": "white",
            "linecolor": "white",
            "ticks": ""
           }
          },
          "title": {
           "x": 0.05
          },
          "xaxis": {
           "automargin": true,
           "gridcolor": "white",
           "linecolor": "white",
           "ticks": "",
           "title": {
            "standoff": 15
           },
           "zerolinecolor": "white",
           "zerolinewidth": 2
          },
          "yaxis": {
           "automargin": true,
           "gridcolor": "white",
           "linecolor": "white",
           "ticks": "",
           "title": {
            "standoff": 15
           },
           "zerolinecolor": "white",
           "zerolinewidth": 2
          }
         }
        },
        "title": {
         "text": "Top 20 Companies by Total Steel Production Capacity"
        },
        "xaxis": {
         "anchor": "y",
         "domain": [
          0,
          1
         ],
         "title": {
          "text": "Total Capacity (ttpa)"
         }
        },
        "yaxis": {
         "anchor": "x",
         "categoryorder": "total ascending",
         "domain": [
          0,
          1
         ],
         "title": {
          "text": "Company"
         }
        }
       }
      }
     },
     "metadata": {},
     "output_type": "display_data"
    },
    {
     "data": {
      "application/vnd.plotly.v1+json": {
       "config": {
        "plotlyServerURL": "https://plot.ly"
       },
       "data": [
        {
         "hovertemplate": "Country/Area=China<br>Capacity (ttpa)=%{x}<br>Region=%{y}<extra></extra>",
         "legendgroup": "China",
         "marker": {
          "color": "#636efa",
          "pattern": {
           "shape": ""
          }
         },
         "name": "China",
         "orientation": "h",
         "showlegend": true,
         "textposition": "auto",
         "type": "bar",
         "x": {
          "bdata": "AAAAANAmLUE=",
          "dtype": "f8"
         },
         "xaxis": "x",
         "y": [
          "Asia Pacific"
         ],
         "yaxis": "y"
        },
        {
         "hovertemplate": "Country/Area=India<br>Capacity (ttpa)=%{x}<br>Region=%{y}<extra></extra>",
         "legendgroup": "India",
         "marker": {
          "color": "#EF553B",
          "pattern": {
           "shape": ""
          }
         },
         "name": "India",
         "orientation": "h",
         "showlegend": true,
         "textposition": "auto",
         "type": "bar",
         "x": {
          "bdata": "j8L1KFRhAEE=",
          "dtype": "f8"
         },
         "xaxis": "x",
         "y": [
          "Asia Pacific"
         ],
         "yaxis": "y"
        },
        {
         "hovertemplate": "Country/Area=United States<br>Capacity (ttpa)=%{x}<br>Region=%{y}<extra></extra>",
         "legendgroup": "United States",
         "marker": {
          "color": "#00cc96",
          "pattern": {
           "shape": ""
          }
         },
         "name": "United States",
         "orientation": "h",
         "showlegend": true,
         "textposition": "auto",
         "type": "bar",
         "x": {
          "bdata": "AAAAACCN+0A=",
          "dtype": "f8"
         },
         "xaxis": "x",
         "y": [
          "North America"
         ],
         "yaxis": "y"
        },
        {
         "hovertemplate": "Country/Area=Japan<br>Capacity (ttpa)=%{x}<br>Region=%{y}<extra></extra>",
         "legendgroup": "Japan",
         "marker": {
          "color": "#ab63fa",
          "pattern": {
           "shape": ""
          }
         },
         "name": "Japan",
         "orientation": "h",
         "showlegend": true,
         "textposition": "auto",
         "type": "bar",
         "x": {
          "bdata": "AAAAAGDU9EA=",
          "dtype": "f8"
         },
         "xaxis": "x",
         "y": [
          "Asia Pacific"
         ],
         "yaxis": "y"
        },
        {
         "hovertemplate": "Country/Area=Russia<br>Capacity (ttpa)=%{x}<br>Region=%{y}<extra></extra>",
         "legendgroup": "Russia",
         "marker": {
          "color": "#FFA15A",
          "pattern": {
           "shape": ""
          }
         },
         "name": "Russia",
         "orientation": "h",
         "showlegend": true,
         "textposition": "auto",
         "type": "bar",
         "x": {
          "bdata": "AAAAAJCr9EA=",
          "dtype": "f8"
         },
         "xaxis": "x",
         "y": [
          "Eurasia"
         ],
         "yaxis": "y"
        },
        {
         "hovertemplate": "Country/Area=South Korea<br>Capacity (ttpa)=%{x}<br>Region=%{y}<extra></extra>",
         "legendgroup": "South Korea",
         "marker": {
          "color": "#19d3f3",
          "pattern": {
           "shape": ""
          }
         },
         "name": "South Korea",
         "orientation": "h",
         "showlegend": true,
         "textposition": "auto",
         "type": "bar",
         "x": {
          "bdata": "AAAAAEB980A=",
          "dtype": "f8"
         },
         "xaxis": "x",
         "y": [
          "Asia Pacific"
         ],
         "yaxis": "y"
        },
        {
         "hovertemplate": "Country/Area=Türkiye<br>Capacity (ttpa)=%{x}<br>Region=%{y}<extra></extra>",
         "legendgroup": "Türkiye",
         "marker": {
          "color": "#FF6692",
          "pattern": {
           "shape": ""
          }
         },
         "name": "Türkiye",
         "orientation": "h",
         "showlegend": true,
         "textposition": "auto",
         "type": "bar",
         "x": {
          "bdata": "AAAAAKAd60A=",
          "dtype": "f8"
         },
         "xaxis": "x",
         "y": [
          "Europe"
         ],
         "yaxis": "y"
        },
        {
         "hovertemplate": "Country/Area=Iran<br>Capacity (ttpa)=%{x}<br>Region=%{y}<extra></extra>",
         "legendgroup": "Iran",
         "marker": {
          "color": "#B6E880",
          "pattern": {
           "shape": ""
          }
         },
         "name": "Iran",
         "orientation": "h",
         "showlegend": true,
         "textposition": "auto",
         "type": "bar",
         "x": {
          "bdata": "AAAAAGBv5UA=",
          "dtype": "f8"
         },
         "xaxis": "x",
         "y": [
          "Middle East"
         ],
         "yaxis": "y"
        },
        {
         "hovertemplate": "Country/Area=Brazil<br>Capacity (ttpa)=%{x}<br>Region=%{y}<extra></extra>",
         "legendgroup": "Brazil",
         "marker": {
          "color": "#FF97FF",
          "pattern": {
           "shape": ""
          }
         },
         "name": "Brazil",
         "orientation": "h",
         "showlegend": true,
         "textposition": "auto",
         "type": "bar",
         "x": {
          "bdata": "AAAAAEBK5UA=",
          "dtype": "f8"
         },
         "xaxis": "x",
         "y": [
          "Central & South America"
         ],
         "yaxis": "y"
        },
        {
         "hovertemplate": "Country/Area=Vietnam<br>Capacity (ttpa)=%{x}<br>Region=%{y}<extra></extra>",
         "legendgroup": "Vietnam",
         "marker": {
          "color": "#FECB52",
          "pattern": {
           "shape": ""
          }
         },
         "name": "Vietnam",
         "orientation": "h",
         "showlegend": true,
         "textposition": "auto",
         "type": "bar",
         "x": {
          "bdata": "AAAAAGAz4UA=",
          "dtype": "f8"
         },
         "xaxis": "x",
         "y": [
          "Asia Pacific"
         ],
         "yaxis": "y"
        },
        {
         "hovertemplate": "Country/Area=Italy<br>Capacity (ttpa)=%{x}<br>Region=%{y}<extra></extra>",
         "legendgroup": "Italy",
         "marker": {
          "color": "#636efa",
          "pattern": {
           "shape": ""
          }
         },
         "name": "Italy",
         "orientation": "h",
         "showlegend": true,
         "textposition": "auto",
         "type": "bar",
         "x": {
          "bdata": "AAAAAACB3kA=",
          "dtype": "f8"
         },
         "xaxis": "x",
         "y": [
          "Europe"
         ],
         "yaxis": "y"
        },
        {
         "hovertemplate": "Country/Area=Mexico<br>Capacity (ttpa)=%{x}<br>Region=%{y}<extra></extra>",
         "legendgroup": "Mexico",
         "marker": {
          "color": "#EF553B",
          "pattern": {
           "shape": ""
          }
         },
         "name": "Mexico",
         "orientation": "h",
         "showlegend": true,
         "textposition": "auto",
         "type": "bar",
         "x": {
          "bdata": "AAAAAMDd1UA=",
          "dtype": "f8"
         },
         "xaxis": "x",
         "y": [
          "North America"
         ],
         "yaxis": "y"
        },
        {
         "hovertemplate": "Country/Area=Spain<br>Capacity (ttpa)=%{x}<br>Region=%{y}<extra></extra>",
         "legendgroup": "Spain",
         "marker": {
          "color": "#00cc96",
          "pattern": {
           "shape": ""
          }
         },
         "name": "Spain",
         "orientation": "h",
         "showlegend": true,
         "textposition": "auto",
         "type": "bar",
         "x": {
          "bdata": "AAAAAAD80kA=",
          "dtype": "f8"
         },
         "xaxis": "x",
         "y": [
          "Europe"
         ],
         "yaxis": "y"
        },
        {
         "hovertemplate": "Country/Area=Ukraine<br>Capacity (ttpa)=%{x}<br>Region=%{y}<extra></extra>",
         "legendgroup": "Ukraine",
         "marker": {
          "color": "#ab63fa",
          "pattern": {
           "shape": ""
          }
         },
         "name": "Ukraine",
         "orientation": "h",
         "showlegend": true,
         "textposition": "auto",
         "type": "bar",
         "x": {
          "bdata": "AAAAAEAY0UA=",
          "dtype": "f8"
         },
         "xaxis": "x",
         "y": [
          "Europe"
         ],
         "yaxis": "y"
        },
        {
         "hovertemplate": "Country/Area=Egypt<br>Capacity (ttpa)=%{x}<br>Region=%{y}<extra></extra>",
         "legendgroup": "Egypt",
         "marker": {
          "color": "#FFA15A",
          "pattern": {
           "shape": ""
          }
         },
         "name": "Egypt",
         "orientation": "h",
         "showlegend": true,
         "textposition": "auto",
         "type": "bar",
         "x": {
          "bdata": "AAAAAAA20EA=",
          "dtype": "f8"
         },
         "xaxis": "x",
         "y": [
          "Africa"
         ],
         "yaxis": "y"
        },
        {
         "hovertemplate": "Country/Area=Germany<br>Capacity (ttpa)=%{x}<br>Region=%{y}<extra></extra>",
         "legendgroup": "Germany",
         "marker": {
          "color": "#19d3f3",
          "pattern": {
           "shape": ""
          }
         },
         "name": "Germany",
         "orientation": "h",
         "showlegend": true,
         "textposition": "auto",
         "type": "bar",
         "x": {
          "bdata": "AAAAAAAE0EA=",
          "dtype": "f8"
         },
         "xaxis": "x",
         "y": [
          "Europe"
         ],
         "yaxis": "y"
        },
        {
         "hovertemplate": "Country/Area=Canada<br>Capacity (ttpa)=%{x}<br>Region=%{y}<extra></extra>",
         "legendgroup": "Canada",
         "marker": {
          "color": "#FF6692",
          "pattern": {
           "shape": ""
          }
         },
         "name": "Canada",
         "orientation": "h",
         "showlegend": true,
         "textposition": "auto",
         "type": "bar",
         "x": {
          "bdata": "AAAAAABeykA=",
          "dtype": "f8"
         },
         "xaxis": "x",
         "y": [
          "North America"
         ],
         "yaxis": "y"
        },
        {
         "hovertemplate": "Country/Area=Saudi Arabia<br>Capacity (ttpa)=%{x}<br>Region=%{y}<extra></extra>",
         "legendgroup": "Saudi Arabia",
         "marker": {
          "color": "#B6E880",
          "pattern": {
           "shape": ""
          }
         },
         "name": "Saudi Arabia",
         "orientation": "h",
         "showlegend": true,
         "textposition": "auto",
         "type": "bar",
         "x": {
          "bdata": "AAAAAABwx0A=",
          "dtype": "f8"
         },
         "xaxis": "x",
         "y": [
          "Middle East"
         ],
         "yaxis": "y"
        },
        {
         "hovertemplate": "Country/Area=Algeria<br>Capacity (ttpa)=%{x}<br>Region=%{y}<extra></extra>",
         "legendgroup": "Algeria",
         "marker": {
          "color": "#FF97FF",
          "pattern": {
           "shape": ""
          }
         },
         "name": "Algeria",
         "orientation": "h",
         "showlegend": true,
         "textposition": "auto",
         "type": "bar",
         "x": {
          "bdata": "AAAAAAArxkA=",
          "dtype": "f8"
         },
         "xaxis": "x",
         "y": [
          "Africa"
         ],
         "yaxis": "y"
        },
        {
         "hovertemplate": "Country/Area=Argentina<br>Capacity (ttpa)=%{x}<br>Region=%{y}<extra></extra>",
         "legendgroup": "Argentina",
         "marker": {
          "color": "#FECB52",
          "pattern": {
           "shape": ""
          }
         },
         "name": "Argentina",
         "orientation": "h",
         "showlegend": true,
         "textposition": "auto",
         "type": "bar",
         "x": {
          "bdata": "AAAAAAC/vkA=",
          "dtype": "f8"
         },
         "xaxis": "x",
         "y": [
          "Central & South America"
         ],
         "yaxis": "y"
        },
        {
         "hovertemplate": "Country/Area=Kazakhstan<br>Capacity (ttpa)=%{x}<br>Region=%{y}<extra></extra>",
         "legendgroup": "Kazakhstan",
         "marker": {
          "color": "#636efa",
          "pattern": {
           "shape": ""
          }
         },
         "name": "Kazakhstan",
         "orientation": "h",
         "showlegend": true,
         "textposition": "auto",
         "type": "bar",
         "x": {
          "bdata": "AAAAAABwt0A=",
          "dtype": "f8"
         },
         "xaxis": "x",
         "y": [
          "Eurasia"
         ],
         "yaxis": "y"
        },
        {
         "hovertemplate": "Country/Area=South Africa<br>Capacity (ttpa)=%{x}<br>Region=%{y}<extra></extra>",
         "legendgroup": "South Africa",
         "marker": {
          "color": "#EF553B",
          "pattern": {
           "shape": ""
          }
         },
         "name": "South Africa",
         "orientation": "h",
         "showlegend": true,
         "textposition": "auto",
         "type": "bar",
         "x": {
          "bdata": "AAAAAADKskA=",
          "dtype": "f8"
         },
         "xaxis": "x",
         "y": [
          "Africa"
         ],
         "yaxis": "y"
        },
        {
         "hovertemplate": "Country/Area=Oman<br>Capacity (ttpa)=%{x}<br>Region=%{y}<extra></extra>",
         "legendgroup": "Oman",
         "marker": {
          "color": "#00cc96",
          "pattern": {
           "shape": ""
          }
         },
         "name": "Oman",
         "orientation": "h",
         "showlegend": true,
         "textposition": "auto",
         "type": "bar",
         "x": {
          "bdata": "AAAAAADMsEA=",
          "dtype": "f8"
         },
         "xaxis": "x",
         "y": [
          "Middle East"
         ],
         "yaxis": "y"
        },
        {
         "hovertemplate": "Country/Area=United Arab Emirates<br>Capacity (ttpa)=%{x}<br>Region=%{y}<extra></extra>",
         "legendgroup": "United Arab Emirates",
         "marker": {
          "color": "#ab63fa",
          "pattern": {
           "shape": ""
          }
         },
         "name": "United Arab Emirates",
         "orientation": "h",
         "showlegend": true,
         "textposition": "auto",
         "type": "bar",
         "x": {
          "bdata": "AAAAAABosEA=",
          "dtype": "f8"
         },
         "xaxis": "x",
         "y": [
          "Middle East"
         ],
         "yaxis": "y"
        },
        {
         "hovertemplate": "Country/Area=Morocco<br>Capacity (ttpa)=%{x}<br>Region=%{y}<extra></extra>",
         "legendgroup": "Morocco",
         "marker": {
          "color": "#FFA15A",
          "pattern": {
           "shape": ""
          }
         },
         "name": "Morocco",
         "orientation": "h",
         "showlegend": true,
         "textposition": "auto",
         "type": "bar",
         "x": {
          "bdata": "AAAAAABAr0A=",
          "dtype": "f8"
         },
         "xaxis": "x",
         "y": [
          "Africa"
         ],
         "yaxis": "y"
        },
        {
         "hovertemplate": "Country/Area=Iraq<br>Capacity (ttpa)=%{x}<br>Region=%{y}<extra></extra>",
         "legendgroup": "Iraq",
         "marker": {
          "color": "#19d3f3",
          "pattern": {
           "shape": ""
          }
         },
         "name": "Iraq",
         "orientation": "h",
         "showlegend": true,
         "textposition": "auto",
         "type": "bar",
         "x": {
          "bdata": "AAAAAAAOqkA=",
          "dtype": "f8"
         },
         "xaxis": "x",
         "y": [
          "Middle East"
         ],
         "yaxis": "y"
        },
        {
         "hovertemplate": "Country/Area=Peru<br>Capacity (ttpa)=%{x}<br>Region=%{y}<extra></extra>",
         "legendgroup": "Peru",
         "marker": {
          "color": "#FF6692",
          "pattern": {
           "shape": ""
          }
         },
         "name": "Peru",
         "orientation": "h",
         "showlegend": true,
         "textposition": "auto",
         "type": "bar",
         "x": {
          "bdata": "AAAAAABAn0A=",
          "dtype": "f8"
         },
         "xaxis": "x",
         "y": [
          "Central & South America"
         ],
         "yaxis": "y"
        },
        {
         "hovertemplate": "Country/Area=Libya<br>Capacity (ttpa)=%{x}<br>Region=%{y}<extra></extra>",
         "legendgroup": "Libya",
         "marker": {
          "color": "#B6E880",
          "pattern": {
           "shape": ""
          }
         },
         "name": "Libya",
         "orientation": "h",
         "showlegend": true,
         "textposition": "auto",
         "type": "bar",
         "x": {
          "bdata": "AAAAAAA4mUA=",
          "dtype": "f8"
         },
         "xaxis": "x",
         "y": [
          "Africa"
         ],
         "yaxis": "y"
        },
        {
         "hovertemplate": "Country/Area=Uzbekistan<br>Capacity (ttpa)=%{x}<br>Region=%{y}<extra></extra>",
         "legendgroup": "Uzbekistan",
         "marker": {
          "color": "#FF97FF",
          "pattern": {
           "shape": ""
          }
         },
         "name": "Uzbekistan",
         "orientation": "h",
         "showlegend": true,
         "textposition": "auto",
         "type": "bar",
         "x": {
          "bdata": "AAAAAAAwkUA=",
          "dtype": "f8"
         },
         "xaxis": "x",
         "y": [
          "Eurasia"
         ],
         "yaxis": "y"
        },
        {
         "hovertemplate": "Country/Area=Venezuela<br>Capacity (ttpa)=%{x}<br>Region=%{y}<extra></extra>",
         "legendgroup": "Venezuela",
         "marker": {
          "color": "#FECB52",
          "pattern": {
           "shape": ""
          }
         },
         "name": "Venezuela",
         "orientation": "h",
         "showlegend": true,
         "textposition": "auto",
         "type": "bar",
         "x": {
          "bdata": "AAAAAADgj0A=",
          "dtype": "f8"
         },
         "xaxis": "x",
         "y": [
          "Central & South America"
         ],
         "yaxis": "y"
        },
        {
         "hovertemplate": "Country/Area=Azerbaijan<br>Capacity (ttpa)=%{x}<br>Region=%{y}<extra></extra>",
         "legendgroup": "Azerbaijan",
         "marker": {
          "color": "#636efa",
          "pattern": {
           "shape": ""
          }
         },
         "name": "Azerbaijan",
         "orientation": "h",
         "showlegend": true,
         "textposition": "auto",
         "type": "bar",
         "x": {
          "bdata": "AAAAAAAAiUA=",
          "dtype": "f8"
         },
         "xaxis": "x",
         "y": [
          "Eurasia"
         ],
         "yaxis": "y"
        },
        {
         "hovertemplate": "Country/Area=Chile<br>Capacity (ttpa)=%{x}<br>Region=%{y}<extra></extra>",
         "legendgroup": "Chile",
         "marker": {
          "color": "#EF553B",
          "pattern": {
           "shape": ""
          }
         },
         "name": "Chile",
         "orientation": "h",
         "showlegend": true,
         "textposition": "auto",
         "type": "bar",
         "x": {
          "bdata": "AAAAAABAgEA=",
          "dtype": "f8"
         },
         "xaxis": "x",
         "y": [
          "Central & South America"
         ],
         "yaxis": "y"
        }
       ],
       "layout": {
        "barmode": "stack",
        "height": 500,
        "legend": {
         "title": {
          "text": "Country/Area"
         },
         "tracegroupgap": 0
        },
        "template": {
         "data": {
          "bar": [
           {
            "error_x": {
             "color": "#2a3f5f"
            },
            "error_y": {
             "color": "#2a3f5f"
            },
            "marker": {
             "line": {
              "color": "#E5ECF6",
              "width": 0.5
             },
             "pattern": {
              "fillmode": "overlay",
              "size": 10,
              "solidity": 0.2
             }
            },
            "type": "bar"
           }
          ],
          "barpolar": [
           {
            "marker": {
             "line": {
              "color": "#E5ECF6",
              "width": 0.5
             },
             "pattern": {
              "fillmode": "overlay",
              "size": 10,
              "solidity": 0.2
             }
            },
            "type": "barpolar"
           }
          ],
          "carpet": [
           {
            "aaxis": {
             "endlinecolor": "#2a3f5f",
             "gridcolor": "white",
             "linecolor": "white",
             "minorgridcolor": "white",
             "startlinecolor": "#2a3f5f"
            },
            "baxis": {
             "endlinecolor": "#2a3f5f",
             "gridcolor": "white",
             "linecolor": "white",
             "minorgridcolor": "white",
             "startlinecolor": "#2a3f5f"
            },
            "type": "carpet"
           }
          ],
          "choropleth": [
           {
            "colorbar": {
             "outlinewidth": 0,
             "ticks": ""
            },
            "type": "choropleth"
           }
          ],
          "contour": [
           {
            "colorbar": {
             "outlinewidth": 0,
             "ticks": ""
            },
            "colorscale": [
             [
              0,
              "#0d0887"
             ],
             [
              0.1111111111111111,
              "#46039f"
             ],
             [
              0.2222222222222222,
              "#7201a8"
             ],
             [
              0.3333333333333333,
              "#9c179e"
             ],
             [
              0.4444444444444444,
              "#bd3786"
             ],
             [
              0.5555555555555556,
              "#d8576b"
             ],
             [
              0.6666666666666666,
              "#ed7953"
             ],
             [
              0.7777777777777778,
              "#fb9f3a"
             ],
             [
              0.8888888888888888,
              "#fdca26"
             ],
             [
              1,
              "#f0f921"
             ]
            ],
            "type": "contour"
           }
          ],
          "contourcarpet": [
           {
            "colorbar": {
             "outlinewidth": 0,
             "ticks": ""
            },
            "type": "contourcarpet"
           }
          ],
          "heatmap": [
           {
            "colorbar": {
             "outlinewidth": 0,
             "ticks": ""
            },
            "colorscale": [
             [
              0,
              "#0d0887"
             ],
             [
              0.1111111111111111,
              "#46039f"
             ],
             [
              0.2222222222222222,
              "#7201a8"
             ],
             [
              0.3333333333333333,
              "#9c179e"
             ],
             [
              0.4444444444444444,
              "#bd3786"
             ],
             [
              0.5555555555555556,
              "#d8576b"
             ],
             [
              0.6666666666666666,
              "#ed7953"
             ],
             [
              0.7777777777777778,
              "#fb9f3a"
             ],
             [
              0.8888888888888888,
              "#fdca26"
             ],
             [
              1,
              "#f0f921"
             ]
            ],
            "type": "heatmap"
           }
          ],
          "histogram": [
           {
            "marker": {
             "pattern": {
              "fillmode": "overlay",
              "size": 10,
              "solidity": 0.2
             }
            },
            "type": "histogram"
           }
          ],
          "histogram2d": [
           {
            "colorbar": {
             "outlinewidth": 0,
             "ticks": ""
            },
            "colorscale": [
             [
              0,
              "#0d0887"
             ],
             [
              0.1111111111111111,
              "#46039f"
             ],
             [
              0.2222222222222222,
              "#7201a8"
             ],
             [
              0.3333333333333333,
              "#9c179e"
             ],
             [
              0.4444444444444444,
              "#bd3786"
             ],
             [
              0.5555555555555556,
              "#d8576b"
             ],
             [
              0.6666666666666666,
              "#ed7953"
             ],
             [
              0.7777777777777778,
              "#fb9f3a"
             ],
             [
              0.8888888888888888,
              "#fdca26"
             ],
             [
              1,
              "#f0f921"
             ]
            ],
            "type": "histogram2d"
           }
          ],
          "histogram2dcontour": [
           {
            "colorbar": {
             "outlinewidth": 0,
             "ticks": ""
            },
            "colorscale": [
             [
              0,
              "#0d0887"
             ],
             [
              0.1111111111111111,
              "#46039f"
             ],
             [
              0.2222222222222222,
              "#7201a8"
             ],
             [
              0.3333333333333333,
              "#9c179e"
             ],
             [
              0.4444444444444444,
              "#bd3786"
             ],
             [
              0.5555555555555556,
              "#d8576b"
             ],
             [
              0.6666666666666666,
              "#ed7953"
             ],
             [
              0.7777777777777778,
              "#fb9f3a"
             ],
             [
              0.8888888888888888,
              "#fdca26"
             ],
             [
              1,
              "#f0f921"
             ]
            ],
            "type": "histogram2dcontour"
           }
          ],
          "mesh3d": [
           {
            "colorbar": {
             "outlinewidth": 0,
             "ticks": ""
            },
            "type": "mesh3d"
           }
          ],
          "parcoords": [
           {
            "line": {
             "colorbar": {
              "outlinewidth": 0,
              "ticks": ""
             }
            },
            "type": "parcoords"
           }
          ],
          "pie": [
           {
            "automargin": true,
            "type": "pie"
           }
          ],
          "scatter": [
           {
            "fillpattern": {
             "fillmode": "overlay",
             "size": 10,
             "solidity": 0.2
            },
            "type": "scatter"
           }
          ],
          "scatter3d": [
           {
            "line": {
             "colorbar": {
              "outlinewidth": 0,
              "ticks": ""
             }
            },
            "marker": {
             "colorbar": {
              "outlinewidth": 0,
              "ticks": ""
             }
            },
            "type": "scatter3d"
           }
          ],
          "scattercarpet": [
           {
            "marker": {
             "colorbar": {
              "outlinewidth": 0,
              "ticks": ""
             }
            },
            "type": "scattercarpet"
           }
          ],
          "scattergeo": [
           {
            "marker": {
             "colorbar": {
              "outlinewidth": 0,
              "ticks": ""
             }
            },
            "type": "scattergeo"
           }
          ],
          "scattergl": [
           {
            "marker": {
             "colorbar": {
              "outlinewidth": 0,
              "ticks": ""
             }
            },
            "type": "scattergl"
           }
          ],
          "scattermap": [
           {
            "marker": {
             "colorbar": {
              "outlinewidth": 0,
              "ticks": ""
             }
            },
            "type": "scattermap"
           }
          ],
          "scattermapbox": [
           {
            "marker": {
             "colorbar": {
              "outlinewidth": 0,
              "ticks": ""
             }
            },
            "type": "scattermapbox"
           }
          ],
          "scatterpolar": [
           {
            "marker": {
             "colorbar": {
              "outlinewidth": 0,
              "ticks": ""
             }
            },
            "type": "scatterpolar"
           }
          ],
          "scatterpolargl": [
           {
            "marker": {
             "colorbar": {
              "outlinewidth": 0,
              "ticks": ""
             }
            },
            "type": "scatterpolargl"
           }
          ],
          "scatterternary": [
           {
            "marker": {
             "colorbar": {
              "outlinewidth": 0,
              "ticks": ""
             }
            },
            "type": "scatterternary"
           }
          ],
          "surface": [
           {
            "colorbar": {
             "outlinewidth": 0,
             "ticks": ""
            },
            "colorscale": [
             [
              0,
              "#0d0887"
             ],
             [
              0.1111111111111111,
              "#46039f"
             ],
             [
              0.2222222222222222,
              "#7201a8"
             ],
             [
              0.3333333333333333,
              "#9c179e"
             ],
             [
              0.4444444444444444,
              "#bd3786"
             ],
             [
              0.5555555555555556,
              "#d8576b"
             ],
             [
              0.6666666666666666,
              "#ed7953"
             ],
             [
              0.7777777777777778,
              "#fb9f3a"
             ],
             [
              0.8888888888888888,
              "#fdca26"
             ],
             [
              1,
              "#f0f921"
             ]
            ],
            "type": "surface"
           }
          ],
          "table": [
           {
            "cells": {
             "fill": {
              "color": "#EBF0F8"
             },
             "line": {
              "color": "white"
             }
            },
            "header": {
             "fill": {
              "color": "#C8D4E3"
             },
             "line": {
              "color": "white"
             }
            },
            "type": "table"
           }
          ]
         },
         "layout": {
          "annotationdefaults": {
           "arrowcolor": "#2a3f5f",
           "arrowhead": 0,
           "arrowwidth": 1
          },
          "autotypenumbers": "strict",
          "coloraxis": {
           "colorbar": {
            "outlinewidth": 0,
            "ticks": ""
           }
          },
          "colorscale": {
           "diverging": [
            [
             0,
             "#8e0152"
            ],
            [
             0.1,
             "#c51b7d"
            ],
            [
             0.2,
             "#de77ae"
            ],
            [
             0.3,
             "#f1b6da"
            ],
            [
             0.4,
             "#fde0ef"
            ],
            [
             0.5,
             "#f7f7f7"
            ],
            [
             0.6,
             "#e6f5d0"
            ],
            [
             0.7,
             "#b8e186"
            ],
            [
             0.8,
             "#7fbc41"
            ],
            [
             0.9,
             "#4d9221"
            ],
            [
             1,
             "#276419"
            ]
           ],
           "sequential": [
            [
             0,
             "#0d0887"
            ],
            [
             0.1111111111111111,
             "#46039f"
            ],
            [
             0.2222222222222222,
             "#7201a8"
            ],
            [
             0.3333333333333333,
             "#9c179e"
            ],
            [
             0.4444444444444444,
             "#bd3786"
            ],
            [
             0.5555555555555556,
             "#d8576b"
            ],
            [
             0.6666666666666666,
             "#ed7953"
            ],
            [
             0.7777777777777778,
             "#fb9f3a"
            ],
            [
             0.8888888888888888,
             "#fdca26"
            ],
            [
             1,
             "#f0f921"
            ]
           ],
           "sequentialminus": [
            [
             0,
             "#0d0887"
            ],
            [
             0.1111111111111111,
             "#46039f"
            ],
            [
             0.2222222222222222,
             "#7201a8"
            ],
            [
             0.3333333333333333,
             "#9c179e"
            ],
            [
             0.4444444444444444,
             "#bd3786"
            ],
            [
             0.5555555555555556,
             "#d8576b"
            ],
            [
             0.6666666666666666,
             "#ed7953"
            ],
            [
             0.7777777777777778,
             "#fb9f3a"
            ],
            [
             0.8888888888888888,
             "#fdca26"
            ],
            [
             1,
             "#f0f921"
            ]
           ]
          },
          "colorway": [
           "#636efa",
           "#EF553B",
           "#00cc96",
           "#ab63fa",
           "#FFA15A",
           "#19d3f3",
           "#FF6692",
           "#B6E880",
           "#FF97FF",
           "#FECB52"
          ],
          "font": {
           "color": "#2a3f5f"
          },
          "geo": {
           "bgcolor": "white",
           "lakecolor": "white",
           "landcolor": "#E5ECF6",
           "showlakes": true,
           "showland": true,
           "subunitcolor": "white"
          },
          "hoverlabel": {
           "align": "left"
          },
          "hovermode": "closest",
          "mapbox": {
           "style": "light"
          },
          "paper_bgcolor": "white",
          "plot_bgcolor": "#E5ECF6",
          "polar": {
           "angularaxis": {
            "gridcolor": "white",
            "linecolor": "white",
            "ticks": ""
           },
           "bgcolor": "#E5ECF6",
           "radialaxis": {
            "gridcolor": "white",
            "linecolor": "white",
            "ticks": ""
           }
          },
          "scene": {
           "xaxis": {
            "backgroundcolor": "#E5ECF6",
            "gridcolor": "white",
            "gridwidth": 2,
            "linecolor": "white",
            "showbackground": true,
            "ticks": "",
            "zerolinecolor": "white"
           },
           "yaxis": {
            "backgroundcolor": "#E5ECF6",
            "gridcolor": "white",
            "gridwidth": 2,
            "linecolor": "white",
            "showbackground": true,
            "ticks": "",
            "zerolinecolor": "white"
           },
           "zaxis": {
            "backgroundcolor": "#E5ECF6",
            "gridcolor": "white",
            "gridwidth": 2,
            "linecolor": "white",
            "showbackground": true,
            "ticks": "",
            "zerolinecolor": "white"
           }
          },
          "shapedefaults": {
           "line": {
            "color": "#2a3f5f"
           }
          },
          "ternary": {
           "aaxis": {
            "gridcolor": "white",
            "linecolor": "white",
            "ticks": ""
           },
           "baxis": {
            "gridcolor": "white",
            "linecolor": "white",
            "ticks": ""
           },
           "bgcolor": "#E5ECF6",
           "caxis": {
            "gridcolor": "white",
            "linecolor": "white",
            "ticks": ""
           }
          },
          "title": {
           "x": 0.05
          },
          "xaxis": {
           "automargin": true,
           "gridcolor": "white",
           "linecolor": "white",
           "ticks": "",
           "title": {
            "standoff": 15
           },
           "zerolinecolor": "white",
           "zerolinewidth": 2
          },
          "yaxis": {
           "automargin": true,
           "gridcolor": "white",
           "linecolor": "white",
           "ticks": "",
           "title": {
            "standoff": 15
           },
           "zerolinecolor": "white",
           "zerolinewidth": 2
          }
         }
        },
        "title": {
         "text": "Steel Production Capacity by Region and Top Countries"
        },
        "xaxis": {
         "anchor": "y",
         "domain": [
          0,
          1
         ],
         "title": {
          "text": "Capacity (ttpa)"
         }
        },
        "yaxis": {
         "anchor": "x",
         "domain": [
          0,
          1
         ],
         "title": {
          "text": "Region"
         }
        }
       }
      }
     },
     "metadata": {},
     "output_type": "display_data"
    },
    {
     "name": "stdout",
     "output_type": "stream",
     "text": [
      "\n",
      "Regional Capacity Leaders:\n",
      "  • Asia Pacific: China (955,240 ttpa)\n",
      "  • Europe: Türkiye (55,533 ttpa)\n",
      "  • North America: United States (112,850 ttpa)\n",
      "  • Eurasia: Russia (84,665 ttpa)\n",
      "  • Middle East: Iran (43,899 ttpa)\n",
      "  • Central & South America: Brazil (43,602 ttpa)\n",
      "  • Africa: Egypt (16,600 ttpa)\n"
     ]
    }
   ],
   "source": [
    "capacity_by_owner = df.groupby('Owner')['Nominal crude steel capacity (ttpa)'].agg(['sum', 'count']).round(0)\n",
    "capacity_by_owner.columns = ['Total Capacity (ttpa)', 'Number of Plants']\n",
    "capacity_by_owner = capacity_by_owner.sort_values('Total Capacity (ttpa)', ascending=False)\n",
    "\n",
    "print(\"Top 20 Companies by Total Steel Production Capacity:\\n\")\n",
    "print(capacity_by_owner.head(20))\n",
    "\n",
    "print(\"\\n\" + \"=\"*60)\n",
    "print(\"\\nCapacity Concentration Statistics:\")\n",
    "print(f\"  Top 5 companies control: {capacity_by_owner.head(5)['Total Capacity (ttpa)'].sum():,.0f} ttpa ({capacity_by_owner.head(5)['Total Capacity (ttpa)'].sum()/total_capacity*100:.1f}%)\")\n",
    "print(f\"  Top 10 companies control: {capacity_by_owner.head(10)['Total Capacity (ttpa)'].sum():,.0f} ttpa ({capacity_by_owner.head(10)['Total Capacity (ttpa)'].sum()/total_capacity*100:.1f}%)\")\n",
    "print(f\"  Top 20 companies control: {capacity_by_owner.head(20)['Total Capacity (ttpa)'].sum():,.0f} ttpa ({capacity_by_owner.head(20)['Total Capacity (ttpa)'].sum()/total_capacity*100:.1f}%)\")\n",
    "\n",
    "top_20_capacity = capacity_by_owner.head(20).reset_index()\n",
    "fig1 = px.bar(\n",
    "    top_20_capacity,\n",
    "    x='Total Capacity (ttpa)',\n",
    "    y='Owner',\n",
    "    orientation='h',\n",
    "    title='Top 20 Companies by Total Steel Production Capacity',\n",
    "    labels={'Total Capacity (ttpa)': 'Total Capacity (ttpa)', 'Owner': 'Company'},\n",
    "    color='Total Capacity (ttpa)',\n",
    "    color_continuous_scale='Oranges',\n",
    "    hover_data=['Number of Plants']\n",
    ")\n",
    "fig1.update_layout(yaxis={'categoryorder': 'total ascending'}, showlegend=False, height=700)\n",
    "fig1.show()\n",
    "\n",
    "region_capacity = df.groupby('Region')['Nominal crude steel capacity (ttpa)'].sum().reset_index()\n",
    "region_capacity.columns = ['Region', 'Total Capacity (ttpa)']\n",
    "\n",
    "top_countries_by_region = df.groupby(['Region', 'Country/Area'])['Nominal crude steel capacity (ttpa)'].sum().reset_index()\n",
    "top_countries_by_region = top_countries_by_region.sort_values('Nominal crude steel capacity (ttpa)', ascending=False).groupby('Region').head(5)\n",
    "\n",
    "fig2 = px.bar(\n",
    "    top_countries_by_region,\n",
    "    x='Nominal crude steel capacity (ttpa)',\n",
    "    y='Region',\n",
    "    color='Country/Area',\n",
    "    orientation='h',\n",
    "    title='Steel Production Capacity by Region and Top Countries',\n",
    "    labels={'Nominal crude steel capacity (ttpa)': 'Capacity (ttpa)', 'Region': 'Region'},\n",
    "    barmode='stack'\n",
    ")\n",
    "fig2.update_layout(height=500)\n",
    "fig2.show()\n",
    "\n",
    "print(f\"\\nRegional Capacity Leaders:\")\n",
    "for region in capacity_by_region.index:\n",
    "    top_country = df[df['Region'] == region].groupby('Country/Area')['Nominal crude steel capacity (ttpa)'].sum().idxmax()\n",
    "    top_capacity = df[df['Region'] == region].groupby('Country/Area')['Nominal crude steel capacity (ttpa)'].sum().max()\n",
    "    print(f\"  • {region}: {top_country} ({top_capacity:,.0f} ttpa)\")"
   ]
  },
  {
   "cell_type": "markdown",
   "metadata": {},
   "source": [
    "---\n",
    "## Part 3: Geospatial Visualization with Plotly (15 minutes)\n",
    "\n",
    "Create interactive maps to visualize the steel plants' locations and characteristics.\n"
   ]
  },
  {
   "cell_type": "markdown",
   "metadata": {},
   "source": [
    "### Exercise 1: Basic Scatter Map\n",
    "**Task:** Create a scatter map showing all steel plant locations.\n",
    "- Use latitude and longitude for positioning\n",
    "- Color points by country or region\n",
    "- Add hover information showing plant name, company, and capacity\n"
   ]
  },
  {
   "cell_type": "code",
   "execution_count": null,
   "metadata": {},
   "outputs": [],
   "source": [
    "# Create a scatter_geo or scatter_mapbox plot\n",
    "# Hint: Use plotly.express.scatter_geo() or scatter_mapbox()\n",
    "\n"
   ]
  },
  {
   "cell_type": "markdown",
   "metadata": {},
   "source": [
    "### Exercise 2: Sized Markers by Capacity\n",
    "**Task:** Create a map where marker size represents plant capacity.\n",
    "- Larger markers for higher capacity plants\n",
    "- Color by company\n",
    "- Include interactive hover details\n"
   ]
  },
  {
   "cell_type": "code",
   "execution_count": null,
   "metadata": {},
   "outputs": [],
   "source": [
    "# Create scatter map with size parameter based on capacity\n",
    "\n"
   ]
  },
  {
   "cell_type": "markdown",
   "metadata": {},
   "source": [
    "### Exercise 3: Density Heatmap\n",
    "**Task:** Create a density map showing concentration of steel plants.\n",
    "- Use Plotly's density_mapbox to show clustering\n",
    "- Identify regions with high plant density\n"
   ]
  },
  {
   "cell_type": "code",
   "execution_count": null,
   "metadata": {},
   "outputs": [],
   "source": [
    "# Create density heatmap\n",
    "# Hint: Use plotly.express.density_mapbox()\n",
    "\n"
   ]
  },
  {
   "cell_type": "markdown",
   "metadata": {},
   "source": [
    "---\n",
    "## Part 4: Merging Environmental Data with Assets\n",
    "\n",
    "Integrate environmental data (e.g., air quality, emissions, proximity to water sources) with steel plant locations.\n"
   ]
  },
  {
   "cell_type": "markdown",
   "metadata": {},
   "source": [
    "### Exercise 1: Load Environmental Data\n",
    "**Task:** Load the environmental dataset and inspect it.\n",
    "\n",
    "- [Litpop database](https://www.research-collection.ethz.ch/entities/researchdata/12dcfc4f-9d03-463a-8d6b-76c0dc73cdc8)\n",
    "\n",
    "- Expected columns: location_id, latitude, longitude, population density, activity etc.\n"
   ]
  },
  {
   "cell_type": "code",
   "execution_count": null,
   "metadata": {},
   "outputs": [],
   "source": [
    "# Load environmental data\n",
    "\n"
   ]
  },
  {
   "cell_type": "code",
   "execution_count": null,
   "metadata": {},
   "outputs": [],
   "source": [
    "# Inspect environmental data\n",
    "\n"
   ]
  },
  {
   "cell_type": "markdown",
   "metadata": {},
   "source": [
    "### Exercise 2: Spatial Join or Nearest Neighbor Matching\n",
    "**Task:** Merge environmental data with steel plants based on geographic proximity.\n",
    "- Use nearest neighbor matching or spatial join\n",
    "- Consider using geopandas for distance calculations\n",
    "- Match each plant to the nearest environmental monitoring station\n"
   ]
  },
  {
   "cell_type": "code",
   "execution_count": null,
   "metadata": {},
   "outputs": [],
   "source": [
    "# Calculate distances or perform spatial join\n",
    "# Hint: You might calculate haversine distance or use a spatial library\n",
    "\n"
   ]
  },
  {
   "cell_type": "code",
   "execution_count": null,
   "metadata": {},
   "outputs": [],
   "source": [
    "# Merge datasets\n",
    "\n"
   ]
  },
  {
   "cell_type": "markdown",
   "metadata": {},
   "source": [
    "### Exercise 3: Visualize Merged Data\n",
    "**Task:** Create a map showing steel plants colored by environmental metrics.\n",
    "- Color plants by air quality index or other environmental indicators\n",
    "- Size by capacity\n",
    "- Add hover details with both plant and environmental information\n"
   ]
  },
  {
   "cell_type": "code",
   "execution_count": null,
   "metadata": {},
   "outputs": [],
   "source": [
    "# Create visualization of merged data\n",
    "\n"
   ]
  },
  {
   "cell_type": "markdown",
   "metadata": {},
   "source": [
    "---\n",
    "## Part 5: Company-Level Aggregation\n",
    "\n",
    "Aggregate data at the company level to analyze corporate footprints.\n"
   ]
  },
  {
   "cell_type": "markdown",
   "metadata": {},
   "source": [
    "### Exercise 1: Aggregate Metrics by Company\n",
    "**Task:** Group plants by company and calculate aggregate metrics.\n",
    "- Total capacity per company\n",
    "- Number of plants per company\n",
    "- Average environmental metrics per company\n",
    "- Geographic spread (e.g., number of countries)\n"
   ]
  },
  {
   "cell_type": "code",
   "execution_count": null,
   "metadata": {},
   "outputs": [],
   "source": [
    "# Group by company and aggregate\n",
    "\n"
   ]
  },
  {
   "cell_type": "markdown",
   "metadata": {},
   "source": [
    "### Exercise 2: Company Headquarters or Centroid\n",
    "**Task:** Calculate a representative location for each company.\n",
    "- Option 1: Use the centroid of all plant locations\n",
    "- Option 2: Use the location of the largest plant\n",
    "- Option 3: Assign actual headquarters coordinates\n"
   ]
  },
  {
   "cell_type": "code",
   "execution_count": null,
   "metadata": {},
   "outputs": [],
   "source": [
    "# Calculate company representative locations\n",
    "\n"
   ]
  },
  {
   "cell_type": "markdown",
   "metadata": {},
   "source": [
    "### Exercise 3: Visualize Company-Level Data\n",
    "**Task:** Create a map showing companies with aggregated metrics.\n",
    "- Show one marker per company at the representative location\n",
    "- Size by total capacity\n",
    "- Color by average environmental impact\n",
    "- Hover information with company summary statistics\n"
   ]
  },
  {
   "cell_type": "code",
   "execution_count": null,
   "metadata": {},
   "outputs": [],
   "source": [
    "# Create company-level visualization\n",
    "\n"
   ]
  },
  {
   "cell_type": "markdown",
   "metadata": {},
   "source": [
    "---\n",
    "## Part 6: Streamlit Dashboard Integration\n",
    "\n",
    "Prepare your visualizations for deployment in a Streamlit dashboard.\n"
   ]
  },
  {
   "cell_type": "markdown",
   "metadata": {},
   "source": [
    "### Exercise 1: Create Dashboard Script Structure\n",
    "**Task:** Create a Streamlit app file (`dashboard.py`) with the following structure:\n",
    "\n",
    "```python\n",
    "# Import streamlit and other necessary libraries\n",
    "\n",
    "# Set page configuration\n",
    "\n",
    "# Title and description\n",
    "\n",
    "# Sidebar for filters\n",
    "# - Company selector\n",
    "# - Region/country filter\n",
    "# - Capacity range slider\n",
    "\n",
    "# Main content area\n",
    "# - KPI metrics (total plants, total capacity, etc.)\n",
    "# - Interactive map\n",
    "# - Data table\n",
    "\n",
    "# Footer with data sources and notes\n",
    "```\n"
   ]
  },
  {
   "cell_type": "markdown",
   "metadata": {},
   "source": [
    "### Exercise 1: Prepare Data for Dashboard\n",
    "**Task:** Save your processed data to files that the dashboard will load.\n",
    "- Export cleaned plant data\n",
    "- Export merged environmental data\n",
    "- Export company-level aggregations\n",
    "- Save as CSV or Parquet for efficient loading\n"
   ]
  },
  {
   "cell_type": "code",
   "execution_count": null,
   "metadata": {},
   "outputs": [],
   "source": [
    "# Save processed datasets\n",
    "\n"
   ]
  },
  {
   "cell_type": "markdown",
   "metadata": {},
   "source": [
    "### Exercise 2: Display relevant information from your exploratory analysis into the dashboard"
   ]
  },
  {
   "cell_type": "code",
   "execution_count": null,
   "metadata": {},
   "outputs": [],
   "source": [
    "# This cell is for notes/observations about your dashboard\n",
    "# What works well?\n",
    "# What could be improved?\n",
    "# Any performance issues with large datasets?\n",
    "\n"
   ]
  },
  {
   "cell_type": "markdown",
   "metadata": {},
   "source": [
    "---\n",
    "## Lab Summary and Key Takeaways\n",
    "\n",
    "**What you learned:**\n",
    "- How to perform EDA on geospatial datasets\n",
    "- Creating interactive maps with Plotly for geospatial data\n",
    "- Merging spatial datasets based on geographic proximity\n",
    "- Aggregating geospatial data at different levels (asset vs. company)\n",
    "- Building interactive dashboards with Streamlit\n",
    "\n",
    "**Next Steps:**\n",
    "- Explore other geospatial libraries (GeoPandas, Folium, Kepler.gl)\n",
    "- Learn about coordinate reference systems (CRS) and projections\n",
    "- Practice with other datasets (buildings, utilities, transportation)\n",
    "- Deploy your dashboard to Streamlit Cloud or other hosting services\n"
   ]
  }
 ],
 "metadata": {
  "kernelspec": {
   "display_name": ".venv",
   "language": "python",
   "name": "python3"
  },
  "language_info": {
   "codemirror_mode": {
    "name": "ipython",
    "version": 3
   },
   "file_extension": ".py",
   "mimetype": "text/x-python",
   "name": "python",
   "nbconvert_exporter": "python",
   "pygments_lexer": "ipython3",
   "version": "3.13.7"
  }
 },
 "nbformat": 4,
 "nbformat_minor": 2
}
